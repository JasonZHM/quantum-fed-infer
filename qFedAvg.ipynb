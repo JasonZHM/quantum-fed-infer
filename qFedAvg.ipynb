{
 "cells": [
  {
   "cell_type": "code",
   "execution_count": 1,
   "metadata": {},
   "outputs": [
    {
     "name": "stderr",
     "output_type": "stream",
     "text": [
      "2022-07-30 19:14:41.768627: I tensorflow/core/util/util.cc:169] oneDNN custom operations are on. You may see slightly different numerical results due to floating-point round-off errors from different computation orders. To turn them off, set the environment variable `TF_ENABLE_ONEDNN_OPTS=0`.\n"
     ]
    }
   ],
   "source": [
    "import tensorcircuit as tc\n",
    "import optax\n",
    "import jax.numpy as jnp\n",
    "import jax\n",
    "import tensorflow as tf\n",
    "import matplotlib.pyplot as plt\n",
    "from tqdm.notebook import tqdm\n",
    "\n",
    "import os\n",
    "os.environ[\"CUDA_DEVICE_ORDER\"]=\"PCI_BUS_ID\"\n",
    "os.environ[\"CUDA_VISIBLE_DEVICES\"]=\"2\"\n",
    "os.environ[\"XLA_PYTHON_CLIENT_PREALLOCATE\"]=\"false\"\n",
    "os.environ[\"TF_FORCE_GPU_ALLOW_GROWTH\"]=\"true\"\n",
    "\n",
    "plt.rcParams[\"font.family\"] = \"serif\"\n",
    "plt.rcParams['mathtext.fontset'] = 'cm'\n",
    "plt.rcParams['mathtext.rm'] = 'serif'\n",
    "plt.rc('font', size=14)"
   ]
  },
  {
   "cell_type": "code",
   "execution_count": 2,
   "metadata": {},
   "outputs": [],
   "source": [
    "encoding_mode = 'vanilla'\n",
    "# encoding_mode = 'mean'\n",
    "# encoding_mode = 'half'"
   ]
  },
  {
   "cell_type": "code",
   "execution_count": 3,
   "metadata": {},
   "outputs": [],
   "source": [
    "n = 8\n",
    "n_node = 8"
   ]
  },
  {
   "cell_type": "code",
   "execution_count": 4,
   "metadata": {},
   "outputs": [],
   "source": [
    "K = tc.set_backend('jax')"
   ]
  },
  {
   "cell_type": "code",
   "execution_count": 5,
   "metadata": {},
   "outputs": [
    {
     "name": "stderr",
     "output_type": "stream",
     "text": [
      "2022-07-30 19:14:45.868842: I tensorflow/core/platform/cpu_feature_guard.cc:193] This TensorFlow binary is optimized with oneAPI Deep Neural Network Library (oneDNN) to use the following CPU instructions in performance-critical operations:  AVX2 AVX512F AVX512_VNNI FMA\n",
      "To enable them in other operations, rebuild TensorFlow with the appropriate compiler flags.\n",
      "2022-07-30 19:14:48.495022: W tensorflow/core/common_runtime/gpu/gpu_bfc_allocator.cc:42] Overriding orig_value setting because the TF_FORCE_GPU_ALLOW_GROWTH environment variable is set. Original config value was 0.\n",
      "2022-07-30 19:14:48.495107: I tensorflow/core/common_runtime/gpu/gpu_device.cc:1532] Created device /job:localhost/replica:0/task:0/device:GPU:0 with 26100 MB memory:  -> device: 0, name: Tesla V100-PCIE-32GB, pci bus id: 0000:14:00.0, compute capability: 7.0\n"
     ]
    }
   ],
   "source": [
    "# numpy data\n",
    "(x_train, y_train), (x_test, y_test) = tf.keras.datasets.fashion_mnist.load_data()\n",
    "ind = y_test == 9\n",
    "x_test, y_test = x_test[~ind], y_test[~ind]\n",
    "ind = y_test == 8\n",
    "x_test, y_test = x_test[~ind], y_test[~ind]\n",
    "ind = y_train == 9\n",
    "x_train, y_train = x_train[~ind], y_train[~ind]\n",
    "ind = y_train == 8\n",
    "x_train, y_train = x_train[~ind], y_train[~ind]\n",
    "\n",
    "x_train = x_train / 255.0\n",
    "if encoding_mode == 'vanilla':\n",
    "    mean = 0\n",
    "elif encoding_mode == 'mean':\n",
    "    mean = jnp.mean(x_train, axis=0)\n",
    "elif encoding_mode == 'half':\n",
    "    mean = 0.5\n",
    "x_train = x_train - mean\n",
    "x_train = tf.image.resize(x_train[..., tf.newaxis], (int(2**(n/2)), int(2**(n/2)))).numpy()[..., 0].reshape(-1, 2**n)\n",
    "x_train = x_train / jnp.sqrt(jnp.sum(x_train**2, axis=-1, keepdims=True))\n",
    "\n",
    "x_test = x_test / 255.0\n",
    "x_test = x_test - mean\n",
    "x_test = tf.image.resize(x_test[..., tf.newaxis], (int(2**(n/2)), int(2**(n/2)))).numpy()[..., 0].reshape(-1, 2**n)\n",
    "x_test = x_test / jnp.sqrt(jnp.sum(x_test**2, axis=-1, keepdims=True))\n",
    "y_test = jax.nn.one_hot(y_test, n_node)\n",
    "\n",
    "def filter_pair(x, y, a, b):\n",
    "    keep = (y == a) | (y == b)\n",
    "    x, y = x[keep], y[keep]\n",
    "    y = jax.nn.one_hot(y, n_node)\n",
    "    return x, y"
   ]
  },
  {
   "cell_type": "code",
   "execution_count": 6,
   "metadata": {},
   "outputs": [],
   "source": [
    "def loss(params, x, y, k):\n",
    "    c = tc.Circuit(n, inputs=x)\n",
    "    for j in range(k):\n",
    "        for i in range(n - 1):\n",
    "            c.cnot(i, i + 1)\n",
    "        for i in range(n):\n",
    "            c.rx(i, theta=params[2 * j, i])\n",
    "            c.ry(i, theta=params[2 * j + 1, i])\n",
    "    logits = []\n",
    "    for i in range(n_node):\n",
    "        logits.append(jnp.real(c.expectation([tc.gates.z(), [i,]])))\n",
    "    logits = jnp.stack(logits, axis=-1) * 10\n",
    "    probs = jax.nn.softmax(logits)\n",
    "    return -jnp.mean(y * jnp.log(probs) + (1 - y) * jnp.log(1 - probs))\n",
    "loss = K.jit(loss, static_argnums=[3])"
   ]
  },
  {
   "cell_type": "code",
   "execution_count": 7,
   "metadata": {},
   "outputs": [],
   "source": [
    "def accuracy(params, x, y, k):\n",
    "    c = tc.Circuit(n, inputs=x)\n",
    "    for j in range(k):\n",
    "        for i in range(n - 1):\n",
    "            c.cnot(i, i + 1)\n",
    "        for i in range(n):\n",
    "            c.rx(i, theta=params[2 * j, i])\n",
    "            c.ry(i, theta=params[2 * j + 1, i])\n",
    "    logits = []\n",
    "    for i in range(n_node):\n",
    "        logits.append(jnp.real(c.expectation([tc.gates.z(), [i,]])))\n",
    "    logits = jnp.stack(logits, axis=-1) * 10\n",
    "    probs = jax.nn.softmax(logits)\n",
    "    return jnp.argmax(probs, axis=-1) == jnp.argmax(y, axis=-1)\n",
    "accuracy = K.jit(accuracy, static_argnums=[3])"
   ]
  },
  {
   "cell_type": "code",
   "execution_count": 8,
   "metadata": {},
   "outputs": [],
   "source": [
    "k = 48"
   ]
  },
  {
   "cell_type": "code",
   "execution_count": 9,
   "metadata": {},
   "outputs": [],
   "source": [
    "compute_loss = K.vectorized_value_and_grad(loss, vectorized_argnums=[1, 2])\n",
    "compute_accuracy = K.vmap(accuracy, vectorized_argnums=[1, 2])"
   ]
  },
  {
   "cell_type": "code",
   "execution_count": 10,
   "metadata": {},
   "outputs": [
    {
     "data": {
      "application/vnd.jupyter.widget-view+json": {
       "model_id": "0893f22abf684fec8a26e4ba25d600f4",
       "version_major": 2,
       "version_minor": 0
      },
      "text/plain": [
       "  0%|          | 0/7 [00:00<?, ?it/s]"
      ]
     },
     "metadata": {},
     "output_type": "display_data"
    },
    {
     "data": {
      "application/vnd.jupyter.widget-view+json": {
       "model_id": "46bbc74bf4c64354977192c94316d565",
       "version_major": 2,
       "version_minor": 0
      },
      "text/plain": [
       "  0%|          | 0/5 [00:00<?, ?it/s]"
      ]
     },
     "metadata": {},
     "output_type": "display_data"
    },
    {
     "name": "stdout",
     "output_type": "stream",
     "text": [
      "Epoch 0, batch 0/100, loss 0.4007672071456909, accuracy 0.091796875\n",
      "Epoch 0, batch 25/100, loss 0.276619017124176, accuracy 0.462890625\n",
      "Epoch 0, batch 50/100, loss 0.2423941195011139, accuracy 0.5478515625\n",
      "Epoch 0, batch 75/100, loss 0.23798169195652008, accuracy 0.5517578125\n",
      "Epoch 1, batch 0/100, loss 0.22712364792823792, accuracy 0.5927734375\n",
      "Epoch 1, batch 25/100, loss 0.22513306140899658, accuracy 0.6201171875\n",
      "Epoch 1, batch 50/100, loss 0.231578528881073, accuracy 0.5888671875\n",
      "Epoch 1, batch 75/100, loss 0.2217358648777008, accuracy 0.6044921875\n",
      "Epoch 2, batch 0/100, loss 0.2196575403213501, accuracy 0.607421875\n",
      "Epoch 2, batch 25/100, loss 0.22254671156406403, accuracy 0.59765625\n",
      "Epoch 2, batch 50/100, loss 0.22265437245368958, accuracy 0.6005859375\n",
      "Epoch 2, batch 75/100, loss 0.22217753529548645, accuracy 0.5966796875\n",
      "Epoch 3, batch 0/100, loss 0.22024181485176086, accuracy 0.5908203125\n",
      "Epoch 3, batch 25/100, loss 0.21855060756206512, accuracy 0.6015625\n",
      "Epoch 3, batch 50/100, loss 0.21185049414634705, accuracy 0.6279296875\n",
      "Epoch 3, batch 75/100, loss 0.21553535759449005, accuracy 0.615234375\n",
      "Epoch 4, batch 0/100, loss 0.2160964012145996, accuracy 0.6044921875\n",
      "Epoch 4, batch 25/100, loss 0.21073132753372192, accuracy 0.625\n",
      "Epoch 4, batch 50/100, loss 0.2161656618118286, accuracy 0.6083984375\n",
      "Epoch 4, batch 75/100, loss 0.21220619976520538, accuracy 0.6259765625\n"
     ]
    },
    {
     "data": {
      "image/png": "[encoded data removed]",
      "text/plain": [
       "<Figure size 432x288 with 1 Axes>"
      ]
     },
     "metadata": {
      "needs_background": "light"
     },
     "output_type": "display_data"
    }
   ],
   "source": [
    "params_list = []\n",
    "opt_state_list = []\n",
    "data_list = []\n",
    "iter_list = []\n",
    "for node in tqdm(range(n_node-1)):\n",
    "    x_train_node, y_train_node = filter_pair(x_train, y_train, 0, node + 1)\n",
    "    data = tf.data.Dataset.from_tensor_slices((x_train_node, y_train_node)).shuffle(100).batch(128)\n",
    "    data_list.append(data)\n",
    "    iter_list.append(iter(data))\n",
    "\n",
    "    params = K.randn((k * 2, n), dtype=jnp.float32)\n",
    "    opt = optax.adam(learning_rate=1e-2)\n",
    "    opt_state = opt.init(params)\n",
    "    params_list.append(params)\n",
    "    opt_state_list.append(opt_state)\n",
    "\n",
    "\n",
    "loss_list = []\n",
    "acc_list = []\n",
    "for e in tqdm(range(5), leave=False):\n",
    "    for b in range(100):\n",
    "        for node in range(n_node-1):\n",
    "            try:\n",
    "                x, y = next(iter_list[node])\n",
    "            except StopIteration:\n",
    "                iter_list[node] = iter(data_list[node])\n",
    "                x, y = next(iter_list[node])\n",
    "            x = x.numpy()\n",
    "            y = y.numpy()\n",
    "            loss_val, grad_val = compute_loss(params_list[node], x, y, k)\n",
    "            updates, opt_state_list[node] = opt.update(grad_val, opt_state_list[node], params_list[node])\n",
    "            params_list[node] = optax.apply_updates(params_list[node], updates)\n",
    "        \n",
    "        avg_params = jnp.mean(jnp.stack(params_list, axis=0), axis=0)\n",
    "        for node in range(n_node-1):\n",
    "            params_list[node] = avg_params\n",
    "        \n",
    "        if b % 25 == 0:\n",
    "            avg_loss = jnp.mean(compute_loss(avg_params, x_test[:1024], y_test[:1024], k)[0])\n",
    "            loss_list.append(avg_loss)\n",
    "            acc_list.append(compute_accuracy(avg_params, x_test[:1024], y_test[:1024], k).mean())\n",
    "            print(f\"Epoch {e}, batch {b}/{100}, loss {avg_loss}, accuracy {acc_list[-1]}\")\n",
    "\n",
    "\n",
    "plt.plot(loss_list)\n",
    "plt.plot(acc_list)\n",
    "plt.legend(['loss', 'accuracy'])\n",
    "plt.ylim(0, 1)\n",
    "plt.show()\n"
   ]
  },
  {
   "cell_type": "code",
   "execution_count": 12,
   "metadata": {},
   "outputs": [],
   "source": [
    "jnp.save('fedavg_loss_f.npy', loss_list)\n",
    "jnp.save('fedavg_acc_f.npy', acc_list)"
   ]
  },
  {
   "cell_type": "code",
   "execution_count": 13,
   "metadata": {},
   "outputs": [],
   "source": [
    "def pred(params, x, k):\n",
    "    c = tc.Circuit(n, inputs=x)\n",
    "    for j in range(k):\n",
    "        for i in range(n - 1):\n",
    "            c.cnot(i, i + 1)\n",
    "        for i in range(n):\n",
    "            c.rx(i, theta=params[2 * j, i])\n",
    "            c.ry(i, theta=params[2 * j + 1, i])\n",
    "    logits = []\n",
    "    for i in range(n_node):\n",
    "        logits.append(jnp.real(c.expectation([tc.gates.z(), [i,]])))\n",
    "    logits = jnp.stack(logits, axis=-1) * 10\n",
    "    probs = jax.nn.softmax(logits)\n",
    "    return probs\n",
    "pred = K.vmap(pred, vectorized_argnums=[1])"
   ]
  },
  {
   "cell_type": "code",
   "execution_count": 14,
   "metadata": {},
   "outputs": [
    {
     "data": {
      "text/plain": [
       "DeviceArray(0.61816406, dtype=float32)"
      ]
     },
     "execution_count": 14,
     "metadata": {},
     "output_type": "execute_result"
    }
   ],
   "source": [
    "jnp.mean(pred(avg_params, x_test[:1024], k).argmax(axis=-1) == y_test[:1024].argmax(axis=-1))"
   ]
  },
  {
   "cell_type": "code",
   "execution_count": 18,
   "metadata": {},
   "outputs": [
    {
     "data": {
      "image/png": "[encoded data removed]",
      "text/plain": [
       "<Figure size 432x288 with 2 Axes>"
      ]
     },
     "metadata": {
      "needs_background": "light"
     },
     "output_type": "display_data"
    }
   ],
   "source": [
    "cent_loss = jnp.load('cent_loss.npy')\n",
    "cent_acc = jnp.load('cent_acc.npy')\n",
    "loss_list = jnp.load('fedavg_loss_f.npy')\n",
    "acc_list = jnp.load('fedavg_acc_f.npy')\n",
    "\n",
    "plt.plot(jnp.arange(len(acc_list))/4, acc_list, color='blue', label='FedAvg', marker='o', markerfacecolor='none')\n",
    "plt.plot(jnp.arange(len(cent_acc))/8, cent_acc, color='red', label='centralized', marker='D', markerfacecolor='none')\n",
    "plt.hlines(0.7490, 0, 5, color='black', linestyles='dashed')\n",
    "plt.ylim(0.3, 0.8)\n",
    "plt.ylabel('Top-1 accuracy')\n",
    "\n",
    "plt.twinx()\n",
    "\n",
    "plt.plot(jnp.arange(len(loss_list))/4, loss_list, color='blue', label='FedAvg', marker='o', markerfacecolor='none')\n",
    "plt.plot(jnp.arange(len(cent_loss))/8, cent_loss, color='red', label='centralized', marker='D', markerfacecolor='none')\n",
    "plt.hlines(0.1909, 0, 5, color='black', linestyles='dashed')\n",
    "plt.ylim(0.1, 0.5)\n",
    "plt.ylabel('Loss')\n",
    "\n",
    "plt.xticks(jnp.arange(6))\n",
    "plt.xlabel('Epochs')\n",
    "plt.legend(loc='center right')\n",
    "plt.tight_layout()\n",
    "plt.savefig('cent_fedavg_f.pdf')\n",
    "plt.show()"
   ]
  },
  {
   "cell_type": "code",
   "execution_count": null,
   "metadata": {},
   "outputs": [],
   "source": []
  }
 ],
 "metadata": {
  "kernelspec": {
   "display_name": "Python 3.9.12 ('ode-rnn')",
   "language": "python",
   "name": "python3"
  },
  "language_info": {
   "codemirror_mode": {
    "name": "ipython",
    "version": 3
   },
   "file_extension": ".py",
   "mimetype": "text/x-python",
   "name": "python",
   "nbconvert_exporter": "python",
   "pygments_lexer": "ipython3",
   "version": "3.9.12"
  },
  "orig_nbformat": 4,
  "vscode": {
   "interpreter": {
    "hash": "274e8ed069bc503cc01fa1aa16068ccb03180744fbf761618fb0dbde6179c71c"
   }
  }
 },
 "nbformat": 4,
 "nbformat_minor": 2
}
