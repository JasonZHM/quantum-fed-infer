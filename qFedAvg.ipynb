{
 "cells": [
  {
   "cell_type": "code",
   "execution_count": 1,
   "metadata": {},
   "outputs": [
    {
     "name": "stderr",
     "output_type": "stream",
     "text": [
      "2022-08-02 19:04:03.749171: I tensorflow/core/util/util.cc:169] oneDNN custom operations are on. You may see slightly different numerical results due to floating-point round-off errors from different computation orders. To turn them off, set the environment variable `TF_ENABLE_ONEDNN_OPTS=0`.\n"
     ]
    }
   ],
   "source": [
    "import tensorcircuit as tc\n",
    "import optax\n",
    "import jax.numpy as jnp\n",
    "import jax\n",
    "import tensorflow as tf\n",
    "import matplotlib.pyplot as plt\n",
    "from tqdm.notebook import tqdm\n",
    "\n",
    "import os\n",
    "os.environ[\"CUDA_DEVICE_ORDER\"]=\"PCI_BUS_ID\"\n",
    "os.environ[\"CUDA_VISIBLE_DEVICES\"]=\"2\"\n",
    "os.environ[\"XLA_PYTHON_CLIENT_PREALLOCATE\"]=\"false\"\n",
    "os.environ[\"TF_FORCE_GPU_ALLOW_GROWTH\"]=\"true\"\n",
    "\n",
    "plt.rcParams[\"font.family\"] = \"serif\"\n",
    "plt.rcParams['mathtext.fontset'] = 'cm'\n",
    "plt.rcParams['mathtext.rm'] = 'serif'\n",
    "plt.rc('font', size=14)\n",
    "\n",
    "key = jax.random.PRNGKey(42)\n",
    "tf.random.set_seed(42)"
   ]
  },
  {
   "cell_type": "code",
   "execution_count": 2,
   "metadata": {},
   "outputs": [],
   "source": [
    "dataset = 'mnist'\n",
    "# dataset = 'fashion'\n",
    "readout_mode = 'softmax'\n",
    "# readout_mode = 'sample'\n",
    "encoding_mode = 'vanilla'\n",
    "# encoding_mode = 'mean'\n",
    "# encoding_mode = 'half'"
   ]
  },
  {
   "cell_type": "code",
   "execution_count": 3,
   "metadata": {},
   "outputs": [],
   "source": [
    "n = 8\n",
    "n_node = 8"
   ]
  },
  {
   "cell_type": "code",
   "execution_count": 4,
   "metadata": {},
   "outputs": [],
   "source": [
    "K = tc.set_backend('jax')"
   ]
  },
  {
   "cell_type": "code",
   "execution_count": 5,
   "metadata": {},
   "outputs": [
    {
     "name": "stderr",
     "output_type": "stream",
     "text": [
      "2022-08-02 19:04:09.633178: I tensorflow/core/platform/cpu_feature_guard.cc:193] This TensorFlow binary is optimized with oneAPI Deep Neural Network Library (oneDNN) to use the following CPU instructions in performance-critical operations:  AVX2 AVX512F AVX512_VNNI FMA\n",
      "To enable them in other operations, rebuild TensorFlow with the appropriate compiler flags.\n",
      "2022-08-02 19:04:12.090920: W tensorflow/core/common_runtime/gpu/gpu_bfc_allocator.cc:42] Overriding orig_value setting because the TF_FORCE_GPU_ALLOW_GROWTH environment variable is set. Original config value was 0.\n",
      "2022-08-02 19:04:12.090991: I tensorflow/core/common_runtime/gpu/gpu_device.cc:1532] Created device /job:localhost/replica:0/task:0/device:GPU:0 with 30169 MB memory:  -> device: 0, name: Tesla V100-PCIE-32GB, pci bus id: 0000:14:00.0, compute capability: 7.0\n"
     ]
    }
   ],
   "source": [
    "# numpy data\n",
    "if dataset == 'mnist':\n",
    "    (x_train, y_train), (x_test, y_test) = tf.keras.datasets.mnist.load_data()\n",
    "elif dataset == 'fashion':\n",
    "    (x_train, y_train), (x_test, y_test) = tf.keras.datasets.fashion_mnist.load_data()\n",
    "ind = y_test == 9\n",
    "x_test, y_test = x_test[~ind], y_test[~ind]\n",
    "ind = y_test == 8\n",
    "x_test, y_test = x_test[~ind], y_test[~ind]\n",
    "ind = y_train == 9\n",
    "x_train, y_train = x_train[~ind], y_train[~ind]\n",
    "ind = y_train == 8\n",
    "x_train, y_train = x_train[~ind], y_train[~ind]\n",
    "\n",
    "x_train = x_train / 255.0\n",
    "if encoding_mode == 'vanilla':\n",
    "    mean = 0\n",
    "elif encoding_mode == 'mean':\n",
    "    mean = jnp.mean(x_train, axis=0)\n",
    "elif encoding_mode == 'half':\n",
    "    mean = 0.5\n",
    "x_train = x_train - mean\n",
    "x_train = tf.image.resize(x_train[..., tf.newaxis], (int(2**(n/2)), int(2**(n/2)))).numpy()[..., 0].reshape(-1, 2**n)\n",
    "x_train = x_train / jnp.sqrt(jnp.sum(x_train**2, axis=-1, keepdims=True))\n",
    "\n",
    "x_test = x_test / 255.0\n",
    "x_test = x_test - mean\n",
    "x_test = tf.image.resize(x_test[..., tf.newaxis], (int(2**(n/2)), int(2**(n/2)))).numpy()[..., 0].reshape(-1, 2**n)\n",
    "x_test = x_test / jnp.sqrt(jnp.sum(x_test**2, axis=-1, keepdims=True))\n",
    "y_test = jax.nn.one_hot(y_test, n_node)\n",
    "\n",
    "def filter_pair(x, y, a, b):\n",
    "    keep = (y == a) | (y == b)\n",
    "    x, y = x[keep], y[keep]\n",
    "    y = jax.nn.one_hot(y, n_node)\n",
    "    return x, y"
   ]
  },
  {
   "cell_type": "code",
   "execution_count": 6,
   "metadata": {},
   "outputs": [],
   "source": [
    "def clf(params, c, k):\n",
    "    for j in range(k):\n",
    "        for i in range(n - 1):\n",
    "            c.cnot(i, i + 1)\n",
    "        for i in range(n):\n",
    "            c.rx(i, theta=params[3 * j, i])\n",
    "            c.rz(i, theta=params[3 * j + 1, i])\n",
    "            c.rx(i, theta=params[3 * j + 2, i])\n",
    "    return c\n",
    "\n",
    "def readout(c):\n",
    "    if readout_mode == 'softmax':\n",
    "        logits = []\n",
    "        for i in range(n_node):\n",
    "            logits.append(jnp.real(c.expectation([tc.gates.z(), [i,]])))\n",
    "        logits = jnp.stack(logits, axis=-1) * 10\n",
    "        probs = jax.nn.softmax(logits)\n",
    "    elif readout_mode == 'sample':\n",
    "        wf = jnp.abs(c.wavefunction()[:n_node])**2\n",
    "        probs = wf / jnp.sum(wf)\n",
    "    return probs"
   ]
  },
  {
   "cell_type": "code",
   "execution_count": 7,
   "metadata": {},
   "outputs": [],
   "source": [
    "def loss(params, x, y, k):\n",
    "    c = tc.Circuit(n, inputs=x)\n",
    "    c = clf(params, c, k)\n",
    "    probs = readout(c)\n",
    "    return -jnp.mean(jnp.sum(y * jnp.log(probs + 1e-7), axis=-1))\n",
    "loss = K.jit(loss, static_argnums=[3])"
   ]
  },
  {
   "cell_type": "code",
   "execution_count": 8,
   "metadata": {},
   "outputs": [],
   "source": [
    "def accuracy(params, x, y, k):\n",
    "    c = tc.Circuit(n, inputs=x)\n",
    "    c = clf(params, c, k)\n",
    "    probs = readout(c)\n",
    "    return jnp.argmax(probs, axis=-1) == jnp.argmax(y, axis=-1)\n",
    "accuracy = K.jit(accuracy, static_argnums=[3])"
   ]
  },
  {
   "cell_type": "code",
   "execution_count": 9,
   "metadata": {},
   "outputs": [],
   "source": [
    "k = 48"
   ]
  },
  {
   "cell_type": "code",
   "execution_count": 10,
   "metadata": {},
   "outputs": [],
   "source": [
    "compute_loss = K.jit(K.vectorized_value_and_grad(loss, vectorized_argnums=[1, 2]), static_argnums=[3])\n",
    "compute_accuracy = K.jit(K.vmap(accuracy, vectorized_argnums=[1, 2]), static_argnums=[3])"
   ]
  },
  {
   "cell_type": "code",
   "execution_count": 11,
   "metadata": {},
   "outputs": [
    {
     "data": {
      "application/vnd.jupyter.widget-view+json": {
       "model_id": "6687659e0b24429791052ed1af618b62",
       "version_major": 2,
       "version_minor": 0
      },
      "text/plain": [
       "  0%|          | 0/7 [00:00<?, ?it/s]"
      ]
     },
     "metadata": {},
     "output_type": "display_data"
    },
    {
     "data": {
      "application/vnd.jupyter.widget-view+json": {
       "model_id": "788a558345f0466c8a19c051bf6226a6",
       "version_major": 2,
       "version_minor": 0
      },
      "text/plain": [
       "  0%|          | 0/5 [00:00<?, ?it/s]"
      ]
     },
     "metadata": {},
     "output_type": "display_data"
    },
    {
     "name": "stdout",
     "output_type": "stream",
     "text": [
      "Epoch 0, batch 0/100, loss 0.2736464738845825, accuracy 0.1142578125\n",
      "Epoch 0, batch 25/100, loss 0.14593003690242767, accuracy 0.6689453125\n",
      "Epoch 0, batch 50/100, loss 0.11302518844604492, accuracy 0.779296875\n",
      "Epoch 0, batch 75/100, loss 0.1005469262599945, accuracy 0.8095703125\n",
      "Epoch 1, batch 0/100, loss 0.09412410855293274, accuracy 0.826171875\n",
      "Epoch 1, batch 25/100, loss 0.09116887301206589, accuracy 0.83203125\n",
      "Epoch 1, batch 50/100, loss 0.08875268697738647, accuracy 0.845703125\n",
      "Epoch 1, batch 75/100, loss 0.08927672356367111, accuracy 0.8330078125\n",
      "Epoch 2, batch 0/100, loss 0.08850528299808502, accuracy 0.8310546875\n",
      "Epoch 2, batch 25/100, loss 0.08429641276597977, accuracy 0.8505859375\n",
      "Epoch 2, batch 50/100, loss 0.08221389353275299, accuracy 0.857421875\n",
      "Epoch 2, batch 75/100, loss 0.08152715861797333, accuracy 0.8623046875\n",
      "Epoch 3, batch 0/100, loss 0.08144066482782364, accuracy 0.8681640625\n",
      "Epoch 3, batch 25/100, loss 0.0799330621957779, accuracy 0.8662109375\n",
      "Epoch 3, batch 50/100, loss 0.07753373682498932, accuracy 0.8671875\n",
      "Epoch 3, batch 75/100, loss 0.07642579823732376, accuracy 0.8623046875\n",
      "Epoch 4, batch 0/100, loss 0.07687483727931976, accuracy 0.8740234375\n",
      "Epoch 4, batch 25/100, loss 0.07551039755344391, accuracy 0.8701171875\n",
      "Epoch 4, batch 50/100, loss 0.07450097054243088, accuracy 0.873046875\n",
      "Epoch 4, batch 75/100, loss 0.07349571585655212, accuracy 0.8720703125\n"
     ]
    },
    {
     "data": {
      "image/png": "[encoded data removed]",
      "text/plain": [
       "<Figure size 432x288 with 1 Axes>"
      ]
     },
     "metadata": {
      "needs_background": "light"
     },
     "output_type": "display_data"
    }
   ],
   "source": [
    "params_list = []\n",
    "opt_state_list = []\n",
    "data_list = []\n",
    "iter_list = []\n",
    "for node in tqdm(range(n_node-1)):\n",
    "    x_train_node, y_train_node = filter_pair(x_train, y_train, 0, node + 1)\n",
    "    data = tf.data.Dataset.from_tensor_slices((x_train_node, y_train_node)).batch(128)\n",
    "    data_list.append(data)\n",
    "    iter_list.append(iter(data))\n",
    "\n",
    "    key, subkey = jax.random.split(key)\n",
    "    params = jax.random.normal(subkey, (3 * k, n))\n",
    "    opt = optax.adam(learning_rate=1e-2)\n",
    "    opt_state = opt.init(params)\n",
    "    params_list.append(params)\n",
    "    opt_state_list.append(opt_state)\n",
    "\n",
    "\n",
    "loss_list = []\n",
    "acc_list = []\n",
    "for e in tqdm(range(5), leave=False):\n",
    "    for b in range(100):\n",
    "        for node in range(n_node-1):\n",
    "            try:\n",
    "                x, y = next(iter_list[node])\n",
    "            except StopIteration:\n",
    "                iter_list[node] = iter(data_list[node])\n",
    "                x, y = next(iter_list[node])\n",
    "            x = x.numpy()\n",
    "            y = y.numpy()\n",
    "            loss_val, grad_val = compute_loss(params_list[node], x, y, k)\n",
    "            updates, opt_state_list[node] = opt.update(grad_val, opt_state_list[node], params_list[node])\n",
    "            params_list[node] = optax.apply_updates(params_list[node], updates)\n",
    "        \n",
    "        avg_params = jnp.mean(jnp.stack(params_list, axis=0), axis=0)\n",
    "        for node in range(n_node-1):\n",
    "            params_list[node] = avg_params\n",
    "        \n",
    "        if b % 25 == 0:\n",
    "            avg_loss = jnp.mean(compute_loss(avg_params, x_test[:1024], y_test[:1024], k)[0])\n",
    "            loss_list.append(avg_loss)\n",
    "            acc_list.append(compute_accuracy(avg_params, x_test[:1024], y_test[:1024], k).mean())\n",
    "            print(f\"Epoch {e}, batch {b}/{100}, loss {avg_loss}, accuracy {acc_list[-1]}\")\n",
    "\n",
    "\n",
    "plt.plot(loss_list)\n",
    "plt.plot(acc_list)\n",
    "plt.legend(['loss', 'accuracy'])\n",
    "plt.ylim(0, 1)\n",
    "plt.show()\n"
   ]
  },
  {
   "cell_type": "code",
   "execution_count": 12,
   "metadata": {},
   "outputs": [],
   "source": [
    "jnp.save(f'./{dataset}/fedavg_loss.npy', loss_list)\n",
    "jnp.save(f'./{dataset}/fedavg_acc.npy', acc_list)"
   ]
  },
  {
   "cell_type": "code",
   "execution_count": 14,
   "metadata": {},
   "outputs": [],
   "source": [
    "def pred(params, x, k):\n",
    "    c = tc.Circuit(n, inputs=x)\n",
    "    c = clf(params, c, k)\n",
    "    probs = readout(c)\n",
    "    return probs\n",
    "pred = K.vmap(pred, vectorized_argnums=[1])"
   ]
  },
  {
   "cell_type": "code",
   "execution_count": 15,
   "metadata": {},
   "outputs": [
    {
     "data": {
      "text/plain": [
       "DeviceArray(0.6142578, dtype=float32)"
      ]
     },
     "execution_count": 15,
     "metadata": {},
     "output_type": "execute_result"
    }
   ],
   "source": [
    "jnp.mean(pred(avg_params, x_test[:1024], k).argmax(axis=-1) == y_test[:1024].argmax(axis=-1))"
   ]
  },
  {
   "cell_type": "code",
   "execution_count": 15,
   "metadata": {},
   "outputs": [
    {
     "data": {
      "image/png": "[encoded data removed]",
      "text/plain": [
       "<Figure size 432x288 with 2 Axes>"
      ]
     },
     "metadata": {
      "needs_background": "light"
     },
     "output_type": "display_data"
    }
   ],
   "source": [
    "cent_loss = jnp.load(f'./{dataset}/central_loss.npy')\n",
    "cent_acc = jnp.load(f'./{dataset}/central_acc.npy')\n",
    "loss_list = jnp.load(f'./{dataset}/fedavg_loss.npy')\n",
    "acc_list = jnp.load(f'./{dataset}/fedavg_acc.npy')\n",
    "\n",
    "plt.plot(jnp.arange(len(acc_list))/4, acc_list, color='blue', label='FedAvg', marker='o', markerfacecolor='none')\n",
    "plt.plot(jnp.arange(len(cent_acc))/8, cent_acc, color='red', label='Centralized', marker='D', markerfacecolor='none')\n",
    "# plt.hlines(0.7490, 0, 5, color='black', linestyles='dashed')\n",
    "# plt.ylim(0.3, 0.8)\n",
    "plt.ylabel('Top-1 accuracy')\n",
    "plt.xlabel('Epochs')\n",
    "plt.twinx()\n",
    "\n",
    "plt.plot(jnp.arange(len(loss_list))/4, loss_list, color='blue', label='FedAvg', marker='o', markerfacecolor='none')\n",
    "plt.plot(jnp.arange(len(cent_loss))/8, cent_loss, color='red', label='Centralized', marker='D', markerfacecolor='none')\n",
    "# plt.hlines(0.1909, 0, 5, color='black', linestyles='dashed')\n",
    "# plt.ylim(0.1, 0.5)\n",
    "plt.ylabel('Loss')\n",
    "\n",
    "plt.xticks(jnp.arange(6))\n",
    "plt.legend(loc='center right')\n",
    "plt.tight_layout()\n",
    "plt.savefig(f'./{dataset}/cent_fedavg.pdf')\n",
    "plt.show()"
   ]
  },
  {
   "cell_type": "code",
   "execution_count": null,
   "metadata": {},
   "outputs": [],
   "source": []
  }
 ],
 "metadata": {
  "kernelspec": {
   "display_name": "Python 3.9.12 ('ode-rnn')",
   "language": "python",
   "name": "python3"
  },
  "language_info": {
   "codemirror_mode": {
    "name": "ipython",
    "version": 3
   },
   "file_extension": ".py",
   "mimetype": "text/x-python",
   "name": "python",
   "nbconvert_exporter": "python",
   "pygments_lexer": "ipython3",
   "version": "3.9.12"
  },
  "orig_nbformat": 4,
  "vscode": {
   "interpreter": {
    "hash": "274e8ed069bc503cc01fa1aa16068ccb03180744fbf761618fb0dbde6179c71c"
   }
  }
 },
 "nbformat": 4,
 "nbformat_minor": 2
}
