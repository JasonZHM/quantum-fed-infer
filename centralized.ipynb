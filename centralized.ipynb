{
 "cells": [
  {
   "cell_type": "code",
   "execution_count": 20,
   "metadata": {},
   "outputs": [],
   "source": [
    "import tensorcircuit as tc\n",
    "import optax\n",
    "import jax.numpy as jnp\n",
    "import jax\n",
    "import tensorflow as tf\n",
    "import matplotlib.pyplot as plt\n",
    "from tqdm.notebook import tqdm\n",
    "\n",
    "import os\n",
    "os.environ[\"CUDA_DEVICE_ORDER\"]=\"PCI_BUS_ID\"\n",
    "os.environ[\"CUDA_VISIBLE_DEVICES\"]=\"1\"\n",
    "os.environ[\"XLA_PYTHON_CLIENT_PREALLOCATE\"]=\"false\"\n",
    "os.environ[\"TF_FORCE_GPU_ALLOW_GROWTH\"]=\"true\""
   ]
  },
  {
   "cell_type": "code",
   "execution_count": 2,
   "metadata": {},
   "outputs": [],
   "source": [
    "n = 8\n",
    "n_node = 8"
   ]
  },
  {
   "cell_type": "code",
   "execution_count": 3,
   "metadata": {},
   "outputs": [],
   "source": [
    "K = tc.set_backend('jax')"
   ]
  },
  {
   "cell_type": "code",
   "execution_count": 4,
   "metadata": {},
   "outputs": [
    {
     "name": "stderr",
     "output_type": "stream",
     "text": [
      "2022-07-29 19:28:23.251834: I tensorflow/core/platform/cpu_feature_guard.cc:193] This TensorFlow binary is optimized with oneAPI Deep Neural Network Library (oneDNN) to use the following CPU instructions in performance-critical operations:  AVX2 AVX512F AVX512_VNNI FMA\n",
      "To enable them in other operations, rebuild TensorFlow with the appropriate compiler flags.\n",
      "2022-07-29 19:28:26.268317: W tensorflow/core/common_runtime/gpu/gpu_bfc_allocator.cc:42] Overriding orig_value setting because the TF_FORCE_GPU_ALLOW_GROWTH environment variable is set. Original config value was 0.\n",
      "2022-07-29 19:28:26.268384: I tensorflow/core/common_runtime/gpu/gpu_device.cc:1532] Created device /job:localhost/replica:0/task:0/device:GPU:0 with 29659 MB memory:  -> device: 0, name: Tesla V100-PCIE-32GB, pci bus id: 0000:13:00.0, compute capability: 7.0\n"
     ]
    }
   ],
   "source": [
    "# numpy data\n",
    "(x_train, y_train), (x_test, y_test) = tf.keras.datasets.mnist.load_data()\n",
    "ind = y_test == 9\n",
    "x_test, y_test = x_test[~ind], y_test[~ind]\n",
    "ind = y_test == 8\n",
    "x_test, y_test = x_test[~ind], y_test[~ind]\n",
    "ind = y_train == 9\n",
    "x_train, y_train = x_train[~ind], y_train[~ind]\n",
    "ind = y_train == 8\n",
    "x_train, y_train = x_train[~ind], y_train[~ind]\n",
    "\n",
    "x_train = x_train / 255.0\n",
    "mean = jnp.mean(x_train, axis=0)\n",
    "x_train = x_train - mean\n",
    "x_train = tf.image.resize(x_train[..., tf.newaxis], (int(2**(n/2)), int(2**(n/2)))).numpy()[..., 0].reshape(-1, 2**n)\n",
    "x_train = x_train / jnp.sqrt(jnp.sum(x_train**2, axis=-1, keepdims=True))\n",
    "\n",
    "x_test = x_test / 255.0\n",
    "x_test = x_test - mean\n",
    "x_test = tf.image.resize(x_test[..., tf.newaxis], (int(2**(n/2)), int(2**(n/2)))).numpy()[..., 0].reshape(-1, 2**n)\n",
    "x_test = x_test / jnp.sqrt(jnp.sum(x_test**2, axis=-1, keepdims=True))\n",
    "\n",
    "y_train = jax.nn.one_hot(y_train, n_node)"
   ]
  },
  {
   "cell_type": "code",
   "execution_count": 5,
   "metadata": {},
   "outputs": [],
   "source": [
    "def loss(params, x, y, k):\n",
    "    c = tc.Circuit(n, inputs=x)\n",
    "    for j in range(k):\n",
    "        for i in range(n - 1):\n",
    "            c.cnot(i, i + 1)\n",
    "        for i in range(n):\n",
    "            c.rx(i, theta=params[2 * j, i])\n",
    "            c.ry(i, theta=params[2 * j + 1, i])\n",
    "    logits = []\n",
    "    for i in range(n_node):\n",
    "        logits.append(jnp.real(c.expectation([tc.gates.z(), [i,]])))\n",
    "    logits = jnp.stack(logits, axis=-1) * 10\n",
    "    probs = jax.nn.softmax(logits)\n",
    "    return -jnp.mean(y * jnp.log(probs) + (1 - y) * jnp.log(1 - probs))\n",
    "loss = K.jit(loss, static_argnums=[3])"
   ]
  },
  {
   "cell_type": "code",
   "execution_count": 6,
   "metadata": {},
   "outputs": [],
   "source": [
    "def accuracy(params, x, y, k):\n",
    "    c = tc.Circuit(n, inputs=x)\n",
    "    for j in range(k):\n",
    "        for i in range(n - 1):\n",
    "            c.cnot(i, i + 1)\n",
    "        for i in range(n):\n",
    "            c.rx(i, theta=params[2 * j, i])\n",
    "            c.ry(i, theta=params[2 * j + 1, i])\n",
    "    logits = []\n",
    "    for i in range(n_node):\n",
    "        logits.append(jnp.real(c.expectation([tc.gates.z(), [i,]])))\n",
    "    logits = jnp.stack(logits, axis=-1) * 10\n",
    "    probs = jax.nn.softmax(logits)\n",
    "    return jnp.argmax(probs, axis=-1) == jnp.argmax(y, axis=-1)\n",
    "accuracy = K.jit(accuracy, static_argnums=[3])"
   ]
  },
  {
   "cell_type": "code",
   "execution_count": 7,
   "metadata": {},
   "outputs": [],
   "source": [
    "k = 50"
   ]
  },
  {
   "cell_type": "code",
   "execution_count": 8,
   "metadata": {},
   "outputs": [],
   "source": [
    "compute_loss = K.vectorized_value_and_grad(loss, vectorized_argnums=[1, 2])\n",
    "compute_accuracy = K.vmap(accuracy, vectorized_argnums=[1, 2])"
   ]
  },
  {
   "cell_type": "code",
   "execution_count": 10,
   "metadata": {},
   "outputs": [
    {
     "data": {
      "application/vnd.jupyter.widget-view+json": {
       "model_id": "23bf8ce3c5624443ba8154505773c7f5",
       "version_major": 2,
       "version_minor": 0
      },
      "text/plain": [
       "  0%|          | 0/3 [00:00<?, ?it/s]"
      ]
     },
     "metadata": {},
     "output_type": "display_data"
    },
    {
     "name": "stdout",
     "output_type": "stream",
     "text": [
      "epoch 0, 0/377: loss=0.4081, acc=0.3281\n",
      "epoch 0, 30/377: loss=0.1793, acc=0.8047\n",
      "epoch 0, 60/377: loss=0.1538, acc=0.8672\n",
      "epoch 0, 90/377: loss=0.1450, acc=0.8906\n",
      "epoch 0, 120/377: loss=0.1340, acc=0.8828\n",
      "epoch 0, 150/377: loss=0.1290, acc=0.9219\n",
      "epoch 0, 180/377: loss=0.1388, acc=0.8516\n",
      "epoch 0, 210/377: loss=0.1213, acc=0.8906\n",
      "epoch 0, 240/377: loss=0.1233, acc=0.8984\n",
      "epoch 0, 270/377: loss=0.1212, acc=0.9297\n",
      "epoch 0, 300/377: loss=0.1276, acc=0.8828\n",
      "epoch 0, 330/377: loss=0.1298, acc=0.8594\n",
      "epoch 0, 360/377: loss=0.1325, acc=0.8750\n",
      "epoch 1, 0/377: loss=0.0992, acc=0.9219\n",
      "epoch 1, 30/377: loss=0.1110, acc=0.9141\n",
      "epoch 1, 60/377: loss=0.1111, acc=0.9141\n",
      "epoch 1, 90/377: loss=0.1248, acc=0.8984\n",
      "epoch 1, 120/377: loss=0.1093, acc=0.9609\n",
      "epoch 1, 150/377: loss=0.1066, acc=0.9297\n",
      "epoch 1, 180/377: loss=0.1150, acc=0.8828\n",
      "epoch 1, 210/377: loss=0.1043, acc=0.9375\n",
      "epoch 1, 240/377: loss=0.1237, acc=0.9062\n",
      "epoch 1, 270/377: loss=0.1008, acc=0.9688\n",
      "epoch 1, 300/377: loss=0.1069, acc=0.8984\n",
      "epoch 1, 330/377: loss=0.1173, acc=0.8984\n",
      "epoch 1, 360/377: loss=0.1162, acc=0.9297\n",
      "epoch 2, 0/377: loss=0.0955, acc=0.9453\n",
      "epoch 2, 30/377: loss=0.1049, acc=0.9141\n",
      "epoch 2, 60/377: loss=0.1002, acc=0.9375\n",
      "epoch 2, 90/377: loss=0.1040, acc=0.9453\n",
      "epoch 2, 120/377: loss=0.1108, acc=0.9297\n",
      "epoch 2, 150/377: loss=0.1209, acc=0.8594\n",
      "epoch 2, 180/377: loss=0.1202, acc=0.8984\n",
      "epoch 2, 210/377: loss=0.1152, acc=0.9141\n",
      "epoch 2, 240/377: loss=0.1152, acc=0.8984\n",
      "epoch 2, 270/377: loss=0.1124, acc=0.9219\n",
      "epoch 2, 300/377: loss=0.1115, acc=0.8750\n",
      "epoch 2, 330/377: loss=0.1121, acc=0.9141\n",
      "epoch 2, 360/377: loss=0.1159, acc=0.9219\n"
     ]
    },
    {
     "data": {
      "image/png": "[encoded data removed]",
      "text/plain": [
       "<Figure size 432x288 with 1 Axes>"
      ]
     },
     "metadata": {
      "needs_background": "light"
     },
     "output_type": "display_data"
    }
   ],
   "source": [
    "params_list = []\n",
    "data = tf.data.Dataset.from_tensor_slices((x_train, y_train)).shuffle(100).batch(128)\n",
    "\n",
    "params = K.randn((k * 2, n), dtype=jnp.float32)\n",
    "opt = optax.adam(learning_rate=1e-2)\n",
    "opt_state = opt.init(params)\n",
    "\n",
    "loss_list = []\n",
    "acc_list = []\n",
    "for e in tqdm(range(3), leave=False):\n",
    "    for i, (x, y) in enumerate(data):\n",
    "        x = x.numpy()\n",
    "        y = y.numpy()\n",
    "        loss_val, grad_val = compute_loss(params, x, y, k)\n",
    "        updates, opt_state = opt.update(grad_val, opt_state, params)\n",
    "        params = optax.apply_updates(params, updates)\n",
    "        loss_mean = jnp.mean(loss_val)\n",
    "        if i % 30 == 0:\n",
    "            acc = jnp.mean(compute_accuracy(params, x, y, k))\n",
    "            acc_list.append(acc)\n",
    "            loss_list.append(loss_mean)\n",
    "            print(f'epoch {e}, {i}/{len(data)}: loss={loss_mean:.4f}, acc={acc:.4f}')\n",
    "\n",
    "plt.plot(loss_list)\n",
    "plt.plot(acc_list)\n",
    "plt.legend(['loss', 'accuracy'])\n",
    "plt.ylim(0, 1)\n",
    "plt.show()\n"
   ]
  },
  {
   "cell_type": "code",
   "execution_count": 13,
   "metadata": {},
   "outputs": [],
   "source": [
    "def pred(params, x, k):\n",
    "    c = tc.Circuit(n, inputs=x)\n",
    "    for j in range(k):\n",
    "        for i in range(n - 1):\n",
    "            c.cnot(i, i + 1)\n",
    "        for i in range(n):\n",
    "            c.rx(i, theta=params[2 * j, i])\n",
    "            c.ry(i, theta=params[2 * j + 1, i])\n",
    "    logits = []\n",
    "    for i in range(n_node):\n",
    "        logits.append(jnp.real(c.expectation([tc.gates.z(), [i,]])))\n",
    "    logits = jnp.stack(logits, axis=-1) * 10\n",
    "    probs = jax.nn.softmax(logits)\n",
    "    return probs\n",
    "pred = K.vmap(pred, vectorized_argnums=[1])"
   ]
  },
  {
   "cell_type": "code",
   "execution_count": 21,
   "metadata": {},
   "outputs": [
    {
     "data": {
      "text/plain": [
       "DeviceArray(0.8720703, dtype=float32)"
      ]
     },
     "execution_count": 21,
     "metadata": {},
     "output_type": "execute_result"
    }
   ],
   "source": [
    "jnp.mean(pred(params, x_test[:1024], k).argmax(axis=-1) == y_test[:1024])"
   ]
  },
  {
   "cell_type": "code",
   "execution_count": null,
   "metadata": {},
   "outputs": [],
   "source": []
  }
 ],
 "metadata": {
  "kernelspec": {
   "display_name": "Python 3.9.12 ('ode-rnn')",
   "language": "python",
   "name": "python3"
  },
  "language_info": {
   "codemirror_mode": {
    "name": "ipython",
    "version": 3
   },
   "file_extension": ".py",
   "mimetype": "text/x-python",
   "name": "python",
   "nbconvert_exporter": "python",
   "pygments_lexer": "ipython3",
   "version": "3.9.12"
  },
  "orig_nbformat": 4,
  "vscode": {
   "interpreter": {
    "hash": "274e8ed069bc503cc01fa1aa16068ccb03180744fbf761618fb0dbde6179c71c"
   }
  }
 },
 "nbformat": 4,
 "nbformat_minor": 2
}
