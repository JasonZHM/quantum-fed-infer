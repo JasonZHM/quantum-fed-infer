{
 "cells": [
  {
   "cell_type": "code",
   "execution_count": 1,
   "metadata": {},
   "outputs": [
    {
     "name": "stderr",
     "output_type": "stream",
     "text": [
      "2022-08-02 19:01:37.490534: I tensorflow/core/util/util.cc:169] oneDNN custom operations are on. You may see slightly different numerical results due to floating-point round-off errors from different computation orders. To turn them off, set the environment variable `TF_ENABLE_ONEDNN_OPTS=0`.\n"
     ]
    }
   ],
   "source": [
    "import tensorcircuit as tc\n",
    "import optax\n",
    "import jax.numpy as jnp\n",
    "import jax\n",
    "import tensorflow as tf\n",
    "import matplotlib.pyplot as plt\n",
    "from tqdm.notebook import tqdm\n",
    "\n",
    "import os\n",
    "os.environ[\"CUDA_DEVICE_ORDER\"]=\"PCI_BUS_ID\"\n",
    "os.environ[\"CUDA_VISIBLE_DEVICES\"]=\"1\"\n",
    "os.environ[\"XLA_PYTHON_CLIENT_PREALLOCATE\"]=\"false\"\n",
    "os.environ[\"TF_FORCE_GPU_ALLOW_GROWTH\"]=\"true\"\n",
    "\n",
    "plt.rcParams[\"font.family\"] = \"serif\"\n",
    "plt.rcParams['mathtext.fontset'] = 'cm'\n",
    "plt.rcParams['mathtext.rm'] = 'serif'\n",
    "plt.rc('font', size=14)\n",
    "\n",
    "key = jax.random.PRNGKey(42)\n",
    "tf.random.set_seed(42)"
   ]
  },
  {
   "cell_type": "code",
   "execution_count": 2,
   "metadata": {},
   "outputs": [],
   "source": [
    "# dataset = 'mnist'\n",
    "dataset = 'fashion'\n",
    "readout_mode = 'softmax'\n",
    "# readout_mode = 'sample'\n",
    "encoding_mode = 'vanilla'\n",
    "# encoding_mode = 'mean'\n",
    "# encoding_mode = 'half'"
   ]
  },
  {
   "cell_type": "code",
   "execution_count": 3,
   "metadata": {},
   "outputs": [],
   "source": [
    "n = 8\n",
    "n_node = 8"
   ]
  },
  {
   "cell_type": "code",
   "execution_count": 4,
   "metadata": {},
   "outputs": [],
   "source": [
    "K = tc.set_backend('jax')"
   ]
  },
  {
   "cell_type": "code",
   "execution_count": 5,
   "metadata": {},
   "outputs": [
    {
     "name": "stderr",
     "output_type": "stream",
     "text": [
      "2022-08-02 19:01:45.017694: I tensorflow/core/platform/cpu_feature_guard.cc:193] This TensorFlow binary is optimized with oneAPI Deep Neural Network Library (oneDNN) to use the following CPU instructions in performance-critical operations:  AVX2 AVX512F AVX512_VNNI FMA\n",
      "To enable them in other operations, rebuild TensorFlow with the appropriate compiler flags.\n",
      "2022-08-02 19:01:47.568991: W tensorflow/core/common_runtime/gpu/gpu_bfc_allocator.cc:42] Overriding orig_value setting because the TF_FORCE_GPU_ALLOW_GROWTH environment variable is set. Original config value was 0.\n",
      "2022-08-02 19:01:47.569044: I tensorflow/core/common_runtime/gpu/gpu_device.cc:1532] Created device /job:localhost/replica:0/task:0/device:GPU:0 with 30169 MB memory:  -> device: 0, name: Tesla V100-PCIE-32GB, pci bus id: 0000:13:00.0, compute capability: 7.0\n"
     ]
    }
   ],
   "source": [
    "# numpy data\n",
    "if dataset == 'mnist':\n",
    "    (x_train, y_train), (x_test, y_test) = tf.keras.datasets.mnist.load_data()\n",
    "elif dataset == 'fashion':\n",
    "    (x_train, y_train), (x_test, y_test) = tf.keras.datasets.fashion_mnist.load_data()\n",
    "ind = y_test == 9\n",
    "x_test, y_test = x_test[~ind], y_test[~ind]\n",
    "ind = y_test == 8\n",
    "x_test, y_test = x_test[~ind], y_test[~ind]\n",
    "ind = y_train == 9\n",
    "x_train, y_train = x_train[~ind], y_train[~ind]\n",
    "ind = y_train == 8\n",
    "x_train, y_train = x_train[~ind], y_train[~ind]\n",
    "\n",
    "x_train = x_train / 255.0\n",
    "if encoding_mode == 'vanilla':\n",
    "    mean = 0\n",
    "elif encoding_mode == 'mean':\n",
    "    mean = jnp.mean(x_train, axis=0)\n",
    "elif encoding_mode == 'half':\n",
    "    mean = 0.5\n",
    "x_train = x_train - mean\n",
    "x_train = tf.image.resize(x_train[..., tf.newaxis], (int(2**(n/2)), int(2**(n/2)))).numpy()[..., 0].reshape(-1, 2**n)\n",
    "x_train = x_train / jnp.sqrt(jnp.sum(x_train**2, axis=-1, keepdims=True))\n",
    "\n",
    "x_test = x_test / 255.0\n",
    "x_test = x_test - mean\n",
    "x_test = tf.image.resize(x_test[..., tf.newaxis], (int(2**(n/2)), int(2**(n/2)))).numpy()[..., 0].reshape(-1, 2**n)\n",
    "x_test = x_test / jnp.sqrt(jnp.sum(x_test**2, axis=-1, keepdims=True))\n",
    "\n",
    "y_train = jax.nn.one_hot(y_train, n_node)\n",
    "y_test = jax.nn.one_hot(y_test, n_node)"
   ]
  },
  {
   "cell_type": "code",
   "execution_count": 6,
   "metadata": {},
   "outputs": [],
   "source": [
    "def clf(params, c, k):\n",
    "    for j in range(k):\n",
    "        for i in range(n - 1):\n",
    "            c.cnot(i, i + 1)\n",
    "        for i in range(n):\n",
    "            c.rx(i, theta=params[3 * j, i])\n",
    "            c.rz(i, theta=params[3 * j + 1, i])\n",
    "            c.rx(i, theta=params[3 * j + 2, i])\n",
    "    return c\n",
    "\n",
    "def readout(c):\n",
    "    if readout_mode == 'softmax':\n",
    "        logits = []\n",
    "        for i in range(n_node):\n",
    "            logits.append(jnp.real(c.expectation([tc.gates.z(), [i,]])))\n",
    "        logits = jnp.stack(logits, axis=-1) * 10\n",
    "        probs = jax.nn.softmax(logits)\n",
    "    elif readout_mode == 'sample':\n",
    "        wf = jnp.abs(c.wavefunction()[:n_node])**2\n",
    "        probs = wf / jnp.sum(wf)\n",
    "    return probs"
   ]
  },
  {
   "cell_type": "code",
   "execution_count": 7,
   "metadata": {},
   "outputs": [],
   "source": [
    "def loss(params, x, y, k):\n",
    "    c = tc.Circuit(n, inputs=x)\n",
    "    c = clf(params, c, k)\n",
    "    probs = readout(c)\n",
    "    return -jnp.mean(y * jnp.log(probs))\n",
    "loss = K.jit(loss, static_argnums=[3])"
   ]
  },
  {
   "cell_type": "code",
   "execution_count": 8,
   "metadata": {},
   "outputs": [],
   "source": [
    "def accuracy(params, x, y, k):\n",
    "    c = tc.Circuit(n, inputs=x)\n",
    "    c = clf(params, c, k)\n",
    "    probs = readout(c)\n",
    "    return jnp.argmax(probs, axis=-1) == jnp.argmax(y, axis=-1)\n",
    "accuracy = K.jit(accuracy, static_argnums=[3])"
   ]
  },
  {
   "cell_type": "code",
   "execution_count": 9,
   "metadata": {},
   "outputs": [],
   "source": [
    "k = 48"
   ]
  },
  {
   "cell_type": "code",
   "execution_count": 10,
   "metadata": {},
   "outputs": [],
   "source": [
    "compute_loss = K.jit(K.vectorized_value_and_grad(loss, vectorized_argnums=[1, 2]), static_argnums=[3])\n",
    "compute_accuracy = K.jit(K.vmap(accuracy, vectorized_argnums=[1, 2]), static_argnums=[3])"
   ]
  },
  {
   "cell_type": "code",
   "execution_count": 11,
   "metadata": {},
   "outputs": [
    {
     "data": {
      "application/vnd.jupyter.widget-view+json": {
       "model_id": "54526b1c30d64b7795f8fedf1bdf29f8",
       "version_major": 2,
       "version_minor": 0
      },
      "text/plain": [
       "  0%|          | 0/3 [00:00<?, ?it/s]"
      ]
     },
     "metadata": {},
     "output_type": "display_data"
    },
    {
     "name": "stdout",
     "output_type": "stream",
     "text": [
      "epoch 0, 0/375: loss=0.2204, acc=0.3828\n",
      "epoch 0, 50/375: loss=0.0958, acc=0.7285\n",
      "epoch 0, 100/375: loss=0.0950, acc=0.7383\n",
      "epoch 0, 150/375: loss=0.0899, acc=0.7305\n",
      "epoch 0, 200/375: loss=0.0900, acc=0.7383\n",
      "epoch 0, 250/375: loss=0.0840, acc=0.7568\n",
      "epoch 0, 300/375: loss=0.0833, acc=0.7617\n",
      "epoch 0, 350/375: loss=0.0808, acc=0.7793\n",
      "epoch 1, 0/375: loss=0.0818, acc=0.7646\n",
      "epoch 1, 50/375: loss=0.0828, acc=0.7676\n",
      "epoch 1, 100/375: loss=0.0873, acc=0.7383\n",
      "epoch 1, 150/375: loss=0.0830, acc=0.7764\n",
      "epoch 1, 200/375: loss=0.0874, acc=0.7471\n",
      "epoch 1, 250/375: loss=0.0821, acc=0.7686\n",
      "epoch 1, 300/375: loss=0.0807, acc=0.7725\n",
      "epoch 1, 350/375: loss=0.0781, acc=0.7930\n",
      "epoch 2, 0/375: loss=0.0798, acc=0.7773\n",
      "epoch 2, 50/375: loss=0.0810, acc=0.7754\n",
      "epoch 2, 100/375: loss=0.0844, acc=0.7627\n",
      "epoch 2, 150/375: loss=0.0836, acc=0.7568\n",
      "epoch 2, 200/375: loss=0.0851, acc=0.7520\n",
      "epoch 2, 250/375: loss=0.0794, acc=0.7754\n",
      "epoch 2, 300/375: loss=0.0793, acc=0.7715\n",
      "epoch 2, 350/375: loss=0.0784, acc=0.7842\n"
     ]
    },
    {
     "data": {
      "image/png": "[encoded data removed]",
      "text/plain": [
       "<Figure size 432x288 with 1 Axes>"
      ]
     },
     "metadata": {
      "needs_background": "light"
     },
     "output_type": "display_data"
    }
   ],
   "source": [
    "data = tf.data.Dataset.from_tensor_slices((x_train, y_train)).batch(128)\n",
    "\n",
    "key, subkey = jax.random.split(key)\n",
    "params = jax.random.normal(subkey, (3 * k, n))\n",
    "opt = optax.adam(learning_rate=1e-2)\n",
    "opt_state = opt.init(params)\n",
    "\n",
    "loss_list = []\n",
    "loss_list_train = []\n",
    "acc_list = []\n",
    "acc_list_train = []\n",
    "for e in tqdm(range(3), leave=False):\n",
    "    for i, (x, y) in enumerate(data):\n",
    "        x = x.numpy()\n",
    "        y = y.numpy()\n",
    "        loss_val, grad_val = compute_loss(params, x, y, k)\n",
    "        updates, opt_state = opt.update(grad_val, opt_state, params)\n",
    "        params = optax.apply_updates(params, updates)\n",
    "        loss_mean = jnp.mean(loss_val)\n",
    "        if i % 50 == 0:\n",
    "            acc = jnp.mean(compute_accuracy(params, x, y, k))\n",
    "            acc_list_train.append(acc)\n",
    "            loss_list_train.append(loss_mean)\n",
    "            loss_mean = jnp.mean(compute_loss(params, x_test[:1024], y_test[:1024], k)[0])\n",
    "            acc = jnp.mean(compute_accuracy(params, x_test[:1024], y_test[:1024], k))\n",
    "            acc_list.append(acc)\n",
    "            loss_list.append(loss_mean)\n",
    "            print(f'epoch {e}, {i}/{len(data)}: loss={loss_mean:.4f}, acc={acc:.4f}')\n",
    "\n",
    "plt.plot(loss_list)\n",
    "plt.plot(acc_list)\n",
    "plt.legend(['loss', 'accuracy'])\n",
    "plt.ylim(0, 1)\n",
    "plt.show()\n"
   ]
  },
  {
   "cell_type": "code",
   "execution_count": 12,
   "metadata": {},
   "outputs": [],
   "source": [
    "def pred(params, x, k):\n",
    "    c = tc.Circuit(n, inputs=x)\n",
    "    c = clf(params, c, k)\n",
    "    probs = readout(c)\n",
    "    return probs\n",
    "pred = K.vmap(pred, vectorized_argnums=[1])"
   ]
  },
  {
   "cell_type": "code",
   "execution_count": 13,
   "metadata": {},
   "outputs": [
    {
     "data": {
      "text/plain": [
       "DeviceArray(0.7792969, dtype=float32)"
      ]
     },
     "execution_count": 13,
     "metadata": {},
     "output_type": "execute_result"
    }
   ],
   "source": [
    "jnp.mean(pred(params, x_test[:1024], k).argmax(axis=-1) == y_test[:1024].argmax(axis=-1))"
   ]
  },
  {
   "cell_type": "code",
   "execution_count": 14,
   "metadata": {},
   "outputs": [
    {
     "data": {
      "image/png": "[encoded data removed]",
      "text/plain": [
       "<Figure size 432x288 with 1 Axes>"
      ]
     },
     "metadata": {
      "needs_background": "light"
     },
     "output_type": "display_data"
    }
   ],
   "source": [
    "plt.plot(loss_list_train, label='training loss')\n",
    "plt.plot(loss_list, label='test loss')\n",
    "plt.plot(acc_list_train, label='training accuracy')\n",
    "plt.plot(acc_list, label='test accuracy')\n",
    "plt.ylim(0, 1)\n",
    "plt.legend()\n",
    "plt.show()"
   ]
  },
  {
   "cell_type": "code",
   "execution_count": 15,
   "metadata": {},
   "outputs": [],
   "source": [
    "jnp.save(f'./{dataset}/central_loss.npy', loss_list)\n",
    "jnp.save(f'./{dataset}/central_acc.npy', acc_list)"
   ]
  },
  {
   "cell_type": "code",
   "execution_count": null,
   "metadata": {},
   "outputs": [],
   "source": []
  }
 ],
 "metadata": {
  "kernelspec": {
   "display_name": "Python 3.9.12 ('ode-rnn')",
   "language": "python",
   "name": "python3"
  },
  "language_info": {
   "codemirror_mode": {
    "name": "ipython",
    "version": 3
   },
   "file_extension": ".py",
   "mimetype": "text/x-python",
   "name": "python",
   "nbconvert_exporter": "python",
   "pygments_lexer": "ipython3",
   "version": "3.9.12"
  },
  "orig_nbformat": 4,
  "vscode": {
   "interpreter": {
    "hash": "274e8ed069bc503cc01fa1aa16068ccb03180744fbf761618fb0dbde6179c71c"
   }
  }
 },
 "nbformat": 4,
 "nbformat_minor": 2
}
