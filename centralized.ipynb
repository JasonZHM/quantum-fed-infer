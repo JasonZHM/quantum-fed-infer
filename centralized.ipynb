{
 "cells": [
  {
   "cell_type": "code",
   "execution_count": 1,
   "metadata": {},
   "outputs": [
    {
     "name": "stderr",
     "output_type": "stream",
     "text": [
      "2022-07-29 17:33:14.504809: I tensorflow/core/util/util.cc:169] oneDNN custom operations are on. You may see slightly different numerical results due to floating-point round-off errors from different computation orders. To turn them off, set the environment variable `TF_ENABLE_ONEDNN_OPTS=0`.\n"
     ]
    }
   ],
   "source": [
    "import tensorcircuit as tc\n",
    "import optax\n",
    "import jax.numpy as jnp\n",
    "import jax\n",
    "import tensorflow as tf\n",
    "import matplotlib.pyplot as plt\n",
    "from tqdm.notebook import tqdm\n",
    "\n",
    "from sklearn.mixture import GaussianMixture\n",
    "\n",
    "import os\n",
    "os.environ[\"CUDA_DEVICE_ORDER\"]=\"PCI_BUS_ID\"\n",
    "os.environ[\"CUDA_VISIBLE_DEVICES\"]=\"1\"\n",
    "os.environ[\"XLA_PYTHON_CLIENT_PREALLOCATE\"]=\"false\"\n",
    "os.environ[\"TF_FORCE_GPU_ALLOW_GROWTH\"]=\"true\""
   ]
  },
  {
   "cell_type": "code",
   "execution_count": 2,
   "metadata": {},
   "outputs": [],
   "source": [
    "n = 8\n",
    "n_node = 8"
   ]
  },
  {
   "cell_type": "code",
   "execution_count": 3,
   "metadata": {},
   "outputs": [],
   "source": [
    "K = tc.set_backend('jax')"
   ]
  },
  {
   "cell_type": "code",
   "execution_count": 4,
   "metadata": {},
   "outputs": [
    {
     "name": "stderr",
     "output_type": "stream",
     "text": [
      "2022-07-29 17:33:27.538884: I tensorflow/core/platform/cpu_feature_guard.cc:193] This TensorFlow binary is optimized with oneAPI Deep Neural Network Library (oneDNN) to use the following CPU instructions in performance-critical operations:  AVX2 AVX512F AVX512_VNNI FMA\n",
      "To enable them in other operations, rebuild TensorFlow with the appropriate compiler flags.\n",
      "2022-07-29 17:33:29.867373: W tensorflow/core/common_runtime/gpu/gpu_bfc_allocator.cc:42] Overriding orig_value setting because the TF_FORCE_GPU_ALLOW_GROWTH environment variable is set. Original config value was 0.\n",
      "2022-07-29 17:33:29.867420: I tensorflow/core/common_runtime/gpu/gpu_device.cc:1532] Created device /job:localhost/replica:0/task:0/device:GPU:0 with 29659 MB memory:  -> device: 0, name: Tesla V100-PCIE-32GB, pci bus id: 0000:13:00.0, compute capability: 7.0\n"
     ]
    }
   ],
   "source": [
    "# numpy data\n",
    "(x_train, y_train), (x_test, y_test) = tf.keras.datasets.mnist.load_data()\n",
    "ind = y_test == 9\n",
    "x_test, y_test = x_test[~ind], y_test[~ind]\n",
    "\n",
    "x_train = x_train / 255.0\n",
    "mean = jnp.mean(x_train, axis=0)\n",
    "x_train = x_train - mean\n",
    "x_train = tf.image.resize(x_train[..., tf.newaxis], (int(2**(n/2)), int(2**(n/2)))).numpy()[..., 0].reshape(-1, 2**n)\n",
    "x_train = x_train / jnp.sqrt(jnp.sum(x_train**2, axis=-1, keepdims=True))\n",
    "\n",
    "x_test = x_test / 255.0\n",
    "x_test = x_test - mean\n",
    "x_test = tf.image.resize(x_test[..., tf.newaxis], (int(2**(n/2)), int(2**(n/2)))).numpy()[..., 0].reshape(-1, 2**n)\n",
    "x_test = x_test / jnp.sqrt(jnp.sum(x_test**2, axis=-1, keepdims=True))\n",
    "\n",
    "y_train = jax.nn.one_hot(y_train, n_node)"
   ]
  },
  {
   "cell_type": "code",
   "execution_count": 5,
   "metadata": {},
   "outputs": [],
   "source": [
    "def loss(params, x, y, k):\n",
    "    c = tc.Circuit(n, inputs=x)\n",
    "    for j in range(k):\n",
    "        for i in range(n - 1):\n",
    "            c.cnot(i, i + 1)\n",
    "        for i in range(n):\n",
    "            c.rx(i, theta=params[2 * j, i])\n",
    "            c.ry(i, theta=params[2 * j + 1, i])\n",
    "    logits = []\n",
    "    for i in range(n_node):\n",
    "        logits.append(jnp.real(c.expectation([tc.gates.z(), [i,]])))\n",
    "    logits = jnp.stack(logits, axis=-1) * 10\n",
    "    probs = jax.nn.softmax(logits)\n",
    "    return -jnp.mean(y * jnp.log(probs) + (1 - y) * jnp.log(1 - probs))\n",
    "loss = K.jit(loss, static_argnums=[3, 4])"
   ]
  },
  {
   "cell_type": "code",
   "execution_count": 6,
   "metadata": {},
   "outputs": [],
   "source": [
    "def accuracy(params, x, y, k):\n",
    "    c = tc.Circuit(n, inputs=x)\n",
    "    for j in range(k):\n",
    "        for i in range(n - 1):\n",
    "            c.cnot(i, i + 1)\n",
    "        for i in range(n):\n",
    "            c.rx(i, theta=params[2 * j, i])\n",
    "            c.ry(i, theta=params[2 * j + 1, i])\n",
    "    logits = []\n",
    "    for i in range(n_node):\n",
    "        logits.append(jnp.real(c.expectation([tc.gates.z(), [i,]])))\n",
    "    logits = jnp.stack(logits, axis=-1) * 10\n",
    "    probs = jax.nn.softmax(logits)\n",
    "    return jnp.argmax(probs, axis=-1) == jnp.argmax(y, axis=-1)\n",
    "accuracy = K.jit(accuracy, static_argnums=[3, 4])"
   ]
  },
  {
   "cell_type": "code",
   "execution_count": 7,
   "metadata": {},
   "outputs": [],
   "source": [
    "k = 50"
   ]
  },
  {
   "cell_type": "code",
   "execution_count": 8,
   "metadata": {},
   "outputs": [],
   "source": [
    "compute_loss = K.vectorized_value_and_grad(loss, vectorized_argnums=[1, 2])\n",
    "compute_accuracy = K.vmap(accuracy, vectorized_argnums=[1, 2])"
   ]
  },
  {
   "cell_type": "code",
   "execution_count": 9,
   "metadata": {},
   "outputs": [
    {
     "data": {
      "application/vnd.jupyter.widget-view+json": {
       "model_id": "7db96ca9a4c54858b69a8eb7858570a9",
       "version_major": 2,
       "version_minor": 0
      },
      "text/plain": [
       "  0%|          | 0/5 [00:00<?, ?it/s]"
      ]
     },
     "metadata": {},
     "output_type": "display_data"
    },
    {
     "name": "stdout",
     "output_type": "stream",
     "text": [
      "epoch 0, 0/469: loss=0.3561, acc=0.2422\n",
      "epoch 0, 30/469: loss=0.1539, acc=0.7109\n",
      "epoch 0, 60/469: loss=0.1737, acc=0.5781\n",
      "epoch 0, 90/469: loss=0.1514, acc=0.6719\n",
      "epoch 0, 120/469: loss=0.1307, acc=0.7734\n",
      "epoch 0, 150/469: loss=0.1263, acc=0.7812\n",
      "epoch 0, 180/469: loss=0.1325, acc=0.7266\n",
      "epoch 0, 210/469: loss=0.1165, acc=0.7344\n",
      "epoch 0, 240/469: loss=0.1357, acc=0.7266\n",
      "epoch 0, 270/469: loss=0.1291, acc=0.6875\n",
      "epoch 0, 300/469: loss=0.1248, acc=0.7266\n",
      "epoch 0, 330/469: loss=0.1232, acc=0.7344\n",
      "epoch 0, 360/469: loss=0.1283, acc=0.7578\n",
      "epoch 0, 390/469: loss=0.1336, acc=0.7266\n",
      "epoch 0, 420/469: loss=0.1140, acc=0.8047\n",
      "epoch 0, 450/469: loss=0.1317, acc=0.6719\n",
      "epoch 1, 0/469: loss=0.1125, acc=0.7578\n",
      "epoch 1, 30/469: loss=0.1082, acc=0.7578\n",
      "epoch 1, 60/469: loss=0.1377, acc=0.6562\n",
      "epoch 1, 90/469: loss=0.1226, acc=0.7891\n",
      "epoch 1, 120/469: loss=0.1108, acc=0.7656\n",
      "epoch 1, 150/469: loss=0.1230, acc=0.7500\n",
      "epoch 1, 180/469: loss=0.1143, acc=0.7188\n",
      "epoch 1, 210/469: loss=0.1082, acc=0.7734\n",
      "epoch 1, 240/469: loss=0.1298, acc=0.7031\n",
      "epoch 1, 270/469: loss=0.1247, acc=0.7031\n",
      "epoch 1, 300/469: loss=0.1159, acc=0.7891\n",
      "epoch 1, 330/469: loss=0.1217, acc=0.7656\n",
      "epoch 1, 360/469: loss=0.1269, acc=0.7266\n",
      "epoch 1, 390/469: loss=0.1200, acc=0.6953\n",
      "epoch 1, 420/469: loss=0.1125, acc=0.7891\n",
      "epoch 1, 450/469: loss=0.1133, acc=0.7188\n",
      "epoch 2, 0/469: loss=0.1150, acc=0.7891\n",
      "epoch 2, 30/469: loss=0.0965, acc=0.8047\n",
      "epoch 2, 60/469: loss=0.1248, acc=0.7734\n",
      "epoch 2, 90/469: loss=0.1206, acc=0.7422\n",
      "epoch 2, 120/469: loss=0.1082, acc=0.7969\n",
      "epoch 2, 150/469: loss=0.1087, acc=0.7812\n",
      "epoch 2, 180/469: loss=0.1035, acc=0.7734\n",
      "epoch 2, 210/469: loss=0.1178, acc=0.7656\n",
      "epoch 2, 240/469: loss=0.1237, acc=0.6953\n",
      "epoch 2, 270/469: loss=0.1254, acc=0.7188\n",
      "epoch 2, 300/469: loss=0.1231, acc=0.7500\n",
      "epoch 2, 330/469: loss=0.1273, acc=0.7266\n",
      "epoch 2, 360/469: loss=0.1249, acc=0.7266\n",
      "epoch 2, 390/469: loss=0.1205, acc=0.7188\n",
      "epoch 2, 420/469: loss=0.1086, acc=0.7656\n",
      "epoch 2, 450/469: loss=0.1299, acc=0.6875\n",
      "epoch 3, 0/469: loss=0.1028, acc=0.7656\n",
      "epoch 3, 30/469: loss=0.1079, acc=0.7500\n",
      "epoch 3, 60/469: loss=0.1229, acc=0.7656\n",
      "epoch 3, 90/469: loss=0.1232, acc=0.7500\n",
      "epoch 3, 120/469: loss=0.1075, acc=0.8203\n",
      "epoch 3, 150/469: loss=0.1026, acc=0.7734\n",
      "epoch 3, 180/469: loss=0.1071, acc=0.7578\n",
      "epoch 3, 210/469: loss=0.1110, acc=0.7734\n",
      "epoch 3, 240/469: loss=0.1272, acc=0.6953\n",
      "epoch 3, 270/469: loss=0.1279, acc=0.7109\n",
      "epoch 3, 300/469: loss=0.1106, acc=0.8047\n",
      "epoch 3, 330/469: loss=0.1134, acc=0.7734\n",
      "epoch 3, 360/469: loss=0.1221, acc=0.7266\n",
      "epoch 3, 390/469: loss=0.1241, acc=0.7656\n",
      "epoch 3, 420/469: loss=0.1170, acc=0.7500\n",
      "epoch 3, 450/469: loss=0.1319, acc=0.6875\n",
      "epoch 4, 0/469: loss=0.1138, acc=0.7734\n",
      "epoch 4, 30/469: loss=0.1077, acc=0.7422\n",
      "epoch 4, 60/469: loss=0.1251, acc=0.7344\n",
      "epoch 4, 90/469: loss=0.1308, acc=0.7422\n",
      "epoch 4, 120/469: loss=0.1101, acc=0.7734\n",
      "epoch 4, 150/469: loss=0.0991, acc=0.8047\n",
      "epoch 4, 180/469: loss=0.1126, acc=0.7188\n",
      "epoch 4, 210/469: loss=0.1021, acc=0.7891\n",
      "epoch 4, 240/469: loss=0.1304, acc=0.6562\n",
      "epoch 4, 270/469: loss=0.1087, acc=0.7734\n",
      "epoch 4, 300/469: loss=0.1190, acc=0.7266\n",
      "epoch 4, 330/469: loss=0.1218, acc=0.7266\n",
      "epoch 4, 360/469: loss=0.1254, acc=0.7188\n",
      "epoch 4, 390/469: loss=0.1166, acc=0.7656\n",
      "epoch 4, 420/469: loss=0.1123, acc=0.7656\n",
      "epoch 4, 450/469: loss=0.1247, acc=0.7188\n"
     ]
    },
    {
     "data": {
      "image/png": "[encoded data removed]",
      "text/plain": [
       "<Figure size 432x288 with 1 Axes>"
      ]
     },
     "metadata": {
      "needs_background": "light"
     },
     "output_type": "display_data"
    }
   ],
   "source": [
    "params_list = []\n",
    "data = tf.data.Dataset.from_tensor_slices((x_train, y_train)).shuffle(100).batch(128)\n",
    "\n",
    "params = K.randn((k * 2, n), dtype=jnp.float32)\n",
    "opt = optax.adam(learning_rate=1e-2)\n",
    "opt_state = opt.init(params)\n",
    "\n",
    "loss_list = []\n",
    "acc_list = []\n",
    "for e in tqdm(range(5), leave=False):\n",
    "    for i, (x, y) in enumerate(data):\n",
    "        x = x.numpy()\n",
    "        y = y.numpy()\n",
    "        loss_val, grad_val = compute_loss(params, x, y, k)\n",
    "        updates, opt_state = opt.update(grad_val, opt_state, params)\n",
    "        params = optax.apply_updates(params, updates)\n",
    "        loss_mean = jnp.mean(loss_val)\n",
    "        if i % 30 == 0:\n",
    "            acc = jnp.mean(compute_accuracy(params, x, y, k))\n",
    "            acc_list.append(acc)\n",
    "            loss_list.append(loss_mean)\n",
    "            print(f'epoch {e}, {i}/{len(data)}: loss={loss_mean:.4f}, acc={acc:.4f}')\n",
    "\n",
    "plt.plot(loss_list)\n",
    "plt.plot(acc_list)\n",
    "plt.legend(['loss', 'accuracy'])\n",
    "plt.ylim(0, 1)\n",
    "plt.show()\n"
   ]
  },
  {
   "cell_type": "code",
   "execution_count": null,
   "metadata": {},
   "outputs": [],
   "source": []
  }
 ],
 "metadata": {
  "kernelspec": {
   "display_name": "Python 3.9.12 ('ode-rnn')",
   "language": "python",
   "name": "python3"
  },
  "language_info": {
   "codemirror_mode": {
    "name": "ipython",
    "version": 3
   },
   "file_extension": ".py",
   "mimetype": "text/x-python",
   "name": "python",
   "nbconvert_exporter": "python",
   "pygments_lexer": "ipython3",
   "version": "3.9.12"
  },
  "orig_nbformat": 4,
  "vscode": {
   "interpreter": {
    "hash": "274e8ed069bc503cc01fa1aa16068ccb03180744fbf761618fb0dbde6179c71c"
   }
  }
 },
 "nbformat": 4,
 "nbformat_minor": 2
}
