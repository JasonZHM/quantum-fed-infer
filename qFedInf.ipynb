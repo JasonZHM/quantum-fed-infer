{
 "cells": [
  {
   "cell_type": "code",
   "execution_count": 1,
   "metadata": {},
   "outputs": [
    {
     "name": "stderr",
     "output_type": "stream",
     "text": [
      "2022-08-02 15:24:19.097994: I tensorflow/core/util/util.cc:169] oneDNN custom operations are on. You may see slightly different numerical results due to floating-point round-off errors from different computation orders. To turn them off, set the environment variable `TF_ENABLE_ONEDNN_OPTS=0`.\n"
     ]
    }
   ],
   "source": [
    "import tensorcircuit as tc\n",
    "import optax\n",
    "import jax.numpy as jnp\n",
    "import jax\n",
    "import tensorflow as tf\n",
    "import matplotlib.pyplot as plt\n",
    "from tqdm.notebook import tqdm\n",
    "\n",
    "from sklearn.mixture import GaussianMixture\n",
    "\n",
    "import os\n",
    "os.environ[\"CUDA_DEVICE_ORDER\"]=\"PCI_BUS_ID\"\n",
    "os.environ[\"CUDA_VISIBLE_DEVICES\"]=\"0\"\n",
    "os.environ[\"XLA_PYTHON_CLIENT_PREALLOCATE\"]=\"false\"\n",
    "os.environ[\"TF_FORCE_GPU_ALLOW_GROWTH\"]=\"true\"\n",
    "\n",
    "plt.rcParams[\"font.family\"] = \"serif\"\n",
    "plt.rcParams['mathtext.fontset'] = 'cm'\n",
    "plt.rcParams['mathtext.rm'] = 'serif'\n",
    "plt.rc('font', size=14)"
   ]
  },
  {
   "cell_type": "code",
   "execution_count": 2,
   "metadata": {},
   "outputs": [],
   "source": [
    "readout_mode = 'softmax'\n",
    "# readout_mode = 'sample'\n",
    "encoding_mode = 'vanilla'\n",
    "# encoding_mode = 'mean'\n",
    "# encoding_mode = 'half'"
   ]
  },
  {
   "cell_type": "code",
   "execution_count": 3,
   "metadata": {},
   "outputs": [],
   "source": [
    "n = 8\n",
    "n_node = 8"
   ]
  },
  {
   "cell_type": "code",
   "execution_count": 4,
   "metadata": {},
   "outputs": [],
   "source": [
    "K = tc.set_backend('jax')"
   ]
  },
  {
   "cell_type": "code",
   "execution_count": 5,
   "metadata": {},
   "outputs": [],
   "source": [
    "# numpy data\n",
    "(x_train, y_train), (x_test, y_test) = tf.keras.datasets.fashion_mnist.load_data()\n",
    "ind = y_test == 9\n",
    "x_test, y_test = x_test[~ind], y_test[~ind]\n",
    "ind = y_test == 8\n",
    "x_test, y_test = x_test[~ind], y_test[~ind]\n",
    "\n",
    "x_train = x_train / 255.0\n",
    "if encoding_mode == 'vanilla':\n",
    "    mean = 0\n",
    "elif encoding_mode == 'mean':\n",
    "    mean = jnp.mean(x_train, axis=0)\n",
    "elif encoding_mode == 'half':\n",
    "    mean = 0.5\n",
    "x_train = x_train - mean\n",
    "x_test = x_test / 255.0\n",
    "x_test = x_test - mean\n",
    "\n",
    "\n",
    "def filter_pair(x, y, a, b):\n",
    "    keep = (y == a) | (y == b)\n",
    "    x, y = x[keep], y[keep]\n",
    "    y = jax.nn.one_hot(y, n_node)\n",
    "    return x, y"
   ]
  },
  {
   "cell_type": "code",
   "execution_count": 6,
   "metadata": {},
   "outputs": [],
   "source": [
    "def clf(params, c, k):\n",
    "    for j in range(k):\n",
    "        for i in range(n - 1):\n",
    "            c.cnot(i, i + 1)\n",
    "        for i in range(n):\n",
    "            c.rx(i, theta=params[2 * j, i])\n",
    "            c.ry(i, theta=params[2 * j + 1, i])\n",
    "    return c\n",
    "\n",
    "def readout(c):\n",
    "    if readout_mode == 'softmax':\n",
    "        logits = []\n",
    "        for i in range(n_node):\n",
    "            logits.append(jnp.real(c.expectation([tc.gates.z(), [i,]])))\n",
    "        logits = jnp.stack(logits, axis=-1) * 10\n",
    "        probs = jax.nn.softmax(logits)\n",
    "    elif readout_mode == 'sample':\n",
    "        wf = jnp.abs(c.wavefunction()[:n_node])**2\n",
    "        probs = wf / jnp.sum(wf)\n",
    "    return probs"
   ]
  },
  {
   "cell_type": "code",
   "execution_count": 7,
   "metadata": {},
   "outputs": [],
   "source": [
    "def loss(params, x, y, k):\n",
    "    c = tc.Circuit(n, inputs=x)\n",
    "    c = clf(params, c, k)\n",
    "    probs = readout(c)\n",
    "    return -jnp.mean(y * jnp.log(probs))\n",
    "loss = K.jit(loss, static_argnums=[3])"
   ]
  },
  {
   "cell_type": "code",
   "execution_count": 8,
   "metadata": {},
   "outputs": [],
   "source": [
    "def accuracy(params, x, y, k):\n",
    "    c = tc.Circuit(n, inputs=x)\n",
    "    c = clf(params, c, k)\n",
    "    probs = readout(c)\n",
    "    return jnp.argmax(probs, axis=-1) == jnp.argmax(y, axis=-1)\n",
    "accuracy = K.jit(accuracy, static_argnums=[3])"
   ]
  },
  {
   "cell_type": "code",
   "execution_count": 9,
   "metadata": {},
   "outputs": [],
   "source": [
    "k = 6"
   ]
  },
  {
   "cell_type": "code",
   "execution_count": 10,
   "metadata": {},
   "outputs": [],
   "source": [
    "compute_loss = K.jit(K.vectorized_value_and_grad(loss, vectorized_argnums=[1, 2]), static_argnums=[3])\n",
    "compute_accuracy = K.jit(K.vmap(accuracy, vectorized_argnums=[1, 2]), static_argnums=[3])"
   ]
  },
  {
   "cell_type": "code",
   "execution_count": 11,
   "metadata": {},
   "outputs": [
    {
     "data": {
      "application/vnd.jupyter.widget-view+json": {
       "model_id": "3cc9b093312848ad9ae65ea22f6feaea",
       "version_major": 2,
       "version_minor": 0
      },
      "text/plain": [
       "  0%|          | 0/7 [00:00<?, ?it/s]"
      ]
     },
     "metadata": {},
     "output_type": "display_data"
    },
    {
     "name": "stderr",
     "output_type": "stream",
     "text": [
      "2022-08-02 15:24:31.161836: I tensorflow/core/platform/cpu_feature_guard.cc:193] This TensorFlow binary is optimized with oneAPI Deep Neural Network Library (oneDNN) to use the following CPU instructions in performance-critical operations:  AVX2 AVX512F AVX512_VNNI FMA\n",
      "To enable them in other operations, rebuild TensorFlow with the appropriate compiler flags.\n",
      "2022-08-02 15:24:33.755605: W tensorflow/core/common_runtime/gpu/gpu_bfc_allocator.cc:42] Overriding orig_value setting because the TF_FORCE_GPU_ALLOW_GROWTH environment variable is set. Original config value was 0.\n",
      "2022-08-02 15:24:33.755667: I tensorflow/core/common_runtime/gpu/gpu_device.cc:1532] Created device /job:localhost/replica:0/task:0/device:GPU:0 with 30169 MB memory:  -> device: 0, name: Tesla V100-PCIE-32GB, pci bus id: 0000:12:00.0, compute capability: 7.0\n"
     ]
    },
    {
     "data": {
      "application/vnd.jupyter.widget-view+json": {
       "model_id": "6ecd834c0d8343d08a15880b613e552b",
       "version_major": 2,
       "version_minor": 0
      },
      "text/plain": [
       "  0%|          | 0/5 [00:00<?, ?it/s]"
      ]
     },
     "metadata": {},
     "output_type": "display_data"
    },
    {
     "name": "stdout",
     "output_type": "stream",
     "text": [
      "epoch 0, 0/94: loss=0.1976, acc=0.4297\n",
      "epoch 0, 20/94: loss=0.0826, acc=0.7969\n",
      "epoch 0, 40/94: loss=0.0477, acc=0.9297\n",
      "epoch 0, 60/94: loss=0.0299, acc=0.9531\n",
      "epoch 0, 80/94: loss=0.0248, acc=0.9609\n",
      "epoch 1, 0/94: loss=0.0220, acc=0.9688\n",
      "epoch 1, 20/94: loss=0.0209, acc=0.9688\n",
      "epoch 1, 40/94: loss=0.0212, acc=0.9609\n",
      "epoch 1, 60/94: loss=0.0167, acc=0.9688\n",
      "epoch 1, 80/94: loss=0.0169, acc=0.9609\n",
      "epoch 2, 0/94: loss=0.0165, acc=0.9688\n",
      "epoch 2, 20/94: loss=0.0166, acc=0.9531\n",
      "epoch 2, 40/94: loss=0.0174, acc=0.9688\n",
      "epoch 2, 60/94: loss=0.0095, acc=0.9922\n",
      "epoch 2, 80/94: loss=0.0127, acc=0.9844\n",
      "epoch 3, 0/94: loss=0.0163, acc=0.9453\n",
      "epoch 3, 20/94: loss=0.0165, acc=0.9375\n",
      "epoch 3, 40/94: loss=0.0133, acc=0.9688\n",
      "epoch 3, 60/94: loss=0.0106, acc=0.9844\n",
      "epoch 3, 80/94: loss=0.0091, acc=0.9922\n",
      "epoch 4, 0/94: loss=0.0144, acc=0.9609\n",
      "epoch 4, 20/94: loss=0.0138, acc=0.9844\n",
      "epoch 4, 40/94: loss=0.0107, acc=0.9844\n",
      "epoch 4, 60/94: loss=0.0136, acc=0.9531\n",
      "epoch 4, 80/94: loss=0.0155, acc=0.9766\n"
     ]
    },
    {
     "data": {
      "image/png": "[encoded data removed]",
      "text/plain": [
       "<Figure size 432x288 with 1 Axes>"
      ]
     },
     "metadata": {
      "needs_background": "light"
     },
     "output_type": "display_data"
    },
    {
     "data": {
      "application/vnd.jupyter.widget-view+json": {
       "model_id": "f697cc2f8c434049952a3fea9604152d",
       "version_major": 2,
       "version_minor": 0
      },
      "text/plain": [
       "  0%|          | 0/5 [00:00<?, ?it/s]"
      ]
     },
     "metadata": {},
     "output_type": "display_data"
    },
    {
     "name": "stdout",
     "output_type": "stream",
     "text": [
      "epoch 0, 0/94: loss=0.4612, acc=0.0000\n",
      "epoch 0, 20/94: loss=0.0996, acc=0.6016\n",
      "epoch 0, 40/94: loss=0.0589, acc=0.9453\n",
      "epoch 0, 60/94: loss=0.0410, acc=0.9453\n",
      "epoch 0, 80/94: loss=0.0387, acc=0.9453\n",
      "epoch 1, 0/94: loss=0.0302, acc=0.9688\n",
      "epoch 1, 20/94: loss=0.0290, acc=0.9531\n",
      "epoch 1, 40/94: loss=0.0267, acc=0.9609\n",
      "epoch 1, 60/94: loss=0.0280, acc=0.9375\n",
      "epoch 1, 80/94: loss=0.0295, acc=0.9297\n",
      "epoch 2, 0/94: loss=0.0228, acc=0.9844\n",
      "epoch 2, 20/94: loss=0.0290, acc=0.9375\n",
      "epoch 2, 40/94: loss=0.0279, acc=0.9219\n",
      "epoch 2, 60/94: loss=0.0189, acc=0.9609\n",
      "epoch 2, 80/94: loss=0.0212, acc=0.9531\n",
      "epoch 3, 0/94: loss=0.0169, acc=0.9688\n",
      "epoch 3, 20/94: loss=0.0185, acc=0.9531\n",
      "epoch 3, 40/94: loss=0.0214, acc=0.9453\n",
      "epoch 3, 60/94: loss=0.0216, acc=0.9453\n",
      "epoch 3, 80/94: loss=0.0210, acc=0.9531\n",
      "epoch 4, 0/94: loss=0.0176, acc=0.9609\n",
      "epoch 4, 20/94: loss=0.0154, acc=0.9688\n",
      "epoch 4, 40/94: loss=0.0210, acc=0.9375\n",
      "epoch 4, 60/94: loss=0.0190, acc=0.9531\n",
      "epoch 4, 80/94: loss=0.0166, acc=0.9531\n"
     ]
    },
    {
     "data": {
      "image/png": "[encoded data removed]",
      "text/plain": [
       "<Figure size 432x288 with 1 Axes>"
      ]
     },
     "metadata": {
      "needs_background": "light"
     },
     "output_type": "display_data"
    },
    {
     "data": {
      "application/vnd.jupyter.widget-view+json": {
       "model_id": "f8963f6b15be4851a090c210fbc61859",
       "version_major": 2,
       "version_minor": 0
      },
      "text/plain": [
       "  0%|          | 0/5 [00:00<?, ?it/s]"
      ]
     },
     "metadata": {},
     "output_type": "display_data"
    },
    {
     "name": "stdout",
     "output_type": "stream",
     "text": [
      "epoch 0, 0/94: loss=0.2960, acc=0.1250\n",
      "epoch 0, 20/94: loss=0.1280, acc=0.5469\n",
      "epoch 0, 40/94: loss=0.0805, acc=0.7891\n",
      "epoch 0, 60/94: loss=0.0516, acc=0.8984\n",
      "epoch 0, 80/94: loss=0.0508, acc=0.8750\n",
      "epoch 1, 0/94: loss=0.0544, acc=0.8281\n",
      "epoch 1, 20/94: loss=0.0441, acc=0.8438\n",
      "epoch 1, 40/94: loss=0.0476, acc=0.8359\n",
      "epoch 1, 60/94: loss=0.0391, acc=0.8828\n",
      "epoch 1, 80/94: loss=0.0370, acc=0.9062\n",
      "epoch 2, 0/94: loss=0.0467, acc=0.8359\n",
      "epoch 2, 20/94: loss=0.0363, acc=0.8828\n",
      "epoch 2, 40/94: loss=0.0373, acc=0.8672\n",
      "epoch 2, 60/94: loss=0.0302, acc=0.9375\n",
      "epoch 2, 80/94: loss=0.0330, acc=0.9141\n",
      "epoch 3, 0/94: loss=0.0411, acc=0.8516\n",
      "epoch 3, 20/94: loss=0.0346, acc=0.8750\n",
      "epoch 3, 40/94: loss=0.0382, acc=0.8672\n",
      "epoch 3, 60/94: loss=0.0315, acc=0.9453\n",
      "epoch 3, 80/94: loss=0.0349, acc=0.8984\n",
      "epoch 4, 0/94: loss=0.0402, acc=0.8594\n",
      "epoch 4, 20/94: loss=0.0294, acc=0.9219\n",
      "epoch 4, 40/94: loss=0.0312, acc=0.9297\n",
      "epoch 4, 60/94: loss=0.0372, acc=0.8750\n",
      "epoch 4, 80/94: loss=0.0390, acc=0.8984\n"
     ]
    },
    {
     "data": {
      "image/png": "[encoded data removed]",
      "text/plain": [
       "<Figure size 432x288 with 1 Axes>"
      ]
     },
     "metadata": {
      "needs_background": "light"
     },
     "output_type": "display_data"
    },
    {
     "data": {
      "application/vnd.jupyter.widget-view+json": {
       "model_id": "e1990557344640e49b05e34806cbe61d",
       "version_major": 2,
       "version_minor": 0
      },
      "text/plain": [
       "  0%|          | 0/5 [00:00<?, ?it/s]"
      ]
     },
     "metadata": {},
     "output_type": "display_data"
    },
    {
     "name": "stdout",
     "output_type": "stream",
     "text": [
      "epoch 0, 0/94: loss=0.1587, acc=0.5625\n",
      "epoch 0, 20/94: loss=0.0669, acc=0.8750\n",
      "epoch 0, 40/94: loss=0.0411, acc=0.9141\n",
      "epoch 0, 60/94: loss=0.0320, acc=0.9297\n",
      "epoch 0, 80/94: loss=0.0231, acc=0.9766\n",
      "epoch 1, 0/94: loss=0.0267, acc=0.9531\n",
      "epoch 1, 20/94: loss=0.0248, acc=0.9609\n",
      "epoch 1, 40/94: loss=0.0204, acc=0.9688\n",
      "epoch 1, 60/94: loss=0.0186, acc=0.9688\n",
      "epoch 1, 80/94: loss=0.0189, acc=0.9688\n",
      "epoch 2, 0/94: loss=0.0152, acc=0.9844\n",
      "epoch 2, 20/94: loss=0.0159, acc=0.9766\n",
      "epoch 2, 40/94: loss=0.0233, acc=0.9531\n",
      "epoch 2, 60/94: loss=0.0157, acc=0.9766\n",
      "epoch 2, 80/94: loss=0.0169, acc=0.9688\n",
      "epoch 3, 0/94: loss=0.0118, acc=0.9922\n",
      "epoch 3, 20/94: loss=0.0233, acc=0.9453\n",
      "epoch 3, 40/94: loss=0.0180, acc=0.9688\n",
      "epoch 3, 60/94: loss=0.0146, acc=0.9844\n",
      "epoch 3, 80/94: loss=0.0150, acc=0.9766\n",
      "epoch 4, 0/94: loss=0.0159, acc=0.9844\n",
      "epoch 4, 20/94: loss=0.0152, acc=0.9688\n",
      "epoch 4, 40/94: loss=0.0128, acc=0.9844\n",
      "epoch 4, 60/94: loss=0.0177, acc=0.9375\n",
      "epoch 4, 80/94: loss=0.0164, acc=0.9766\n"
     ]
    },
    {
     "data": {
      "image/png": "[encoded data removed]",
      "text/plain": [
       "<Figure size 432x288 with 1 Axes>"
      ]
     },
     "metadata": {
      "needs_background": "light"
     },
     "output_type": "display_data"
    },
    {
     "data": {
      "application/vnd.jupyter.widget-view+json": {
       "model_id": "96a8350f4ffa4d8ebfb611dc0a3917cd",
       "version_major": 2,
       "version_minor": 0
      },
      "text/plain": [
       "  0%|          | 0/5 [00:00<?, ?it/s]"
      ]
     },
     "metadata": {},
     "output_type": "display_data"
    },
    {
     "name": "stdout",
     "output_type": "stream",
     "text": [
      "epoch 0, 0/94: loss=0.4452, acc=0.2734\n",
      "epoch 0, 20/94: loss=0.1891, acc=0.4375\n",
      "epoch 0, 40/94: loss=0.0905, acc=0.8438\n",
      "epoch 0, 60/94: loss=0.0419, acc=0.9375\n",
      "epoch 0, 80/94: loss=0.0221, acc=1.0000\n",
      "epoch 1, 0/94: loss=0.0199, acc=0.9922\n",
      "epoch 1, 20/94: loss=0.0164, acc=0.9844\n",
      "epoch 1, 40/94: loss=0.0142, acc=0.9766\n",
      "epoch 1, 60/94: loss=0.0080, acc=1.0000\n",
      "epoch 1, 80/94: loss=0.0075, acc=1.0000\n",
      "epoch 2, 0/94: loss=0.0118, acc=0.9844\n",
      "epoch 2, 20/94: loss=0.0138, acc=0.9844\n",
      "epoch 2, 40/94: loss=0.0083, acc=0.9922\n",
      "epoch 2, 60/94: loss=0.0061, acc=1.0000\n",
      "epoch 2, 80/94: loss=0.0060, acc=0.9922\n",
      "epoch 3, 0/94: loss=0.0049, acc=1.0000\n",
      "epoch 3, 20/94: loss=0.0072, acc=0.9922\n",
      "epoch 3, 40/94: loss=0.0066, acc=0.9922\n",
      "epoch 3, 60/94: loss=0.0041, acc=1.0000\n",
      "epoch 3, 80/94: loss=0.0050, acc=1.0000\n",
      "epoch 4, 0/94: loss=0.0077, acc=0.9922\n",
      "epoch 4, 20/94: loss=0.0055, acc=0.9922\n",
      "epoch 4, 40/94: loss=0.0051, acc=0.9922\n",
      "epoch 4, 60/94: loss=0.0059, acc=0.9922\n",
      "epoch 4, 80/94: loss=0.0041, acc=0.9922\n"
     ]
    },
    {
     "data": {
      "image/png": "[encoded data removed]",
      "text/plain": [
       "<Figure size 432x288 with 1 Axes>"
      ]
     },
     "metadata": {
      "needs_background": "light"
     },
     "output_type": "display_data"
    },
    {
     "data": {
      "application/vnd.jupyter.widget-view+json": {
       "model_id": "7218a31f320f4c018a28920d8fa1605c",
       "version_major": 2,
       "version_minor": 0
      },
      "text/plain": [
       "  0%|          | 0/5 [00:00<?, ?it/s]"
      ]
     },
     "metadata": {},
     "output_type": "display_data"
    },
    {
     "name": "stdout",
     "output_type": "stream",
     "text": [
      "epoch 0, 0/94: loss=0.4001, acc=0.0000\n",
      "epoch 0, 20/94: loss=0.1152, acc=0.7109\n",
      "epoch 0, 40/94: loss=0.0722, acc=0.7734\n",
      "epoch 0, 60/94: loss=0.0657, acc=0.8047\n",
      "epoch 0, 80/94: loss=0.0636, acc=0.8047\n",
      "epoch 1, 0/94: loss=0.0562, acc=0.8125\n",
      "epoch 1, 20/94: loss=0.0534, acc=0.8359\n",
      "epoch 1, 40/94: loss=0.0625, acc=0.7734\n",
      "epoch 1, 60/94: loss=0.0541, acc=0.8281\n",
      "epoch 1, 80/94: loss=0.0458, acc=0.8594\n",
      "epoch 2, 0/94: loss=0.0494, acc=0.8203\n",
      "epoch 2, 20/94: loss=0.0553, acc=0.7891\n",
      "epoch 2, 40/94: loss=0.0463, acc=0.8516\n",
      "epoch 2, 60/94: loss=0.0484, acc=0.8594\n",
      "epoch 2, 80/94: loss=0.0580, acc=0.7891\n",
      "epoch 3, 0/94: loss=0.0538, acc=0.7734\n",
      "epoch 3, 20/94: loss=0.0522, acc=0.7812\n",
      "epoch 3, 40/94: loss=0.0492, acc=0.8438\n",
      "epoch 3, 60/94: loss=0.0549, acc=0.7891\n",
      "epoch 3, 80/94: loss=0.0527, acc=0.8203\n",
      "epoch 4, 0/94: loss=0.0438, acc=0.8594\n",
      "epoch 4, 20/94: loss=0.0517, acc=0.7656\n",
      "epoch 4, 40/94: loss=0.0519, acc=0.8281\n",
      "epoch 4, 60/94: loss=0.0511, acc=0.8203\n",
      "epoch 4, 80/94: loss=0.0488, acc=0.8125\n"
     ]
    },
    {
     "data": {
      "image/png": "[encoded data removed]",
      "text/plain": [
       "<Figure size 432x288 with 1 Axes>"
      ]
     },
     "metadata": {
      "needs_background": "light"
     },
     "output_type": "display_data"
    },
    {
     "data": {
      "application/vnd.jupyter.widget-view+json": {
       "model_id": "761ad1e7b12f4e5ead7cd61082852328",
       "version_major": 2,
       "version_minor": 0
      },
      "text/plain": [
       "  0%|          | 0/5 [00:00<?, ?it/s]"
      ]
     },
     "metadata": {},
     "output_type": "display_data"
    },
    {
     "name": "stdout",
     "output_type": "stream",
     "text": [
      "epoch 0, 0/94: loss=0.1876, acc=0.4688\n",
      "epoch 0, 20/94: loss=0.0430, acc=0.9688\n",
      "epoch 0, 40/94: loss=0.0187, acc=0.9844\n",
      "epoch 0, 60/94: loss=0.0114, acc=0.9922\n",
      "epoch 0, 80/94: loss=0.0071, acc=1.0000\n",
      "epoch 1, 0/94: loss=0.0059, acc=1.0000\n",
      "epoch 1, 20/94: loss=0.0061, acc=0.9922\n",
      "epoch 1, 40/94: loss=0.0047, acc=1.0000\n",
      "epoch 1, 60/94: loss=0.0023, acc=1.0000\n",
      "epoch 1, 80/94: loss=0.0030, acc=1.0000\n",
      "epoch 2, 0/94: loss=0.0023, acc=1.0000\n",
      "epoch 2, 20/94: loss=0.0038, acc=0.9922\n",
      "epoch 2, 40/94: loss=0.0027, acc=1.0000\n",
      "epoch 2, 60/94: loss=0.0015, acc=1.0000\n",
      "epoch 2, 80/94: loss=0.0021, acc=1.0000\n",
      "epoch 3, 0/94: loss=0.0015, acc=1.0000\n",
      "epoch 3, 20/94: loss=0.0023, acc=1.0000\n",
      "epoch 3, 40/94: loss=0.0016, acc=1.0000\n",
      "epoch 3, 60/94: loss=0.0009, acc=1.0000\n",
      "epoch 3, 80/94: loss=0.0026, acc=0.9922\n",
      "epoch 4, 0/94: loss=0.0015, acc=1.0000\n",
      "epoch 4, 20/94: loss=0.0041, acc=0.9922\n",
      "epoch 4, 40/94: loss=0.0014, acc=1.0000\n",
      "epoch 4, 60/94: loss=0.0006, acc=1.0000\n",
      "epoch 4, 80/94: loss=0.0007, acc=1.0000\n"
     ]
    },
    {
     "data": {
      "image/png": "[encoded data removed]",
      "text/plain": [
       "<Figure size 432x288 with 1 Axes>"
      ]
     },
     "metadata": {
      "needs_background": "light"
     },
     "output_type": "display_data"
    }
   ],
   "source": [
    "params_list = []\n",
    "gmm_list = []\n",
    "all_train_loss = []\n",
    "all_train_acc = []\n",
    "for node in tqdm(range(n_node-1)):\n",
    "    x_train_node, y_train_node = filter_pair(x_train, y_train, 0, node + 1)\n",
    "    x_train_small = tf.image.resize(x_train_node[..., tf.newaxis], (int(2**(n/2)), int(2**(n/2)))).numpy()[..., 0].reshape(-1, 2**n)\n",
    "    x_train_small = x_train_small / jnp.sqrt(jnp.sum(x_train_small**2, axis=-1, keepdims=True))\n",
    "    data = tf.data.Dataset.from_tensor_slices((x_train_small, y_train_node)).shuffle(100).batch(128)\n",
    "\n",
    "    # GMM\n",
    "    gmm = GaussianMixture(n_components=5, max_iter=100)\n",
    "    gmm.fit(x_train_small)\n",
    "    gmm_list.append(gmm)\n",
    "\n",
    "    params = K.randn((k * 2, n), dtype=jnp.float32)\n",
    "    opt = optax.adam(learning_rate=1e-2)\n",
    "    opt_state = opt.init(params)\n",
    "\n",
    "    loss_list = []\n",
    "    acc_list = []\n",
    "    for e in tqdm(range(5), leave=False):\n",
    "        for i, (x, y) in enumerate(data):\n",
    "            x = x.numpy()\n",
    "            y = y.numpy()\n",
    "            loss_val, grad_val = compute_loss(params, x, y, k)\n",
    "            updates, opt_state = opt.update(grad_val, opt_state, params)\n",
    "            params = optax.apply_updates(params, updates)\n",
    "            loss_mean = jnp.mean(loss_val)\n",
    "            if i % 20 == 0:\n",
    "                acc = jnp.mean(compute_accuracy(params, x, y, k))\n",
    "                acc_list.append(acc)\n",
    "                loss_list.append(loss_mean)\n",
    "                print(f'epoch {e}, {i}/{len(data)}: loss={loss_mean:.4f}, acc={acc:.4f}')\n",
    "    all_train_loss.append(loss_list)\n",
    "    all_train_acc.append(acc_list)\n",
    "    \n",
    "\n",
    "    plt.plot(loss_list)\n",
    "    plt.plot(acc_list)\n",
    "    plt.legend(['loss', 'accuracy'])\n",
    "    plt.ylim(0, 1)\n",
    "    plt.show()\n",
    "\n",
    "    params_list.append(params)\n"
   ]
  },
  {
   "cell_type": "code",
   "execution_count": 12,
   "metadata": {},
   "outputs": [
    {
     "data": {
      "image/png": "[encoded data removed]",
      "text/plain": [
       "<Figure size 432x288 with 2 Axes>"
      ]
     },
     "metadata": {
      "needs_background": "light"
     },
     "output_type": "display_data"
    }
   ],
   "source": [
    "for acc_curve in all_train_acc:\n",
    "    plt.plot(acc_curve, c='red', alpha=0.2)\n",
    "avg_acc_curve = jnp.mean(jnp.array(all_train_acc), axis=0)\n",
    "plt.plot(avg_acc_curve, c='red', label='accuracy')\n",
    "plt.ylim(0.5, 1)\n",
    "plt.ylabel('Top-1 accuracy')\n",
    "plt.xlabel('Epochs')\n",
    "plt.twinx()\n",
    "\n",
    "for loss_curve in all_train_loss:\n",
    "    plt.plot(loss_curve, c='blue', alpha=0.2)\n",
    "avg_loss_curve = jnp.mean(jnp.array(all_train_loss), axis=0)\n",
    "plt.plot(avg_loss_curve, c='blue', label='loss')\n",
    "plt.ylim(0, 0.5)\n",
    "plt.ylabel('Loss')\n",
    "\n",
    "plt.xticks([0, 5, 10, 15, 20, 25], [0, 1, 2, 3, 4, 5])\n",
    "plt.tight_layout()\n",
    "plt.savefig('client_loss_acc_fashion.pdf')\n",
    "plt.show()"
   ]
  },
  {
   "cell_type": "code",
   "execution_count": 13,
   "metadata": {},
   "outputs": [],
   "source": [
    "def pred(params, x, k):\n",
    "    c = tc.Circuit(n, inputs=x)\n",
    "    c = clf(params, c, k)\n",
    "    probs = readout(c)\n",
    "    return probs\n",
    "# pred = K.jit(pred, static_argnums=[3])"
   ]
  },
  {
   "cell_type": "code",
   "execution_count": 14,
   "metadata": {},
   "outputs": [
    {
     "data": {
      "image/png": "[encoded data removed]",
      "text/plain": [
       "<Figure size 432x288 with 1 Axes>"
      ]
     },
     "metadata": {
      "needs_background": "light"
     },
     "output_type": "display_data"
    },
    {
     "name": "stdout",
     "output_type": "stream",
     "text": [
      "[1. 0. 0. 0. 0. 0. 0. 0.]\n"
     ]
    },
    {
     "data": {
      "text/plain": [
       "DeviceArray([0.25150466, 0.00102719, 0.0012087 , 0.7393404 , 0.00270182,\n",
       "             0.00156246, 0.00085038, 0.00180445], dtype=float32)"
      ]
     },
     "execution_count": 14,
     "metadata": {},
     "output_type": "execute_result"
    }
   ],
   "source": [
    "i = 3\n",
    "x_train_node, y_train_node = filter_pair(x_train, y_train, 0, 2 + 1)\n",
    "x_train_small = tf.image.resize(x_train_node[..., tf.newaxis], (int(2**(n/2)), int(2**(n/2)))).numpy()[..., 0].reshape(-1, 2**n)\n",
    "x_train_small = x_train_small / jnp.sqrt(jnp.sum(x_train_small**2, axis=-1, keepdims=True))\n",
    "plt.imshow(x_train_small[i].reshape(16, 16))\n",
    "plt.show()\n",
    "print(y_train_node[i])\n",
    "pred(params_list[2], x_train_small[i], k)"
   ]
  },
  {
   "cell_type": "code",
   "execution_count": 15,
   "metadata": {},
   "outputs": [
    {
     "data": {
      "application/vnd.jupyter.widget-view+json": {
       "model_id": "2b0ef350ea854c129f702525ed2b37fa",
       "version_major": 2,
       "version_minor": 0
      },
      "text/plain": [
       "  0%|          | 0/7 [00:00<?, ?it/s]"
      ]
     },
     "metadata": {},
     "output_type": "display_data"
    }
   ],
   "source": [
    "density_est_list = []\n",
    "p_node = []\n",
    "for node in tqdm(range(n_node-1)):\n",
    "    x_train_node, y_train_node = filter_pair(x_train, y_train, 0, node + 1)\n",
    "    x_train_small = tf.image.resize(x_train_node[..., tf.newaxis], (int(2**(n/2)), int(2**(n/2)))).numpy()[..., 0].reshape(-1, 2**n)\n",
    "    x_train_small = x_train_small / jnp.sqrt(jnp.sum(x_train_small**2, axis=-1, keepdims=True))\n",
    "    dm = jnp.einsum('nij, njk -> nik', jnp.conjugate(x_train_small.reshape(-1, 2**n, 1)), x_train_small.reshape(-1, 1, 2**n))\n",
    "    density_est_list.append(jnp.mean(dm, axis=0))\n",
    "    p_node.append(len(x_train_small))\n",
    "density_est_list = jnp.stack(density_est_list, axis=0)\n",
    "p_node = jnp.stack(p_node, axis=0) / jnp.sum(jnp.array(p_node))"
   ]
  },
  {
   "cell_type": "code",
   "execution_count": 16,
   "metadata": {},
   "outputs": [
    {
     "name": "stdout",
     "output_type": "stream",
     "text": [
      "[0.32423306 0.18557309 0.29616535 0.44001585 0.29867023 0.4463812\n",
      " 0.2747358  0.09174716 0.36788946 0.09843768 0.39186734 0.23920678\n",
      " 0.41184026 0.22869343 0.42450917 0.37347215 0.08989985 0.392823\n",
      " 0.36927456 0.22118926 0.39568934]\n",
      "0.30296737 0.1128298\n",
      "0.65148365\n"
     ]
    }
   ],
   "source": [
    "from itertools import combinations\n",
    "trace_dist_list = []\n",
    "for dm1, dm2 in combinations(density_est_list, 2):\n",
    "    diff = dm1 - dm2\n",
    "    eigenvals = jnp.linalg.eigh(diff)[0]\n",
    "    trace_dist = jnp.sum(jnp.abs(eigenvals)) / 2\n",
    "    trace_dist_list.append(trace_dist)\n",
    "trace_dist_list = jnp.stack(trace_dist_list, axis=0)\n",
    "print(trace_dist_list)\n",
    "print(jnp.mean(trace_dist_list), jnp.std(trace_dist_list))\n",
    "print((1 + jnp.mean(trace_dist_list)) / 2)"
   ]
  },
  {
   "cell_type": "code",
   "execution_count": 17,
   "metadata": {},
   "outputs": [
    {
     "data": {
      "image/png": "[encoded data removed]",
      "text/plain": [
       "<Figure size 432x288 with 1 Axes>"
      ]
     },
     "metadata": {
      "needs_background": "light"
     },
     "output_type": "display_data"
    }
   ],
   "source": [
    "for i in range(n_node):\n",
    "    plt.scatter(jnp.arange(8), jnp.linalg.eigh(density_est_list[i])[0][::-1][:8], s=5)\n",
    "plt.yscale('log')\n",
    "plt.ylabel('Leading Eigenvalues')\n",
    "plt.ylim(top=1)\n",
    "plt.show()"
   ]
  },
  {
   "cell_type": "code",
   "execution_count": 18,
   "metadata": {},
   "outputs": [
    {
     "data": {
      "text/plain": [
       "DeviceArray([0.14285713, 0.14285713, 0.14285713, 0.14285713, 0.14285713,\n",
       "             0.14285713, 0.14285713], dtype=float32)"
      ]
     },
     "execution_count": 18,
     "metadata": {},
     "output_type": "execute_result"
    }
   ],
   "source": [
    "p_node"
   ]
  },
  {
   "cell_type": "code",
   "execution_count": 19,
   "metadata": {},
   "outputs": [],
   "source": [
    "def pred_comb_with_gmm(params, x, gmm_scores, k, d_mode='GMM'):\n",
    "    dm_list = []\n",
    "    for node in range(n_node-1):\n",
    "        c = tc.Circuit(n, inputs=x)\n",
    "        c = clf(params[node], c, k)\n",
    "        density_matrix = jnp.conjugate(c.wavefunction('ket')) @ c.wavefunction('bra')\n",
    "        dm_list.append(density_matrix)\n",
    "\n",
    "    if d_mode == 'DM':\n",
    "        projector = jnp.conjugate(x.reshape(-1, 1)) @ x.reshape(1, -1)\n",
    "        weight = jnp.einsum('nij, ji -> n', density_est_list, projector).reshape(-1, 1, 1) * p_node.reshape(-1, 1, 1)\n",
    "        weight = (weight)**10\n",
    "        weight = weight / jnp.sum(weight)\n",
    "    elif d_mode == 'GMM':\n",
    "        weight = jnp.exp(gmm_scores - jnp.max(gmm_scores)).reshape(-1) * p_node\n",
    "        weight = weight / jnp.sum(weight)\n",
    "        weight = weight.reshape(-1, 1, 1)\n",
    "    else:\n",
    "        print('d_mode must be DM or GMM')\n",
    "        return None\n",
    "\n",
    "    dm = jnp.sum(jnp.stack(dm_list, axis=0) * weight, axis=0)\n",
    "    # print(jnp.trace(dm))\n",
    "    if readout_mode == 'softmax':\n",
    "        c = tc.DMCircuit(n, dminputs=dm)\n",
    "        pred_prob = readout(c)\n",
    "    elif readout_mode == 'sample':\n",
    "        wf = jnp.abs(jnp.diag(dm)[:n_node])**2\n",
    "        pred_prob = wf / jnp.sum(wf)\n",
    "        \n",
    "    return pred_prob\n",
    "pred_comb_with_gmm = K.vmap(pred_comb_with_gmm, vectorized_argnums=[1, 2])\n",
    "\n",
    "def pred_comb(params, x, k, d_mode='GMM'):\n",
    "    gmm_scores_list = []\n",
    "    for node in range(n_node-1):\n",
    "        gmm_scores = gmm_list[node].score_samples(x)\n",
    "        gmm_scores_list.append(gmm_scores)\n",
    "    gmm_scores_list = jnp.stack(gmm_scores_list, axis=-1)\n",
    "    \n",
    "    pred_prob = pred_comb_with_gmm(params, x, gmm_scores_list, k, d_mode)\n",
    "    return pred_prob\n"
   ]
  },
  {
   "cell_type": "code",
   "execution_count": 20,
   "metadata": {},
   "outputs": [
    {
     "data": {
      "text/plain": [
       "<matplotlib.image.AxesImage at 0x7fd1e0656520>"
      ]
     },
     "execution_count": 20,
     "metadata": {},
     "output_type": "execute_result"
    },
    {
     "data": {
      "image/png": "[encoded data removed]",
      "text/plain": [
       "<Figure size 432x288 with 1 Axes>"
      ]
     },
     "metadata": {
      "needs_background": "light"
     },
     "output_type": "display_data"
    }
   ],
   "source": [
    "i = 37\n",
    "x_train_node, y_train_node = filter_pair(x_train, y_train, 0, 2 + 1)\n",
    "x_train_small = tf.image.resize(x_train_node[..., tf.newaxis], (int(2**(n/2)), int(2**(n/2)))).numpy()[..., 0].reshape(-1, 2**n)\n",
    "x_train_small = x_train_small / jnp.sqrt(jnp.sum(x_train_small**2, axis=-1, keepdims=True))\n",
    "plt.imshow(x_train_small[i].reshape(16, 16))"
   ]
  },
  {
   "cell_type": "code",
   "execution_count": 21,
   "metadata": {},
   "outputs": [
    {
     "data": {
      "text/plain": [
       "DeviceArray(0.84, dtype=float32)"
      ]
     },
     "execution_count": 21,
     "metadata": {},
     "output_type": "execute_result"
    }
   ],
   "source": [
    "jnp.mean(pred_comb(params_list, x_train_small[:100], k, d_mode='GMM').argmax(axis=-1) == y_train_node[:100].argmax(axis=-1))"
   ]
  },
  {
   "cell_type": "code",
   "execution_count": 22,
   "metadata": {},
   "outputs": [
    {
     "data": {
      "text/plain": [
       "DeviceArray(0.57, dtype=float32)"
      ]
     },
     "execution_count": 22,
     "metadata": {},
     "output_type": "execute_result"
    }
   ],
   "source": [
    "jnp.mean(pred_comb(params_list, x_train_small[:100], k, d_mode='DM').argmax(axis=-1) == y_train_node[:100].argmax(axis=-1))"
   ]
  },
  {
   "cell_type": "code",
   "execution_count": 23,
   "metadata": {},
   "outputs": [],
   "source": [
    "x_test = tf.image.resize(x_test[..., tf.newaxis], (int(2**(n/2)), int(2**(n/2)))).numpy()[..., 0].reshape(-1, 2**n)\n",
    "x_test = x_test / jnp.sqrt(jnp.sum(x_test**2, axis=-1, keepdims=True))"
   ]
  },
  {
   "cell_type": "code",
   "execution_count": 24,
   "metadata": {},
   "outputs": [
    {
     "data": {
      "text/plain": [
       "DeviceArray(0.75, dtype=float32)"
      ]
     },
     "execution_count": 24,
     "metadata": {},
     "output_type": "execute_result"
    }
   ],
   "source": [
    "jnp.mean(pred_comb(params_list, x_test[:1024], k, d_mode='GMM').argmax(axis=-1) == y_test[:1024])"
   ]
  },
  {
   "cell_type": "code",
   "execution_count": 25,
   "metadata": {},
   "outputs": [
    {
     "data": {
      "text/plain": [
       "DeviceArray(0.1936221, dtype=float32)"
      ]
     },
     "execution_count": 25,
     "metadata": {},
     "output_type": "execute_result"
    }
   ],
   "source": [
    "-jnp.mean(jnp.log(pred_comb(params_list, x_test[:1024], k, d_mode='GMM'))*jax.nn.one_hot(y_test[:1024], n_node))"
   ]
  },
  {
   "cell_type": "code",
   "execution_count": 26,
   "metadata": {},
   "outputs": [
    {
     "data": {
      "text/plain": [
       "DeviceArray(0.3720703, dtype=float32)"
      ]
     },
     "execution_count": 26,
     "metadata": {},
     "output_type": "execute_result"
    }
   ],
   "source": [
    "jnp.mean(pred_comb(params_list, x_test[:1024], k, d_mode='DM').argmax(axis=-1) == y_test[:1024])"
   ]
  },
  {
   "cell_type": "code",
   "execution_count": 27,
   "metadata": {},
   "outputs": [
    {
     "data": {
      "text/plain": [
       "DeviceArray(0.2614649, dtype=float32)"
      ]
     },
     "execution_count": 27,
     "metadata": {},
     "output_type": "execute_result"
    }
   ],
   "source": [
    "-jnp.mean(jnp.log(pred_comb(params_list, x_test[:1024], k, d_mode='DM'))*jax.nn.one_hot(y_test[:1024], n_node))"
   ]
  },
  {
   "cell_type": "code",
   "execution_count": null,
   "metadata": {},
   "outputs": [],
   "source": []
  }
 ],
 "metadata": {
  "kernelspec": {
   "display_name": "Python 3.9.12 ('ode-rnn')",
   "language": "python",
   "name": "python3"
  },
  "language_info": {
   "codemirror_mode": {
    "name": "ipython",
    "version": 3
   },
   "file_extension": ".py",
   "mimetype": "text/x-python",
   "name": "python",
   "nbconvert_exporter": "python",
   "pygments_lexer": "ipython3",
   "version": "3.9.12"
  },
  "orig_nbformat": 4,
  "vscode": {
   "interpreter": {
    "hash": "274e8ed069bc503cc01fa1aa16068ccb03180744fbf761618fb0dbde6179c71c"
   }
  }
 },
 "nbformat": 4,
 "nbformat_minor": 2
}
