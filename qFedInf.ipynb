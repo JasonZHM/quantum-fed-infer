{
 "cells": [
  {
   "cell_type": "code",
   "execution_count": 1,
   "metadata": {},
   "outputs": [
    {
     "name": "stderr",
     "output_type": "stream",
     "text": [
      "2022-08-02 19:09:11.824577: I tensorflow/core/util/util.cc:169] oneDNN custom operations are on. You may see slightly different numerical results due to floating-point round-off errors from different computation orders. To turn them off, set the environment variable `TF_ENABLE_ONEDNN_OPTS=0`.\n"
     ]
    }
   ],
   "source": [
    "import tensorcircuit as tc\n",
    "import optax\n",
    "import jax.numpy as jnp\n",
    "import jax\n",
    "import tensorflow as tf\n",
    "import matplotlib.pyplot as plt\n",
    "from tqdm.notebook import tqdm\n",
    "\n",
    "from sklearn.mixture import GaussianMixture\n",
    "\n",
    "import os\n",
    "os.environ[\"CUDA_DEVICE_ORDER\"]=\"PCI_BUS_ID\"\n",
    "os.environ[\"CUDA_VISIBLE_DEVICES\"]=\"0\"\n",
    "os.environ[\"XLA_PYTHON_CLIENT_PREALLOCATE\"]=\"false\"\n",
    "os.environ[\"TF_FORCE_GPU_ALLOW_GROWTH\"]=\"true\"\n",
    "\n",
    "plt.rcParams[\"font.family\"] = \"serif\"\n",
    "plt.rcParams['mathtext.fontset'] = 'cm'\n",
    "plt.rcParams['mathtext.rm'] = 'serif'\n",
    "plt.rc('font', size=14)\n",
    "\n",
    "key = jax.random.PRNGKey(42)\n",
    "tf.random.set_seed(42)"
   ]
  },
  {
   "cell_type": "code",
   "execution_count": 2,
   "metadata": {},
   "outputs": [],
   "source": [
    "dataset = 'mnist'\n",
    "# dataset = 'fashion'\n",
    "readout_mode = 'softmax'\n",
    "# readout_mode = 'sample'\n",
    "encoding_mode = 'vanilla'\n",
    "# encoding_mode = 'mean'\n",
    "# encoding_mode = 'half'"
   ]
  },
  {
   "cell_type": "code",
   "execution_count": 3,
   "metadata": {},
   "outputs": [],
   "source": [
    "n = 8\n",
    "n_node = 8"
   ]
  },
  {
   "cell_type": "code",
   "execution_count": 4,
   "metadata": {},
   "outputs": [],
   "source": [
    "K = tc.set_backend('jax')"
   ]
  },
  {
   "cell_type": "code",
   "execution_count": 5,
   "metadata": {},
   "outputs": [
    {
     "name": "stderr",
     "output_type": "stream",
     "text": [
      "2022-08-02 19:09:18.155662: I tensorflow/core/platform/cpu_feature_guard.cc:193] This TensorFlow binary is optimized with oneAPI Deep Neural Network Library (oneDNN) to use the following CPU instructions in performance-critical operations:  AVX2 AVX512F AVX512_VNNI FMA\n",
      "To enable them in other operations, rebuild TensorFlow with the appropriate compiler flags.\n",
      "2022-08-02 19:09:20.741749: W tensorflow/core/common_runtime/gpu/gpu_bfc_allocator.cc:42] Overriding orig_value setting because the TF_FORCE_GPU_ALLOW_GROWTH environment variable is set. Original config value was 0.\n",
      "2022-08-02 19:09:20.741806: I tensorflow/core/common_runtime/gpu/gpu_device.cc:1532] Created device /job:localhost/replica:0/task:0/device:GPU:0 with 30169 MB memory:  -> device: 0, name: Tesla V100-PCIE-32GB, pci bus id: 0000:12:00.0, compute capability: 7.0\n"
     ]
    }
   ],
   "source": [
    "# numpy data\n",
    "if dataset == 'mnist':\n",
    "    (x_train, y_train), (x_test, y_test) = tf.keras.datasets.mnist.load_data()\n",
    "elif dataset == 'fashion':\n",
    "    (x_train, y_train), (x_test, y_test) = tf.keras.datasets.fashion_mnist.load_data()\n",
    "ind = y_test == 9\n",
    "x_test, y_test = x_test[~ind], y_test[~ind]\n",
    "ind = y_test == 8\n",
    "x_test, y_test = x_test[~ind], y_test[~ind]\n",
    "\n",
    "x_train = x_train / 255.0\n",
    "if encoding_mode == 'vanilla':\n",
    "    mean = 0\n",
    "elif encoding_mode == 'mean':\n",
    "    mean = jnp.mean(x_train, axis=0)\n",
    "elif encoding_mode == 'half':\n",
    "    mean = 0.5\n",
    "x_train = x_train - mean\n",
    "x_train = tf.image.resize(x_train[..., tf.newaxis], (int(2**(n/2)), int(2**(n/2)))).numpy()[..., 0].reshape(-1, 2**n)\n",
    "x_train = x_train / jnp.sqrt(jnp.sum(x_train**2, axis=-1, keepdims=True))\n",
    "\n",
    "x_test = x_test / 255.0\n",
    "x_test = x_test - mean\n",
    "x_test = tf.image.resize(x_test[..., tf.newaxis], (int(2**(n/2)), int(2**(n/2)))).numpy()[..., 0].reshape(-1, 2**n)\n",
    "x_test = x_test / jnp.sqrt(jnp.sum(x_test**2, axis=-1, keepdims=True))\n",
    "y_test = jax.nn.one_hot(y_test, n_node)\n",
    "\n",
    "def filter_pair(x, y, a, b):\n",
    "    keep = (y == a) | (y == b)\n",
    "    x, y = x[keep], y[keep]\n",
    "    y = jax.nn.one_hot(y, n_node)\n",
    "    return x, y"
   ]
  },
  {
   "cell_type": "code",
   "execution_count": 6,
   "metadata": {},
   "outputs": [],
   "source": [
    "def clf(params, c, k):\n",
    "    for j in range(k):\n",
    "        for i in range(n - 1):\n",
    "            c.cnot(i, i + 1)\n",
    "        for i in range(n):\n",
    "            c.rx(i, theta=params[3 * j, i])\n",
    "            c.rz(i, theta=params[3 * j + 1, i])\n",
    "            c.rx(i, theta=params[3 * j + 2, i])\n",
    "    return c\n",
    "\n",
    "def readout(c):\n",
    "    if readout_mode == 'softmax':\n",
    "        logits = []\n",
    "        for i in range(n_node):\n",
    "            logits.append(jnp.real(c.expectation([tc.gates.z(), [i,]])))\n",
    "        logits = jnp.stack(logits, axis=-1) * 10\n",
    "        probs = jax.nn.softmax(logits)\n",
    "    elif readout_mode == 'sample':\n",
    "        wf = jnp.abs(c.wavefunction()[:n_node])**2\n",
    "        probs = wf / jnp.sum(wf)\n",
    "    return probs"
   ]
  },
  {
   "cell_type": "code",
   "execution_count": 7,
   "metadata": {},
   "outputs": [],
   "source": [
    "def loss(params, x, y, k):\n",
    "    c = tc.Circuit(n, inputs=x)\n",
    "    c = clf(params, c, k)\n",
    "    probs = readout(c)\n",
    "    return -jnp.mean(y * jnp.log(probs))\n",
    "loss = K.jit(loss, static_argnums=[3])"
   ]
  },
  {
   "cell_type": "code",
   "execution_count": 8,
   "metadata": {},
   "outputs": [],
   "source": [
    "def accuracy(params, x, y, k):\n",
    "    c = tc.Circuit(n, inputs=x)\n",
    "    c = clf(params, c, k)\n",
    "    probs = readout(c)\n",
    "    return jnp.argmax(probs, axis=-1) == jnp.argmax(y, axis=-1)\n",
    "accuracy = K.jit(accuracy, static_argnums=[3])"
   ]
  },
  {
   "cell_type": "code",
   "execution_count": 9,
   "metadata": {},
   "outputs": [],
   "source": [
    "k = 6"
   ]
  },
  {
   "cell_type": "code",
   "execution_count": 10,
   "metadata": {},
   "outputs": [],
   "source": [
    "compute_loss = K.jit(K.vectorized_value_and_grad(loss, vectorized_argnums=[1, 2]), static_argnums=[3])\n",
    "compute_accuracy = K.jit(K.vmap(accuracy, vectorized_argnums=[1, 2]), static_argnums=[3])"
   ]
  },
  {
   "cell_type": "code",
   "execution_count": 11,
   "metadata": {},
   "outputs": [
    {
     "data": {
      "application/vnd.jupyter.widget-view+json": {
       "model_id": "5bb2caebec654fd0879089d30987bc85",
       "version_major": 2,
       "version_minor": 0
      },
      "text/plain": [
       "  0%|          | 0/7 [00:00<?, ?it/s]"
      ]
     },
     "metadata": {},
     "output_type": "display_data"
    },
    {
     "data": {
      "application/vnd.jupyter.widget-view+json": {
       "model_id": "1fdb5de803eb476eb499b5766c9340fb",
       "version_major": 2,
       "version_minor": 0
      },
      "text/plain": [
       "  0%|          | 0/5 [00:00<?, ?it/s]"
      ]
     },
     "metadata": {},
     "output_type": "display_data"
    },
    {
     "name": "stdout",
     "output_type": "stream",
     "text": [
      "epoch 0, 0/99: loss=0.3423, acc=0.0312\n",
      "epoch 0, 20/99: loss=0.0996, acc=0.7031\n",
      "epoch 0, 40/99: loss=0.0539, acc=0.8672\n",
      "epoch 0, 60/99: loss=0.0259, acc=0.9766\n",
      "epoch 0, 80/99: loss=0.0205, acc=0.9844\n",
      "epoch 1, 0/99: loss=0.0293, acc=0.9609\n",
      "epoch 1, 20/99: loss=0.0216, acc=0.9844\n",
      "epoch 1, 40/99: loss=0.0211, acc=0.9766\n",
      "epoch 1, 60/99: loss=0.0121, acc=0.9922\n",
      "epoch 1, 80/99: loss=0.0098, acc=1.0000\n",
      "epoch 2, 0/99: loss=0.0210, acc=0.9688\n",
      "epoch 2, 20/99: loss=0.0133, acc=0.9922\n",
      "epoch 2, 40/99: loss=0.0142, acc=0.9766\n",
      "epoch 2, 60/99: loss=0.0074, acc=0.9922\n",
      "epoch 2, 80/99: loss=0.0053, acc=1.0000\n",
      "epoch 3, 0/99: loss=0.0144, acc=0.9688\n",
      "epoch 3, 20/99: loss=0.0079, acc=1.0000\n",
      "epoch 3, 40/99: loss=0.0098, acc=0.9844\n",
      "epoch 3, 60/99: loss=0.0047, acc=0.9922\n",
      "epoch 3, 80/99: loss=0.0033, acc=1.0000\n",
      "epoch 4, 0/99: loss=0.0099, acc=0.9844\n",
      "epoch 4, 20/99: loss=0.0050, acc=1.0000\n",
      "epoch 4, 40/99: loss=0.0071, acc=0.9844\n",
      "epoch 4, 60/99: loss=0.0032, acc=0.9922\n",
      "epoch 4, 80/99: loss=0.0025, acc=1.0000\n"
     ]
    },
    {
     "data": {
      "image/png": "[encoded data removed]",
      "text/plain": [
       "<Figure size 432x288 with 1 Axes>"
      ]
     },
     "metadata": {
      "needs_background": "light"
     },
     "output_type": "display_data"
    },
    {
     "data": {
      "application/vnd.jupyter.widget-view+json": {
       "model_id": "d2fc697421b0496780f1d1ae2550bf62",
       "version_major": 2,
       "version_minor": 0
      },
      "text/plain": [
       "  0%|          | 0/5 [00:00<?, ?it/s]"
      ]
     },
     "metadata": {},
     "output_type": "display_data"
    },
    {
     "name": "stdout",
     "output_type": "stream",
     "text": [
      "epoch 0, 0/93: loss=0.3782, acc=0.0156\n",
      "epoch 0, 20/93: loss=0.1104, acc=0.8203\n",
      "epoch 0, 40/93: loss=0.0645, acc=0.9453\n",
      "epoch 0, 60/93: loss=0.0518, acc=0.9297\n",
      "epoch 0, 80/93: loss=0.0454, acc=0.9375\n",
      "epoch 1, 0/93: loss=0.0359, acc=0.9453\n",
      "epoch 1, 20/93: loss=0.0356, acc=0.9297\n",
      "epoch 1, 40/93: loss=0.0307, acc=0.9531\n",
      "epoch 1, 60/93: loss=0.0302, acc=0.9609\n",
      "epoch 1, 80/93: loss=0.0276, acc=0.9609\n",
      "epoch 2, 0/93: loss=0.0242, acc=0.9766\n",
      "epoch 2, 20/93: loss=0.0259, acc=0.9453\n",
      "epoch 2, 40/93: loss=0.0229, acc=0.9766\n",
      "epoch 2, 60/93: loss=0.0241, acc=0.9609\n",
      "epoch 2, 80/93: loss=0.0218, acc=0.9688\n",
      "epoch 3, 0/93: loss=0.0201, acc=0.9688\n",
      "epoch 3, 20/93: loss=0.0215, acc=0.9609\n",
      "epoch 3, 40/93: loss=0.0204, acc=0.9766\n",
      "epoch 3, 60/93: loss=0.0219, acc=0.9688\n",
      "epoch 3, 80/93: loss=0.0196, acc=0.9766\n",
      "epoch 4, 0/93: loss=0.0179, acc=0.9688\n",
      "epoch 4, 20/93: loss=0.0196, acc=0.9609\n",
      "epoch 4, 40/93: loss=0.0195, acc=0.9688\n",
      "epoch 4, 60/93: loss=0.0213, acc=0.9688\n",
      "epoch 4, 80/93: loss=0.0186, acc=0.9766\n"
     ]
    },
    {
     "data": {
      "image/png": "[encoded data removed]",
      "text/plain": [
       "<Figure size 432x288 with 1 Axes>"
      ]
     },
     "metadata": {
      "needs_background": "light"
     },
     "output_type": "display_data"
    },
    {
     "data": {
      "application/vnd.jupyter.widget-view+json": {
       "model_id": "44e7ae9c5be3454c9aafb5d987e45bf8",
       "version_major": 2,
       "version_minor": 0
      },
      "text/plain": [
       "  0%|          | 0/5 [00:00<?, ?it/s]"
      ]
     },
     "metadata": {},
     "output_type": "display_data"
    },
    {
     "name": "stdout",
     "output_type": "stream",
     "text": [
      "epoch 0, 0/95: loss=0.2868, acc=0.2500\n",
      "epoch 0, 20/95: loss=0.1140, acc=0.8203\n",
      "epoch 0, 40/95: loss=0.0524, acc=0.9531\n",
      "epoch 0, 60/95: loss=0.0339, acc=0.9766\n",
      "epoch 0, 80/95: loss=0.0268, acc=0.9766\n",
      "epoch 1, 0/95: loss=0.0268, acc=0.9766\n",
      "epoch 1, 20/95: loss=0.0296, acc=0.9531\n",
      "epoch 1, 40/95: loss=0.0214, acc=0.9766\n",
      "epoch 1, 60/95: loss=0.0197, acc=0.9844\n",
      "epoch 1, 80/95: loss=0.0176, acc=0.9844\n",
      "epoch 2, 0/95: loss=0.0185, acc=0.9844\n",
      "epoch 2, 20/95: loss=0.0220, acc=0.9766\n",
      "epoch 2, 40/95: loss=0.0168, acc=0.9766\n",
      "epoch 2, 60/95: loss=0.0161, acc=0.9922\n",
      "epoch 2, 80/95: loss=0.0144, acc=0.9922\n",
      "epoch 3, 0/95: loss=0.0158, acc=1.0000\n",
      "epoch 3, 20/95: loss=0.0184, acc=0.9688\n",
      "epoch 3, 40/95: loss=0.0143, acc=0.9766\n",
      "epoch 3, 60/95: loss=0.0139, acc=0.9922\n",
      "epoch 3, 80/95: loss=0.0119, acc=1.0000\n",
      "epoch 4, 0/95: loss=0.0134, acc=1.0000\n",
      "epoch 4, 20/95: loss=0.0163, acc=0.9766\n",
      "epoch 4, 40/95: loss=0.0114, acc=0.9922\n",
      "epoch 4, 60/95: loss=0.0120, acc=0.9922\n",
      "epoch 4, 80/95: loss=0.0095, acc=1.0000\n"
     ]
    },
    {
     "data": {
      "image/png": "[encoded data removed]",
      "text/plain": [
       "<Figure size 432x288 with 1 Axes>"
      ]
     },
     "metadata": {
      "needs_background": "light"
     },
     "output_type": "display_data"
    },
    {
     "data": {
      "application/vnd.jupyter.widget-view+json": {
       "model_id": "67eb83340dbc4b08a3a6bf1059f83ded",
       "version_major": 2,
       "version_minor": 0
      },
      "text/plain": [
       "  0%|          | 0/5 [00:00<?, ?it/s]"
      ]
     },
     "metadata": {},
     "output_type": "display_data"
    },
    {
     "name": "stdout",
     "output_type": "stream",
     "text": [
      "epoch 0, 0/92: loss=0.2773, acc=0.1797\n",
      "epoch 0, 20/92: loss=0.0723, acc=0.9922\n",
      "epoch 0, 40/92: loss=0.0456, acc=1.0000\n",
      "epoch 0, 60/92: loss=0.0311, acc=0.9766\n",
      "epoch 0, 80/92: loss=0.0262, acc=0.9844\n",
      "epoch 1, 0/92: loss=0.0190, acc=0.9844\n",
      "epoch 1, 20/92: loss=0.0139, acc=1.0000\n",
      "epoch 1, 40/92: loss=0.0158, acc=0.9922\n",
      "epoch 1, 60/92: loss=0.0185, acc=0.9766\n",
      "epoch 1, 80/92: loss=0.0152, acc=0.9844\n",
      "epoch 2, 0/92: loss=0.0121, acc=1.0000\n",
      "epoch 2, 20/92: loss=0.0111, acc=1.0000\n",
      "epoch 2, 40/92: loss=0.0132, acc=1.0000\n",
      "epoch 2, 60/92: loss=0.0170, acc=0.9688\n",
      "epoch 2, 80/92: loss=0.0129, acc=0.9844\n",
      "epoch 3, 0/92: loss=0.0104, acc=1.0000\n",
      "epoch 3, 20/92: loss=0.0102, acc=1.0000\n",
      "epoch 3, 40/92: loss=0.0121, acc=1.0000\n",
      "epoch 3, 60/92: loss=0.0165, acc=0.9688\n",
      "epoch 3, 80/92: loss=0.0118, acc=0.9922\n",
      "epoch 4, 0/92: loss=0.0096, acc=1.0000\n",
      "epoch 4, 20/92: loss=0.0094, acc=1.0000\n",
      "epoch 4, 40/92: loss=0.0114, acc=1.0000\n",
      "epoch 4, 60/92: loss=0.0161, acc=0.9688\n",
      "epoch 4, 80/92: loss=0.0109, acc=0.9922\n"
     ]
    },
    {
     "data": {
      "image/png": "[encoded data removed]",
      "text/plain": [
       "<Figure size 432x288 with 1 Axes>"
      ]
     },
     "metadata": {
      "needs_background": "light"
     },
     "output_type": "display_data"
    },
    {
     "data": {
      "application/vnd.jupyter.widget-view+json": {
       "model_id": "79e00fc5cba3483b970b4d752608ca5e",
       "version_major": 2,
       "version_minor": 0
      },
      "text/plain": [
       "  0%|          | 0/5 [00:00<?, ?it/s]"
      ]
     },
     "metadata": {},
     "output_type": "display_data"
    },
    {
     "name": "stdout",
     "output_type": "stream",
     "text": [
      "epoch 0, 0/89: loss=0.2458, acc=0.2891\n",
      "epoch 0, 20/89: loss=0.1012, acc=0.8047\n",
      "epoch 0, 40/89: loss=0.0606, acc=0.9219\n",
      "epoch 0, 60/89: loss=0.0554, acc=0.9141\n",
      "epoch 0, 80/89: loss=0.0313, acc=0.9844\n",
      "epoch 1, 0/89: loss=0.0377, acc=0.9375\n",
      "epoch 1, 20/89: loss=0.0340, acc=0.9453\n",
      "epoch 1, 40/89: loss=0.0264, acc=0.9844\n",
      "epoch 1, 60/89: loss=0.0346, acc=0.9531\n",
      "epoch 1, 80/89: loss=0.0203, acc=0.9844\n",
      "epoch 2, 0/89: loss=0.0257, acc=0.9766\n",
      "epoch 2, 20/89: loss=0.0263, acc=0.9688\n",
      "epoch 2, 40/89: loss=0.0233, acc=0.9922\n",
      "epoch 2, 60/89: loss=0.0298, acc=0.9688\n",
      "epoch 2, 80/89: loss=0.0177, acc=0.9844\n",
      "epoch 3, 0/89: loss=0.0218, acc=0.9844\n",
      "epoch 3, 20/89: loss=0.0232, acc=0.9766\n",
      "epoch 3, 40/89: loss=0.0217, acc=0.9922\n",
      "epoch 3, 60/89: loss=0.0282, acc=0.9609\n",
      "epoch 3, 80/89: loss=0.0158, acc=0.9922\n",
      "epoch 4, 0/89: loss=0.0200, acc=0.9844\n",
      "epoch 4, 20/89: loss=0.0207, acc=0.9766\n",
      "epoch 4, 40/89: loss=0.0195, acc=1.0000\n",
      "epoch 4, 60/89: loss=0.0269, acc=0.9609\n",
      "epoch 4, 80/89: loss=0.0139, acc=1.0000\n"
     ]
    },
    {
     "data": {
      "image/png": "[encoded data removed]",
      "text/plain": [
       "<Figure size 432x288 with 1 Axes>"
      ]
     },
     "metadata": {
      "needs_background": "light"
     },
     "output_type": "display_data"
    },
    {
     "data": {
      "application/vnd.jupyter.widget-view+json": {
       "model_id": "4ac71d4731e74fb095de3326b75c75b5",
       "version_major": 2,
       "version_minor": 0
      },
      "text/plain": [
       "  0%|          | 0/5 [00:00<?, ?it/s]"
      ]
     },
     "metadata": {},
     "output_type": "display_data"
    },
    {
     "name": "stdout",
     "output_type": "stream",
     "text": [
      "epoch 0, 0/93: loss=0.3940, acc=0.0000\n",
      "epoch 0, 20/93: loss=0.1118, acc=0.8047\n",
      "epoch 0, 40/93: loss=0.0629, acc=0.8750\n",
      "epoch 0, 60/93: loss=0.0408, acc=0.9375\n",
      "epoch 0, 80/93: loss=0.0361, acc=0.9688\n",
      "epoch 1, 0/93: loss=0.0303, acc=0.9688\n",
      "epoch 1, 20/93: loss=0.0327, acc=0.9609\n",
      "epoch 1, 40/93: loss=0.0366, acc=0.9062\n",
      "epoch 1, 60/93: loss=0.0277, acc=0.9453\n",
      "epoch 1, 80/93: loss=0.0261, acc=0.9609\n",
      "epoch 2, 0/93: loss=0.0216, acc=0.9766\n",
      "epoch 2, 20/93: loss=0.0237, acc=0.9531\n",
      "epoch 2, 40/93: loss=0.0273, acc=0.9375\n",
      "epoch 2, 60/93: loss=0.0204, acc=0.9453\n",
      "epoch 2, 80/93: loss=0.0196, acc=0.9766\n",
      "epoch 3, 0/93: loss=0.0169, acc=0.9844\n",
      "epoch 3, 20/93: loss=0.0189, acc=0.9688\n",
      "epoch 3, 40/93: loss=0.0208, acc=0.9688\n",
      "epoch 3, 60/93: loss=0.0159, acc=0.9688\n",
      "epoch 3, 80/93: loss=0.0168, acc=0.9766\n",
      "epoch 4, 0/93: loss=0.0142, acc=0.9844\n",
      "epoch 4, 20/93: loss=0.0162, acc=0.9844\n",
      "epoch 4, 40/93: loss=0.0167, acc=0.9688\n",
      "epoch 4, 60/93: loss=0.0126, acc=0.9844\n",
      "epoch 4, 80/93: loss=0.0149, acc=0.9844\n"
     ]
    },
    {
     "data": {
      "image/png": "[encoded data removed]",
      "text/plain": [
       "<Figure size 432x288 with 1 Axes>"
      ]
     },
     "metadata": {
      "needs_background": "light"
     },
     "output_type": "display_data"
    },
    {
     "data": {
      "application/vnd.jupyter.widget-view+json": {
       "model_id": "fa3cdd1495d74e728e689991e09167b3",
       "version_major": 2,
       "version_minor": 0
      },
      "text/plain": [
       "  0%|          | 0/5 [00:00<?, ?it/s]"
      ]
     },
     "metadata": {},
     "output_type": "display_data"
    },
    {
     "name": "stdout",
     "output_type": "stream",
     "text": [
      "epoch 0, 0/96: loss=0.2319, acc=0.4844\n",
      "epoch 0, 20/96: loss=0.0640, acc=0.9531\n",
      "epoch 0, 40/96: loss=0.0286, acc=0.9844\n",
      "epoch 0, 60/96: loss=0.0289, acc=0.9766\n",
      "epoch 0, 80/96: loss=0.0191, acc=0.9922\n",
      "epoch 1, 0/96: loss=0.0179, acc=0.9844\n",
      "epoch 1, 20/96: loss=0.0138, acc=1.0000\n",
      "epoch 1, 40/96: loss=0.0105, acc=1.0000\n",
      "epoch 1, 60/96: loss=0.0169, acc=0.9922\n",
      "epoch 1, 80/96: loss=0.0130, acc=0.9922\n",
      "epoch 2, 0/96: loss=0.0129, acc=0.9922\n",
      "epoch 2, 20/96: loss=0.0092, acc=1.0000\n",
      "epoch 2, 40/96: loss=0.0076, acc=1.0000\n",
      "epoch 2, 60/96: loss=0.0136, acc=0.9922\n",
      "epoch 2, 80/96: loss=0.0103, acc=0.9922\n",
      "epoch 3, 0/96: loss=0.0101, acc=0.9922\n",
      "epoch 3, 20/96: loss=0.0073, acc=1.0000\n",
      "epoch 3, 40/96: loss=0.0064, acc=1.0000\n",
      "epoch 3, 60/96: loss=0.0116, acc=0.9922\n",
      "epoch 3, 80/96: loss=0.0089, acc=1.0000\n",
      "epoch 4, 0/96: loss=0.0084, acc=0.9922\n",
      "epoch 4, 20/96: loss=0.0062, acc=1.0000\n",
      "epoch 4, 40/96: loss=0.0057, acc=1.0000\n",
      "epoch 4, 60/96: loss=0.0100, acc=0.9922\n",
      "epoch 4, 80/96: loss=0.0078, acc=1.0000\n"
     ]
    },
    {
     "data": {
      "image/png": "[encoded data removed]",
      "text/plain": [
       "<Figure size 432x288 with 1 Axes>"
      ]
     },
     "metadata": {
      "needs_background": "light"
     },
     "output_type": "display_data"
    }
   ],
   "source": [
    "params_list = []\n",
    "gmm_list = []\n",
    "all_train_loss = []\n",
    "all_train_acc = []\n",
    "for node in tqdm(range(n_node-1)):\n",
    "    x_train_node, y_train_node = filter_pair(x_train, y_train, 0, node + 1)\n",
    "    data = tf.data.Dataset.from_tensor_slices((x_train_node, y_train_node)).batch(128)\n",
    "\n",
    "    # GMM\n",
    "    gmm = GaussianMixture(n_components=5, max_iter=100, random_state=42)\n",
    "    gmm.fit(x_train_node)\n",
    "    gmm_list.append(gmm)\n",
    "\n",
    "    key, subkey = jax.random.split(key)\n",
    "    params = jax.random.normal(subkey, (3 * k, n))\n",
    "    opt = optax.adam(learning_rate=1e-2)\n",
    "    opt_state = opt.init(params)\n",
    "\n",
    "    loss_list = []\n",
    "    acc_list = []\n",
    "    for e in tqdm(range(5), leave=False):\n",
    "        for i, (x, y) in enumerate(data):\n",
    "            x = x.numpy()\n",
    "            y = y.numpy()\n",
    "            loss_val, grad_val = compute_loss(params, x, y, k)\n",
    "            updates, opt_state = opt.update(grad_val, opt_state, params)\n",
    "            params = optax.apply_updates(params, updates)\n",
    "            loss_mean = jnp.mean(loss_val)\n",
    "            if i % 20 == 0:\n",
    "                acc = jnp.mean(compute_accuracy(params, x, y, k))\n",
    "                acc_list.append(acc)\n",
    "                loss_list.append(loss_mean)\n",
    "                print(f'epoch {e}, {i}/{len(data)}: loss={loss_mean:.4f}, acc={acc:.4f}')\n",
    "    all_train_loss.append(loss_list)\n",
    "    all_train_acc.append(acc_list)\n",
    "    \n",
    "\n",
    "    plt.plot(loss_list)\n",
    "    plt.plot(acc_list)\n",
    "    plt.legend(['loss', 'accuracy'])\n",
    "    plt.ylim(0, 1)\n",
    "    plt.show()\n",
    "\n",
    "    params_list.append(params)\n"
   ]
  },
  {
   "cell_type": "code",
   "execution_count": 12,
   "metadata": {},
   "outputs": [
    {
     "data": {
      "image/png": "[encoded data removed]",
      "text/plain": [
       "<Figure size 432x288 with 2 Axes>"
      ]
     },
     "metadata": {
      "needs_background": "light"
     },
     "output_type": "display_data"
    }
   ],
   "source": [
    "for acc_curve in all_train_acc:\n",
    "    plt.plot(acc_curve, c='red', alpha=0.2)\n",
    "avg_acc_curve = jnp.mean(jnp.array(all_train_acc), axis=0)\n",
    "plt.plot(avg_acc_curve, c='red', label='accuracy')\n",
    "plt.ylim(0.5, 1)\n",
    "plt.ylabel('Top-1 accuracy')\n",
    "plt.xlabel('Epochs')\n",
    "plt.twinx()\n",
    "\n",
    "for loss_curve in all_train_loss:\n",
    "    plt.plot(loss_curve, c='blue', alpha=0.2)\n",
    "avg_loss_curve = jnp.mean(jnp.array(all_train_loss), axis=0)\n",
    "plt.plot(avg_loss_curve, c='blue', label='loss')\n",
    "plt.ylim(0, 0.5)\n",
    "plt.ylabel('Loss')\n",
    "\n",
    "plt.xticks([0, 5, 10, 15, 20, 25], [0, 1, 2, 3, 4, 5])\n",
    "plt.tight_layout()\n",
    "plt.savefig(f'./{dataset}/client_loss_acc.pdf')\n",
    "plt.show()"
   ]
  },
  {
   "cell_type": "code",
   "execution_count": 13,
   "metadata": {},
   "outputs": [],
   "source": [
    "def pred(params, x, k):\n",
    "    c = tc.Circuit(n, inputs=x)\n",
    "    c = clf(params, c, k)\n",
    "    probs = readout(c)\n",
    "    return probs\n",
    "# pred = K.jit(pred, static_argnums=[3])"
   ]
  },
  {
   "cell_type": "code",
   "execution_count": 14,
   "metadata": {},
   "outputs": [
    {
     "data": {
      "image/png": "[encoded data removed]",
      "text/plain": [
       "<Figure size 432x288 with 1 Axes>"
      ]
     },
     "metadata": {
      "needs_background": "light"
     },
     "output_type": "display_data"
    },
    {
     "name": "stdout",
     "output_type": "stream",
     "text": [
      "[0. 0. 0. 1. 0. 0. 0. 0.]\n"
     ]
    },
    {
     "data": {
      "text/plain": [
       "DeviceArray([7.1097268e-03, 2.1986384e-04, 1.2904789e-03, 9.9056947e-01,\n",
       "             5.1559741e-04, 2.2976405e-04, 4.0133920e-05, 2.4961057e-05],            dtype=float32)"
      ]
     },
     "execution_count": 14,
     "metadata": {},
     "output_type": "execute_result"
    }
   ],
   "source": [
    "i = 3\n",
    "x_train_node, y_train_node = filter_pair(x_train, y_train, 0, 2 + 1)\n",
    "plt.imshow(x_train_node[i].reshape(16, 16))\n",
    "plt.show()\n",
    "print(y_train_node[i])\n",
    "pred(params_list[2], x_train_node[i], k)"
   ]
  },
  {
   "cell_type": "code",
   "execution_count": 15,
   "metadata": {},
   "outputs": [
    {
     "data": {
      "application/vnd.jupyter.widget-view+json": {
       "model_id": "626828ed58f7429f988ecc939334bf52",
       "version_major": 2,
       "version_minor": 0
      },
      "text/plain": [
       "  0%|          | 0/7 [00:00<?, ?it/s]"
      ]
     },
     "metadata": {},
     "output_type": "display_data"
    }
   ],
   "source": [
    "density_est_list = []\n",
    "p_node = []\n",
    "for node in tqdm(range(n_node-1)):\n",
    "    x_train_node, y_train_node = filter_pair(x_train, y_train, 0, node + 1)\n",
    "    dm = jnp.einsum('nij, njk -> nik', jnp.conjugate(x_train_node.reshape(-1, 2**n, 1)), x_train_node.reshape(-1, 1, 2**n))\n",
    "    density_est_list.append(jnp.mean(dm, axis=0))\n",
    "    p_node.append(len(x_train_node))\n",
    "density_est_list = jnp.stack(density_est_list, axis=0)\n",
    "p_node = jnp.stack(p_node, axis=0) / jnp.sum(jnp.array(p_node))"
   ]
  },
  {
   "cell_type": "code",
   "execution_count": 16,
   "metadata": {},
   "outputs": [
    {
     "name": "stdout",
     "output_type": "stream",
     "text": [
      "[0.38609353 0.39015436 0.41028053 0.4130728  0.4128412  0.40908492\n",
      " 0.27013138 0.3073421  0.30810428 0.2896704  0.3419245  0.3336453\n",
      " 0.22087297 0.33818638 0.34396785 0.29891497 0.3051919  0.28791517\n",
      " 0.29639605 0.33918315 0.3883878 ]\n",
      "0.3376839 0.05277701\n",
      "0.66884196\n"
     ]
    }
   ],
   "source": [
    "from itertools import combinations\n",
    "trace_dist_list = []\n",
    "for dm1, dm2 in combinations(density_est_list, 2):\n",
    "    diff = dm1 - dm2\n",
    "    eigenvals = jnp.linalg.eigh(diff)[0]\n",
    "    trace_dist = jnp.sum(jnp.abs(eigenvals)) / 2\n",
    "    trace_dist_list.append(trace_dist)\n",
    "trace_dist_list = jnp.stack(trace_dist_list, axis=0)\n",
    "print(trace_dist_list)\n",
    "print(jnp.mean(trace_dist_list), jnp.std(trace_dist_list))\n",
    "print((1 + jnp.mean(trace_dist_list)) / 2)"
   ]
  },
  {
   "cell_type": "code",
   "execution_count": 17,
   "metadata": {},
   "outputs": [
    {
     "data": {
      "image/png": "[encoded data removed]",
      "text/plain": [
       "<Figure size 432x288 with 1 Axes>"
      ]
     },
     "metadata": {
      "needs_background": "light"
     },
     "output_type": "display_data"
    }
   ],
   "source": [
    "for i in range(n_node):\n",
    "    plt.scatter(jnp.arange(8), jnp.linalg.eigh(density_est_list[i])[0][::-1][:8], s=5)\n",
    "plt.yscale('log')\n",
    "plt.ylabel('Leading Eigenvalues')\n",
    "plt.ylim(top=1)\n",
    "plt.show()"
   ]
  },
  {
   "cell_type": "code",
   "execution_count": 18,
   "metadata": {},
   "outputs": [
    {
     "data": {
      "text/plain": [
       "DeviceArray([0.15124556, 0.14188302, 0.14394899, 0.14049774, 0.13547017,\n",
       "             0.14140534, 0.14554922], dtype=float32)"
      ]
     },
     "execution_count": 18,
     "metadata": {},
     "output_type": "execute_result"
    }
   ],
   "source": [
    "p_node"
   ]
  },
  {
   "cell_type": "code",
   "execution_count": 19,
   "metadata": {},
   "outputs": [],
   "source": [
    "def pred_comb_with_gmm(params, x, gmm_scores, k, d_mode='GMM'):\n",
    "    dm_list = []\n",
    "    for node in range(n_node-1):\n",
    "        c = tc.Circuit(n, inputs=x)\n",
    "        c = clf(params[node], c, k)\n",
    "        density_matrix = jnp.conjugate(c.wavefunction('ket')) @ c.wavefunction('bra')\n",
    "        dm_list.append(density_matrix)\n",
    "\n",
    "    if d_mode == 'DM':\n",
    "        projector = jnp.conjugate(x.reshape(-1, 1)) @ x.reshape(1, -1)\n",
    "        weight = jnp.einsum('nij, ji -> n', density_est_list, projector).reshape(-1, 1, 1) * p_node.reshape(-1, 1, 1)\n",
    "        weight = weight / jnp.sum(weight)\n",
    "    elif d_mode == 'GMM':\n",
    "        weight = jnp.exp(gmm_scores - jnp.max(gmm_scores)).reshape(-1) * p_node\n",
    "        weight = weight / jnp.sum(weight)\n",
    "        weight = weight.reshape(-1, 1, 1)\n",
    "    else:\n",
    "        print('d_mode must be DM or GMM')\n",
    "        return None\n",
    "\n",
    "    dm = jnp.sum(jnp.stack(dm_list, axis=0) * weight, axis=0)\n",
    "    # print(jnp.trace(dm))\n",
    "    if readout_mode == 'softmax':\n",
    "        c = tc.DMCircuit(n, dminputs=dm)\n",
    "        pred_prob = readout(c)\n",
    "    elif readout_mode == 'sample':\n",
    "        wf = jnp.abs(jnp.diag(dm)[:n_node])**2\n",
    "        pred_prob = wf / jnp.sum(wf)\n",
    "        \n",
    "    return pred_prob\n",
    "pred_comb_with_gmm = K.vmap(pred_comb_with_gmm, vectorized_argnums=[1, 2])\n",
    "\n",
    "def pred_comb(params, x, k, d_mode='GMM'):\n",
    "    gmm_scores_list = []\n",
    "    for node in range(n_node-1):\n",
    "        gmm_scores = gmm_list[node].score_samples(x)\n",
    "        gmm_scores_list.append(gmm_scores)\n",
    "    gmm_scores_list = jnp.stack(gmm_scores_list, axis=-1)\n",
    "    \n",
    "    pred_prob = pred_comb_with_gmm(params, x, gmm_scores_list, k, d_mode)\n",
    "    return pred_prob\n"
   ]
  },
  {
   "cell_type": "code",
   "execution_count": 20,
   "metadata": {},
   "outputs": [
    {
     "data": {
      "text/plain": [
       "DeviceArray(0.92578125, dtype=float32)"
      ]
     },
     "execution_count": 20,
     "metadata": {},
     "output_type": "execute_result"
    }
   ],
   "source": [
    "jnp.mean(pred_comb(params_list, x_test[:1024], k, d_mode='GMM').argmax(axis=-1) == y_test[:1024].argmax(axis=-1))"
   ]
  },
  {
   "cell_type": "code",
   "execution_count": 21,
   "metadata": {},
   "outputs": [
    {
     "data": {
      "text/plain": [
       "DeviceArray(0.05615409, dtype=float32)"
      ]
     },
     "execution_count": 21,
     "metadata": {},
     "output_type": "execute_result"
    }
   ],
   "source": [
    "-jnp.mean(jnp.log(pred_comb(params_list, x_test[:1024], k, d_mode='GMM')) * y_test[:1024])"
   ]
  },
  {
   "cell_type": "code",
   "execution_count": 22,
   "metadata": {},
   "outputs": [
    {
     "data": {
      "text/plain": [
       "DeviceArray(0.10839844, dtype=float32)"
      ]
     },
     "execution_count": 22,
     "metadata": {},
     "output_type": "execute_result"
    }
   ],
   "source": [
    "jnp.mean(pred_comb(params_list, x_test[:1024], k, d_mode='DM').argmax(axis=-1) == y_test[:1024].argmax(axis=-1))"
   ]
  },
  {
   "cell_type": "code",
   "execution_count": 23,
   "metadata": {},
   "outputs": [
    {
     "data": {
      "text/plain": [
       "DeviceArray(0.34059504, dtype=float32)"
      ]
     },
     "execution_count": 23,
     "metadata": {},
     "output_type": "execute_result"
    }
   ],
   "source": [
    "-jnp.mean(jnp.log(pred_comb(params_list, x_test[:1024], k, d_mode='DM')) * y_test[:1024])"
   ]
  },
  {
   "cell_type": "code",
   "execution_count": null,
   "metadata": {},
   "outputs": [],
   "source": []
  }
 ],
 "metadata": {
  "kernelspec": {
   "display_name": "Python 3.9.12 ('ode-rnn')",
   "language": "python",
   "name": "python3"
  },
  "language_info": {
   "codemirror_mode": {
    "name": "ipython",
    "version": 3
   },
   "file_extension": ".py",
   "mimetype": "text/x-python",
   "name": "python",
   "nbconvert_exporter": "python",
   "pygments_lexer": "ipython3",
   "version": "3.9.12"
  },
  "orig_nbformat": 4,
  "vscode": {
   "interpreter": {
    "hash": "274e8ed069bc503cc01fa1aa16068ccb03180744fbf761618fb0dbde6179c71c"
   }
  }
 },
 "nbformat": 4,
 "nbformat_minor": 2
}
