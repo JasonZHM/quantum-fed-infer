{
 "cells": [
  {
   "cell_type": "code",
   "execution_count": 1,
   "metadata": {},
   "outputs": [
    {
     "name": "stderr",
     "output_type": "stream",
     "text": [
      "2022-07-30 12:11:56.523299: I tensorflow/core/util/util.cc:169] oneDNN custom operations are on. You may see slightly different numerical results due to floating-point round-off errors from different computation orders. To turn them off, set the environment variable `TF_ENABLE_ONEDNN_OPTS=0`.\n"
     ]
    }
   ],
   "source": [
    "import tensorcircuit as tc\n",
    "import optax\n",
    "import jax.numpy as jnp\n",
    "import jax\n",
    "import tensorflow as tf\n",
    "import matplotlib.pyplot as plt\n",
    "from tqdm.notebook import tqdm\n",
    "\n",
    "from sklearn.mixture import GaussianMixture\n",
    "\n",
    "import os\n",
    "os.environ[\"CUDA_DEVICE_ORDER\"]=\"PCI_BUS_ID\"\n",
    "os.environ[\"CUDA_VISIBLE_DEVICES\"]=\"0\"\n",
    "os.environ[\"XLA_PYTHON_CLIENT_PREALLOCATE\"]=\"false\"\n",
    "os.environ[\"TF_FORCE_GPU_ALLOW_GROWTH\"]=\"true\"\n",
    "\n",
    "plt.rcParams[\"font.family\"] = \"serif\"\n",
    "plt.rcParams['mathtext.fontset'] = 'cm'\n",
    "plt.rcParams['mathtext.rm'] = 'serif'\n",
    "plt.rc('font', size=14)"
   ]
  },
  {
   "cell_type": "code",
   "execution_count": 2,
   "metadata": {},
   "outputs": [],
   "source": [
    "encoding_mode = 'vanilla'\n",
    "# encoding_mode = 'mean'\n",
    "# encoding_mode = 'half'"
   ]
  },
  {
   "cell_type": "code",
   "execution_count": 3,
   "metadata": {},
   "outputs": [],
   "source": [
    "n = 8\n",
    "n_node = 8"
   ]
  },
  {
   "cell_type": "code",
   "execution_count": 4,
   "metadata": {},
   "outputs": [],
   "source": [
    "K = tc.set_backend('jax')"
   ]
  },
  {
   "cell_type": "code",
   "execution_count": 5,
   "metadata": {},
   "outputs": [],
   "source": [
    "# numpy data\n",
    "(x_train, y_train), (x_test, y_test) = tf.keras.datasets.mnist.load_data()\n",
    "ind = y_test == 9\n",
    "x_test, y_test = x_test[~ind], y_test[~ind]\n",
    "ind = y_test == 8\n",
    "x_test, y_test = x_test[~ind], y_test[~ind]\n",
    "\n",
    "x_train = x_train / 255.0\n",
    "if encoding_mode == 'vanilla':\n",
    "    mean = 0\n",
    "elif encoding_mode == 'mean':\n",
    "    mean = jnp.mean(x_train, axis=0)\n",
    "elif encoding_mode == 'half':\n",
    "    mean = 0.5\n",
    "x_train = x_train - mean\n",
    "x_test = x_test / 255.0\n",
    "x_test = x_test - mean\n",
    "\n",
    "\n",
    "def filter_pair(x, y, a, b):\n",
    "    keep = (y == a) | (y == b)\n",
    "    x, y = x[keep], y[keep]\n",
    "    y = jax.nn.one_hot(y, n_node)\n",
    "    return x, y"
   ]
  },
  {
   "cell_type": "code",
   "execution_count": 6,
   "metadata": {},
   "outputs": [],
   "source": [
    "def loss(params, x, y, k):\n",
    "    c = tc.Circuit(n, inputs=x)\n",
    "    for j in range(k):\n",
    "        for i in range(n - 1):\n",
    "            c.cnot(i, i + 1)\n",
    "        for i in range(n):\n",
    "            c.rx(i, theta=params[2 * j, i])\n",
    "            c.ry(i, theta=params[2 * j + 1, i])\n",
    "    logits = []\n",
    "    for i in range(n_node):\n",
    "        logits.append(jnp.real(c.expectation([tc.gates.z(), [i,]])))\n",
    "    logits = jnp.stack(logits, axis=-1) * 10\n",
    "    probs = jax.nn.softmax(logits)\n",
    "    return -jnp.mean(y * jnp.log(probs) + (1 - y) * jnp.log(1 - probs))\n",
    "loss = K.jit(loss, static_argnums=[3])"
   ]
  },
  {
   "cell_type": "code",
   "execution_count": 7,
   "metadata": {},
   "outputs": [],
   "source": [
    "def accuracy(params, x, y, k):\n",
    "    c = tc.Circuit(n, inputs=x)\n",
    "    for j in range(k):\n",
    "        for i in range(n - 1):\n",
    "            c.cnot(i, i + 1)\n",
    "        for i in range(n):\n",
    "            c.rx(i, theta=params[2 * j, i])\n",
    "            c.ry(i, theta=params[2 * j + 1, i])\n",
    "    logits = []\n",
    "    for i in range(n_node):\n",
    "        logits.append(jnp.real(c.expectation([tc.gates.z(), [i,]])))\n",
    "    logits = jnp.stack(logits, axis=-1) * 10\n",
    "    probs = jax.nn.softmax(logits)\n",
    "    return jnp.argmax(probs, axis=-1) == jnp.argmax(y, axis=-1)\n",
    "accuracy = K.jit(accuracy, static_argnums=[3])"
   ]
  },
  {
   "cell_type": "code",
   "execution_count": 8,
   "metadata": {},
   "outputs": [],
   "source": [
    "k = 6"
   ]
  },
  {
   "cell_type": "code",
   "execution_count": 9,
   "metadata": {},
   "outputs": [],
   "source": [
    "compute_loss = K.vectorized_value_and_grad(loss, vectorized_argnums=[1, 2])\n",
    "compute_accuracy = K.vmap(accuracy, vectorized_argnums=[1, 2])"
   ]
  },
  {
   "cell_type": "code",
   "execution_count": 23,
   "metadata": {},
   "outputs": [
    {
     "data": {
      "application/vnd.jupyter.widget-view+json": {
       "model_id": "42c880b6d4414441ad60c6e4773eb189",
       "version_major": 2,
       "version_minor": 0
      },
      "text/plain": [
       "  0%|          | 0/7 [00:00<?, ?it/s]"
      ]
     },
     "metadata": {},
     "output_type": "display_data"
    },
    {
     "data": {
      "application/vnd.jupyter.widget-view+json": {
       "model_id": "424da390bbd949ddad2787f8191f01b4",
       "version_major": 2,
       "version_minor": 0
      },
      "text/plain": [
       "  0%|          | 0/5 [00:00<?, ?it/s]"
      ]
     },
     "metadata": {},
     "output_type": "display_data"
    },
    {
     "name": "stdout",
     "output_type": "stream",
     "text": [
      "epoch 0, 0/99: loss=0.7614, acc=0.0000\n",
      "epoch 0, 20/99: loss=0.2982, acc=0.4766\n",
      "epoch 0, 40/99: loss=0.1592, acc=0.8516\n",
      "epoch 0, 60/99: loss=0.0720, acc=0.9766\n",
      "epoch 0, 80/99: loss=0.0477, acc=0.9844\n",
      "epoch 1, 0/99: loss=0.0443, acc=0.9766\n",
      "epoch 1, 20/99: loss=0.0357, acc=0.9922\n",
      "epoch 1, 40/99: loss=0.0277, acc=0.9922\n",
      "epoch 1, 60/99: loss=0.0245, acc=1.0000\n",
      "epoch 1, 80/99: loss=0.0186, acc=1.0000\n",
      "epoch 2, 0/99: loss=0.0262, acc=0.9844\n",
      "epoch 2, 20/99: loss=0.0226, acc=0.9922\n",
      "epoch 2, 40/99: loss=0.0227, acc=0.9844\n",
      "epoch 2, 60/99: loss=0.0193, acc=0.9844\n",
      "epoch 2, 80/99: loss=0.0166, acc=1.0000\n",
      "epoch 3, 0/99: loss=0.0213, acc=0.9844\n",
      "epoch 3, 20/99: loss=0.0160, acc=1.0000\n",
      "epoch 3, 40/99: loss=0.0175, acc=0.9922\n",
      "epoch 3, 60/99: loss=0.0105, acc=1.0000\n",
      "epoch 3, 80/99: loss=0.0109, acc=1.0000\n",
      "epoch 4, 0/99: loss=0.0183, acc=0.9844\n",
      "epoch 4, 20/99: loss=0.0161, acc=0.9922\n",
      "epoch 4, 40/99: loss=0.0121, acc=0.9922\n",
      "epoch 4, 60/99: loss=0.0096, acc=1.0000\n",
      "epoch 4, 80/99: loss=0.0087, acc=1.0000\n"
     ]
    },
    {
     "data": {
      "image/png": "[encoded data removed]",
      "text/plain": [
       "<Figure size 432x288 with 1 Axes>"
      ]
     },
     "metadata": {
      "needs_background": "light"
     },
     "output_type": "display_data"
    },
    {
     "data": {
      "application/vnd.jupyter.widget-view+json": {
       "model_id": "b486f12238d1447784a5c3bc61b7fa59",
       "version_major": 2,
       "version_minor": 0
      },
      "text/plain": [
       "  0%|          | 0/5 [00:00<?, ?it/s]"
      ]
     },
     "metadata": {},
     "output_type": "display_data"
    },
    {
     "name": "stdout",
     "output_type": "stream",
     "text": [
      "epoch 0, 0/93: loss=0.3205, acc=0.4766\n",
      "epoch 0, 20/93: loss=0.1373, acc=0.8516\n",
      "epoch 0, 40/93: loss=0.0928, acc=0.9219\n",
      "epoch 0, 60/93: loss=0.0696, acc=0.9688\n",
      "epoch 0, 80/93: loss=0.0636, acc=0.9375\n",
      "epoch 1, 0/93: loss=0.0590, acc=0.9531\n",
      "epoch 1, 20/93: loss=0.0462, acc=0.9453\n",
      "epoch 1, 40/93: loss=0.0459, acc=0.9688\n",
      "epoch 1, 60/93: loss=0.0456, acc=0.9844\n",
      "epoch 1, 80/93: loss=0.0379, acc=0.9766\n",
      "epoch 2, 0/93: loss=0.0354, acc=0.9844\n",
      "epoch 2, 20/93: loss=0.0451, acc=0.9531\n",
      "epoch 2, 40/93: loss=0.0480, acc=0.9688\n",
      "epoch 2, 60/93: loss=0.0398, acc=0.9688\n",
      "epoch 2, 80/93: loss=0.0388, acc=0.9844\n",
      "epoch 3, 0/93: loss=0.0403, acc=0.9609\n",
      "epoch 3, 20/93: loss=0.0401, acc=0.9766\n",
      "epoch 3, 40/93: loss=0.0368, acc=0.9688\n",
      "epoch 3, 60/93: loss=0.0360, acc=0.9688\n",
      "epoch 3, 80/93: loss=0.0324, acc=0.9844\n",
      "epoch 4, 0/93: loss=0.0349, acc=0.9609\n",
      "epoch 4, 20/93: loss=0.0409, acc=0.9688\n",
      "epoch 4, 40/93: loss=0.0318, acc=0.9844\n",
      "epoch 4, 60/93: loss=0.0299, acc=0.9766\n",
      "epoch 4, 80/93: loss=0.0363, acc=0.9844\n"
     ]
    },
    {
     "data": {
      "image/png": "[encoded data removed]",
      "text/plain": [
       "<Figure size 432x288 with 1 Axes>"
      ]
     },
     "metadata": {
      "needs_background": "light"
     },
     "output_type": "display_data"
    },
    {
     "data": {
      "application/vnd.jupyter.widget-view+json": {
       "model_id": "6ac1739548fd406caf9c8ef97e2b6f10",
       "version_major": 2,
       "version_minor": 0
      },
      "text/plain": [
       "  0%|          | 0/5 [00:00<?, ?it/s]"
      ]
     },
     "metadata": {},
     "output_type": "display_data"
    },
    {
     "name": "stdout",
     "output_type": "stream",
     "text": [
      "epoch 0, 0/95: loss=0.3736, acc=0.2500\n",
      "epoch 0, 20/95: loss=0.1974, acc=0.7266\n",
      "epoch 0, 40/95: loss=0.0895, acc=0.9375\n",
      "epoch 0, 60/95: loss=0.0640, acc=0.9844\n",
      "epoch 0, 80/95: loss=0.0569, acc=0.9688\n",
      "epoch 1, 0/95: loss=0.0568, acc=0.9688\n",
      "epoch 1, 20/95: loss=0.0497, acc=0.9609\n",
      "epoch 1, 40/95: loss=0.0428, acc=0.9766\n",
      "epoch 1, 60/95: loss=0.0321, acc=0.9844\n",
      "epoch 1, 80/95: loss=0.0287, acc=1.0000\n",
      "epoch 2, 0/95: loss=0.0419, acc=0.9688\n",
      "epoch 2, 20/95: loss=0.0429, acc=0.9531\n",
      "epoch 2, 40/95: loss=0.0301, acc=0.9766\n",
      "epoch 2, 60/95: loss=0.0276, acc=0.9844\n",
      "epoch 2, 80/95: loss=0.0252, acc=1.0000\n",
      "epoch 3, 0/95: loss=0.0323, acc=0.9922\n",
      "epoch 3, 20/95: loss=0.0337, acc=0.9766\n",
      "epoch 3, 40/95: loss=0.0278, acc=0.9766\n",
      "epoch 3, 60/95: loss=0.0235, acc=1.0000\n",
      "epoch 3, 80/95: loss=0.0183, acc=1.0000\n",
      "epoch 4, 0/95: loss=0.0261, acc=0.9922\n",
      "epoch 4, 20/95: loss=0.0266, acc=0.9766\n",
      "epoch 4, 40/95: loss=0.0254, acc=0.9844\n",
      "epoch 4, 60/95: loss=0.0192, acc=0.9844\n",
      "epoch 4, 80/95: loss=0.0178, acc=1.0000\n"
     ]
    },
    {
     "data": {
      "image/png": "[encoded data removed]",
      "text/plain": [
       "<Figure size 432x288 with 1 Axes>"
      ]
     },
     "metadata": {
      "needs_background": "light"
     },
     "output_type": "display_data"
    },
    {
     "data": {
      "application/vnd.jupyter.widget-view+json": {
       "model_id": "0b7238e2f1364857b01eb990317a79f9",
       "version_major": 2,
       "version_minor": 0
      },
      "text/plain": [
       "  0%|          | 0/5 [00:00<?, ?it/s]"
      ]
     },
     "metadata": {},
     "output_type": "display_data"
    },
    {
     "name": "stdout",
     "output_type": "stream",
     "text": [
      "epoch 0, 0/92: loss=0.4402, acc=0.2109\n",
      "epoch 0, 20/92: loss=0.1570, acc=0.8281\n",
      "epoch 0, 40/92: loss=0.0924, acc=0.9453\n",
      "epoch 0, 60/92: loss=0.0732, acc=0.9609\n",
      "epoch 0, 80/92: loss=0.0590, acc=0.9609\n",
      "epoch 1, 0/92: loss=0.0474, acc=0.9844\n",
      "epoch 1, 20/92: loss=0.0390, acc=0.9844\n",
      "epoch 1, 40/92: loss=0.0328, acc=0.9922\n",
      "epoch 1, 60/92: loss=0.0358, acc=0.9844\n",
      "epoch 1, 80/92: loss=0.0258, acc=0.9922\n",
      "epoch 2, 0/92: loss=0.0262, acc=0.9922\n",
      "epoch 2, 20/92: loss=0.0252, acc=1.0000\n",
      "epoch 2, 40/92: loss=0.0212, acc=0.9922\n",
      "epoch 2, 60/92: loss=0.0310, acc=0.9844\n",
      "epoch 2, 80/92: loss=0.0210, acc=1.0000\n",
      "epoch 3, 0/92: loss=0.0194, acc=1.0000\n",
      "epoch 3, 20/92: loss=0.0201, acc=0.9922\n",
      "epoch 3, 40/92: loss=0.0206, acc=0.9844\n",
      "epoch 3, 60/92: loss=0.0220, acc=0.9766\n",
      "epoch 3, 80/92: loss=0.0193, acc=0.9922\n",
      "epoch 4, 0/92: loss=0.0197, acc=0.9922\n",
      "epoch 4, 20/92: loss=0.0186, acc=1.0000\n",
      "epoch 4, 40/92: loss=0.0144, acc=0.9922\n",
      "epoch 4, 60/92: loss=0.0231, acc=0.9766\n",
      "epoch 4, 80/92: loss=0.0182, acc=0.9922\n"
     ]
    },
    {
     "data": {
      "image/png": "[encoded data removed]",
      "text/plain": [
       "<Figure size 432x288 with 1 Axes>"
      ]
     },
     "metadata": {
      "needs_background": "light"
     },
     "output_type": "display_data"
    },
    {
     "data": {
      "application/vnd.jupyter.widget-view+json": {
       "model_id": "dce4030721c34428bcd27167a3d0c4ca",
       "version_major": 2,
       "version_minor": 0
      },
      "text/plain": [
       "  0%|          | 0/5 [00:00<?, ?it/s]"
      ]
     },
     "metadata": {},
     "output_type": "display_data"
    },
    {
     "name": "stdout",
     "output_type": "stream",
     "text": [
      "epoch 0, 0/89: loss=0.3872, acc=0.2188\n",
      "epoch 0, 20/89: loss=0.1781, acc=0.8047\n",
      "epoch 0, 40/89: loss=0.1167, acc=0.8984\n",
      "epoch 0, 60/89: loss=0.1105, acc=0.9141\n",
      "epoch 0, 80/89: loss=0.0790, acc=0.9297\n",
      "epoch 1, 0/89: loss=0.0789, acc=0.9297\n",
      "epoch 1, 20/89: loss=0.0657, acc=0.9609\n",
      "epoch 1, 40/89: loss=0.0580, acc=0.9922\n",
      "epoch 1, 60/89: loss=0.0663, acc=0.9531\n",
      "epoch 1, 80/89: loss=0.0587, acc=0.9688\n",
      "epoch 2, 0/89: loss=0.0645, acc=0.9609\n",
      "epoch 2, 20/89: loss=0.0521, acc=0.9922\n",
      "epoch 2, 40/89: loss=0.0440, acc=0.9844\n",
      "epoch 2, 60/89: loss=0.0589, acc=0.9688\n",
      "epoch 2, 80/89: loss=0.0484, acc=0.9688\n",
      "epoch 3, 0/89: loss=0.0540, acc=0.9688\n",
      "epoch 3, 20/89: loss=0.0485, acc=0.9844\n",
      "epoch 3, 40/89: loss=0.0428, acc=0.9844\n",
      "epoch 3, 60/89: loss=0.0522, acc=0.9609\n",
      "epoch 3, 80/89: loss=0.0393, acc=0.9688\n",
      "epoch 4, 0/89: loss=0.0463, acc=0.9766\n",
      "epoch 4, 20/89: loss=0.0436, acc=1.0000\n",
      "epoch 4, 40/89: loss=0.0430, acc=0.9766\n",
      "epoch 4, 60/89: loss=0.0472, acc=0.9766\n",
      "epoch 4, 80/89: loss=0.0409, acc=0.9844\n"
     ]
    },
    {
     "data": {
      "image/png": "[encoded data removed]",
      "text/plain": [
       "<Figure size 432x288 with 1 Axes>"
      ]
     },
     "metadata": {
      "needs_background": "light"
     },
     "output_type": "display_data"
    },
    {
     "data": {
      "application/vnd.jupyter.widget-view+json": {
       "model_id": "122cd2241f494a4fb43f83240f0771cc",
       "version_major": 2,
       "version_minor": 0
      },
      "text/plain": [
       "  0%|          | 0/5 [00:00<?, ?it/s]"
      ]
     },
     "metadata": {},
     "output_type": "display_data"
    },
    {
     "name": "stdout",
     "output_type": "stream",
     "text": [
      "epoch 0, 0/93: loss=0.4005, acc=0.1484\n",
      "epoch 0, 20/93: loss=0.1703, acc=0.7500\n",
      "epoch 0, 40/93: loss=0.1373, acc=0.8438\n",
      "epoch 0, 60/93: loss=0.1006, acc=0.8984\n",
      "epoch 0, 80/93: loss=0.0718, acc=0.9766\n",
      "epoch 1, 0/93: loss=0.0661, acc=0.9766\n",
      "epoch 1, 20/93: loss=0.0553, acc=0.9766\n",
      "epoch 1, 40/93: loss=0.0685, acc=0.9297\n",
      "epoch 1, 60/93: loss=0.0606, acc=0.9453\n",
      "epoch 1, 80/93: loss=0.0476, acc=0.9844\n",
      "epoch 2, 0/93: loss=0.0429, acc=0.9688\n",
      "epoch 2, 20/93: loss=0.0513, acc=0.9453\n",
      "epoch 2, 40/93: loss=0.0448, acc=0.9609\n",
      "epoch 2, 60/93: loss=0.0519, acc=0.9453\n",
      "epoch 2, 80/93: loss=0.0425, acc=0.9688\n",
      "epoch 3, 0/93: loss=0.0384, acc=0.9844\n",
      "epoch 3, 20/93: loss=0.0399, acc=0.9688\n",
      "epoch 3, 40/93: loss=0.0393, acc=0.9531\n",
      "epoch 3, 60/93: loss=0.0493, acc=0.9453\n",
      "epoch 3, 80/93: loss=0.0297, acc=0.9922\n",
      "epoch 4, 0/93: loss=0.0352, acc=0.9766\n",
      "epoch 4, 20/93: loss=0.0308, acc=0.9688\n",
      "epoch 4, 40/93: loss=0.0359, acc=0.9766\n",
      "epoch 4, 60/93: loss=0.0324, acc=0.9609\n",
      "epoch 4, 80/93: loss=0.0289, acc=0.9844\n"
     ]
    },
    {
     "data": {
      "image/png": "[encoded data removed]",
      "text/plain": [
       "<Figure size 432x288 with 1 Axes>"
      ]
     },
     "metadata": {
      "needs_background": "light"
     },
     "output_type": "display_data"
    },
    {
     "data": {
      "application/vnd.jupyter.widget-view+json": {
       "model_id": "46f9447e3d0444d0bdd919a0ba024e94",
       "version_major": 2,
       "version_minor": 0
      },
      "text/plain": [
       "  0%|          | 0/5 [00:00<?, ?it/s]"
      ]
     },
     "metadata": {},
     "output_type": "display_data"
    },
    {
     "name": "stdout",
     "output_type": "stream",
     "text": [
      "epoch 0, 0/96: loss=0.4643, acc=0.0312\n",
      "epoch 0, 20/96: loss=0.1971, acc=0.8750\n",
      "epoch 0, 40/96: loss=0.1026, acc=0.9688\n",
      "epoch 0, 60/96: loss=0.0696, acc=0.9844\n",
      "epoch 0, 80/96: loss=0.0565, acc=0.9922\n",
      "epoch 1, 0/96: loss=0.0520, acc=0.9844\n",
      "epoch 1, 20/96: loss=0.0462, acc=0.9922\n",
      "epoch 1, 40/96: loss=0.0380, acc=0.9922\n",
      "epoch 1, 60/96: loss=0.0473, acc=0.9844\n",
      "epoch 1, 80/96: loss=0.0454, acc=0.9688\n",
      "epoch 2, 0/96: loss=0.0395, acc=1.0000\n",
      "epoch 2, 20/96: loss=0.0389, acc=1.0000\n",
      "epoch 2, 40/96: loss=0.0360, acc=0.9844\n",
      "epoch 2, 60/96: loss=0.0349, acc=1.0000\n",
      "epoch 2, 80/96: loss=0.0349, acc=0.9922\n",
      "epoch 3, 0/96: loss=0.0352, acc=1.0000\n",
      "epoch 3, 20/96: loss=0.0327, acc=1.0000\n",
      "epoch 3, 40/96: loss=0.0329, acc=0.9922\n",
      "epoch 3, 60/96: loss=0.0341, acc=1.0000\n",
      "epoch 3, 80/96: loss=0.0331, acc=0.9922\n",
      "epoch 4, 0/96: loss=0.0362, acc=1.0000\n",
      "epoch 4, 20/96: loss=0.0280, acc=1.0000\n",
      "epoch 4, 40/96: loss=0.0292, acc=1.0000\n",
      "epoch 4, 60/96: loss=0.0335, acc=1.0000\n",
      "epoch 4, 80/96: loss=0.0356, acc=0.9922\n"
     ]
    },
    {
     "data": {
      "image/png": "[encoded data removed]",
      "text/plain": [
       "<Figure size 432x288 with 1 Axes>"
      ]
     },
     "metadata": {
      "needs_background": "light"
     },
     "output_type": "display_data"
    }
   ],
   "source": [
    "params_list = []\n",
    "gmm_list = []\n",
    "all_train_loss = []\n",
    "all_train_acc = []\n",
    "for node in tqdm(range(n_node-1)):\n",
    "    x_train_node, y_train_node = filter_pair(x_train, y_train, 0, node + 1)\n",
    "    x_train_small = tf.image.resize(x_train_node[..., tf.newaxis], (int(2**(n/2)), int(2**(n/2)))).numpy()[..., 0].reshape(-1, 2**n)\n",
    "    x_train_small = x_train_small / jnp.sqrt(jnp.sum(x_train_small**2, axis=-1, keepdims=True))\n",
    "    data = tf.data.Dataset.from_tensor_slices((x_train_small, y_train_node)).shuffle(100).batch(128)\n",
    "\n",
    "    # GMM\n",
    "    gmm = GaussianMixture(n_components=5, max_iter=100)\n",
    "    gmm.fit(x_train_small)\n",
    "    gmm_list.append(gmm)\n",
    "\n",
    "    params = K.randn((k * 2, n), dtype=jnp.float32)\n",
    "    opt = optax.adam(learning_rate=1e-2)\n",
    "    opt_state = opt.init(params)\n",
    "\n",
    "    loss_list = []\n",
    "    acc_list = []\n",
    "    for e in tqdm(range(5), leave=False):\n",
    "        for i, (x, y) in enumerate(data):\n",
    "            x = x.numpy()\n",
    "            y = y.numpy()\n",
    "            loss_val, grad_val = compute_loss(params, x, y, k)\n",
    "            updates, opt_state = opt.update(grad_val, opt_state, params)\n",
    "            params = optax.apply_updates(params, updates)\n",
    "            loss_mean = jnp.mean(loss_val)\n",
    "            if i % 20 == 0:\n",
    "                acc = jnp.mean(compute_accuracy(params, x, y, k))\n",
    "                acc_list.append(acc)\n",
    "                loss_list.append(loss_mean)\n",
    "                print(f'epoch {e}, {i}/{len(data)}: loss={loss_mean:.4f}, acc={acc:.4f}')\n",
    "    all_train_loss.append(loss_list)\n",
    "    all_train_acc.append(acc_list)\n",
    "    \n",
    "\n",
    "    plt.plot(loss_list)\n",
    "    plt.plot(acc_list)\n",
    "    plt.legend(['loss', 'accuracy'])\n",
    "    plt.ylim(0, 1)\n",
    "    plt.show()\n",
    "\n",
    "    params_list.append(params)\n"
   ]
  },
  {
   "cell_type": "code",
   "execution_count": 52,
   "metadata": {},
   "outputs": [
    {
     "data": {
      "image/png": "[encoded data removed]",
      "text/plain": [
       "<Figure size 432x288 with 2 Axes>"
      ]
     },
     "metadata": {
      "needs_background": "light"
     },
     "output_type": "display_data"
    }
   ],
   "source": [
    "for acc_curve in all_train_acc:\n",
    "    plt.plot(acc_curve, c='red', alpha=0.2)\n",
    "avg_acc_curve = jnp.mean(jnp.array(all_train_acc), axis=0)\n",
    "plt.plot(avg_acc_curve, c='red', label='accuracy')\n",
    "plt.ylim(0.5, 1)\n",
    "plt.ylabel('Top-1 accuracy')\n",
    "plt.twinx()\n",
    "\n",
    "for loss_curve in all_train_loss:\n",
    "    plt.plot(loss_curve, c='blue', alpha=0.2)\n",
    "avg_loss_curve = jnp.mean(jnp.array(all_train_loss), axis=0)\n",
    "plt.plot(avg_loss_curve, c='blue', label='loss')\n",
    "plt.ylim(0, 0.5)\n",
    "plt.ylabel('Loss')\n",
    "\n",
    "plt.xlabel('Epochs')\n",
    "plt.xticks([0, 5, 10, 15, 20, 25], [0, 1, 2, 3, 4, 5])\n",
    "plt.savefig('client_loss_acc.pdf')\n",
    "plt.show()"
   ]
  },
  {
   "cell_type": "code",
   "execution_count": 27,
   "metadata": {},
   "outputs": [],
   "source": [
    "def pred(params, x, y, k):\n",
    "    c = tc.Circuit(n, inputs=x)\n",
    "    for j in range(k):\n",
    "        for i in range(n - 1):\n",
    "            c.cnot(i, i + 1)\n",
    "        for i in range(n):\n",
    "            c.rx(i, theta=params[2 * j, i])\n",
    "            c.ry(i, theta=params[2 * j + 1, i])\n",
    "    logits = []\n",
    "    for i in range(n_node):\n",
    "        logits.append(jnp.real(c.expectation([tc.gates.z(), [i,]])))\n",
    "    logits = jnp.stack(logits, axis=-1) * 10\n",
    "    probs = jax.nn.softmax(logits)\n",
    "    return probs\n",
    "# pred = K.jit(pred, static_argnums=[3])"
   ]
  },
  {
   "cell_type": "code",
   "execution_count": 28,
   "metadata": {},
   "outputs": [
    {
     "data": {
      "image/png": "[encoded data removed]",
      "text/plain": [
       "<Figure size 432x288 with 1 Axes>"
      ]
     },
     "metadata": {
      "needs_background": "light"
     },
     "output_type": "display_data"
    },
    {
     "name": "stdout",
     "output_type": "stream",
     "text": [
      "[0. 0. 0. 1. 0. 0. 0. 0.]\n"
     ]
    },
    {
     "data": {
      "text/plain": [
       "DeviceArray([7.6866616e-03, 4.5519944e-05, 1.3268876e-04, 9.9102944e-01,\n",
       "             8.0940238e-04, 2.1069759e-04, 3.2058422e-05, 5.3604050e-05],            dtype=float32)"
      ]
     },
     "execution_count": 28,
     "metadata": {},
     "output_type": "execute_result"
    }
   ],
   "source": [
    "i = 3\n",
    "x_train_node, y_train_node = filter_pair(x_train, y_train, 0, 2 + 1)\n",
    "x_train_small = tf.image.resize(x_train_node[..., tf.newaxis], (int(2**(n/2)), int(2**(n/2)))).numpy()[..., 0].reshape(-1, 2**n)\n",
    "x_train_small = x_train_small / jnp.sqrt(jnp.sum(x_train_small**2, axis=-1, keepdims=True))\n",
    "plt.imshow(x_train_small[i].reshape(16, 16))\n",
    "plt.show()\n",
    "print(y_train_node[i])\n",
    "pred(params_list[2], x_train_small[i], y_train_node[i], k)"
   ]
  },
  {
   "cell_type": "code",
   "execution_count": 29,
   "metadata": {},
   "outputs": [
    {
     "data": {
      "application/vnd.jupyter.widget-view+json": {
       "model_id": "30c3a16104da40e68ef2da817298428e",
       "version_major": 2,
       "version_minor": 0
      },
      "text/plain": [
       "  0%|          | 0/7 [00:00<?, ?it/s]"
      ]
     },
     "metadata": {},
     "output_type": "display_data"
    }
   ],
   "source": [
    "density_est_list = []\n",
    "p_node = []\n",
    "for node in tqdm(range(n_node-1)):\n",
    "    x_train_node, y_train_node = filter_pair(x_train, y_train, 0, node + 1)\n",
    "    # x_train_node = x_train_node[:1000]\n",
    "    # y_train_node = y_train_node[:1000]\n",
    "    x_train_small = tf.image.resize(x_train_node[..., tf.newaxis], (int(2**(n/2)), int(2**(n/2)))).numpy()[..., 0].reshape(-1, 2**n)\n",
    "    x_train_small = x_train_small / jnp.sqrt(jnp.sum(x_train_small**2, axis=-1, keepdims=True))\n",
    "    dm = jnp.einsum('nij, njk -> nik', jnp.conjugate(x_train_small.reshape(-1, 2**n, 1)), x_train_small.reshape(-1, 1, 2**n))\n",
    "    density_est_list.append(jnp.mean(dm, axis=0))\n",
    "    p_node.append(len(x_train_small))\n",
    "density_est_list = jnp.stack(density_est_list, axis=0)\n",
    "p_node = jnp.stack(p_node, axis=0) / jnp.sum(jnp.array(p_node))"
   ]
  },
  {
   "cell_type": "code",
   "execution_count": 30,
   "metadata": {},
   "outputs": [
    {
     "name": "stdout",
     "output_type": "stream",
     "text": [
      "[0.38609353 0.39015436 0.41028053 0.4130728  0.4128412  0.40908492\n",
      " 0.27013138 0.3073421  0.30810428 0.2896704  0.3419245  0.3336453\n",
      " 0.22087297 0.33818638 0.34396785 0.29891497 0.3051919  0.28791517\n",
      " 0.29639605 0.33918315 0.3883878 ]\n",
      "0.3376839 0.05277701\n",
      "0.66884196\n"
     ]
    }
   ],
   "source": [
    "from itertools import combinations\n",
    "trace_dist_list = []\n",
    "for dm1, dm2 in combinations(density_est_list, 2):\n",
    "    diff = dm1 - dm2\n",
    "    eigenvals = jnp.linalg.eigh(diff)[0]\n",
    "    trace_dist = jnp.sum(jnp.abs(eigenvals)) / 2\n",
    "    trace_dist_list.append(trace_dist)\n",
    "trace_dist_list = jnp.stack(trace_dist_list, axis=0)\n",
    "print(trace_dist_list)\n",
    "print(jnp.mean(trace_dist_list), jnp.std(trace_dist_list))\n",
    "print((1 + jnp.mean(trace_dist_list)) / 2)"
   ]
  },
  {
   "cell_type": "code",
   "execution_count": 31,
   "metadata": {},
   "outputs": [
    {
     "data": {
      "image/png": "[encoded data removed]",
      "text/plain": [
       "<Figure size 432x288 with 1 Axes>"
      ]
     },
     "metadata": {
      "needs_background": "light"
     },
     "output_type": "display_data"
    }
   ],
   "source": [
    "for i in range(n_node):\n",
    "    plt.scatter(jnp.arange(8), jnp.linalg.eigh(density_est_list[i])[0][::-1][:8], s=5)\n",
    "plt.yscale('log')\n",
    "plt.ylabel('Leading Eigenvalues')\n",
    "plt.ylim(top=1)\n",
    "plt.show()"
   ]
  },
  {
   "cell_type": "code",
   "execution_count": 32,
   "metadata": {},
   "outputs": [
    {
     "data": {
      "text/plain": [
       "DeviceArray([0.15124556, 0.14188302, 0.14394899, 0.14049774, 0.13547017,\n",
       "             0.14140534, 0.14554922], dtype=float32)"
      ]
     },
     "execution_count": 32,
     "metadata": {},
     "output_type": "execute_result"
    }
   ],
   "source": [
    "p_node"
   ]
  },
  {
   "cell_type": "code",
   "execution_count": 33,
   "metadata": {},
   "outputs": [],
   "source": [
    "def pred_comb_with_gmm(params, x, gmm_scores, k, d_mode='GMM'):\n",
    "    dm_list = []\n",
    "    for node in range(n_node-1):\n",
    "        c = tc.Circuit(n, inputs=x)\n",
    "        for j in range(k):\n",
    "            for i in range(n - 1):\n",
    "                c.cnot(i, i + 1)\n",
    "            for i in range(n):\n",
    "                c.rx(i, theta=params[node][2 * j, i])\n",
    "                c.ry(i, theta=params[node][2 * j + 1, i])\n",
    "        density_matrix = jnp.conjugate(c.wavefunction('ket')) @ c.wavefunction('bra')\n",
    "        dm_list.append(density_matrix)\n",
    "\n",
    "    if d_mode == 'DM':\n",
    "        projector = jnp.conjugate(x.reshape(-1, 1)) @ x.reshape(1, -1)\n",
    "        weight = jnp.einsum('nij, ji -> n', density_est_list, projector).reshape(-1, 1, 1) * p_node.reshape(-1, 1, 1)\n",
    "        weight = (weight)**10\n",
    "        weight = weight / jnp.sum(weight)\n",
    "    elif d_mode == 'GMM':\n",
    "        weight = jnp.exp(gmm_scores - jnp.max(gmm_scores)).reshape(-1) * p_node\n",
    "        weight = weight / jnp.sum(weight)\n",
    "        weight = weight.reshape(-1, 1, 1)\n",
    "    else:\n",
    "        print('d_mode must be DM or GMM')\n",
    "        return None\n",
    "\n",
    "    dm = jnp.sum(jnp.stack(dm_list, axis=0) * weight, axis=0)\n",
    "    # print(jnp.trace(dm))\n",
    "    c = tc.DMCircuit(n, dminputs=dm)\n",
    "    logits = []\n",
    "    for i in range(n_node):\n",
    "        logits.append(jnp.real(c.expectation([tc.gates.z(), [i,]])))\n",
    "    logits = jnp.stack(logits, axis=-1) * 10\n",
    "    pred_prob = jax.nn.softmax(logits)\n",
    "\n",
    "    # pred_prob = []\n",
    "    # for node in range(n_node):\n",
    "    #     c = tc.DMCircuit(n, dminputs=dm_list[node])\n",
    "    #     pred_prob.append(1-(jnp.real(c.expectation([tc.gates.z(), [node,]])) + 1) / 2)\n",
    "\n",
    "    # # print(pred_prob)\n",
    "    # # print(weight)\n",
    "    # pred_prob = jnp.stack(pred_prob, axis=0) * weight.reshape(-1)\n",
    "    # pred_prob = jnp.hstack([1-jnp.sum(pred_prob), pred_prob])\n",
    "\n",
    "    return pred_prob\n",
    "pred_comb_with_gmm = K.vmap(pred_comb_with_gmm, vectorized_argnums=[1, 2])\n",
    "\n",
    "def pred_comb(params, x, k, d_mode='GMM'):\n",
    "    gmm_scores_list = []\n",
    "    for node in range(n_node-1):\n",
    "        gmm_scores = gmm_list[node].score_samples(x)\n",
    "        gmm_scores_list.append(gmm_scores)\n",
    "    gmm_scores_list = jnp.stack(gmm_scores_list, axis=-1)\n",
    "    \n",
    "    pred_prob = pred_comb_with_gmm(params, x, gmm_scores_list, k, d_mode)\n",
    "    return pred_prob\n"
   ]
  },
  {
   "cell_type": "code",
   "execution_count": 34,
   "metadata": {},
   "outputs": [
    {
     "data": {
      "text/plain": [
       "<matplotlib.image.AxesImage at 0x7fca2c750340>"
      ]
     },
     "execution_count": 34,
     "metadata": {},
     "output_type": "execute_result"
    },
    {
     "data": {
      "image/png": "[encoded data removed]",
      "text/plain": [
       "<Figure size 432x288 with 1 Axes>"
      ]
     },
     "metadata": {
      "needs_background": "light"
     },
     "output_type": "display_data"
    }
   ],
   "source": [
    "i = 37\n",
    "x_train_node, y_train_node = filter_pair(x_train, y_train, 0, 2 + 1)\n",
    "x_train_small = tf.image.resize(x_train_node[..., tf.newaxis], (int(2**(n/2)), int(2**(n/2)))).numpy()[..., 0].reshape(-1, 2**n)\n",
    "x_train_small = x_train_small / jnp.sqrt(jnp.sum(x_train_small**2, axis=-1, keepdims=True))\n",
    "plt.imshow(x_train_small[i].reshape(16, 16))"
   ]
  },
  {
   "cell_type": "code",
   "execution_count": 35,
   "metadata": {},
   "outputs": [
    {
     "data": {
      "text/plain": [
       "DeviceArray(0.96999997, dtype=float32)"
      ]
     },
     "execution_count": 35,
     "metadata": {},
     "output_type": "execute_result"
    }
   ],
   "source": [
    "jnp.mean(pred_comb(params_list, x_train_small[:100], k, d_mode='GMM').argmax(axis=-1) == y_train_node[:100].argmax(axis=-1))"
   ]
  },
  {
   "cell_type": "code",
   "execution_count": 36,
   "metadata": {},
   "outputs": [
    {
     "data": {
      "text/plain": [
       "DeviceArray(0.93, dtype=float32)"
      ]
     },
     "execution_count": 36,
     "metadata": {},
     "output_type": "execute_result"
    }
   ],
   "source": [
    "jnp.mean(pred_comb(params_list, x_train_small[:100], k, d_mode='DM').argmax(axis=-1) == y_train_node[:100].argmax(axis=-1))"
   ]
  },
  {
   "cell_type": "code",
   "execution_count": 37,
   "metadata": {},
   "outputs": [],
   "source": [
    "x_test = tf.image.resize(x_test[..., tf.newaxis], (int(2**(n/2)), int(2**(n/2)))).numpy()[..., 0].reshape(-1, 2**n)\n",
    "x_test = x_test / jnp.sqrt(jnp.sum(x_test**2, axis=-1, keepdims=True))"
   ]
  },
  {
   "cell_type": "code",
   "execution_count": 38,
   "metadata": {},
   "outputs": [
    {
     "data": {
      "text/plain": [
       "DeviceArray(0.90234375, dtype=float32)"
      ]
     },
     "execution_count": 38,
     "metadata": {},
     "output_type": "execute_result"
    }
   ],
   "source": [
    "jnp.mean(pred_comb(params_list, x_test[:1024], k, d_mode='GMM').argmax(axis=-1) == y_test[:1024])"
   ]
  },
  {
   "cell_type": "code",
   "execution_count": 43,
   "metadata": {},
   "outputs": [
    {
     "data": {
      "text/plain": [
       "DeviceArray(0.07792978, dtype=float32)"
      ]
     },
     "execution_count": 43,
     "metadata": {},
     "output_type": "execute_result"
    }
   ],
   "source": [
    "-jnp.mean(jnp.log(pred_comb(params_list, x_test[:1024], k, d_mode='GMM'))*jax.nn.one_hot(y_test[:1024], n_node))"
   ]
  },
  {
   "cell_type": "code",
   "execution_count": 40,
   "metadata": {},
   "outputs": [
    {
     "data": {
      "text/plain": [
       "DeviceArray(0.67578125, dtype=float32)"
      ]
     },
     "execution_count": 40,
     "metadata": {},
     "output_type": "execute_result"
    }
   ],
   "source": [
    "jnp.mean(pred_comb(params_list, x_test[:1024], k, d_mode='DM').argmax(axis=-1) == y_test[:1024])"
   ]
  },
  {
   "cell_type": "code",
   "execution_count": 44,
   "metadata": {},
   "outputs": [
    {
     "data": {
      "text/plain": [
       "DeviceArray(0.13632911, dtype=float32)"
      ]
     },
     "execution_count": 44,
     "metadata": {},
     "output_type": "execute_result"
    }
   ],
   "source": [
    "-jnp.mean(jnp.log(pred_comb(params_list, x_test[:1024], k, d_mode='DM'))*jax.nn.one_hot(y_test[:1024], n_node))"
   ]
  },
  {
   "cell_type": "code",
   "execution_count": null,
   "metadata": {},
   "outputs": [],
   "source": []
  }
 ],
 "metadata": {
  "kernelspec": {
   "display_name": "Python 3.9.12 ('ode-rnn')",
   "language": "python",
   "name": "python3"
  },
  "language_info": {
   "codemirror_mode": {
    "name": "ipython",
    "version": 3
   },
   "file_extension": ".py",
   "mimetype": "text/x-python",
   "name": "python",
   "nbconvert_exporter": "python",
   "pygments_lexer": "ipython3",
   "version": "3.9.12"
  },
  "orig_nbformat": 4,
  "vscode": {
   "interpreter": {
    "hash": "274e8ed069bc503cc01fa1aa16068ccb03180744fbf761618fb0dbde6179c71c"
   }
  }
 },
 "nbformat": 4,
 "nbformat_minor": 2
}
