{
 "cells": [
  {
   "cell_type": "code",
   "execution_count": 1,
   "metadata": {},
   "outputs": [
    {
     "name": "stderr",
     "output_type": "stream",
     "text": [
      "2022-07-29 17:31:55.808975: I tensorflow/core/util/util.cc:169] oneDNN custom operations are on. You may see slightly different numerical results due to floating-point round-off errors from different computation orders. To turn them off, set the environment variable `TF_ENABLE_ONEDNN_OPTS=0`.\n"
     ]
    }
   ],
   "source": [
    "import tensorcircuit as tc\n",
    "import optax\n",
    "import jax.numpy as jnp\n",
    "import jax\n",
    "import tensorflow as tf\n",
    "import matplotlib.pyplot as plt\n",
    "from tqdm.notebook import tqdm\n",
    "\n",
    "from sklearn.mixture import GaussianMixture\n",
    "\n",
    "import os\n",
    "os.environ[\"CUDA_DEVICE_ORDER\"]=\"PCI_BUS_ID\"\n",
    "os.environ[\"CUDA_VISIBLE_DEVICES\"]=\"0\"\n",
    "os.environ[\"XLA_PYTHON_CLIENT_PREALLOCATE\"]=\"false\"\n",
    "os.environ[\"TF_FORCE_GPU_ALLOW_GROWTH\"]=\"true\""
   ]
  },
  {
   "cell_type": "code",
   "execution_count": 2,
   "metadata": {},
   "outputs": [],
   "source": [
    "n = 8\n",
    "n_node = 8"
   ]
  },
  {
   "cell_type": "code",
   "execution_count": 3,
   "metadata": {},
   "outputs": [],
   "source": [
    "K = tc.set_backend('jax')"
   ]
  },
  {
   "cell_type": "code",
   "execution_count": 4,
   "metadata": {},
   "outputs": [],
   "source": [
    "# numpy data\n",
    "(x_train, y_train), (x_test, y_test) = tf.keras.datasets.mnist.load_data()\n",
    "ind = y_test == 9\n",
    "x_test, y_test = x_test[~ind], y_test[~ind]\n",
    "x_train = x_train / 255.0\n",
    "mean = jnp.mean(x_train, axis=0)\n",
    "x_train = x_train - mean\n",
    "x_test = x_test / 255.0\n",
    "x_test = x_test - mean\n",
    "\n",
    "\n",
    "def filter_pair(x, y, a, b):\n",
    "    keep = (y == a) | (y == b)\n",
    "    x, y = x[keep], y[keep]\n",
    "    y = jax.nn.one_hot(y, n_node)\n",
    "    return x, y"
   ]
  },
  {
   "cell_type": "code",
   "execution_count": 5,
   "metadata": {},
   "outputs": [],
   "source": [
    "def loss(params, x, y, k):\n",
    "    c = tc.Circuit(n, inputs=x)\n",
    "    for j in range(k):\n",
    "        for i in range(n - 1):\n",
    "            c.cnot(i, i + 1)\n",
    "        for i in range(n):\n",
    "            c.rx(i, theta=params[2 * j, i])\n",
    "            c.ry(i, theta=params[2 * j + 1, i])\n",
    "    logits = []\n",
    "    for i in range(n_node):\n",
    "        logits.append(jnp.real(c.expectation([tc.gates.z(), [i,]])))\n",
    "    logits = jnp.stack(logits, axis=-1) * 10\n",
    "    probs = jax.nn.softmax(logits)\n",
    "    return -jnp.mean(y * jnp.log(probs) + (1 - y) * jnp.log(1 - probs))\n",
    "loss = K.jit(loss, static_argnums=[3, 4])"
   ]
  },
  {
   "cell_type": "code",
   "execution_count": 6,
   "metadata": {},
   "outputs": [],
   "source": [
    "def accuracy(params, x, y, k):\n",
    "    c = tc.Circuit(n, inputs=x)\n",
    "    for j in range(k):\n",
    "        for i in range(n - 1):\n",
    "            c.cnot(i, i + 1)\n",
    "        for i in range(n):\n",
    "            c.rx(i, theta=params[2 * j, i])\n",
    "            c.ry(i, theta=params[2 * j + 1, i])\n",
    "    logits = []\n",
    "    for i in range(n_node):\n",
    "        logits.append(jnp.real(c.expectation([tc.gates.z(), [i,]])))\n",
    "    logits = jnp.stack(logits, axis=-1) * 10\n",
    "    probs = jax.nn.softmax(logits)\n",
    "    return jnp.argmax(probs, axis=-1) == jnp.argmax(y, axis=-1)\n",
    "accuracy = K.jit(accuracy, static_argnums=[3, 4])"
   ]
  },
  {
   "cell_type": "code",
   "execution_count": 7,
   "metadata": {},
   "outputs": [],
   "source": [
    "k = 6"
   ]
  },
  {
   "cell_type": "code",
   "execution_count": 8,
   "metadata": {},
   "outputs": [],
   "source": [
    "compute_loss = K.vectorized_value_and_grad(loss, vectorized_argnums=[1, 2])\n",
    "compute_accuracy = K.vmap(accuracy, vectorized_argnums=[1, 2])"
   ]
  },
  {
   "cell_type": "code",
   "execution_count": 9,
   "metadata": {},
   "outputs": [
    {
     "data": {
      "application/vnd.jupyter.widget-view+json": {
       "model_id": "98f6ccfc6ffa4fb189b89550a9b8c63a",
       "version_major": 2,
       "version_minor": 0
      },
      "text/plain": [
       "  0%|          | 0/8 [00:00<?, ?it/s]"
      ]
     },
     "metadata": {},
     "output_type": "display_data"
    },
    {
     "name": "stderr",
     "output_type": "stream",
     "text": [
      "2022-07-29 17:32:14.302178: I tensorflow/core/platform/cpu_feature_guard.cc:193] This TensorFlow binary is optimized with oneAPI Deep Neural Network Library (oneDNN) to use the following CPU instructions in performance-critical operations:  AVX2 AVX512F AVX512_VNNI FMA\n",
      "To enable them in other operations, rebuild TensorFlow with the appropriate compiler flags.\n",
      "2022-07-29 17:32:16.510904: W tensorflow/core/common_runtime/gpu/gpu_bfc_allocator.cc:42] Overriding orig_value setting because the TF_FORCE_GPU_ALLOW_GROWTH environment variable is set. Original config value was 0.\n",
      "2022-07-29 17:32:16.510997: I tensorflow/core/common_runtime/gpu/gpu_device.cc:1532] Created device /job:localhost/replica:0/task:0/device:GPU:0 with 29659 MB memory:  -> device: 0, name: Tesla V100-PCIE-32GB, pci bus id: 0000:12:00.0, compute capability: 7.0\n"
     ]
    },
    {
     "data": {
      "application/vnd.jupyter.widget-view+json": {
       "model_id": "efc2724723bb4617abcee24688361fc8",
       "version_major": 2,
       "version_minor": 0
      },
      "text/plain": [
       "  0%|          | 0/5 [00:00<?, ?it/s]"
      ]
     },
     "metadata": {},
     "output_type": "display_data"
    },
    {
     "name": "stdout",
     "output_type": "stream",
     "text": [
      "epoch 0, 0/99: loss=0.4606, acc=0.0625\n",
      "epoch 0, 30/99: loss=0.2481, acc=0.6328\n",
      "epoch 0, 60/99: loss=0.1246, acc=0.9219\n",
      "epoch 0, 90/99: loss=0.0850, acc=0.9922\n",
      "epoch 1, 0/99: loss=0.0979, acc=0.9531\n",
      "epoch 1, 30/99: loss=0.0609, acc=0.9609\n",
      "epoch 1, 60/99: loss=0.0464, acc=0.9844\n",
      "epoch 1, 90/99: loss=0.0367, acc=1.0000\n",
      "epoch 2, 0/99: loss=0.0465, acc=0.9844\n",
      "epoch 2, 30/99: loss=0.0429, acc=0.9688\n",
      "epoch 2, 60/99: loss=0.0373, acc=0.9688\n",
      "epoch 2, 90/99: loss=0.0410, acc=0.9688\n",
      "epoch 3, 0/99: loss=0.0415, acc=0.9531\n",
      "epoch 3, 30/99: loss=0.0361, acc=0.9688\n",
      "epoch 3, 60/99: loss=0.0274, acc=0.9688\n",
      "epoch 3, 90/99: loss=0.0309, acc=0.9531\n",
      "epoch 4, 0/99: loss=0.0315, acc=0.9688\n",
      "epoch 4, 30/99: loss=0.0217, acc=0.9844\n",
      "epoch 4, 60/99: loss=0.0157, acc=1.0000\n",
      "epoch 4, 90/99: loss=0.0216, acc=0.9688\n"
     ]
    },
    {
     "data": {
      "image/png": "[encoded data removed]",
      "text/plain": [
       "<Figure size 432x288 with 1 Axes>"
      ]
     },
     "metadata": {
      "needs_background": "light"
     },
     "output_type": "display_data"
    },
    {
     "data": {
      "application/vnd.jupyter.widget-view+json": {
       "model_id": "34142260d3f845cda5b5c1f6613fe959",
       "version_major": 2,
       "version_minor": 0
      },
      "text/plain": [
       "  0%|          | 0/5 [00:00<?, ?it/s]"
      ]
     },
     "metadata": {},
     "output_type": "display_data"
    },
    {
     "name": "stdout",
     "output_type": "stream",
     "text": [
      "epoch 0, 0/93: loss=0.4440, acc=0.1094\n",
      "epoch 0, 30/93: loss=0.2797, acc=0.5391\n",
      "epoch 0, 60/93: loss=0.1660, acc=0.8594\n",
      "epoch 0, 90/93: loss=0.1346, acc=0.9453\n",
      "epoch 1, 0/93: loss=0.1366, acc=0.8594\n",
      "epoch 1, 30/93: loss=0.1243, acc=0.8750\n",
      "epoch 1, 60/93: loss=0.0973, acc=0.9375\n",
      "epoch 1, 90/93: loss=0.0937, acc=0.9688\n",
      "epoch 2, 0/93: loss=0.1189, acc=0.9062\n",
      "epoch 2, 30/93: loss=0.1003, acc=0.9297\n",
      "epoch 2, 60/93: loss=0.0721, acc=0.9297\n",
      "epoch 2, 90/93: loss=0.0570, acc=0.9766\n",
      "epoch 3, 0/93: loss=0.0709, acc=0.9609\n",
      "epoch 3, 30/93: loss=0.0462, acc=0.9531\n",
      "epoch 3, 60/93: loss=0.0472, acc=0.9453\n",
      "epoch 3, 90/93: loss=0.0444, acc=0.9609\n",
      "epoch 4, 0/93: loss=0.0538, acc=0.9531\n",
      "epoch 4, 30/93: loss=0.0388, acc=0.9688\n",
      "epoch 4, 60/93: loss=0.0506, acc=0.9609\n",
      "epoch 4, 90/93: loss=0.0394, acc=0.9688\n"
     ]
    },
    {
     "data": {
      "image/png": "[encoded data removed]",
      "text/plain": [
       "<Figure size 432x288 with 1 Axes>"
      ]
     },
     "metadata": {
      "needs_background": "light"
     },
     "output_type": "display_data"
    },
    {
     "data": {
      "application/vnd.jupyter.widget-view+json": {
       "model_id": "0d7d360f29a14c4aa203a6077ca5f418",
       "version_major": 2,
       "version_minor": 0
      },
      "text/plain": [
       "  0%|          | 0/5 [00:00<?, ?it/s]"
      ]
     },
     "metadata": {},
     "output_type": "display_data"
    },
    {
     "name": "stdout",
     "output_type": "stream",
     "text": [
      "epoch 0, 0/95: loss=0.4077, acc=0.0938\n",
      "epoch 0, 30/95: loss=0.2246, acc=0.7031\n",
      "epoch 0, 60/95: loss=0.1311, acc=0.8906\n",
      "epoch 0, 90/95: loss=0.0877, acc=0.9531\n",
      "epoch 1, 0/95: loss=0.0959, acc=0.9219\n",
      "epoch 1, 30/95: loss=0.0750, acc=0.9297\n",
      "epoch 1, 60/95: loss=0.0594, acc=0.9297\n",
      "epoch 1, 90/95: loss=0.0561, acc=0.9609\n",
      "epoch 2, 0/95: loss=0.0576, acc=0.9453\n",
      "epoch 2, 30/95: loss=0.0474, acc=0.9531\n",
      "epoch 2, 60/95: loss=0.0531, acc=0.9453\n",
      "epoch 2, 90/95: loss=0.0439, acc=0.9688\n",
      "epoch 3, 0/95: loss=0.0545, acc=0.9375\n",
      "epoch 3, 30/95: loss=0.0410, acc=0.9531\n",
      "epoch 3, 60/95: loss=0.0523, acc=0.9141\n",
      "epoch 3, 90/95: loss=0.0429, acc=0.9609\n",
      "epoch 4, 0/95: loss=0.0518, acc=0.9453\n",
      "epoch 4, 30/95: loss=0.0382, acc=0.9609\n",
      "epoch 4, 60/95: loss=0.0507, acc=0.9219\n",
      "epoch 4, 90/95: loss=0.0420, acc=0.9531\n"
     ]
    },
    {
     "data": {
      "image/png": "[encoded data removed]",
      "text/plain": [
       "<Figure size 432x288 with 1 Axes>"
      ]
     },
     "metadata": {
      "needs_background": "light"
     },
     "output_type": "display_data"
    },
    {
     "data": {
      "application/vnd.jupyter.widget-view+json": {
       "model_id": "34a3f6364e5b4acc95d90a0474a80397",
       "version_major": 2,
       "version_minor": 0
      },
      "text/plain": [
       "  0%|          | 0/5 [00:00<?, ?it/s]"
      ]
     },
     "metadata": {},
     "output_type": "display_data"
    },
    {
     "name": "stdout",
     "output_type": "stream",
     "text": [
      "epoch 0, 0/92: loss=0.3766, acc=0.2422\n",
      "epoch 0, 30/92: loss=0.2471, acc=0.6406\n",
      "epoch 0, 60/92: loss=0.1669, acc=0.7891\n",
      "epoch 0, 90/92: loss=0.1436, acc=0.8438\n",
      "epoch 1, 0/92: loss=0.1279, acc=0.9375\n",
      "epoch 1, 30/92: loss=0.1263, acc=0.8672\n",
      "epoch 1, 60/92: loss=0.1177, acc=0.8984\n",
      "epoch 1, 90/92: loss=0.0967, acc=0.9375\n",
      "epoch 2, 0/92: loss=0.1029, acc=0.9219\n",
      "epoch 2, 30/92: loss=0.0980, acc=0.9141\n",
      "epoch 2, 60/92: loss=0.0889, acc=0.9141\n",
      "epoch 2, 90/92: loss=0.0940, acc=0.9297\n",
      "epoch 3, 0/92: loss=0.0826, acc=0.9609\n",
      "epoch 3, 30/92: loss=0.0599, acc=1.0000\n",
      "epoch 3, 60/92: loss=0.0686, acc=0.9297\n",
      "epoch 3, 90/92: loss=0.0657, acc=0.9375\n",
      "epoch 4, 0/92: loss=0.0598, acc=0.9375\n",
      "epoch 4, 30/92: loss=0.0460, acc=0.9766\n",
      "epoch 4, 60/92: loss=0.0653, acc=0.9297\n",
      "epoch 4, 90/92: loss=0.0521, acc=0.9453\n"
     ]
    },
    {
     "data": {
      "image/png": "[encoded data removed]",
      "text/plain": [
       "<Figure size 432x288 with 1 Axes>"
      ]
     },
     "metadata": {
      "needs_background": "light"
     },
     "output_type": "display_data"
    },
    {
     "data": {
      "application/vnd.jupyter.widget-view+json": {
       "model_id": "c159e5e24b3643e7a2dfb53a04e789b9",
       "version_major": 2,
       "version_minor": 0
      },
      "text/plain": [
       "  0%|          | 0/5 [00:00<?, ?it/s]"
      ]
     },
     "metadata": {},
     "output_type": "display_data"
    },
    {
     "name": "stdout",
     "output_type": "stream",
     "text": [
      "epoch 0, 0/89: loss=0.5474, acc=0.0547\n",
      "epoch 0, 30/89: loss=0.2614, acc=0.6406\n",
      "epoch 0, 60/89: loss=0.1456, acc=0.8594\n",
      "epoch 1, 0/89: loss=0.1107, acc=0.8594\n",
      "epoch 1, 30/89: loss=0.0594, acc=0.9531\n",
      "epoch 1, 60/89: loss=0.0669, acc=0.9453\n",
      "epoch 2, 0/89: loss=0.0568, acc=0.9531\n",
      "epoch 2, 30/89: loss=0.0421, acc=0.9609\n",
      "epoch 2, 60/89: loss=0.0588, acc=0.9453\n",
      "epoch 3, 0/89: loss=0.0540, acc=0.9453\n",
      "epoch 3, 30/89: loss=0.0302, acc=0.9844\n",
      "epoch 3, 60/89: loss=0.0501, acc=0.9688\n",
      "epoch 4, 0/89: loss=0.0510, acc=0.9453\n",
      "epoch 4, 30/89: loss=0.0344, acc=0.9844\n",
      "epoch 4, 60/89: loss=0.0557, acc=0.9453\n"
     ]
    },
    {
     "data": {
      "image/png": "[encoded data removed]",
      "text/plain": [
       "<Figure size 432x288 with 1 Axes>"
      ]
     },
     "metadata": {
      "needs_background": "light"
     },
     "output_type": "display_data"
    },
    {
     "data": {
      "application/vnd.jupyter.widget-view+json": {
       "model_id": "bebc8b900854416188e61e31274db9c6",
       "version_major": 2,
       "version_minor": 0
      },
      "text/plain": [
       "  0%|          | 0/5 [00:00<?, ?it/s]"
      ]
     },
     "metadata": {},
     "output_type": "display_data"
    },
    {
     "name": "stdout",
     "output_type": "stream",
     "text": [
      "epoch 0, 0/93: loss=0.3465, acc=0.3828\n",
      "epoch 0, 30/93: loss=0.1975, acc=0.8047\n",
      "epoch 0, 60/93: loss=0.1336, acc=0.8516\n",
      "epoch 0, 90/93: loss=0.1083, acc=0.9453\n",
      "epoch 1, 0/93: loss=0.1068, acc=0.9219\n",
      "epoch 1, 30/93: loss=0.0822, acc=0.9609\n",
      "epoch 1, 60/93: loss=0.0781, acc=0.9453\n",
      "epoch 1, 90/93: loss=0.0698, acc=0.9688\n",
      "epoch 2, 0/93: loss=0.0722, acc=0.9297\n",
      "epoch 2, 30/93: loss=0.0709, acc=0.9688\n",
      "epoch 2, 60/93: loss=0.0689, acc=0.9531\n",
      "epoch 2, 90/93: loss=0.0583, acc=0.9531\n",
      "epoch 3, 0/93: loss=0.0663, acc=0.9453\n",
      "epoch 3, 30/93: loss=0.0595, acc=0.9609\n",
      "epoch 3, 60/93: loss=0.0602, acc=0.9531\n",
      "epoch 3, 90/93: loss=0.0562, acc=0.9688\n",
      "epoch 4, 0/93: loss=0.0616, acc=0.9688\n",
      "epoch 4, 30/93: loss=0.0612, acc=0.9609\n",
      "epoch 4, 60/93: loss=0.0615, acc=0.9609\n",
      "epoch 4, 90/93: loss=0.0539, acc=0.9844\n"
     ]
    },
    {
     "data": {
      "image/png": "[encoded data removed]",
      "text/plain": [
       "<Figure size 432x288 with 1 Axes>"
      ]
     },
     "metadata": {
      "needs_background": "light"
     },
     "output_type": "display_data"
    },
    {
     "data": {
      "application/vnd.jupyter.widget-view+json": {
       "model_id": "ac2b95c834af44f092e768b257c05061",
       "version_major": 2,
       "version_minor": 0
      },
      "text/plain": [
       "  0%|          | 0/5 [00:00<?, ?it/s]"
      ]
     },
     "metadata": {},
     "output_type": "display_data"
    },
    {
     "name": "stdout",
     "output_type": "stream",
     "text": [
      "epoch 0, 0/96: loss=0.3542, acc=0.3594\n",
      "epoch 0, 30/96: loss=0.1732, acc=0.7891\n",
      "epoch 0, 60/96: loss=0.1468, acc=0.8594\n",
      "epoch 0, 90/96: loss=0.1263, acc=0.8438\n",
      "epoch 1, 0/96: loss=0.1100, acc=0.8750\n",
      "epoch 1, 30/96: loss=0.0880, acc=0.9062\n",
      "epoch 1, 60/96: loss=0.0801, acc=0.9219\n",
      "epoch 1, 90/96: loss=0.0850, acc=0.9219\n",
      "epoch 2, 0/96: loss=0.0600, acc=0.9609\n",
      "epoch 2, 30/96: loss=0.0581, acc=0.9531\n",
      "epoch 2, 60/96: loss=0.0523, acc=0.9453\n",
      "epoch 2, 90/96: loss=0.0521, acc=0.9609\n",
      "epoch 3, 0/96: loss=0.0510, acc=0.9844\n",
      "epoch 3, 30/96: loss=0.0443, acc=0.9844\n",
      "epoch 3, 60/96: loss=0.0390, acc=0.9766\n",
      "epoch 3, 90/96: loss=0.0469, acc=0.9531\n",
      "epoch 4, 0/96: loss=0.0436, acc=0.9766\n",
      "epoch 4, 30/96: loss=0.0384, acc=0.9922\n",
      "epoch 4, 60/96: loss=0.0395, acc=0.9766\n",
      "epoch 4, 90/96: loss=0.0468, acc=0.9688\n"
     ]
    },
    {
     "data": {
      "image/png": "[encoded data removed]",
      "text/plain": [
       "<Figure size 432x288 with 1 Axes>"
      ]
     },
     "metadata": {
      "needs_background": "light"
     },
     "output_type": "display_data"
    },
    {
     "data": {
      "application/vnd.jupyter.widget-view+json": {
       "model_id": "26e073ff6d5244d089eb6fb415bbaf7d",
       "version_major": 2,
       "version_minor": 0
      },
      "text/plain": [
       "  0%|          | 0/5 [00:00<?, ?it/s]"
      ]
     },
     "metadata": {},
     "output_type": "display_data"
    },
    {
     "name": "stdout",
     "output_type": "stream",
     "text": [
      "epoch 0, 0/92: loss=0.3189, acc=0.0625\n",
      "epoch 0, 30/92: loss=0.1081, acc=0.9766\n",
      "epoch 0, 60/92: loss=0.0977, acc=0.9766\n",
      "epoch 0, 90/92: loss=0.0995, acc=0.9609\n",
      "epoch 1, 0/92: loss=0.0925, acc=0.9453\n",
      "epoch 1, 30/92: loss=0.0891, acc=0.9766\n",
      "epoch 1, 60/92: loss=0.0799, acc=0.9844\n",
      "epoch 1, 90/92: loss=0.0817, acc=0.9141\n",
      "epoch 2, 0/92: loss=0.0801, acc=0.9219\n",
      "epoch 2, 30/92: loss=0.0853, acc=0.9062\n",
      "epoch 2, 60/92: loss=0.0736, acc=0.9531\n",
      "epoch 2, 90/92: loss=0.0783, acc=0.8984\n",
      "epoch 3, 0/92: loss=0.0818, acc=0.9141\n",
      "epoch 3, 30/92: loss=0.0786, acc=0.8828\n",
      "epoch 3, 60/92: loss=0.0792, acc=0.8594\n",
      "epoch 3, 90/92: loss=0.0866, acc=0.8438\n",
      "epoch 4, 0/92: loss=0.0808, acc=0.8750\n",
      "epoch 4, 30/92: loss=0.0789, acc=0.8359\n",
      "epoch 4, 60/92: loss=0.0865, acc=0.8906\n",
      "epoch 4, 90/92: loss=0.0835, acc=0.8203\n"
     ]
    },
    {
     "data": {
      "image/png": "[encoded data removed]",
      "text/plain": [
       "<Figure size 432x288 with 1 Axes>"
      ]
     },
     "metadata": {
      "needs_background": "light"
     },
     "output_type": "display_data"
    }
   ],
   "source": [
    "params_list = []\n",
    "gmm_list = []\n",
    "for node in tqdm(range(n_node)):\n",
    "    x_train_node, y_train_node = filter_pair(x_train, y_train, 0, node + 1)\n",
    "    x_train_small = tf.image.resize(x_train_node[..., tf.newaxis], (int(2**(n/2)), int(2**(n/2)))).numpy()[..., 0].reshape(-1, 2**n)\n",
    "    x_train_small = x_train_small / jnp.sqrt(jnp.sum(x_train_small**2, axis=-1, keepdims=True))\n",
    "    data = tf.data.Dataset.from_tensor_slices((x_train_small, y_train_node)).shuffle(100).batch(128)\n",
    "\n",
    "    # GMM\n",
    "    gmm = GaussianMixture(n_components=5, max_iter=100)\n",
    "    gmm.fit(x_train_small)\n",
    "    gmm_list.append(gmm)\n",
    "\n",
    "    params = K.randn((k * 2, n), dtype=jnp.float32)\n",
    "    opt = optax.adam(learning_rate=1e-2)\n",
    "    opt_state = opt.init(params)\n",
    "\n",
    "    loss_list = []\n",
    "    acc_list = []\n",
    "    for e in tqdm(range(5), leave=False):\n",
    "        for i, (x, y) in enumerate(data):\n",
    "            x = x.numpy()\n",
    "            y = y.numpy()\n",
    "            loss_val, grad_val = compute_loss(params, x, y, k)\n",
    "            updates, opt_state = opt.update(grad_val, opt_state, params)\n",
    "            params = optax.apply_updates(params, updates)\n",
    "            loss_mean = jnp.mean(loss_val)\n",
    "            if i % 30 == 0:\n",
    "                acc = jnp.mean(compute_accuracy(params, x, y, k))\n",
    "                acc_list.append(acc)\n",
    "                loss_list.append(loss_mean)\n",
    "                print(f'epoch {e}, {i}/{len(data)}: loss={loss_mean:.4f}, acc={acc:.4f}')\n",
    "\n",
    "    plt.plot(loss_list)\n",
    "    plt.plot(acc_list)\n",
    "    plt.legend(['loss', 'accuracy'])\n",
    "    plt.ylim(0, 1)\n",
    "    plt.show()\n",
    "\n",
    "    params_list.append(params)\n"
   ]
  },
  {
   "cell_type": "code",
   "execution_count": 10,
   "metadata": {},
   "outputs": [],
   "source": [
    "def pred(params, x, y, k):\n",
    "    c = tc.Circuit(n, inputs=x)\n",
    "    for j in range(k):\n",
    "        for i in range(n - 1):\n",
    "            c.cnot(i, i + 1)\n",
    "        for i in range(n):\n",
    "            c.rx(i, theta=params[2 * j, i])\n",
    "            c.ry(i, theta=params[2 * j + 1, i])\n",
    "    logits = []\n",
    "    for i in range(n_node):\n",
    "        logits.append(jnp.real(c.expectation([tc.gates.z(), [i,]])))\n",
    "    logits = jnp.stack(logits, axis=-1) * 10\n",
    "    probs = jax.nn.softmax(logits)\n",
    "    return probs\n",
    "# pred = K.jit(pred, static_argnums=[3])"
   ]
  },
  {
   "cell_type": "code",
   "execution_count": 11,
   "metadata": {},
   "outputs": [
    {
     "data": {
      "image/png": "[encoded data removed]",
      "text/plain": [
       "<Figure size 432x288 with 1 Axes>"
      ]
     },
     "metadata": {
      "needs_background": "light"
     },
     "output_type": "display_data"
    },
    {
     "name": "stdout",
     "output_type": "stream",
     "text": [
      "[0. 0. 0. 1. 0. 0. 0. 0.]\n"
     ]
    },
    {
     "data": {
      "text/plain": [
       "DeviceArray([3.0916585e-02, 2.6918571e-03, 2.0389140e-03, 9.5977139e-01,\n",
       "             2.4198438e-03, 1.3147531e-03, 4.7120318e-04, 3.7545973e-04],            dtype=float32)"
      ]
     },
     "execution_count": 11,
     "metadata": {},
     "output_type": "execute_result"
    }
   ],
   "source": [
    "i = 3\n",
    "x_train_node, y_train_node = filter_pair(x_train, y_train, 0, 2 + 1)\n",
    "x_train_small = tf.image.resize(x_train_node[..., tf.newaxis], (int(2**(n/2)), int(2**(n/2)))).numpy()[..., 0].reshape(-1, 2**n)\n",
    "x_train_small = x_train_small / jnp.sqrt(jnp.sum(x_train_small**2, axis=-1, keepdims=True))\n",
    "plt.imshow(x_train_small[i].reshape(16, 16))\n",
    "plt.show()\n",
    "print(y_train_node[i])\n",
    "pred(params_list[2], x_train_small[i], y_train_node[i], k)"
   ]
  },
  {
   "cell_type": "code",
   "execution_count": 12,
   "metadata": {},
   "outputs": [
    {
     "data": {
      "application/vnd.jupyter.widget-view+json": {
       "model_id": "3440baeb81b348bdafe935ebdace2692",
       "version_major": 2,
       "version_minor": 0
      },
      "text/plain": [
       "  0%|          | 0/8 [00:00<?, ?it/s]"
      ]
     },
     "metadata": {},
     "output_type": "display_data"
    }
   ],
   "source": [
    "density_est_list = []\n",
    "p_node = []\n",
    "for node in tqdm(range(n_node)):\n",
    "    x_train_node, y_train_node = filter_pair(x_train, y_train, 0, node + 1)\n",
    "    # x_train_node = x_train_node[:1000]\n",
    "    # y_train_node = y_train_node[:1000]\n",
    "    x_train_small = tf.image.resize(x_train_node[..., tf.newaxis], (int(2**(n/2)), int(2**(n/2)))).numpy()[..., 0].reshape(-1, 2**n)\n",
    "    x_train_small = x_train_small / jnp.sqrt(jnp.sum(x_train_small**2, axis=-1, keepdims=True))\n",
    "    dm = jnp.einsum('nij, njk -> nik', jnp.conjugate(x_train_small.reshape(-1, 2**n, 1)), x_train_small.reshape(-1, 1, 2**n))\n",
    "    density_est_list.append(jnp.mean(dm, axis=0))\n",
    "    p_node.append(len(x_train_small))\n",
    "density_est_list = jnp.stack(density_est_list, axis=0)\n",
    "p_node = jnp.stack(p_node, axis=0) / jnp.sum(jnp.array(p_node))"
   ]
  },
  {
   "cell_type": "code",
   "execution_count": 13,
   "metadata": {},
   "outputs": [
    {
     "data": {
      "text/plain": [
       "DeviceArray([0.13260114, 0.12439274, 0.12620403, 0.12317824, 0.11877041,\n",
       "             0.12397395, 0.127607  , 0.12327246], dtype=float32)"
      ]
     },
     "execution_count": 13,
     "metadata": {},
     "output_type": "execute_result"
    }
   ],
   "source": [
    "p_node"
   ]
  },
  {
   "cell_type": "code",
   "execution_count": 14,
   "metadata": {},
   "outputs": [],
   "source": [
    "def pred_comb_with_gmm(params, x, gmm_scores, k, d_mode='GMM'):\n",
    "    dm_list = []\n",
    "    for node in range(n_node):\n",
    "        c = tc.Circuit(n, inputs=x)\n",
    "        for j in range(k):\n",
    "            for i in range(n - 1):\n",
    "                c.cnot(i, i + 1)\n",
    "            for i in range(n):\n",
    "                c.rx(i, theta=params[node][2 * j, i])\n",
    "                c.ry(i, theta=params[node][2 * j + 1, i])\n",
    "        density_matrix = jnp.conjugate(c.wavefunction('ket')) @ c.wavefunction('bra')\n",
    "        dm_list.append(density_matrix)\n",
    "\n",
    "    if d_mode == 'DM':\n",
    "        projector = jnp.conjugate(x.reshape(-1, 1)) @ x.reshape(1, -1)\n",
    "        weight = jnp.einsum('nij, ji -> n', density_est_list, projector).reshape(-1, 1, 1) * p_node.reshape(-1, 1, 1)\n",
    "        weight = (weight)**10\n",
    "        weight = weight / jnp.sum(weight)\n",
    "    elif d_mode == 'GMM':\n",
    "        weight = jnp.exp(gmm_scores - jnp.max(gmm_scores)).reshape(-1) * p_node\n",
    "        weight = weight / jnp.sum(weight)\n",
    "        weight = weight.reshape(-1, 1, 1)\n",
    "    else:\n",
    "        print('d_mode must be DM or GMM')\n",
    "        return None\n",
    "\n",
    "    dm = jnp.sum(jnp.stack(dm_list, axis=0) * weight, axis=0)\n",
    "    # print(jnp.trace(dm))\n",
    "    c = tc.DMCircuit(n, dminputs=dm)\n",
    "    logits = []\n",
    "    for i in range(n_node):\n",
    "        logits.append(jnp.real(c.expectation([tc.gates.z(), [i,]])))\n",
    "    logits = jnp.stack(logits, axis=-1) * 10\n",
    "    pred_prob = jax.nn.softmax(logits)\n",
    "\n",
    "    # pred_prob = []\n",
    "    # for node in range(n_node):\n",
    "    #     c = tc.DMCircuit(n, dminputs=dm_list[node])\n",
    "    #     pred_prob.append(1-(jnp.real(c.expectation([tc.gates.z(), [node,]])) + 1) / 2)\n",
    "\n",
    "    # # print(pred_prob)\n",
    "    # # print(weight)\n",
    "    # pred_prob = jnp.stack(pred_prob, axis=0) * weight.reshape(-1)\n",
    "    # pred_prob = jnp.hstack([1-jnp.sum(pred_prob), pred_prob])\n",
    "\n",
    "    return pred_prob\n",
    "pred_comb_with_gmm = K.vmap(pred_comb_with_gmm, vectorized_argnums=[1, 2])\n",
    "\n",
    "def pred_comb(params, x, k, d_mode='GMM'):\n",
    "    gmm_scores_list = []\n",
    "    for node in range(n_node):\n",
    "        gmm_scores = gmm_list[node].score_samples(x)\n",
    "        gmm_scores_list.append(gmm_scores)\n",
    "    gmm_scores_list = jnp.stack(gmm_scores_list, axis=-1)\n",
    "    \n",
    "    pred_prob = pred_comb_with_gmm(params, x, gmm_scores_list, k, d_mode)\n",
    "    return pred_prob\n"
   ]
  },
  {
   "cell_type": "code",
   "execution_count": 15,
   "metadata": {},
   "outputs": [
    {
     "data": {
      "text/plain": [
       "<matplotlib.image.AxesImage at 0x7f0a1c20c5b0>"
      ]
     },
     "execution_count": 15,
     "metadata": {},
     "output_type": "execute_result"
    },
    {
     "data": {
      "image/png": "[encoded data removed]",
      "text/plain": [
       "<Figure size 432x288 with 1 Axes>"
      ]
     },
     "metadata": {
      "needs_background": "light"
     },
     "output_type": "display_data"
    }
   ],
   "source": [
    "i = 37\n",
    "x_train_node, y_train_node = filter_pair(x_train, y_train, 0, 2 + 1)\n",
    "x_train_small = tf.image.resize(x_train_node[..., tf.newaxis], (int(2**(n/2)), int(2**(n/2)))).numpy()[..., 0].reshape(-1, 2**n)\n",
    "x_train_small = x_train_small / jnp.sqrt(jnp.sum(x_train_small**2, axis=-1, keepdims=True))\n",
    "plt.imshow(x_train_small[i].reshape(16, 16))"
   ]
  },
  {
   "cell_type": "code",
   "execution_count": 16,
   "metadata": {},
   "outputs": [
    {
     "data": {
      "text/plain": [
       "DeviceArray(0.93, dtype=float32)"
      ]
     },
     "execution_count": 16,
     "metadata": {},
     "output_type": "execute_result"
    }
   ],
   "source": [
    "jnp.mean(pred_comb(params_list, x_train_small[:100], k, d_mode='GMM').argmax(axis=-1) == y_train_node[:100].argmax(axis=-1))"
   ]
  },
  {
   "cell_type": "code",
   "execution_count": 17,
   "metadata": {},
   "outputs": [
    {
     "data": {
      "text/plain": [
       "DeviceArray(0.9, dtype=float32)"
      ]
     },
     "execution_count": 17,
     "metadata": {},
     "output_type": "execute_result"
    }
   ],
   "source": [
    "jnp.mean(pred_comb(params_list, x_train_small[:100], k, d_mode='DM').argmax(axis=-1) == y_train_node[:100].argmax(axis=-1))"
   ]
  },
  {
   "cell_type": "code",
   "execution_count": 18,
   "metadata": {},
   "outputs": [],
   "source": [
    "x_test = tf.image.resize(x_test[..., tf.newaxis], (int(2**(n/2)), int(2**(n/2)))).numpy()[..., 0].reshape(-1, 2**n)\n",
    "x_test = x_test / jnp.sqrt(jnp.sum(x_test**2, axis=-1, keepdims=True))"
   ]
  },
  {
   "cell_type": "code",
   "execution_count": 19,
   "metadata": {},
   "outputs": [
    {
     "data": {
      "text/plain": [
       "DeviceArray(0.9, dtype=float32)"
      ]
     },
     "execution_count": 19,
     "metadata": {},
     "output_type": "execute_result"
    }
   ],
   "source": [
    "jnp.mean(pred_comb(params_list, x_test[:100], k, d_mode='GMM').argmax(axis=-1) == y_test[:100])"
   ]
  },
  {
   "cell_type": "code",
   "execution_count": 20,
   "metadata": {},
   "outputs": [
    {
     "data": {
      "text/plain": [
       "DeviceArray(0.74, dtype=float32)"
      ]
     },
     "execution_count": 20,
     "metadata": {},
     "output_type": "execute_result"
    }
   ],
   "source": [
    "jnp.mean(pred_comb(params_list, x_test[:100], k, d_mode='DM').argmax(axis=-1) == y_test[:100])"
   ]
  },
  {
   "cell_type": "code",
   "execution_count": null,
   "metadata": {},
   "outputs": [],
   "source": []
  }
 ],
 "metadata": {
  "kernelspec": {
   "display_name": "Python 3.9.12 ('ode-rnn')",
   "language": "python",
   "name": "python3"
  },
  "language_info": {
   "codemirror_mode": {
    "name": "ipython",
    "version": 3
   },
   "file_extension": ".py",
   "mimetype": "text/x-python",
   "name": "python",
   "nbconvert_exporter": "python",
   "pygments_lexer": "ipython3",
   "version": "3.9.12"
  },
  "orig_nbformat": 4,
  "vscode": {
   "interpreter": {
    "hash": "274e8ed069bc503cc01fa1aa16068ccb03180744fbf761618fb0dbde6179c71c"
   }
  }
 },
 "nbformat": 4,
 "nbformat_minor": 2
}
