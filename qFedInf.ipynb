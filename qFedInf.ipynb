{
 "cells": [
  {
   "cell_type": "code",
   "execution_count": 31,
   "metadata": {},
   "outputs": [],
   "source": [
    "import tensorcircuit as tc\n",
    "import optax\n",
    "import jax.numpy as jnp\n",
    "import jax\n",
    "import tensorflow as tf\n",
    "import matplotlib.pyplot as plt\n",
    "from tqdm.notebook import tqdm\n",
    "\n",
    "from sklearn.mixture import GaussianMixture\n",
    "\n",
    "import os\n",
    "os.environ[\"CUDA_DEVICE_ORDER\"]=\"PCI_BUS_ID\"\n",
    "os.environ[\"CUDA_VISIBLE_DEVICES\"]=\"0\"\n",
    "os.environ[\"XLA_PYTHON_CLIENT_PREALLOCATE\"]=\"false\"\n",
    "os.environ[\"TF_FORCE_GPU_ALLOW_GROWTH\"]=\"true\"\n",
    "\n",
    "plt.rcParams[\"font.family\"] = \"serif\"\n",
    "plt.rcParams['mathtext.fontset'] = 'cm'\n",
    "plt.rcParams['mathtext.rm'] = 'serif'\n",
    "plt.rc('font', size=14)"
   ]
  },
  {
   "cell_type": "code",
   "execution_count": 32,
   "metadata": {},
   "outputs": [],
   "source": [
    "encoding_mode = 'vanilla'\n",
    "# encoding_mode = 'mean'\n",
    "# encoding_mode = 'half'"
   ]
  },
  {
   "cell_type": "code",
   "execution_count": 33,
   "metadata": {},
   "outputs": [],
   "source": [
    "n = 8\n",
    "n_node = 8"
   ]
  },
  {
   "cell_type": "code",
   "execution_count": 34,
   "metadata": {},
   "outputs": [],
   "source": [
    "K = tc.set_backend('jax')"
   ]
  },
  {
   "cell_type": "code",
   "execution_count": 35,
   "metadata": {},
   "outputs": [],
   "source": [
    "# numpy data\n",
    "(x_train, y_train), (x_test, y_test) = tf.keras.datasets.mnist.load_data()\n",
    "ind = y_test == 9\n",
    "x_test, y_test = x_test[~ind], y_test[~ind]\n",
    "ind = y_test == 8\n",
    "x_test, y_test = x_test[~ind], y_test[~ind]\n",
    "\n",
    "x_train = x_train / 255.0\n",
    "if encoding_mode == 'vanilla':\n",
    "    mean = 0\n",
    "elif encoding_mode == 'mean':\n",
    "    mean = jnp.mean(x_train, axis=0)\n",
    "elif encoding_mode == 'half':\n",
    "    mean = 0.5\n",
    "x_train = x_train - mean\n",
    "x_test = x_test / 255.0\n",
    "x_test = x_test - mean\n",
    "\n",
    "\n",
    "def filter_pair(x, y, a, b):\n",
    "    keep = (y == a) | (y == b)\n",
    "    x, y = x[keep], y[keep]\n",
    "    y = jax.nn.one_hot(y, n_node)\n",
    "    return x, y"
   ]
  },
  {
   "cell_type": "code",
   "execution_count": 36,
   "metadata": {},
   "outputs": [],
   "source": [
    "def loss(params, x, y, k):\n",
    "    c = tc.Circuit(n, inputs=x)\n",
    "    for j in range(k):\n",
    "        for i in range(n - 1):\n",
    "            c.cnot(i, i + 1)\n",
    "        for i in range(n):\n",
    "            c.rx(i, theta=params[2 * j, i])\n",
    "            c.ry(i, theta=params[2 * j + 1, i])\n",
    "    logits = []\n",
    "    for i in range(n_node):\n",
    "        logits.append(jnp.real(c.expectation([tc.gates.z(), [i,]])))\n",
    "    logits = jnp.stack(logits, axis=-1) * 10\n",
    "    probs = jax.nn.softmax(logits)\n",
    "    return -jnp.mean(y * jnp.log(probs) + (1 - y) * jnp.log(1 - probs))\n",
    "loss = K.jit(loss, static_argnums=[3])"
   ]
  },
  {
   "cell_type": "code",
   "execution_count": 37,
   "metadata": {},
   "outputs": [],
   "source": [
    "def accuracy(params, x, y, k):\n",
    "    c = tc.Circuit(n, inputs=x)\n",
    "    for j in range(k):\n",
    "        for i in range(n - 1):\n",
    "            c.cnot(i, i + 1)\n",
    "        for i in range(n):\n",
    "            c.rx(i, theta=params[2 * j, i])\n",
    "            c.ry(i, theta=params[2 * j + 1, i])\n",
    "    logits = []\n",
    "    for i in range(n_node):\n",
    "        logits.append(jnp.real(c.expectation([tc.gates.z(), [i,]])))\n",
    "    logits = jnp.stack(logits, axis=-1) * 10\n",
    "    probs = jax.nn.softmax(logits)\n",
    "    return jnp.argmax(probs, axis=-1) == jnp.argmax(y, axis=-1)\n",
    "accuracy = K.jit(accuracy, static_argnums=[3])"
   ]
  },
  {
   "cell_type": "code",
   "execution_count": 38,
   "metadata": {},
   "outputs": [],
   "source": [
    "k = 6"
   ]
  },
  {
   "cell_type": "code",
   "execution_count": 39,
   "metadata": {},
   "outputs": [],
   "source": [
    "compute_loss = K.vectorized_value_and_grad(loss, vectorized_argnums=[1, 2])\n",
    "compute_accuracy = K.vmap(accuracy, vectorized_argnums=[1, 2])"
   ]
  },
  {
   "cell_type": "code",
   "execution_count": 40,
   "metadata": {},
   "outputs": [
    {
     "data": {
      "application/vnd.jupyter.widget-view+json": {
       "model_id": "97e5013c772843c796e390f50139b23f",
       "version_major": 2,
       "version_minor": 0
      },
      "text/plain": [
       "  0%|          | 0/7 [00:00<?, ?it/s]"
      ]
     },
     "metadata": {},
     "output_type": "display_data"
    },
    {
     "data": {
      "application/vnd.jupyter.widget-view+json": {
       "model_id": "9aa8bd85206d4a289ec9b08823fbbd7b",
       "version_major": 2,
       "version_minor": 0
      },
      "text/plain": [
       "  0%|          | 0/5 [00:00<?, ?it/s]"
      ]
     },
     "metadata": {},
     "output_type": "display_data"
    },
    {
     "name": "stdout",
     "output_type": "stream",
     "text": [
      "epoch 0, 0/99: loss=0.3930, acc=0.2266\n",
      "epoch 0, 30/99: loss=0.1553, acc=0.8906\n",
      "epoch 0, 60/99: loss=0.0764, acc=0.9766\n",
      "epoch 0, 90/99: loss=0.0581, acc=0.9766\n",
      "epoch 1, 0/99: loss=0.0615, acc=0.9844\n",
      "epoch 1, 30/99: loss=0.0531, acc=0.9766\n",
      "epoch 1, 60/99: loss=0.0336, acc=0.9766\n",
      "epoch 1, 90/99: loss=0.0252, acc=0.9922\n",
      "epoch 2, 0/99: loss=0.0235, acc=0.9922\n",
      "epoch 2, 30/99: loss=0.0107, acc=1.0000\n",
      "epoch 2, 60/99: loss=0.0151, acc=0.9922\n",
      "epoch 2, 90/99: loss=0.0107, acc=0.9922\n",
      "epoch 3, 0/99: loss=0.0127, acc=0.9922\n",
      "epoch 3, 30/99: loss=0.0138, acc=1.0000\n",
      "epoch 3, 60/99: loss=0.0083, acc=1.0000\n",
      "epoch 3, 90/99: loss=0.0088, acc=0.9922\n",
      "epoch 4, 0/99: loss=0.0144, acc=0.9844\n",
      "epoch 4, 30/99: loss=0.0087, acc=1.0000\n",
      "epoch 4, 60/99: loss=0.0074, acc=1.0000\n",
      "epoch 4, 90/99: loss=0.0098, acc=0.9922\n"
     ]
    },
    {
     "data": {
      "image/png": "[encoded data removed]",
      "text/plain": [
       "<Figure size 432x288 with 1 Axes>"
      ]
     },
     "metadata": {
      "needs_background": "light"
     },
     "output_type": "display_data"
    },
    {
     "data": {
      "application/vnd.jupyter.widget-view+json": {
       "model_id": "fdca2b1623604cf6a5fdf4eb59e691cf",
       "version_major": 2,
       "version_minor": 0
      },
      "text/plain": [
       "  0%|          | 0/5 [00:00<?, ?it/s]"
      ]
     },
     "metadata": {},
     "output_type": "display_data"
    },
    {
     "name": "stdout",
     "output_type": "stream",
     "text": [
      "epoch 0, 0/93: loss=0.4442, acc=0.0938\n",
      "epoch 0, 30/93: loss=0.1433, acc=0.8516\n",
      "epoch 0, 60/93: loss=0.0864, acc=0.9453\n",
      "epoch 0, 90/93: loss=0.0586, acc=0.9844\n",
      "epoch 1, 0/93: loss=0.0652, acc=0.9609\n",
      "epoch 1, 30/93: loss=0.0477, acc=0.9609\n",
      "epoch 1, 60/93: loss=0.0566, acc=0.9531\n",
      "epoch 1, 90/93: loss=0.0468, acc=0.9609\n",
      "epoch 2, 0/93: loss=0.0566, acc=0.9375\n",
      "epoch 2, 30/93: loss=0.0432, acc=0.9531\n",
      "epoch 2, 60/93: loss=0.0498, acc=0.9688\n",
      "epoch 2, 90/93: loss=0.0376, acc=0.9766\n",
      "epoch 3, 0/93: loss=0.0520, acc=0.9297\n",
      "epoch 3, 30/93: loss=0.0444, acc=0.9531\n",
      "epoch 3, 60/93: loss=0.0395, acc=0.9688\n",
      "epoch 3, 90/93: loss=0.0325, acc=0.9688\n",
      "epoch 4, 0/93: loss=0.0410, acc=0.9453\n",
      "epoch 4, 30/93: loss=0.0307, acc=0.9688\n",
      "epoch 4, 60/93: loss=0.0398, acc=0.9609\n",
      "epoch 4, 90/93: loss=0.0330, acc=0.9688\n"
     ]
    },
    {
     "data": {
      "image/png": "[encoded data removed]",
      "text/plain": [
       "<Figure size 432x288 with 1 Axes>"
      ]
     },
     "metadata": {
      "needs_background": "light"
     },
     "output_type": "display_data"
    },
    {
     "data": {
      "application/vnd.jupyter.widget-view+json": {
       "model_id": "62f525a145be4e6783f23db8f5fa5f9f",
       "version_major": 2,
       "version_minor": 0
      },
      "text/plain": [
       "  0%|          | 0/5 [00:00<?, ?it/s]"
      ]
     },
     "metadata": {},
     "output_type": "display_data"
    },
    {
     "name": "stdout",
     "output_type": "stream",
     "text": [
      "epoch 0, 0/95: loss=0.4740, acc=0.0391\n",
      "epoch 0, 30/95: loss=0.1598, acc=0.8125\n",
      "epoch 0, 60/95: loss=0.0927, acc=0.9375\n",
      "epoch 0, 90/95: loss=0.0614, acc=0.9844\n",
      "epoch 1, 0/95: loss=0.0652, acc=0.9766\n",
      "epoch 1, 30/95: loss=0.0552, acc=0.9844\n",
      "epoch 1, 60/95: loss=0.0408, acc=0.9922\n",
      "epoch 1, 90/95: loss=0.0436, acc=0.9609\n",
      "epoch 2, 0/95: loss=0.0448, acc=0.9766\n",
      "epoch 2, 30/95: loss=0.0405, acc=0.9766\n",
      "epoch 2, 60/95: loss=0.0347, acc=0.9922\n",
      "epoch 2, 90/95: loss=0.0418, acc=0.9609\n",
      "epoch 3, 0/95: loss=0.0403, acc=0.9766\n",
      "epoch 3, 30/95: loss=0.0304, acc=0.9844\n",
      "epoch 3, 60/95: loss=0.0237, acc=1.0000\n",
      "epoch 3, 90/95: loss=0.0352, acc=0.9688\n",
      "epoch 4, 0/95: loss=0.0426, acc=0.9609\n",
      "epoch 4, 30/95: loss=0.0299, acc=0.9844\n",
      "epoch 4, 60/95: loss=0.0278, acc=0.9766\n",
      "epoch 4, 90/95: loss=0.0238, acc=0.9922\n"
     ]
    },
    {
     "data": {
      "image/png": "[encoded data removed]",
      "text/plain": [
       "<Figure size 432x288 with 1 Axes>"
      ]
     },
     "metadata": {
      "needs_background": "light"
     },
     "output_type": "display_data"
    },
    {
     "data": {
      "application/vnd.jupyter.widget-view+json": {
       "model_id": "1486536f5c4e44a4965da9a0dfde1602",
       "version_major": 2,
       "version_minor": 0
      },
      "text/plain": [
       "  0%|          | 0/5 [00:00<?, ?it/s]"
      ]
     },
     "metadata": {},
     "output_type": "display_data"
    },
    {
     "name": "stdout",
     "output_type": "stream",
     "text": [
      "epoch 0, 0/92: loss=0.4638, acc=0.0469\n",
      "epoch 0, 30/92: loss=0.1434, acc=0.9062\n",
      "epoch 0, 60/92: loss=0.0836, acc=0.9766\n",
      "epoch 0, 90/92: loss=0.0518, acc=0.9844\n",
      "epoch 1, 0/92: loss=0.0568, acc=0.9766\n",
      "epoch 1, 30/92: loss=0.0407, acc=0.9844\n",
      "epoch 1, 60/92: loss=0.0457, acc=0.9531\n",
      "epoch 1, 90/92: loss=0.0229, acc=1.0000\n",
      "epoch 2, 0/92: loss=0.0278, acc=0.9922\n",
      "epoch 2, 30/92: loss=0.0208, acc=0.9922\n",
      "epoch 2, 60/92: loss=0.0294, acc=0.9766\n",
      "epoch 2, 90/92: loss=0.0162, acc=1.0000\n",
      "epoch 3, 0/92: loss=0.0222, acc=0.9922\n",
      "epoch 3, 30/92: loss=0.0155, acc=1.0000\n",
      "epoch 3, 60/92: loss=0.0253, acc=0.9844\n",
      "epoch 3, 90/92: loss=0.0133, acc=1.0000\n",
      "epoch 4, 0/92: loss=0.0162, acc=0.9922\n",
      "epoch 4, 30/92: loss=0.0124, acc=1.0000\n",
      "epoch 4, 60/92: loss=0.0185, acc=0.9922\n",
      "epoch 4, 90/92: loss=0.0121, acc=1.0000\n"
     ]
    },
    {
     "data": {
      "image/png": "[encoded data removed]",
      "text/plain": [
       "<Figure size 432x288 with 1 Axes>"
      ]
     },
     "metadata": {
      "needs_background": "light"
     },
     "output_type": "display_data"
    },
    {
     "data": {
      "application/vnd.jupyter.widget-view+json": {
       "model_id": "5ea4b6fd3b484cc0836c4d4d6b674fd8",
       "version_major": 2,
       "version_minor": 0
      },
      "text/plain": [
       "  0%|          | 0/5 [00:00<?, ?it/s]"
      ]
     },
     "metadata": {},
     "output_type": "display_data"
    },
    {
     "name": "stdout",
     "output_type": "stream",
     "text": [
      "epoch 0, 0/89: loss=0.4304, acc=0.1172\n",
      "epoch 0, 30/89: loss=0.1358, acc=0.8594\n",
      "epoch 0, 60/89: loss=0.0878, acc=0.9375\n",
      "epoch 1, 0/89: loss=0.0643, acc=0.9688\n",
      "epoch 1, 30/89: loss=0.0552, acc=0.9844\n",
      "epoch 1, 60/89: loss=0.0635, acc=0.9609\n",
      "epoch 2, 0/89: loss=0.0459, acc=0.9922\n",
      "epoch 2, 30/89: loss=0.0363, acc=0.9922\n",
      "epoch 2, 60/89: loss=0.0506, acc=0.9844\n",
      "epoch 3, 0/89: loss=0.0453, acc=0.9844\n",
      "epoch 3, 30/89: loss=0.0385, acc=0.9922\n",
      "epoch 3, 60/89: loss=0.0508, acc=0.9922\n",
      "epoch 4, 0/89: loss=0.0398, acc=0.9922\n",
      "epoch 4, 30/89: loss=0.0359, acc=0.9844\n",
      "epoch 4, 60/89: loss=0.0523, acc=0.9844\n"
     ]
    },
    {
     "data": {
      "image/png": "[encoded data removed]",
      "text/plain": [
       "<Figure size 432x288 with 1 Axes>"
      ]
     },
     "metadata": {
      "needs_background": "light"
     },
     "output_type": "display_data"
    },
    {
     "data": {
      "application/vnd.jupyter.widget-view+json": {
       "model_id": "199f965776314a839f48106a44cf8467",
       "version_major": 2,
       "version_minor": 0
      },
      "text/plain": [
       "  0%|          | 0/5 [00:00<?, ?it/s]"
      ]
     },
     "metadata": {},
     "output_type": "display_data"
    },
    {
     "name": "stdout",
     "output_type": "stream",
     "text": [
      "epoch 0, 0/93: loss=0.4176, acc=0.1406\n",
      "epoch 0, 30/93: loss=0.0900, acc=0.9219\n",
      "epoch 0, 60/93: loss=0.0717, acc=0.9219\n",
      "epoch 0, 90/93: loss=0.0384, acc=1.0000\n",
      "epoch 1, 0/93: loss=0.0449, acc=0.9688\n",
      "epoch 1, 30/93: loss=0.0347, acc=0.9766\n",
      "epoch 1, 60/93: loss=0.0480, acc=0.9453\n",
      "epoch 1, 90/93: loss=0.0231, acc=0.9922\n",
      "epoch 2, 0/93: loss=0.0306, acc=0.9766\n",
      "epoch 2, 30/93: loss=0.0244, acc=0.9844\n",
      "epoch 2, 60/93: loss=0.0386, acc=0.9453\n",
      "epoch 2, 90/93: loss=0.0157, acc=1.0000\n",
      "epoch 3, 0/93: loss=0.0290, acc=0.9688\n",
      "epoch 3, 30/93: loss=0.0169, acc=1.0000\n",
      "epoch 3, 60/93: loss=0.0379, acc=0.9453\n",
      "epoch 3, 90/93: loss=0.0165, acc=1.0000\n",
      "epoch 4, 0/93: loss=0.0227, acc=0.9844\n",
      "epoch 4, 30/93: loss=0.0192, acc=0.9922\n",
      "epoch 4, 60/93: loss=0.0401, acc=0.9375\n",
      "epoch 4, 90/93: loss=0.0162, acc=1.0000\n"
     ]
    },
    {
     "data": {
      "image/png": "[encoded data removed]",
      "text/plain": [
       "<Figure size 432x288 with 1 Axes>"
      ]
     },
     "metadata": {
      "needs_background": "light"
     },
     "output_type": "display_data"
    },
    {
     "data": {
      "application/vnd.jupyter.widget-view+json": {
       "model_id": "bbd8cbb998ae43578971cc7f10565dc0",
       "version_major": 2,
       "version_minor": 0
      },
      "text/plain": [
       "  0%|          | 0/5 [00:00<?, ?it/s]"
      ]
     },
     "metadata": {},
     "output_type": "display_data"
    },
    {
     "name": "stdout",
     "output_type": "stream",
     "text": [
      "epoch 0, 0/96: loss=0.3695, acc=0.2266\n",
      "epoch 0, 30/96: loss=0.0742, acc=0.9688\n",
      "epoch 0, 60/96: loss=0.0557, acc=0.9922\n",
      "epoch 0, 90/96: loss=0.0489, acc=0.9766\n",
      "epoch 1, 0/96: loss=0.0470, acc=0.9844\n",
      "epoch 1, 30/96: loss=0.0425, acc=0.9844\n",
      "epoch 1, 60/96: loss=0.0305, acc=0.9844\n",
      "epoch 1, 90/96: loss=0.0304, acc=0.9844\n",
      "epoch 2, 0/96: loss=0.0273, acc=0.9922\n",
      "epoch 2, 30/96: loss=0.0207, acc=1.0000\n",
      "epoch 2, 60/96: loss=0.0249, acc=0.9922\n",
      "epoch 2, 90/96: loss=0.0246, acc=1.0000\n",
      "epoch 3, 0/96: loss=0.0237, acc=0.9922\n",
      "epoch 3, 30/96: loss=0.0187, acc=1.0000\n",
      "epoch 3, 60/96: loss=0.0232, acc=0.9922\n",
      "epoch 3, 90/96: loss=0.0251, acc=0.9922\n",
      "epoch 4, 0/96: loss=0.0213, acc=0.9922\n",
      "epoch 4, 30/96: loss=0.0223, acc=0.9922\n",
      "epoch 4, 60/96: loss=0.0232, acc=0.9922\n",
      "epoch 4, 90/96: loss=0.0191, acc=0.9922\n"
     ]
    },
    {
     "data": {
      "image/png": "[encoded data removed]",
      "text/plain": [
       "<Figure size 432x288 with 1 Axes>"
      ]
     },
     "metadata": {
      "needs_background": "light"
     },
     "output_type": "display_data"
    }
   ],
   "source": [
    "params_list = []\n",
    "gmm_list = []\n",
    "for node in tqdm(range(n_node-1)):\n",
    "    x_train_node, y_train_node = filter_pair(x_train, y_train, 0, node + 1)\n",
    "    x_train_small = tf.image.resize(x_train_node[..., tf.newaxis], (int(2**(n/2)), int(2**(n/2)))).numpy()[..., 0].reshape(-1, 2**n)\n",
    "    x_train_small = x_train_small / jnp.sqrt(jnp.sum(x_train_small**2, axis=-1, keepdims=True))\n",
    "    data = tf.data.Dataset.from_tensor_slices((x_train_small, y_train_node)).shuffle(100).batch(128)\n",
    "\n",
    "    # GMM\n",
    "    gmm = GaussianMixture(n_components=5, max_iter=100)\n",
    "    gmm.fit(x_train_small)\n",
    "    gmm_list.append(gmm)\n",
    "\n",
    "    params = K.randn((k * 2, n), dtype=jnp.float32)\n",
    "    opt = optax.adam(learning_rate=1e-2)\n",
    "    opt_state = opt.init(params)\n",
    "\n",
    "    loss_list = []\n",
    "    acc_list = []\n",
    "    for e in tqdm(range(5), leave=False):\n",
    "        for i, (x, y) in enumerate(data):\n",
    "            x = x.numpy()\n",
    "            y = y.numpy()\n",
    "            loss_val, grad_val = compute_loss(params, x, y, k)\n",
    "            updates, opt_state = opt.update(grad_val, opt_state, params)\n",
    "            params = optax.apply_updates(params, updates)\n",
    "            loss_mean = jnp.mean(loss_val)\n",
    "            if i % 30 == 0:\n",
    "                acc = jnp.mean(compute_accuracy(params, x, y, k))\n",
    "                acc_list.append(acc)\n",
    "                loss_list.append(loss_mean)\n",
    "                print(f'epoch {e}, {i}/{len(data)}: loss={loss_mean:.4f}, acc={acc:.4f}')\n",
    "\n",
    "    plt.plot(loss_list)\n",
    "    plt.plot(acc_list)\n",
    "    plt.legend(['loss', 'accuracy'])\n",
    "    plt.ylim(0, 1)\n",
    "    plt.show()\n",
    "\n",
    "    params_list.append(params)\n"
   ]
  },
  {
   "cell_type": "code",
   "execution_count": 41,
   "metadata": {},
   "outputs": [],
   "source": [
    "def pred(params, x, y, k):\n",
    "    c = tc.Circuit(n, inputs=x)\n",
    "    for j in range(k):\n",
    "        for i in range(n - 1):\n",
    "            c.cnot(i, i + 1)\n",
    "        for i in range(n):\n",
    "            c.rx(i, theta=params[2 * j, i])\n",
    "            c.ry(i, theta=params[2 * j + 1, i])\n",
    "    logits = []\n",
    "    for i in range(n_node):\n",
    "        logits.append(jnp.real(c.expectation([tc.gates.z(), [i,]])))\n",
    "    logits = jnp.stack(logits, axis=-1) * 10\n",
    "    probs = jax.nn.softmax(logits)\n",
    "    return probs\n",
    "# pred = K.jit(pred, static_argnums=[3])"
   ]
  },
  {
   "cell_type": "code",
   "execution_count": 42,
   "metadata": {},
   "outputs": [
    {
     "data": {
      "image/png": "[encoded data removed]",
      "text/plain": [
       "<Figure size 432x288 with 1 Axes>"
      ]
     },
     "metadata": {
      "needs_background": "light"
     },
     "output_type": "display_data"
    },
    {
     "name": "stdout",
     "output_type": "stream",
     "text": [
      "[0. 0. 0. 1. 0. 0. 0. 0.]\n"
     ]
    },
    {
     "data": {
      "text/plain": [
       "DeviceArray([5.8261906e-03, 2.3156914e-03, 2.7937740e-03, 9.8701173e-01,\n",
       "             1.7530398e-03, 1.4392963e-04, 6.4332242e-05, 9.1290967e-05],            dtype=float32)"
      ]
     },
     "execution_count": 42,
     "metadata": {},
     "output_type": "execute_result"
    }
   ],
   "source": [
    "i = 3\n",
    "x_train_node, y_train_node = filter_pair(x_train, y_train, 0, 2 + 1)\n",
    "x_train_small = tf.image.resize(x_train_node[..., tf.newaxis], (int(2**(n/2)), int(2**(n/2)))).numpy()[..., 0].reshape(-1, 2**n)\n",
    "x_train_small = x_train_small / jnp.sqrt(jnp.sum(x_train_small**2, axis=-1, keepdims=True))\n",
    "plt.imshow(x_train_small[i].reshape(16, 16))\n",
    "plt.show()\n",
    "print(y_train_node[i])\n",
    "pred(params_list[2], x_train_small[i], y_train_node[i], k)"
   ]
  },
  {
   "cell_type": "code",
   "execution_count": 43,
   "metadata": {},
   "outputs": [
    {
     "data": {
      "application/vnd.jupyter.widget-view+json": {
       "model_id": "58caf0766eb94e86bbcf7faab7171849",
       "version_major": 2,
       "version_minor": 0
      },
      "text/plain": [
       "  0%|          | 0/7 [00:00<?, ?it/s]"
      ]
     },
     "metadata": {},
     "output_type": "display_data"
    }
   ],
   "source": [
    "density_est_list = []\n",
    "p_node = []\n",
    "for node in tqdm(range(n_node-1)):\n",
    "    x_train_node, y_train_node = filter_pair(x_train, y_train, 0, node + 1)\n",
    "    # x_train_node = x_train_node[:1000]\n",
    "    # y_train_node = y_train_node[:1000]\n",
    "    x_train_small = tf.image.resize(x_train_node[..., tf.newaxis], (int(2**(n/2)), int(2**(n/2)))).numpy()[..., 0].reshape(-1, 2**n)\n",
    "    x_train_small = x_train_small / jnp.sqrt(jnp.sum(x_train_small**2, axis=-1, keepdims=True))\n",
    "    dm = jnp.einsum('nij, njk -> nik', jnp.conjugate(x_train_small.reshape(-1, 2**n, 1)), x_train_small.reshape(-1, 1, 2**n))\n",
    "    density_est_list.append(jnp.mean(dm, axis=0))\n",
    "    p_node.append(len(x_train_small))\n",
    "density_est_list = jnp.stack(density_est_list, axis=0)\n",
    "p_node = jnp.stack(p_node, axis=0) / jnp.sum(jnp.array(p_node))"
   ]
  },
  {
   "cell_type": "code",
   "execution_count": 44,
   "metadata": {},
   "outputs": [
    {
     "name": "stdout",
     "output_type": "stream",
     "text": [
      "[0.38609353 0.39015436 0.41028053 0.4130728  0.4128412  0.40908492\n",
      " 0.27013138 0.3073421  0.30810428 0.2896704  0.3419245  0.3336453\n",
      " 0.22087297 0.33818638 0.34396785 0.29891497 0.3051919  0.28791517\n",
      " 0.29639605 0.33918315 0.3883878 ]\n",
      "0.3376839 0.05277701\n",
      "0.66884196\n"
     ]
    }
   ],
   "source": [
    "from itertools import combinations\n",
    "trace_dist_list = []\n",
    "for dm1, dm2 in combinations(density_est_list, 2):\n",
    "    diff = dm1 - dm2\n",
    "    eigenvals = jnp.linalg.eigh(diff)[0]\n",
    "    trace_dist = jnp.sum(jnp.abs(eigenvals)) / 2\n",
    "    trace_dist_list.append(trace_dist)\n",
    "trace_dist_list = jnp.stack(trace_dist_list, axis=0)\n",
    "print(trace_dist_list)\n",
    "print(jnp.mean(trace_dist_list), jnp.std(trace_dist_list))\n",
    "print((1 + jnp.mean(trace_dist_list)) / 2)"
   ]
  },
  {
   "cell_type": "code",
   "execution_count": 45,
   "metadata": {},
   "outputs": [
    {
     "data": {
      "image/png": "[encoded data removed]",
      "text/plain": [
       "<Figure size 432x288 with 1 Axes>"
      ]
     },
     "metadata": {
      "needs_background": "light"
     },
     "output_type": "display_data"
    }
   ],
   "source": [
    "for i in range(n_node):\n",
    "    plt.scatter(jnp.arange(8), jnp.linalg.eigh(density_est_list[i])[0][::-1][:8], s=5)\n",
    "plt.yscale('log')\n",
    "plt.ylabel('Leading Eigenvalues')\n",
    "plt.ylim(top=1)\n",
    "plt.show()"
   ]
  },
  {
   "cell_type": "code",
   "execution_count": 46,
   "metadata": {},
   "outputs": [
    {
     "data": {
      "text/plain": [
       "DeviceArray([0.15124556, 0.14188302, 0.14394899, 0.14049774, 0.13547017,\n",
       "             0.14140534, 0.14554922], dtype=float32)"
      ]
     },
     "execution_count": 46,
     "metadata": {},
     "output_type": "execute_result"
    }
   ],
   "source": [
    "p_node"
   ]
  },
  {
   "cell_type": "code",
   "execution_count": 57,
   "metadata": {},
   "outputs": [],
   "source": [
    "def pred_comb_with_gmm(params, x, gmm_scores, k, d_mode='GMM'):\n",
    "    dm_list = []\n",
    "    for node in range(n_node-1):\n",
    "        c = tc.Circuit(n, inputs=x)\n",
    "        for j in range(k):\n",
    "            for i in range(n - 1):\n",
    "                c.cnot(i, i + 1)\n",
    "            for i in range(n):\n",
    "                c.rx(i, theta=params[node][2 * j, i])\n",
    "                c.ry(i, theta=params[node][2 * j + 1, i])\n",
    "        density_matrix = jnp.conjugate(c.wavefunction('ket')) @ c.wavefunction('bra')\n",
    "        dm_list.append(density_matrix)\n",
    "\n",
    "    if d_mode == 'DM':\n",
    "        projector = jnp.conjugate(x.reshape(-1, 1)) @ x.reshape(1, -1)\n",
    "        weight = jnp.einsum('nij, ji -> n', density_est_list, projector).reshape(-1, 1, 1) * p_node.reshape(-1, 1, 1)\n",
    "        weight = (weight)**10\n",
    "        weight = weight / jnp.sum(weight)\n",
    "    elif d_mode == 'GMM':\n",
    "        weight = jnp.exp(gmm_scores - jnp.max(gmm_scores)).reshape(-1) * p_node\n",
    "        weight = weight / jnp.sum(weight)\n",
    "        weight = weight.reshape(-1, 1, 1)\n",
    "    else:\n",
    "        print('d_mode must be DM or GMM')\n",
    "        return None\n",
    "\n",
    "    dm = jnp.sum(jnp.stack(dm_list, axis=0) * weight, axis=0)\n",
    "    # print(jnp.trace(dm))\n",
    "    c = tc.DMCircuit(n, dminputs=dm)\n",
    "    logits = []\n",
    "    for i in range(n_node):\n",
    "        logits.append(jnp.real(c.expectation([tc.gates.z(), [i,]])))\n",
    "    logits = jnp.stack(logits, axis=-1) * 10\n",
    "    pred_prob = jax.nn.softmax(logits)\n",
    "\n",
    "    # pred_prob = []\n",
    "    # for node in range(n_node):\n",
    "    #     c = tc.DMCircuit(n, dminputs=dm_list[node])\n",
    "    #     pred_prob.append(1-(jnp.real(c.expectation([tc.gates.z(), [node,]])) + 1) / 2)\n",
    "\n",
    "    # # print(pred_prob)\n",
    "    # # print(weight)\n",
    "    # pred_prob = jnp.stack(pred_prob, axis=0) * weight.reshape(-1)\n",
    "    # pred_prob = jnp.hstack([1-jnp.sum(pred_prob), pred_prob])\n",
    "\n",
    "    return pred_prob\n",
    "pred_comb_with_gmm = K.vmap(pred_comb_with_gmm, vectorized_argnums=[1, 2])\n",
    "\n",
    "def pred_comb(params, x, k, d_mode='GMM'):\n",
    "    gmm_scores_list = []\n",
    "    for node in range(n_node-1):\n",
    "        gmm_scores = gmm_list[node].score_samples(x)\n",
    "        gmm_scores_list.append(gmm_scores)\n",
    "    gmm_scores_list = jnp.stack(gmm_scores_list, axis=-1)\n",
    "    \n",
    "    pred_prob = pred_comb_with_gmm(params, x, gmm_scores_list, k, d_mode)\n",
    "    return pred_prob\n"
   ]
  },
  {
   "cell_type": "code",
   "execution_count": 48,
   "metadata": {},
   "outputs": [
    {
     "data": {
      "text/plain": [
       "<matplotlib.image.AxesImage at 0x7fd950fa49a0>"
      ]
     },
     "execution_count": 48,
     "metadata": {},
     "output_type": "execute_result"
    },
    {
     "data": {
      "image/png": "[encoded data removed]",
      "text/plain": [
       "<Figure size 432x288 with 1 Axes>"
      ]
     },
     "metadata": {
      "needs_background": "light"
     },
     "output_type": "display_data"
    }
   ],
   "source": [
    "i = 37\n",
    "x_train_node, y_train_node = filter_pair(x_train, y_train, 0, 2 + 1)\n",
    "x_train_small = tf.image.resize(x_train_node[..., tf.newaxis], (int(2**(n/2)), int(2**(n/2)))).numpy()[..., 0].reshape(-1, 2**n)\n",
    "x_train_small = x_train_small / jnp.sqrt(jnp.sum(x_train_small**2, axis=-1, keepdims=True))\n",
    "plt.imshow(x_train_small[i].reshape(16, 16))"
   ]
  },
  {
   "cell_type": "code",
   "execution_count": 49,
   "metadata": {},
   "outputs": [
    {
     "data": {
      "text/plain": [
       "DeviceArray(0.97999996, dtype=float32)"
      ]
     },
     "execution_count": 49,
     "metadata": {},
     "output_type": "execute_result"
    }
   ],
   "source": [
    "jnp.mean(pred_comb(params_list, x_train_small[:100], k, d_mode='GMM').argmax(axis=-1) == y_train_node[:100].argmax(axis=-1))"
   ]
  },
  {
   "cell_type": "code",
   "execution_count": 58,
   "metadata": {},
   "outputs": [
    {
     "data": {
      "text/plain": [
       "DeviceArray(0.90999997, dtype=float32)"
      ]
     },
     "execution_count": 58,
     "metadata": {},
     "output_type": "execute_result"
    }
   ],
   "source": [
    "jnp.mean(pred_comb(params_list, x_train_small[:100], k, d_mode='DM').argmax(axis=-1) == y_train_node[:100].argmax(axis=-1))"
   ]
  },
  {
   "cell_type": "code",
   "execution_count": 51,
   "metadata": {},
   "outputs": [],
   "source": [
    "x_test = tf.image.resize(x_test[..., tf.newaxis], (int(2**(n/2)), int(2**(n/2)))).numpy()[..., 0].reshape(-1, 2**n)\n",
    "x_test = x_test / jnp.sqrt(jnp.sum(x_test**2, axis=-1, keepdims=True))"
   ]
  },
  {
   "cell_type": "code",
   "execution_count": 52,
   "metadata": {},
   "outputs": [
    {
     "data": {
      "text/plain": [
       "DeviceArray(0.90625, dtype=float32)"
      ]
     },
     "execution_count": 52,
     "metadata": {},
     "output_type": "execute_result"
    }
   ],
   "source": [
    "jnp.mean(pred_comb(params_list, x_test[:1024], k, d_mode='GMM').argmax(axis=-1) == y_test[:1024])"
   ]
  },
  {
   "cell_type": "code",
   "execution_count": 59,
   "metadata": {},
   "outputs": [
    {
     "data": {
      "text/plain": [
       "DeviceArray(0.6640625, dtype=float32)"
      ]
     },
     "execution_count": 59,
     "metadata": {},
     "output_type": "execute_result"
    }
   ],
   "source": [
    "jnp.mean(pred_comb(params_list, x_test[:1024], k, d_mode='DM').argmax(axis=-1) == y_test[:1024])"
   ]
  },
  {
   "cell_type": "code",
   "execution_count": null,
   "metadata": {},
   "outputs": [],
   "source": []
  }
 ],
 "metadata": {
  "kernelspec": {
   "display_name": "Python 3.9.12 ('ode-rnn')",
   "language": "python",
   "name": "python3"
  },
  "language_info": {
   "codemirror_mode": {
    "name": "ipython",
    "version": 3
   },
   "file_extension": ".py",
   "mimetype": "text/x-python",
   "name": "python",
   "nbconvert_exporter": "python",
   "pygments_lexer": "ipython3",
   "version": "3.9.12"
  },
  "orig_nbformat": 4,
  "vscode": {
   "interpreter": {
    "hash": "274e8ed069bc503cc01fa1aa16068ccb03180744fbf761618fb0dbde6179c71c"
   }
  }
 },
 "nbformat": 4,
 "nbformat_minor": 2
}
