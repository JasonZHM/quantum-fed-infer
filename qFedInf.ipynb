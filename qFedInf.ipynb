{
 "cells": [
  {
   "cell_type": "code",
   "execution_count": 1,
   "metadata": {},
   "outputs": [
    {
     "name": "stderr",
     "output_type": "stream",
     "text": [
      "2022-08-13 11:31:01.581066: I tensorflow/core/util/util.cc:169] oneDNN custom operations are on. You may see slightly different numerical results due to floating-point round-off errors from different computation orders. To turn them off, set the environment variable `TF_ENABLE_ONEDNN_OPTS=0`.\n"
     ]
    }
   ],
   "source": [
    "import tensorcircuit as tc\n",
    "import optax\n",
    "import jax.numpy as jnp\n",
    "import jax\n",
    "import tensorflow as tf\n",
    "import matplotlib.pyplot as plt\n",
    "from tqdm.notebook import tqdm\n",
    "\n",
    "from sklearn.mixture import GaussianMixture\n",
    "\n",
    "import os\n",
    "os.environ[\"CUDA_DEVICE_ORDER\"]=\"PCI_BUS_ID\"\n",
    "os.environ[\"CUDA_VISIBLE_DEVICES\"]=\"0\"\n",
    "os.environ[\"XLA_PYTHON_CLIENT_PREALLOCATE\"]=\"false\"\n",
    "os.environ[\"TF_FORCE_GPU_ALLOW_GROWTH\"]=\"true\"\n",
    "\n",
    "plt.rcParams[\"font.family\"] = \"serif\"\n",
    "plt.rcParams['mathtext.fontset'] = 'cm'\n",
    "plt.rcParams['mathtext.rm'] = 'serif'\n",
    "plt.rc('font', size=14)\n",
    "\n",
    "key = jax.random.PRNGKey(42)\n",
    "tf.random.set_seed(42)"
   ]
  },
  {
   "cell_type": "code",
   "execution_count": 2,
   "metadata": {},
   "outputs": [],
   "source": [
    "dataset = 'mnist'\n",
    "# dataset = 'fashion'\n",
    "readout_mode = 'softmax'\n",
    "# readout_mode = 'sample'\n",
    "encoding_mode = 'vanilla'\n",
    "# encoding_mode = 'mean'\n",
    "# encoding_mode = 'half'"
   ]
  },
  {
   "cell_type": "code",
   "execution_count": 3,
   "metadata": {},
   "outputs": [],
   "source": [
    "n = 8\n",
    "n_node = 8"
   ]
  },
  {
   "cell_type": "code",
   "execution_count": 4,
   "metadata": {},
   "outputs": [],
   "source": [
    "K = tc.set_backend('jax')"
   ]
  },
  {
   "cell_type": "code",
   "execution_count": 5,
   "metadata": {},
   "outputs": [
    {
     "name": "stderr",
     "output_type": "stream",
     "text": [
      "2022-08-13 11:31:13.715109: I tensorflow/core/platform/cpu_feature_guard.cc:193] This TensorFlow binary is optimized with oneAPI Deep Neural Network Library (oneDNN) to use the following CPU instructions in performance-critical operations:  AVX2 AVX512F AVX512_VNNI FMA\n",
      "To enable them in other operations, rebuild TensorFlow with the appropriate compiler flags.\n",
      "2022-08-13 11:31:16.121269: W tensorflow/core/common_runtime/gpu/gpu_bfc_allocator.cc:42] Overriding orig_value setting because the TF_FORCE_GPU_ALLOW_GROWTH environment variable is set. Original config value was 0.\n",
      "2022-08-13 11:31:16.121350: I tensorflow/core/common_runtime/gpu/gpu_device.cc:1532] Created device /job:localhost/replica:0/task:0/device:GPU:0 with 29862 MB memory:  -> device: 0, name: Tesla V100-PCIE-32GB, pci bus id: 0000:12:00.0, compute capability: 7.0\n"
     ]
    }
   ],
   "source": [
    "# numpy data\n",
    "if dataset == 'mnist':\n",
    "    (x_train, y_train), (x_test, y_test) = tf.keras.datasets.mnist.load_data()\n",
    "elif dataset == 'fashion':\n",
    "    (x_train, y_train), (x_test, y_test) = tf.keras.datasets.fashion_mnist.load_data()\n",
    "ind = y_test == 9\n",
    "x_test, y_test = x_test[~ind], y_test[~ind]\n",
    "ind = y_test == 8\n",
    "x_test, y_test = x_test[~ind], y_test[~ind]\n",
    "\n",
    "x_train = x_train / 255.0\n",
    "if encoding_mode == 'vanilla':\n",
    "    mean = 0\n",
    "elif encoding_mode == 'mean':\n",
    "    mean = jnp.mean(x_train, axis=0)\n",
    "elif encoding_mode == 'half':\n",
    "    mean = 0.5\n",
    "x_train = x_train - mean\n",
    "x_train = tf.image.resize(x_train[..., tf.newaxis], (int(2**(n/2)), int(2**(n/2)))).numpy()[..., 0].reshape(-1, 2**n)\n",
    "x_train = x_train / jnp.sqrt(jnp.sum(x_train**2, axis=-1, keepdims=True))\n",
    "\n",
    "x_test = x_test / 255.0\n",
    "x_test = x_test - mean\n",
    "x_test = tf.image.resize(x_test[..., tf.newaxis], (int(2**(n/2)), int(2**(n/2)))).numpy()[..., 0].reshape(-1, 2**n)\n",
    "x_test = x_test / jnp.sqrt(jnp.sum(x_test**2, axis=-1, keepdims=True))\n",
    "y_test = jax.nn.one_hot(y_test, n_node)\n",
    "\n",
    "def filter_pair(x, y, a, b):\n",
    "    keep = (y == a) | (y == b)\n",
    "    x, y = x[keep], y[keep]\n",
    "    y = jax.nn.one_hot(y, n_node)\n",
    "    return x, y"
   ]
  },
  {
   "cell_type": "code",
   "execution_count": 6,
   "metadata": {},
   "outputs": [],
   "source": [
    "def clf(params, c, k):\n",
    "    for j in range(k):\n",
    "        for i in range(n - 1):\n",
    "            c.cnot(i, i + 1)\n",
    "        for i in range(n):\n",
    "            c.rx(i, theta=params[3 * j, i])\n",
    "            c.rz(i, theta=params[3 * j + 1, i])\n",
    "            c.rx(i, theta=params[3 * j + 2, i])\n",
    "    return c\n",
    "\n",
    "def readout(c):\n",
    "    if readout_mode == 'softmax':\n",
    "        logits = []\n",
    "        for i in range(n_node):\n",
    "            logits.append(jnp.real(c.expectation([tc.gates.z(), [i,]])))\n",
    "        logits = jnp.stack(logits, axis=-1) * 10\n",
    "        probs = jax.nn.softmax(logits)\n",
    "    elif readout_mode == 'sample':\n",
    "        wf = jnp.abs(c.wavefunction()[:n_node])**2\n",
    "        probs = wf / jnp.sum(wf)\n",
    "    return probs"
   ]
  },
  {
   "cell_type": "code",
   "execution_count": 7,
   "metadata": {},
   "outputs": [],
   "source": [
    "def loss(params, x, y, k):\n",
    "    c = tc.Circuit(n, inputs=x)\n",
    "    c = clf(params, c, k)\n",
    "    probs = readout(c)\n",
    "    return -jnp.mean(jnp.sum(y * jnp.log(probs + 1e-7), axis=-1))\n",
    "loss = K.jit(loss, static_argnums=[3])"
   ]
  },
  {
   "cell_type": "code",
   "execution_count": 8,
   "metadata": {},
   "outputs": [],
   "source": [
    "def accuracy(params, x, y, k):\n",
    "    c = tc.Circuit(n, inputs=x)\n",
    "    c = clf(params, c, k)\n",
    "    probs = readout(c)\n",
    "    return jnp.argmax(probs, axis=-1) == jnp.argmax(y, axis=-1)\n",
    "accuracy = K.jit(accuracy, static_argnums=[3])"
   ]
  },
  {
   "cell_type": "code",
   "execution_count": 9,
   "metadata": {},
   "outputs": [],
   "source": [
    "k = 6"
   ]
  },
  {
   "cell_type": "code",
   "execution_count": 10,
   "metadata": {},
   "outputs": [],
   "source": [
    "compute_loss = K.jit(K.vectorized_value_and_grad(loss, vectorized_argnums=[1, 2]), static_argnums=[3])\n",
    "compute_accuracy = K.jit(K.vmap(accuracy, vectorized_argnums=[1, 2]), static_argnums=[3])"
   ]
  },
  {
   "cell_type": "code",
   "execution_count": 11,
   "metadata": {},
   "outputs": [
    {
     "data": {
      "application/vnd.jupyter.widget-view+json": {
       "model_id": "31bb432adcc44dd1bc274df284971919",
       "version_major": 2,
       "version_minor": 0
      },
      "text/plain": [
       "  0%|          | 0/7 [00:00<?, ?it/s]"
      ]
     },
     "metadata": {},
     "output_type": "display_data"
    },
    {
     "data": {
      "application/vnd.jupyter.widget-view+json": {
       "model_id": "a9b05be682b94258bef9de68d07550d0",
       "version_major": 2,
       "version_minor": 0
      },
      "text/plain": [
       "  0%|          | 0/5 [00:00<?, ?it/s]"
      ]
     },
     "metadata": {},
     "output_type": "display_data"
    },
    {
     "name": "stdout",
     "output_type": "stream",
     "text": [
      "epoch 0, 0/99: loss=2.7385, acc=0.0312\n",
      "epoch 0, 20/99: loss=0.7972, acc=0.7031\n",
      "epoch 0, 40/99: loss=0.4311, acc=0.8672\n",
      "epoch 0, 60/99: loss=0.2070, acc=0.9766\n",
      "epoch 0, 80/99: loss=0.1643, acc=0.9844\n",
      "epoch 1, 0/99: loss=0.2340, acc=0.9609\n",
      "epoch 1, 20/99: loss=0.1729, acc=0.9844\n",
      "epoch 1, 40/99: loss=0.1686, acc=0.9766\n",
      "epoch 1, 60/99: loss=0.0966, acc=0.9922\n",
      "epoch 1, 80/99: loss=0.0782, acc=1.0000\n",
      "epoch 2, 0/99: loss=0.1680, acc=0.9688\n",
      "epoch 2, 20/99: loss=0.1065, acc=0.9922\n",
      "epoch 2, 40/99: loss=0.1139, acc=0.9766\n",
      "epoch 2, 60/99: loss=0.0594, acc=0.9922\n",
      "epoch 2, 80/99: loss=0.0423, acc=1.0000\n",
      "epoch 3, 0/99: loss=0.1152, acc=0.9688\n",
      "epoch 3, 20/99: loss=0.0630, acc=1.0000\n",
      "epoch 3, 40/99: loss=0.0784, acc=0.9844\n",
      "epoch 3, 60/99: loss=0.0379, acc=0.9922\n",
      "epoch 3, 80/99: loss=0.0266, acc=1.0000\n",
      "epoch 4, 0/99: loss=0.0793, acc=0.9844\n",
      "epoch 4, 20/99: loss=0.0403, acc=1.0000\n",
      "epoch 4, 40/99: loss=0.0570, acc=0.9844\n",
      "epoch 4, 60/99: loss=0.0258, acc=0.9922\n",
      "epoch 4, 80/99: loss=0.0200, acc=1.0000\n"
     ]
    },
    {
     "data": {
      "image/png": "[encoded data removed]",
      "text/plain": [
       "<Figure size 432x288 with 1 Axes>"
      ]
     },
     "metadata": {
      "needs_background": "light"
     },
     "output_type": "display_data"
    },
    {
     "data": {
      "application/vnd.jupyter.widget-view+json": {
       "model_id": "69c3f17abecd4b69b2c982f1a4e36a23",
       "version_major": 2,
       "version_minor": 0
      },
      "text/plain": [
       "  0%|          | 0/5 [00:00<?, ?it/s]"
      ]
     },
     "metadata": {},
     "output_type": "display_data"
    },
    {
     "name": "stdout",
     "output_type": "stream",
     "text": [
      "epoch 0, 0/93: loss=3.0253, acc=0.0156\n",
      "epoch 0, 20/93: loss=0.8832, acc=0.8203\n",
      "epoch 0, 40/93: loss=0.5163, acc=0.9453\n",
      "epoch 0, 60/93: loss=0.4144, acc=0.9297\n",
      "epoch 0, 80/93: loss=0.3635, acc=0.9375\n",
      "epoch 1, 0/93: loss=0.2873, acc=0.9453\n",
      "epoch 1, 20/93: loss=0.2846, acc=0.9297\n",
      "epoch 1, 40/93: loss=0.2457, acc=0.9531\n",
      "epoch 1, 60/93: loss=0.2420, acc=0.9609\n",
      "epoch 1, 80/93: loss=0.2209, acc=0.9609\n",
      "epoch 2, 0/93: loss=0.1935, acc=0.9766\n",
      "epoch 2, 20/93: loss=0.2073, acc=0.9453\n",
      "epoch 2, 40/93: loss=0.1829, acc=0.9766\n",
      "epoch 2, 60/93: loss=0.1930, acc=0.9609\n",
      "epoch 2, 80/93: loss=0.1742, acc=0.9688\n",
      "epoch 3, 0/93: loss=0.1612, acc=0.9688\n",
      "epoch 3, 20/93: loss=0.1723, acc=0.9609\n",
      "epoch 3, 40/93: loss=0.1630, acc=0.9766\n",
      "epoch 3, 60/93: loss=0.1755, acc=0.9688\n",
      "epoch 3, 80/93: loss=0.1565, acc=0.9766\n",
      "epoch 4, 0/93: loss=0.1429, acc=0.9688\n",
      "epoch 4, 20/93: loss=0.1566, acc=0.9609\n",
      "epoch 4, 40/93: loss=0.1558, acc=0.9688\n",
      "epoch 4, 60/93: loss=0.1703, acc=0.9688\n",
      "epoch 4, 80/93: loss=0.1491, acc=0.9766\n"
     ]
    },
    {
     "data": {
      "image/png": "[encoded data removed]",
      "text/plain": [
       "<Figure size 432x288 with 1 Axes>"
      ]
     },
     "metadata": {
      "needs_background": "light"
     },
     "output_type": "display_data"
    },
    {
     "data": {
      "application/vnd.jupyter.widget-view+json": {
       "model_id": "f0fa3349033b47549d31f437d2b593cc",
       "version_major": 2,
       "version_minor": 0
      },
      "text/plain": [
       "  0%|          | 0/5 [00:00<?, ?it/s]"
      ]
     },
     "metadata": {},
     "output_type": "display_data"
    },
    {
     "name": "stdout",
     "output_type": "stream",
     "text": [
      "epoch 0, 0/95: loss=2.2947, acc=0.2500\n",
      "epoch 0, 20/95: loss=0.9116, acc=0.8203\n",
      "epoch 0, 40/95: loss=0.4191, acc=0.9531\n",
      "epoch 0, 60/95: loss=0.2709, acc=0.9766\n",
      "epoch 0, 80/95: loss=0.2146, acc=0.9766\n",
      "epoch 1, 0/95: loss=0.2146, acc=0.9766\n",
      "epoch 1, 20/95: loss=0.2372, acc=0.9531\n",
      "epoch 1, 40/95: loss=0.1714, acc=0.9766\n",
      "epoch 1, 60/95: loss=0.1577, acc=0.9844\n",
      "epoch 1, 80/95: loss=0.1407, acc=0.9844\n",
      "epoch 2, 0/95: loss=0.1479, acc=0.9844\n",
      "epoch 2, 20/95: loss=0.1757, acc=0.9766\n",
      "epoch 2, 40/95: loss=0.1344, acc=0.9766\n",
      "epoch 2, 60/95: loss=0.1288, acc=0.9922\n",
      "epoch 2, 80/95: loss=0.1154, acc=0.9922\n",
      "epoch 3, 0/95: loss=0.1264, acc=1.0000\n",
      "epoch 3, 20/95: loss=0.1473, acc=0.9688\n",
      "epoch 3, 40/95: loss=0.1142, acc=0.9766\n",
      "epoch 3, 60/95: loss=0.1113, acc=0.9922\n",
      "epoch 3, 80/95: loss=0.0955, acc=1.0000\n",
      "epoch 4, 0/95: loss=0.1072, acc=1.0000\n",
      "epoch 4, 20/95: loss=0.1307, acc=0.9766\n",
      "epoch 4, 40/95: loss=0.0912, acc=0.9922\n",
      "epoch 4, 60/95: loss=0.0962, acc=0.9922\n",
      "epoch 4, 80/95: loss=0.0763, acc=1.0000\n"
     ]
    },
    {
     "data": {
      "image/png": "[encoded data removed]",
      "text/plain": [
       "<Figure size 432x288 with 1 Axes>"
      ]
     },
     "metadata": {
      "needs_background": "light"
     },
     "output_type": "display_data"
    },
    {
     "data": {
      "application/vnd.jupyter.widget-view+json": {
       "model_id": "dd794f1e48b1456b80c5f5da28f2c6d7",
       "version_major": 2,
       "version_minor": 0
      },
      "text/plain": [
       "  0%|          | 0/5 [00:00<?, ?it/s]"
      ]
     },
     "metadata": {},
     "output_type": "display_data"
    },
    {
     "name": "stdout",
     "output_type": "stream",
     "text": [
      "epoch 0, 0/92: loss=2.2185, acc=0.1797\n",
      "epoch 0, 20/92: loss=0.5783, acc=0.9922\n",
      "epoch 0, 40/92: loss=0.3651, acc=1.0000\n",
      "epoch 0, 60/92: loss=0.2490, acc=0.9766\n",
      "epoch 0, 80/92: loss=0.2094, acc=0.9844\n",
      "epoch 1, 0/92: loss=0.1521, acc=0.9844\n",
      "epoch 1, 20/92: loss=0.1109, acc=1.0000\n",
      "epoch 1, 40/92: loss=0.1262, acc=0.9922\n",
      "epoch 1, 60/92: loss=0.1477, acc=0.9766\n",
      "epoch 1, 80/92: loss=0.1213, acc=0.9844\n",
      "epoch 2, 0/92: loss=0.0971, acc=1.0000\n",
      "epoch 2, 20/92: loss=0.0888, acc=1.0000\n",
      "epoch 2, 40/92: loss=0.1054, acc=1.0000\n",
      "epoch 2, 60/92: loss=0.1362, acc=0.9688\n",
      "epoch 2, 80/92: loss=0.1036, acc=0.9844\n",
      "epoch 3, 0/92: loss=0.0832, acc=1.0000\n",
      "epoch 3, 20/92: loss=0.0814, acc=1.0000\n",
      "epoch 3, 40/92: loss=0.0970, acc=1.0000\n",
      "epoch 3, 60/92: loss=0.1320, acc=0.9688\n",
      "epoch 3, 80/92: loss=0.0948, acc=0.9922\n",
      "epoch 4, 0/92: loss=0.0764, acc=1.0000\n",
      "epoch 4, 20/92: loss=0.0754, acc=1.0000\n",
      "epoch 4, 40/92: loss=0.0915, acc=1.0000\n",
      "epoch 4, 60/92: loss=0.1289, acc=0.9688\n",
      "epoch 4, 80/92: loss=0.0869, acc=0.9922\n"
     ]
    },
    {
     "data": {
      "image/png": "[encoded data removed]",
      "text/plain": [
       "<Figure size 432x288 with 1 Axes>"
      ]
     },
     "metadata": {
      "needs_background": "light"
     },
     "output_type": "display_data"
    },
    {
     "data": {
      "application/vnd.jupyter.widget-view+json": {
       "model_id": "13591b0624d5427ea0f76a8f127259a4",
       "version_major": 2,
       "version_minor": 0
      },
      "text/plain": [
       "  0%|          | 0/5 [00:00<?, ?it/s]"
      ]
     },
     "metadata": {},
     "output_type": "display_data"
    },
    {
     "name": "stdout",
     "output_type": "stream",
     "text": [
      "epoch 0, 0/89: loss=1.9661, acc=0.2891\n",
      "epoch 0, 20/89: loss=0.8092, acc=0.8047\n",
      "epoch 0, 40/89: loss=0.4848, acc=0.9219\n",
      "epoch 0, 60/89: loss=0.4428, acc=0.9141\n",
      "epoch 0, 80/89: loss=0.2503, acc=0.9844\n",
      "epoch 1, 0/89: loss=0.3017, acc=0.9375\n",
      "epoch 1, 20/89: loss=0.2717, acc=0.9453\n",
      "epoch 1, 40/89: loss=0.2112, acc=0.9844\n",
      "epoch 1, 60/89: loss=0.2770, acc=0.9531\n",
      "epoch 1, 80/89: loss=0.1624, acc=0.9844\n",
      "epoch 2, 0/89: loss=0.2055, acc=0.9766\n",
      "epoch 2, 20/89: loss=0.2101, acc=0.9688\n",
      "epoch 2, 40/89: loss=0.1866, acc=0.9922\n",
      "epoch 2, 60/89: loss=0.2385, acc=0.9688\n",
      "epoch 2, 80/89: loss=0.1417, acc=0.9844\n",
      "epoch 3, 0/89: loss=0.1742, acc=0.9844\n",
      "epoch 3, 20/89: loss=0.1853, acc=0.9766\n",
      "epoch 3, 40/89: loss=0.1734, acc=0.9922\n",
      "epoch 3, 60/89: loss=0.2252, acc=0.9609\n",
      "epoch 3, 80/89: loss=0.1265, acc=0.9922\n",
      "epoch 4, 0/89: loss=0.1598, acc=0.9844\n",
      "epoch 4, 20/89: loss=0.1653, acc=0.9766\n",
      "epoch 4, 40/89: loss=0.1557, acc=1.0000\n",
      "epoch 4, 60/89: loss=0.2154, acc=0.9609\n",
      "epoch 4, 80/89: loss=0.1114, acc=1.0000\n"
     ]
    },
    {
     "data": {
      "image/png": "[encoded data removed]",
      "text/plain": [
       "<Figure size 432x288 with 1 Axes>"
      ]
     },
     "metadata": {
      "needs_background": "light"
     },
     "output_type": "display_data"
    },
    {
     "data": {
      "application/vnd.jupyter.widget-view+json": {
       "model_id": "49af6313f4c34833bd6edab5222b7ed0",
       "version_major": 2,
       "version_minor": 0
      },
      "text/plain": [
       "  0%|          | 0/5 [00:00<?, ?it/s]"
      ]
     },
     "metadata": {},
     "output_type": "display_data"
    },
    {
     "name": "stdout",
     "output_type": "stream",
     "text": [
      "epoch 0, 0/93: loss=3.1520, acc=0.0000\n",
      "epoch 0, 20/93: loss=0.8947, acc=0.8047\n",
      "epoch 0, 40/93: loss=0.5036, acc=0.8750\n",
      "epoch 0, 60/93: loss=0.3266, acc=0.9375\n",
      "epoch 0, 80/93: loss=0.2890, acc=0.9688\n",
      "epoch 1, 0/93: loss=0.2428, acc=0.9688\n",
      "epoch 1, 20/93: loss=0.2618, acc=0.9609\n",
      "epoch 1, 40/93: loss=0.2932, acc=0.9062\n",
      "epoch 1, 60/93: loss=0.2219, acc=0.9453\n",
      "epoch 1, 80/93: loss=0.2086, acc=0.9609\n",
      "epoch 2, 0/93: loss=0.1725, acc=0.9766\n",
      "epoch 2, 20/93: loss=0.1896, acc=0.9531\n",
      "epoch 2, 40/93: loss=0.2184, acc=0.9375\n",
      "epoch 2, 60/93: loss=0.1629, acc=0.9453\n",
      "epoch 2, 80/93: loss=0.1569, acc=0.9766\n",
      "epoch 3, 0/93: loss=0.1355, acc=0.9844\n",
      "epoch 3, 20/93: loss=0.1515, acc=0.9688\n",
      "epoch 3, 40/93: loss=0.1667, acc=0.9688\n",
      "epoch 3, 60/93: loss=0.1270, acc=0.9688\n",
      "epoch 3, 80/93: loss=0.1347, acc=0.9766\n",
      "epoch 4, 0/93: loss=0.1134, acc=0.9844\n",
      "epoch 4, 20/93: loss=0.1297, acc=0.9844\n",
      "epoch 4, 40/93: loss=0.1333, acc=0.9688\n",
      "epoch 4, 60/93: loss=0.1006, acc=0.9844\n",
      "epoch 4, 80/93: loss=0.1190, acc=0.9844\n"
     ]
    },
    {
     "data": {
      "image/png": "[encoded data removed]",
      "text/plain": [
       "<Figure size 432x288 with 1 Axes>"
      ]
     },
     "metadata": {
      "needs_background": "light"
     },
     "output_type": "display_data"
    },
    {
     "data": {
      "application/vnd.jupyter.widget-view+json": {
       "model_id": "1cee9a51dcda4d38b501f4e52528faa7",
       "version_major": 2,
       "version_minor": 0
      },
      "text/plain": [
       "  0%|          | 0/5 [00:00<?, ?it/s]"
      ]
     },
     "metadata": {},
     "output_type": "display_data"
    },
    {
     "name": "stdout",
     "output_type": "stream",
     "text": [
      "epoch 0, 0/96: loss=1.8552, acc=0.4844\n",
      "epoch 0, 20/96: loss=0.5121, acc=0.9531\n",
      "epoch 0, 40/96: loss=0.2288, acc=0.9844\n",
      "epoch 0, 60/96: loss=0.2311, acc=0.9766\n",
      "epoch 0, 80/96: loss=0.1529, acc=0.9922\n",
      "epoch 1, 0/96: loss=0.1432, acc=0.9844\n",
      "epoch 1, 20/96: loss=0.1101, acc=1.0000\n",
      "epoch 1, 40/96: loss=0.0839, acc=1.0000\n",
      "epoch 1, 60/96: loss=0.1348, acc=0.9922\n",
      "epoch 1, 80/96: loss=0.1038, acc=0.9922\n",
      "epoch 2, 0/96: loss=0.1029, acc=0.9922\n",
      "epoch 2, 20/96: loss=0.0732, acc=1.0000\n",
      "epoch 2, 40/96: loss=0.0611, acc=1.0000\n",
      "epoch 2, 60/96: loss=0.1088, acc=0.9922\n",
      "epoch 2, 80/96: loss=0.0823, acc=0.9922\n",
      "epoch 3, 0/96: loss=0.0809, acc=0.9922\n",
      "epoch 3, 20/96: loss=0.0582, acc=1.0000\n",
      "epoch 3, 40/96: loss=0.0511, acc=1.0000\n",
      "epoch 3, 60/96: loss=0.0927, acc=0.9922\n",
      "epoch 3, 80/96: loss=0.0713, acc=1.0000\n",
      "epoch 4, 0/96: loss=0.0671, acc=0.9922\n",
      "epoch 4, 20/96: loss=0.0493, acc=1.0000\n",
      "epoch 4, 40/96: loss=0.0453, acc=1.0000\n",
      "epoch 4, 60/96: loss=0.0798, acc=0.9922\n",
      "epoch 4, 80/96: loss=0.0624, acc=1.0000\n"
     ]
    },
    {
     "data": {
      "image/png": "[encoded data removed]",
      "text/plain": [
       "<Figure size 432x288 with 1 Axes>"
      ]
     },
     "metadata": {
      "needs_background": "light"
     },
     "output_type": "display_data"
    }
   ],
   "source": [
    "params_list = []\n",
    "gmm_list = []\n",
    "all_train_loss = []\n",
    "all_train_acc = []\n",
    "for node in tqdm(range(n_node-1)):\n",
    "    x_train_node, y_train_node = filter_pair(x_train, y_train, 0, node + 1)\n",
    "    data = tf.data.Dataset.from_tensor_slices((x_train_node, y_train_node)).batch(128)\n",
    "\n",
    "    # GMM\n",
    "    gmm = GaussianMixture(n_components=5, max_iter=100, random_state=42)\n",
    "    gmm.fit(x_train_node)\n",
    "    gmm_list.append(gmm)\n",
    "\n",
    "    key, subkey = jax.random.split(key)\n",
    "    params = jax.random.normal(subkey, (3 * k, n))\n",
    "    opt = optax.adam(learning_rate=1e-2)\n",
    "    opt_state = opt.init(params)\n",
    "\n",
    "    loss_list = []\n",
    "    acc_list = []\n",
    "    for e in tqdm(range(5), leave=False):\n",
    "        for i, (x, y) in enumerate(data):\n",
    "            x = x.numpy()\n",
    "            y = y.numpy()\n",
    "            loss_val, grad_val = compute_loss(params, x, y, k)\n",
    "            updates, opt_state = opt.update(grad_val, opt_state, params)\n",
    "            params = optax.apply_updates(params, updates)\n",
    "            loss_mean = jnp.mean(loss_val)\n",
    "            if i % 20 == 0:\n",
    "                acc = jnp.mean(compute_accuracy(params, x, y, k))\n",
    "                acc_list.append(acc)\n",
    "                loss_list.append(loss_mean)\n",
    "                print(f'epoch {e}, {i}/{len(data)}: loss={loss_mean:.4f}, acc={acc:.4f}')\n",
    "    all_train_loss.append(loss_list)\n",
    "    all_train_acc.append(acc_list)\n",
    "    \n",
    "\n",
    "    plt.plot(loss_list)\n",
    "    plt.plot(acc_list)\n",
    "    plt.legend(['loss', 'accuracy'])\n",
    "    plt.ylim(0, 1)\n",
    "    plt.show()\n",
    "\n",
    "    params_list.append(params)\n"
   ]
  },
  {
   "cell_type": "code",
   "execution_count": 12,
   "metadata": {},
   "outputs": [
    {
     "data": {
      "image/png": "[encoded data removed]",
      "text/plain": [
       "<Figure size 432x288 with 2 Axes>"
      ]
     },
     "metadata": {
      "needs_background": "light"
     },
     "output_type": "display_data"
    }
   ],
   "source": [
    "for acc_curve in all_train_acc:\n",
    "    plt.plot(acc_curve, c='red', alpha=0.2)\n",
    "avg_acc_curve = jnp.mean(jnp.array(all_train_acc), axis=0)\n",
    "plt.plot(avg_acc_curve, c='red', label='accuracy')\n",
    "plt.ylim(0.5, 1)\n",
    "plt.ylabel('Top-1 accuracy')\n",
    "plt.xlabel('Epochs')\n",
    "plt.twinx()\n",
    "\n",
    "for loss_curve in all_train_loss:\n",
    "    plt.plot(loss_curve, c='blue', alpha=0.2)\n",
    "avg_loss_curve = jnp.mean(jnp.array(all_train_loss), axis=0)\n",
    "plt.plot(avg_loss_curve, c='blue', label='loss')\n",
    "# plt.ylim(0, 0.5)\n",
    "plt.ylabel('Loss')\n",
    "\n",
    "plt.xticks([0, 5, 10, 15, 20, 25], [0, 1, 2, 3, 4, 5])\n",
    "plt.tight_layout()\n",
    "plt.savefig(f'./{dataset}/client_loss_acc.pdf')\n",
    "plt.show()"
   ]
  },
  {
   "cell_type": "code",
   "execution_count": 13,
   "metadata": {},
   "outputs": [],
   "source": [
    "def pred(params, x, k):\n",
    "    c = tc.Circuit(n, inputs=x)\n",
    "    c = clf(params, c, k)\n",
    "    probs = readout(c)\n",
    "    return probs\n",
    "# pred = K.jit(pred, static_argnums=[3])"
   ]
  },
  {
   "cell_type": "code",
   "execution_count": 14,
   "metadata": {},
   "outputs": [
    {
     "data": {
      "image/png": "[encoded data removed]",
      "text/plain": [
       "<Figure size 432x288 with 1 Axes>"
      ]
     },
     "metadata": {
      "needs_background": "light"
     },
     "output_type": "display_data"
    },
    {
     "name": "stdout",
     "output_type": "stream",
     "text": [
      "[0. 0. 0. 1. 0. 0. 0. 0.]\n"
     ]
    },
    {
     "data": {
      "text/plain": [
       "DeviceArray([7.1097636e-03, 2.1986593e-04, 1.2904850e-03, 9.9056947e-01,\n",
       "             5.1560183e-04, 2.2976448e-04, 4.0134149e-05, 2.4961271e-05],            dtype=float32)"
      ]
     },
     "execution_count": 14,
     "metadata": {},
     "output_type": "execute_result"
    }
   ],
   "source": [
    "i = 3\n",
    "x_train_node, y_train_node = filter_pair(x_train, y_train, 0, 2 + 1)\n",
    "plt.imshow(x_train_node[i].reshape(16, 16))\n",
    "plt.show()\n",
    "print(y_train_node[i])\n",
    "pred(params_list[2], x_train_node[i], k)"
   ]
  },
  {
   "cell_type": "code",
   "execution_count": 15,
   "metadata": {},
   "outputs": [
    {
     "data": {
      "application/vnd.jupyter.widget-view+json": {
       "model_id": "89535bac36d64a89bb12feed30d4819e",
       "version_major": 2,
       "version_minor": 0
      },
      "text/plain": [
       "  0%|          | 0/7 [00:00<?, ?it/s]"
      ]
     },
     "metadata": {},
     "output_type": "display_data"
    }
   ],
   "source": [
    "density_est_list = []\n",
    "p_node = []\n",
    "for node in tqdm(range(n_node-1)):\n",
    "    x_train_node, y_train_node = filter_pair(x_train, y_train, 0, node + 1)\n",
    "    dm = jnp.einsum('nij, njk -> nik', jnp.conjugate(x_train_node.reshape(-1, 2**n, 1)), x_train_node.reshape(-1, 1, 2**n))\n",
    "    density_est_list.append(jnp.mean(dm, axis=0))\n",
    "    p_node.append(len(x_train_node))\n",
    "density_est_list = jnp.stack(density_est_list, axis=0)\n",
    "p_node = jnp.stack(p_node, axis=0) / jnp.sum(jnp.array(p_node))"
   ]
  },
  {
   "cell_type": "code",
   "execution_count": 16,
   "metadata": {},
   "outputs": [
    {
     "name": "stdout",
     "output_type": "stream",
     "text": [
      "[0.38609353 0.39015436 0.41028053 0.4130728  0.4128412  0.40908492\n",
      " 0.27013138 0.3073421  0.30810428 0.2896704  0.3419245  0.3336453\n",
      " 0.22087297 0.33818638 0.34396785 0.29891497 0.3051919  0.28791517\n",
      " 0.29639605 0.33918315 0.3883878 ]\n",
      "0.3376839 0.05277701\n",
      "0.66884196\n"
     ]
    }
   ],
   "source": [
    "from itertools import combinations\n",
    "trace_dist_list = []\n",
    "for dm1, dm2 in combinations(density_est_list, 2):\n",
    "    diff = dm1 - dm2\n",
    "    eigenvals = jnp.linalg.eigh(diff)[0]\n",
    "    trace_dist = jnp.sum(jnp.abs(eigenvals)) / 2\n",
    "    trace_dist_list.append(trace_dist)\n",
    "trace_dist_list = jnp.stack(trace_dist_list, axis=0)\n",
    "print(trace_dist_list)\n",
    "print(jnp.mean(trace_dist_list), jnp.std(trace_dist_list))\n",
    "print((1 + jnp.mean(trace_dist_list)) / 2)"
   ]
  },
  {
   "cell_type": "code",
   "execution_count": 17,
   "metadata": {},
   "outputs": [
    {
     "data": {
      "image/png": "[encoded data removed]",
      "text/plain": [
       "<Figure size 432x288 with 1 Axes>"
      ]
     },
     "metadata": {
      "needs_background": "light"
     },
     "output_type": "display_data"
    }
   ],
   "source": [
    "for i in range(n_node):\n",
    "    plt.scatter(jnp.arange(8), jnp.linalg.eigh(density_est_list[i])[0][::-1][:8], s=5)\n",
    "plt.yscale('log')\n",
    "plt.ylabel('Leading Eigenvalues')\n",
    "plt.ylim(top=1)\n",
    "plt.show()"
   ]
  },
  {
   "cell_type": "code",
   "execution_count": 18,
   "metadata": {},
   "outputs": [
    {
     "data": {
      "text/plain": [
       "DeviceArray([0.15124556, 0.14188302, 0.14394899, 0.14049774, 0.13547017,\n",
       "             0.14140534, 0.14554922], dtype=float32)"
      ]
     },
     "execution_count": 18,
     "metadata": {},
     "output_type": "execute_result"
    }
   ],
   "source": [
    "p_node"
   ]
  },
  {
   "cell_type": "code",
   "execution_count": 28,
   "metadata": {},
   "outputs": [],
   "source": [
    "def pred_comb_with_gmm(params, x, gmm_scores, k, d_mode='GMM'):\n",
    "    dm_list = []\n",
    "    for node in range(n_node-1):\n",
    "        c = tc.Circuit(n, inputs=x)\n",
    "        c = clf(params[node], c, k)\n",
    "        density_matrix = jnp.conjugate(c.wavefunction('ket')) @ c.wavefunction('bra')\n",
    "        dm_list.append(density_matrix)\n",
    "\n",
    "    if d_mode == 'DM':\n",
    "        projector = x.reshape(-1, 1) @ jnp.conjugate(x.reshape(1, -1))\n",
    "        weight = jnp.einsum('nij, ji -> n', density_est_list, projector).reshape(-1, 1, 1) * p_node.reshape(-1, 1, 1)\n",
    "        weight = weight / jnp.sum(weight)\n",
    "    elif d_mode == 'GMM':\n",
    "        weight = jnp.exp(gmm_scores - jnp.max(gmm_scores)).reshape(-1) * p_node\n",
    "        weight = weight / jnp.sum(weight)\n",
    "        weight = weight.reshape(-1, 1, 1)\n",
    "    else:\n",
    "        print('d_mode must be DM or GMM')\n",
    "        return None\n",
    "\n",
    "    dm = jnp.sum(jnp.stack(dm_list, axis=0) * weight, axis=0)\n",
    "    # print(jnp.trace(dm))\n",
    "    if readout_mode == 'softmax':\n",
    "        c = tc.DMCircuit(n, dminputs=dm)\n",
    "        pred_prob = readout(c)\n",
    "    elif readout_mode == 'sample':\n",
    "        wf = jnp.abs(jnp.diag(dm)[:n_node])**2\n",
    "        pred_prob = wf / jnp.sum(wf)\n",
    "        \n",
    "    return pred_prob\n",
    "pred_comb_with_gmm = K.vmap(pred_comb_with_gmm, vectorized_argnums=[1, 2])\n",
    "\n",
    "def pred_comb(params, x, k, d_mode='GMM'):\n",
    "    gmm_scores_list = []\n",
    "    for node in range(n_node-1):\n",
    "        gmm_scores = gmm_list[node].score_samples(x)\n",
    "        gmm_scores_list.append(gmm_scores)\n",
    "    gmm_scores_list = jnp.stack(gmm_scores_list, axis=-1)\n",
    "    \n",
    "    pred_prob = pred_comb_with_gmm(params, x, gmm_scores_list, k, d_mode)\n",
    "    return pred_prob\n"
   ]
  },
  {
   "cell_type": "code",
   "execution_count": 20,
   "metadata": {},
   "outputs": [
    {
     "data": {
      "text/plain": [
       "DeviceArray(0.92578125, dtype=float32)"
      ]
     },
     "execution_count": 20,
     "metadata": {},
     "output_type": "execute_result"
    }
   ],
   "source": [
    "jnp.mean(pred_comb(params_list, x_test[:1024], k, d_mode='GMM').argmax(axis=-1) == y_test[:1024].argmax(axis=-1))"
   ]
  },
  {
   "cell_type": "code",
   "execution_count": 21,
   "metadata": {},
   "outputs": [
    {
     "data": {
      "text/plain": [
       "DeviceArray(0.4492327, dtype=float32)"
      ]
     },
     "execution_count": 21,
     "metadata": {},
     "output_type": "execute_result"
    }
   ],
   "source": [
    "-jnp.mean(jnp.sum(jnp.log(pred_comb(params_list, x_test[:1024], k, d_mode='GMM')) * y_test[:1024], axis=-1))"
   ]
  },
  {
   "cell_type": "code",
   "execution_count": 23,
   "metadata": {},
   "outputs": [
    {
     "data": {
      "text/plain": [
       "(array([  2.,   7.,  17.,  19.,   8.,   9.,   3.,   4.,   6., 949.]),\n",
       " array([-8.4157305e+00, -7.5743937e+00, -6.7330565e+00, -5.8917198e+00,\n",
       "        -5.0503826e+00, -4.2090459e+00, -3.3677089e+00, -2.5263722e+00,\n",
       "        -1.6850352e+00, -8.4369832e-01, -2.3614012e-03], dtype=float32),\n",
       " <BarContainer object of 10 artists>)"
      ]
     },
     "execution_count": 23,
     "metadata": {},
     "output_type": "execute_result"
    },
    {
     "data": {
      "image/png": "[encoded data removed]",
      "text/plain": [
       "<Figure size 432x288 with 1 Axes>"
      ]
     },
     "metadata": {
      "needs_background": "light"
     },
     "output_type": "display_data"
    }
   ],
   "source": [
    "import numpy as np\n",
    "plt.hist(np.array(jnp.sum(jnp.log(pred_comb(params_list, x_test[:1024], k, d_mode='GMM')) * y_test[:1024], axis=-1)))"
   ]
  },
  {
   "cell_type": "code",
   "execution_count": 31,
   "metadata": {},
   "outputs": [
    {
     "data": {
      "text/plain": [
       "DeviceArray(289, dtype=int32)"
      ]
     },
     "execution_count": 31,
     "metadata": {},
     "output_type": "execute_result"
    }
   ],
   "source": [
    "jnp.sum(jnp.log(pred_comb(params_list, x_test[:1024], k, d_mode='GMM')) * y_test[:1024], axis=-1).argmin()"
   ]
  },
  {
   "cell_type": "code",
   "execution_count": 34,
   "metadata": {},
   "outputs": [
    {
     "data": {
      "text/plain": [
       "(DeviceArray([[2.5871047e-01, 2.1664803e-04, 1.1700906e-05, 1.7559523e-10,\n",
       "               7.4088883e-01, 5.4494735e-06, 6.7137393e-05, 9.9807927e-05]],            dtype=float32),\n",
       " DeviceArray([0., 0., 0., 0., 0., 0., 0., 1.], dtype=float32))"
      ]
     },
     "execution_count": 34,
     "metadata": {},
     "output_type": "execute_result"
    }
   ],
   "source": [
    "pred_comb(params_list, x_test[289:290], k, d_mode='GMM'), y_test[686]"
   ]
  },
  {
   "cell_type": "code",
   "execution_count": 29,
   "metadata": {},
   "outputs": [
    {
     "data": {
      "text/plain": [
       "DeviceArray(0.10839844, dtype=float32)"
      ]
     },
     "execution_count": 29,
     "metadata": {},
     "output_type": "execute_result"
    }
   ],
   "source": [
    "jnp.mean(pred_comb(params_list, x_test[:1024], k, d_mode='DM').argmax(axis=-1) == y_test[:1024].argmax(axis=-1))"
   ]
  },
  {
   "cell_type": "code",
   "execution_count": 25,
   "metadata": {},
   "outputs": [
    {
     "data": {
      "text/plain": [
       "DeviceArray([[6.10987723e-01, 5.43518849e-02, 7.49676898e-02,\n",
       "              4.67380956e-02, 4.28849719e-02, 4.27328944e-02,\n",
       "              2.72864811e-02, 1.00050263e-01],\n",
       "             [9.27929282e-01, 1.07137291e-02, 1.38075585e-02,\n",
       "              1.44471359e-02, 9.80036333e-03, 1.30272331e-02,\n",
       "              6.36115158e-03, 3.91342305e-03],\n",
       "             [3.62489253e-01, 3.71374071e-01, 8.02922174e-02,\n",
       "              4.36317138e-02, 4.06029597e-02, 4.00599055e-02,\n",
       "              3.29047516e-02, 2.86451597e-02],\n",
       "             [9.94154215e-01, 1.11907057e-03, 8.75572616e-04,\n",
       "              6.99083670e-04, 7.74193788e-04, 9.56257456e-04,\n",
       "              8.21678026e-04, 5.99759805e-04],\n",
       "             [5.25148809e-01, 5.95393516e-02, 7.63330460e-02,\n",
       "              3.29972431e-02, 1.10571735e-01, 6.56246319e-02,\n",
       "              5.85202947e-02, 7.12648556e-02],\n",
       "             [4.68826681e-01, 3.11440825e-01, 7.22377971e-02,\n",
       "              3.41093577e-02, 3.31011750e-02, 3.46882269e-02,\n",
       "              2.01179516e-02, 2.54779626e-02],\n",
       "             [5.40559232e-01, 4.37971987e-02, 8.75463858e-02,\n",
       "              5.78640550e-02, 1.01124249e-01, 6.96787089e-02,\n",
       "              3.99229340e-02, 5.95071800e-02],\n",
       "             [8.40507925e-01, 4.22915556e-02, 3.45826671e-02,\n",
       "              1.41838351e-02, 2.73048673e-02, 1.98632069e-02,\n",
       "              1.49182994e-02, 6.34749094e-03],\n",
       "             [9.83755291e-01, 1.70433603e-03, 3.22556752e-03,\n",
       "              1.83218205e-03, 2.36327108e-03, 2.59571732e-03,\n",
       "              2.42766109e-03, 2.09601037e-03],\n",
       "             [9.20732319e-01, 1.42521374e-02, 1.34876128e-02,\n",
       "              7.01623457e-03, 1.73558686e-02, 1.03323208e-02,\n",
       "              8.52109212e-03, 8.30235146e-03]], dtype=float32)"
      ]
     },
     "execution_count": 25,
     "metadata": {},
     "output_type": "execute_result"
    }
   ],
   "source": [
    "pred_comb(params_list, x_test[:1024], k, d_mode='DM')[:10]"
   ]
  },
  {
   "cell_type": "code",
   "execution_count": 46,
   "metadata": {},
   "outputs": [
    {
     "data": {
      "text/plain": [
       "DeviceArray(0.31573996, dtype=float32)"
      ]
     },
     "execution_count": 46,
     "metadata": {},
     "output_type": "execute_result"
    }
   ],
   "source": [
    "-jnp.mean(jnp.log(pred_comb(params_list, x_test[:1024], k, d_mode='DM')) * y_test[:1024])"
   ]
  },
  {
   "cell_type": "code",
   "execution_count": null,
   "metadata": {},
   "outputs": [],
   "source": []
  }
 ],
 "metadata": {
  "kernelspec": {
   "display_name": "Python 3.9.12 ('ode-rnn')",
   "language": "python",
   "name": "python3"
  },
  "language_info": {
   "codemirror_mode": {
    "name": "ipython",
    "version": 3
   },
   "file_extension": ".py",
   "mimetype": "text/x-python",
   "name": "python",
   "nbconvert_exporter": "python",
   "pygments_lexer": "ipython3",
   "version": "3.9.12"
  },
  "orig_nbformat": 4,
  "vscode": {
   "interpreter": {
    "hash": "274e8ed069bc503cc01fa1aa16068ccb03180744fbf761618fb0dbde6179c71c"
   }
  }
 },
 "nbformat": 4,
 "nbformat_minor": 2
}
