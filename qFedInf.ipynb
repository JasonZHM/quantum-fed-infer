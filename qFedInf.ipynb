{
 "cells": [
  {
   "cell_type": "code",
   "execution_count": 1,
   "metadata": {},
   "outputs": [
    {
     "name": "stderr",
     "output_type": "stream",
     "text": [
      "2022-07-29 19:48:27.493118: I tensorflow/core/util/util.cc:169] oneDNN custom operations are on. You may see slightly different numerical results due to floating-point round-off errors from different computation orders. To turn them off, set the environment variable `TF_ENABLE_ONEDNN_OPTS=0`.\n"
     ]
    }
   ],
   "source": [
    "import tensorcircuit as tc\n",
    "import optax\n",
    "import jax.numpy as jnp\n",
    "import jax\n",
    "import tensorflow as tf\n",
    "import matplotlib.pyplot as plt\n",
    "from tqdm.notebook import tqdm\n",
    "\n",
    "from sklearn.mixture import GaussianMixture\n",
    "\n",
    "import os\n",
    "os.environ[\"CUDA_DEVICE_ORDER\"]=\"PCI_BUS_ID\"\n",
    "os.environ[\"CUDA_VISIBLE_DEVICES\"]=\"0\"\n",
    "os.environ[\"XLA_PYTHON_CLIENT_PREALLOCATE\"]=\"false\"\n",
    "os.environ[\"TF_FORCE_GPU_ALLOW_GROWTH\"]=\"true\""
   ]
  },
  {
   "cell_type": "code",
   "execution_count": 2,
   "metadata": {},
   "outputs": [],
   "source": [
    "n = 8\n",
    "n_node = 8"
   ]
  },
  {
   "cell_type": "code",
   "execution_count": 3,
   "metadata": {},
   "outputs": [],
   "source": [
    "K = tc.set_backend('jax')"
   ]
  },
  {
   "cell_type": "code",
   "execution_count": 32,
   "metadata": {},
   "outputs": [],
   "source": [
    "# numpy data\n",
    "(x_train, y_train), (x_test, y_test) = tf.keras.datasets.mnist.load_data()\n",
    "ind = y_test == 9\n",
    "x_test, y_test = x_test[~ind], y_test[~ind]\n",
    "ind = y_test == 8\n",
    "x_test, y_test = x_test[~ind], y_test[~ind]\n",
    "\n",
    "x_train = x_train / 255.0\n",
    "mean = jnp.mean(x_train, axis=0)\n",
    "x_train = x_train - mean\n",
    "x_test = x_test / 255.0\n",
    "x_test = x_test - mean\n",
    "\n",
    "\n",
    "def filter_pair(x, y, a, b):\n",
    "    keep = (y == a) | (y == b)\n",
    "    x, y = x[keep], y[keep]\n",
    "    y = jax.nn.one_hot(y, n_node)\n",
    "    return x, y"
   ]
  },
  {
   "cell_type": "code",
   "execution_count": 5,
   "metadata": {},
   "outputs": [],
   "source": [
    "def loss(params, x, y, k):\n",
    "    c = tc.Circuit(n, inputs=x)\n",
    "    for j in range(k):\n",
    "        for i in range(n - 1):\n",
    "            c.cnot(i, i + 1)\n",
    "        for i in range(n):\n",
    "            c.rx(i, theta=params[2 * j, i])\n",
    "            c.ry(i, theta=params[2 * j + 1, i])\n",
    "    logits = []\n",
    "    for i in range(n_node):\n",
    "        logits.append(jnp.real(c.expectation([tc.gates.z(), [i,]])))\n",
    "    logits = jnp.stack(logits, axis=-1) * 10\n",
    "    probs = jax.nn.softmax(logits)\n",
    "    return -jnp.mean(y * jnp.log(probs) + (1 - y) * jnp.log(1 - probs))\n",
    "loss = K.jit(loss, static_argnums=[3, 4])"
   ]
  },
  {
   "cell_type": "code",
   "execution_count": 6,
   "metadata": {},
   "outputs": [],
   "source": [
    "def accuracy(params, x, y, k):\n",
    "    c = tc.Circuit(n, inputs=x)\n",
    "    for j in range(k):\n",
    "        for i in range(n - 1):\n",
    "            c.cnot(i, i + 1)\n",
    "        for i in range(n):\n",
    "            c.rx(i, theta=params[2 * j, i])\n",
    "            c.ry(i, theta=params[2 * j + 1, i])\n",
    "    logits = []\n",
    "    for i in range(n_node):\n",
    "        logits.append(jnp.real(c.expectation([tc.gates.z(), [i,]])))\n",
    "    logits = jnp.stack(logits, axis=-1) * 10\n",
    "    probs = jax.nn.softmax(logits)\n",
    "    return jnp.argmax(probs, axis=-1) == jnp.argmax(y, axis=-1)\n",
    "accuracy = K.jit(accuracy, static_argnums=[3, 4])"
   ]
  },
  {
   "cell_type": "code",
   "execution_count": 7,
   "metadata": {},
   "outputs": [],
   "source": [
    "k = 6"
   ]
  },
  {
   "cell_type": "code",
   "execution_count": 8,
   "metadata": {},
   "outputs": [],
   "source": [
    "compute_loss = K.vectorized_value_and_grad(loss, vectorized_argnums=[1, 2])\n",
    "compute_accuracy = K.vmap(accuracy, vectorized_argnums=[1, 2])"
   ]
  },
  {
   "cell_type": "code",
   "execution_count": 9,
   "metadata": {},
   "outputs": [
    {
     "data": {
      "application/vnd.jupyter.widget-view+json": {
       "model_id": "597f11d5f81246328f85e801fbca4c31",
       "version_major": 2,
       "version_minor": 0
      },
      "text/plain": [
       "  0%|          | 0/7 [00:00<?, ?it/s]"
      ]
     },
     "metadata": {},
     "output_type": "display_data"
    },
    {
     "name": "stderr",
     "output_type": "stream",
     "text": [
      "2022-07-29 19:48:42.338836: I tensorflow/core/platform/cpu_feature_guard.cc:193] This TensorFlow binary is optimized with oneAPI Deep Neural Network Library (oneDNN) to use the following CPU instructions in performance-critical operations:  AVX2 AVX512F AVX512_VNNI FMA\n",
      "To enable them in other operations, rebuild TensorFlow with the appropriate compiler flags.\n",
      "2022-07-29 19:48:44.643637: W tensorflow/core/common_runtime/gpu/gpu_bfc_allocator.cc:42] Overriding orig_value setting because the TF_FORCE_GPU_ALLOW_GROWTH environment variable is set. Original config value was 0.\n",
      "2022-07-29 19:48:44.643685: I tensorflow/core/common_runtime/gpu/gpu_device.cc:1532] Created device /job:localhost/replica:0/task:0/device:GPU:0 with 29659 MB memory:  -> device: 0, name: Tesla V100-PCIE-32GB, pci bus id: 0000:12:00.0, compute capability: 7.0\n"
     ]
    },
    {
     "data": {
      "application/vnd.jupyter.widget-view+json": {
       "model_id": "7aa8b8907acc4567829f01e7ea274cea",
       "version_major": 2,
       "version_minor": 0
      },
      "text/plain": [
       "  0%|          | 0/5 [00:00<?, ?it/s]"
      ]
     },
     "metadata": {},
     "output_type": "display_data"
    },
    {
     "name": "stdout",
     "output_type": "stream",
     "text": [
      "epoch 0, 0/99: loss=0.4338, acc=0.0859\n",
      "epoch 0, 30/99: loss=0.1791, acc=0.8359\n",
      "epoch 0, 60/99: loss=0.1101, acc=0.9297\n",
      "epoch 0, 90/99: loss=0.0731, acc=0.9844\n",
      "epoch 1, 0/99: loss=0.0861, acc=0.9688\n",
      "epoch 1, 30/99: loss=0.0468, acc=0.9922\n",
      "epoch 1, 60/99: loss=0.0488, acc=0.9531\n",
      "epoch 1, 90/99: loss=0.0355, acc=0.9766\n",
      "epoch 2, 0/99: loss=0.0399, acc=0.9688\n",
      "epoch 2, 30/99: loss=0.0345, acc=0.9766\n",
      "epoch 2, 60/99: loss=0.0294, acc=0.9766\n",
      "epoch 2, 90/99: loss=0.0166, acc=1.0000\n",
      "epoch 3, 0/99: loss=0.0269, acc=0.9844\n",
      "epoch 3, 30/99: loss=0.0244, acc=0.9844\n",
      "epoch 3, 60/99: loss=0.0315, acc=0.9766\n",
      "epoch 3, 90/99: loss=0.0315, acc=0.9609\n",
      "epoch 4, 0/99: loss=0.0267, acc=0.9844\n",
      "epoch 4, 30/99: loss=0.0290, acc=0.9766\n",
      "epoch 4, 60/99: loss=0.0219, acc=0.9922\n",
      "epoch 4, 90/99: loss=0.0256, acc=0.9844\n"
     ]
    },
    {
     "data": {
      "image/png": "[encoded data removed]",
      "text/plain": [
       "<Figure size 432x288 with 1 Axes>"
      ]
     },
     "metadata": {
      "needs_background": "light"
     },
     "output_type": "display_data"
    },
    {
     "data": {
      "application/vnd.jupyter.widget-view+json": {
       "model_id": "9b19ef14e63c4d489d0d87df1deede79",
       "version_major": 2,
       "version_minor": 0
      },
      "text/plain": [
       "  0%|          | 0/5 [00:00<?, ?it/s]"
      ]
     },
     "metadata": {},
     "output_type": "display_data"
    },
    {
     "name": "stdout",
     "output_type": "stream",
     "text": [
      "epoch 0, 0/93: loss=0.4163, acc=0.2344\n",
      "epoch 0, 30/93: loss=0.2438, acc=0.6172\n",
      "epoch 0, 60/93: loss=0.1867, acc=0.6875\n",
      "epoch 0, 90/93: loss=0.1324, acc=0.8984\n",
      "epoch 1, 0/93: loss=0.1574, acc=0.8047\n",
      "epoch 1, 30/93: loss=0.1116, acc=0.9062\n",
      "epoch 1, 60/93: loss=0.1073, acc=0.8750\n",
      "epoch 1, 90/93: loss=0.0842, acc=0.9531\n",
      "epoch 2, 0/93: loss=0.1009, acc=0.8750\n",
      "epoch 2, 30/93: loss=0.0783, acc=0.9375\n",
      "epoch 2, 60/93: loss=0.0915, acc=0.8906\n",
      "epoch 2, 90/93: loss=0.0759, acc=0.9453\n",
      "epoch 3, 0/93: loss=0.0681, acc=0.9375\n",
      "epoch 3, 30/93: loss=0.0657, acc=0.9453\n",
      "epoch 3, 60/93: loss=0.0818, acc=0.9375\n",
      "epoch 3, 90/93: loss=0.0624, acc=0.9766\n",
      "epoch 4, 0/93: loss=0.0627, acc=0.9531\n",
      "epoch 4, 30/93: loss=0.0582, acc=0.9531\n",
      "epoch 4, 60/93: loss=0.0682, acc=0.9375\n",
      "epoch 4, 90/93: loss=0.0560, acc=0.9922\n"
     ]
    },
    {
     "data": {
      "image/png": "[encoded data removed]",
      "text/plain": [
       "<Figure size 432x288 with 1 Axes>"
      ]
     },
     "metadata": {
      "needs_background": "light"
     },
     "output_type": "display_data"
    },
    {
     "data": {
      "application/vnd.jupyter.widget-view+json": {
       "model_id": "8d05b979b5dc4b48a78440bb483e4c57",
       "version_major": 2,
       "version_minor": 0
      },
      "text/plain": [
       "  0%|          | 0/5 [00:00<?, ?it/s]"
      ]
     },
     "metadata": {},
     "output_type": "display_data"
    },
    {
     "name": "stdout",
     "output_type": "stream",
     "text": [
      "epoch 0, 0/95: loss=0.4424, acc=0.0391\n",
      "epoch 0, 30/95: loss=0.2457, acc=0.6953\n",
      "epoch 0, 60/95: loss=0.1604, acc=0.8750\n",
      "epoch 0, 90/95: loss=0.1468, acc=0.8359\n",
      "epoch 1, 0/95: loss=0.1405, acc=0.8438\n",
      "epoch 1, 30/95: loss=0.1044, acc=0.8984\n",
      "epoch 1, 60/95: loss=0.0644, acc=0.9375\n",
      "epoch 1, 90/95: loss=0.0499, acc=0.9531\n",
      "epoch 2, 0/95: loss=0.0670, acc=0.9141\n",
      "epoch 2, 30/95: loss=0.0527, acc=0.9375\n",
      "epoch 2, 60/95: loss=0.0449, acc=0.9609\n",
      "epoch 2, 90/95: loss=0.0549, acc=0.9453\n",
      "epoch 3, 0/95: loss=0.0597, acc=0.9219\n",
      "epoch 3, 30/95: loss=0.0381, acc=0.9844\n",
      "epoch 3, 60/95: loss=0.0374, acc=0.9531\n",
      "epoch 3, 90/95: loss=0.0448, acc=0.9609\n",
      "epoch 4, 0/95: loss=0.0478, acc=0.9453\n",
      "epoch 4, 30/95: loss=0.0425, acc=0.9609\n",
      "epoch 4, 60/95: loss=0.0339, acc=0.9688\n",
      "epoch 4, 90/95: loss=0.0418, acc=0.9766\n"
     ]
    },
    {
     "data": {
      "image/png": "[encoded data removed]",
      "text/plain": [
       "<Figure size 432x288 with 1 Axes>"
      ]
     },
     "metadata": {
      "needs_background": "light"
     },
     "output_type": "display_data"
    },
    {
     "data": {
      "application/vnd.jupyter.widget-view+json": {
       "model_id": "d659c3dc6e674869958b00e19952593c",
       "version_major": 2,
       "version_minor": 0
      },
      "text/plain": [
       "  0%|          | 0/5 [00:00<?, ?it/s]"
      ]
     },
     "metadata": {},
     "output_type": "display_data"
    },
    {
     "name": "stdout",
     "output_type": "stream",
     "text": [
      "epoch 0, 0/92: loss=0.4433, acc=0.0859\n",
      "epoch 0, 30/92: loss=0.2202, acc=0.6406\n",
      "epoch 0, 60/92: loss=0.1589, acc=0.8594\n",
      "epoch 0, 90/92: loss=0.1068, acc=0.9375\n",
      "epoch 1, 0/92: loss=0.1202, acc=0.8984\n",
      "epoch 1, 30/92: loss=0.0990, acc=0.9297\n",
      "epoch 1, 60/92: loss=0.1018, acc=0.9297\n",
      "epoch 1, 90/92: loss=0.0930, acc=0.9141\n",
      "epoch 2, 0/92: loss=0.0872, acc=0.9688\n",
      "epoch 2, 30/92: loss=0.0758, acc=0.9531\n",
      "epoch 2, 60/92: loss=0.0847, acc=0.9453\n",
      "epoch 2, 90/92: loss=0.0702, acc=0.9688\n",
      "epoch 3, 0/92: loss=0.0766, acc=0.9609\n",
      "epoch 3, 30/92: loss=0.0709, acc=0.9844\n",
      "epoch 3, 60/92: loss=0.0855, acc=0.9219\n",
      "epoch 3, 90/92: loss=0.0718, acc=0.9531\n",
      "epoch 4, 0/92: loss=0.0684, acc=0.9766\n",
      "epoch 4, 30/92: loss=0.0701, acc=0.9844\n",
      "epoch 4, 60/92: loss=0.0758, acc=0.9453\n",
      "epoch 4, 90/92: loss=0.0661, acc=0.9844\n"
     ]
    },
    {
     "data": {
      "image/png": "[encoded data removed]",
      "text/plain": [
       "<Figure size 432x288 with 1 Axes>"
      ]
     },
     "metadata": {
      "needs_background": "light"
     },
     "output_type": "display_data"
    },
    {
     "data": {
      "application/vnd.jupyter.widget-view+json": {
       "model_id": "b641181d50a5496f89c34d23e851411e",
       "version_major": 2,
       "version_minor": 0
      },
      "text/plain": [
       "  0%|          | 0/5 [00:00<?, ?it/s]"
      ]
     },
     "metadata": {},
     "output_type": "display_data"
    },
    {
     "name": "stdout",
     "output_type": "stream",
     "text": [
      "epoch 0, 0/89: loss=0.4081, acc=0.1797\n",
      "epoch 0, 30/89: loss=0.2125, acc=0.6484\n",
      "epoch 0, 60/89: loss=0.1717, acc=0.7812\n",
      "epoch 1, 0/89: loss=0.1101, acc=0.9375\n",
      "epoch 1, 30/89: loss=0.0621, acc=0.9531\n",
      "epoch 1, 60/89: loss=0.0917, acc=0.9062\n",
      "epoch 2, 0/89: loss=0.0616, acc=0.9688\n",
      "epoch 2, 30/89: loss=0.0555, acc=0.9688\n",
      "epoch 2, 60/89: loss=0.0875, acc=0.9141\n",
      "epoch 3, 0/89: loss=0.0610, acc=0.9375\n",
      "epoch 3, 30/89: loss=0.0476, acc=0.9766\n",
      "epoch 3, 60/89: loss=0.0698, acc=0.9375\n",
      "epoch 4, 0/89: loss=0.0542, acc=0.9531\n",
      "epoch 4, 30/89: loss=0.0455, acc=0.9766\n",
      "epoch 4, 60/89: loss=0.0734, acc=0.9531\n"
     ]
    },
    {
     "data": {
      "image/png": "[encoded data removed]",
      "text/plain": [
       "<Figure size 432x288 with 1 Axes>"
      ]
     },
     "metadata": {
      "needs_background": "light"
     },
     "output_type": "display_data"
    },
    {
     "data": {
      "application/vnd.jupyter.widget-view+json": {
       "model_id": "d6d44b6167364a73958b8f346b41c664",
       "version_major": 2,
       "version_minor": 0
      },
      "text/plain": [
       "  0%|          | 0/5 [00:00<?, ?it/s]"
      ]
     },
     "metadata": {},
     "output_type": "display_data"
    },
    {
     "name": "stdout",
     "output_type": "stream",
     "text": [
      "epoch 0, 0/93: loss=0.4225, acc=0.1484\n",
      "epoch 0, 30/93: loss=0.2087, acc=0.7266\n",
      "epoch 0, 60/93: loss=0.1305, acc=0.8516\n",
      "epoch 0, 90/93: loss=0.0930, acc=0.9531\n",
      "epoch 1, 0/93: loss=0.1104, acc=0.8984\n",
      "epoch 1, 30/93: loss=0.0978, acc=0.8984\n",
      "epoch 1, 60/93: loss=0.0960, acc=0.9062\n",
      "epoch 1, 90/93: loss=0.0752, acc=0.9453\n",
      "epoch 2, 0/93: loss=0.0866, acc=0.8984\n",
      "epoch 2, 30/93: loss=0.0715, acc=0.9531\n",
      "epoch 2, 60/93: loss=0.0808, acc=0.9062\n",
      "epoch 2, 90/93: loss=0.0606, acc=0.9453\n",
      "epoch 3, 0/93: loss=0.0708, acc=0.9453\n",
      "epoch 3, 30/93: loss=0.0654, acc=0.9453\n",
      "epoch 3, 60/93: loss=0.0708, acc=0.9297\n",
      "epoch 3, 90/93: loss=0.0547, acc=0.9766\n",
      "epoch 4, 0/93: loss=0.0703, acc=0.9375\n",
      "epoch 4, 30/93: loss=0.0596, acc=0.9375\n",
      "epoch 4, 60/93: loss=0.0719, acc=0.9297\n",
      "epoch 4, 90/93: loss=0.0652, acc=0.9297\n"
     ]
    },
    {
     "data": {
      "image/png": "[encoded data removed]",
      "text/plain": [
       "<Figure size 432x288 with 1 Axes>"
      ]
     },
     "metadata": {
      "needs_background": "light"
     },
     "output_type": "display_data"
    },
    {
     "data": {
      "application/vnd.jupyter.widget-view+json": {
       "model_id": "a2a5507fd993484bbe81a5e99ac5a944",
       "version_major": 2,
       "version_minor": 0
      },
      "text/plain": [
       "  0%|          | 0/5 [00:00<?, ?it/s]"
      ]
     },
     "metadata": {},
     "output_type": "display_data"
    },
    {
     "name": "stdout",
     "output_type": "stream",
     "text": [
      "epoch 0, 0/96: loss=0.5034, acc=0.0391\n",
      "epoch 0, 30/96: loss=0.2570, acc=0.5391\n",
      "epoch 0, 60/96: loss=0.1678, acc=0.8438\n",
      "epoch 0, 90/96: loss=0.1335, acc=0.9219\n",
      "epoch 1, 0/96: loss=0.1125, acc=0.9297\n",
      "epoch 1, 30/96: loss=0.0821, acc=0.9609\n",
      "epoch 1, 60/96: loss=0.0691, acc=0.9766\n",
      "epoch 1, 90/96: loss=0.0668, acc=0.9688\n",
      "epoch 2, 0/96: loss=0.0612, acc=0.9766\n",
      "epoch 2, 30/96: loss=0.0634, acc=0.9375\n",
      "epoch 2, 60/96: loss=0.0661, acc=0.9531\n",
      "epoch 2, 90/96: loss=0.0591, acc=0.9766\n",
      "epoch 3, 0/96: loss=0.0542, acc=0.9766\n",
      "epoch 3, 30/96: loss=0.0567, acc=0.9531\n",
      "epoch 3, 60/96: loss=0.0482, acc=0.9844\n",
      "epoch 3, 90/96: loss=0.0618, acc=0.9609\n",
      "epoch 4, 0/96: loss=0.0553, acc=0.9609\n",
      "epoch 4, 30/96: loss=0.0481, acc=0.9688\n",
      "epoch 4, 60/96: loss=0.0392, acc=0.9844\n",
      "epoch 4, 90/96: loss=0.0490, acc=0.9766\n"
     ]
    },
    {
     "data": {
      "image/png": "[encoded data removed]",
      "text/plain": [
       "<Figure size 432x288 with 1 Axes>"
      ]
     },
     "metadata": {
      "needs_background": "light"
     },
     "output_type": "display_data"
    }
   ],
   "source": [
    "params_list = []\n",
    "gmm_list = []\n",
    "for node in tqdm(range(n_node-1)):\n",
    "    x_train_node, y_train_node = filter_pair(x_train, y_train, 0, node + 1)\n",
    "    x_train_small = tf.image.resize(x_train_node[..., tf.newaxis], (int(2**(n/2)), int(2**(n/2)))).numpy()[..., 0].reshape(-1, 2**n)\n",
    "    x_train_small = x_train_small / jnp.sqrt(jnp.sum(x_train_small**2, axis=-1, keepdims=True))\n",
    "    data = tf.data.Dataset.from_tensor_slices((x_train_small, y_train_node)).shuffle(100).batch(128)\n",
    "\n",
    "    # GMM\n",
    "    gmm = GaussianMixture(n_components=5, max_iter=100)\n",
    "    gmm.fit(x_train_small)\n",
    "    gmm_list.append(gmm)\n",
    "\n",
    "    params = K.randn((k * 2, n), dtype=jnp.float32)\n",
    "    opt = optax.adam(learning_rate=1e-2)\n",
    "    opt_state = opt.init(params)\n",
    "\n",
    "    loss_list = []\n",
    "    acc_list = []\n",
    "    for e in tqdm(range(5), leave=False):\n",
    "        for i, (x, y) in enumerate(data):\n",
    "            x = x.numpy()\n",
    "            y = y.numpy()\n",
    "            loss_val, grad_val = compute_loss(params, x, y, k)\n",
    "            updates, opt_state = opt.update(grad_val, opt_state, params)\n",
    "            params = optax.apply_updates(params, updates)\n",
    "            loss_mean = jnp.mean(loss_val)\n",
    "            if i % 30 == 0:\n",
    "                acc = jnp.mean(compute_accuracy(params, x, y, k))\n",
    "                acc_list.append(acc)\n",
    "                loss_list.append(loss_mean)\n",
    "                print(f'epoch {e}, {i}/{len(data)}: loss={loss_mean:.4f}, acc={acc:.4f}')\n",
    "\n",
    "    plt.plot(loss_list)\n",
    "    plt.plot(acc_list)\n",
    "    plt.legend(['loss', 'accuracy'])\n",
    "    plt.ylim(0, 1)\n",
    "    plt.show()\n",
    "\n",
    "    params_list.append(params)\n"
   ]
  },
  {
   "cell_type": "code",
   "execution_count": 21,
   "metadata": {},
   "outputs": [],
   "source": [
    "def pred(params, x, y, k):\n",
    "    c = tc.Circuit(n, inputs=x)\n",
    "    for j in range(k):\n",
    "        for i in range(n - 1):\n",
    "            c.cnot(i, i + 1)\n",
    "        for i in range(n):\n",
    "            c.rx(i, theta=params[2 * j, i])\n",
    "            c.ry(i, theta=params[2 * j + 1, i])\n",
    "    logits = []\n",
    "    for i in range(n_node):\n",
    "        logits.append(jnp.real(c.expectation([tc.gates.z(), [i,]])))\n",
    "    logits = jnp.stack(logits, axis=-1) * 10\n",
    "    probs = jax.nn.softmax(logits)\n",
    "    return probs\n",
    "# pred = K.jit(pred, static_argnums=[3])"
   ]
  },
  {
   "cell_type": "code",
   "execution_count": 22,
   "metadata": {},
   "outputs": [
    {
     "data": {
      "image/png": "[encoded data removed]",
      "text/plain": [
       "<Figure size 432x288 with 1 Axes>"
      ]
     },
     "metadata": {
      "needs_background": "light"
     },
     "output_type": "display_data"
    },
    {
     "name": "stdout",
     "output_type": "stream",
     "text": [
      "[0. 0. 0. 1. 0. 0. 0. 0.]\n"
     ]
    },
    {
     "data": {
      "text/plain": [
       "DeviceArray([2.4754157e-02, 7.2803921e-03, 1.8430372e-03, 9.5725876e-01,\n",
       "             3.7265313e-03, 4.3158680e-03, 4.4786406e-04, 3.7327572e-04],            dtype=float32)"
      ]
     },
     "execution_count": 22,
     "metadata": {},
     "output_type": "execute_result"
    }
   ],
   "source": [
    "i = 3\n",
    "x_train_node, y_train_node = filter_pair(x_train, y_train, 0, 2 + 1)\n",
    "x_train_small = tf.image.resize(x_train_node[..., tf.newaxis], (int(2**(n/2)), int(2**(n/2)))).numpy()[..., 0].reshape(-1, 2**n)\n",
    "x_train_small = x_train_small / jnp.sqrt(jnp.sum(x_train_small**2, axis=-1, keepdims=True))\n",
    "plt.imshow(x_train_small[i].reshape(16, 16))\n",
    "plt.show()\n",
    "print(y_train_node[i])\n",
    "pred(params_list[2], x_train_small[i], y_train_node[i], k)"
   ]
  },
  {
   "cell_type": "code",
   "execution_count": 23,
   "metadata": {},
   "outputs": [
    {
     "data": {
      "application/vnd.jupyter.widget-view+json": {
       "model_id": "69d768a4e10f42a98ccb6808242c4b34",
       "version_major": 2,
       "version_minor": 0
      },
      "text/plain": [
       "  0%|          | 0/7 [00:00<?, ?it/s]"
      ]
     },
     "metadata": {},
     "output_type": "display_data"
    }
   ],
   "source": [
    "density_est_list = []\n",
    "p_node = []\n",
    "for node in tqdm(range(n_node-1)):\n",
    "    x_train_node, y_train_node = filter_pair(x_train, y_train, 0, node + 1)\n",
    "    # x_train_node = x_train_node[:1000]\n",
    "    # y_train_node = y_train_node[:1000]\n",
    "    x_train_small = tf.image.resize(x_train_node[..., tf.newaxis], (int(2**(n/2)), int(2**(n/2)))).numpy()[..., 0].reshape(-1, 2**n)\n",
    "    x_train_small = x_train_small / jnp.sqrt(jnp.sum(x_train_small**2, axis=-1, keepdims=True))\n",
    "    dm = jnp.einsum('nij, njk -> nik', jnp.conjugate(x_train_small.reshape(-1, 2**n, 1)), x_train_small.reshape(-1, 1, 2**n))\n",
    "    density_est_list.append(jnp.mean(dm, axis=0))\n",
    "    p_node.append(len(x_train_small))\n",
    "density_est_list = jnp.stack(density_est_list, axis=0)\n",
    "p_node = jnp.stack(p_node, axis=0) / jnp.sum(jnp.array(p_node))"
   ]
  },
  {
   "cell_type": "code",
   "execution_count": 24,
   "metadata": {},
   "outputs": [
    {
     "data": {
      "text/plain": [
       "DeviceArray([0.15124556, 0.14188302, 0.14394899, 0.14049774, 0.13547017,\n",
       "             0.14140534, 0.14554922], dtype=float32)"
      ]
     },
     "execution_count": 24,
     "metadata": {},
     "output_type": "execute_result"
    }
   ],
   "source": [
    "p_node"
   ]
  },
  {
   "cell_type": "code",
   "execution_count": 25,
   "metadata": {},
   "outputs": [],
   "source": [
    "def pred_comb_with_gmm(params, x, gmm_scores, k, d_mode='GMM'):\n",
    "    dm_list = []\n",
    "    for node in range(n_node-1):\n",
    "        c = tc.Circuit(n, inputs=x)\n",
    "        for j in range(k):\n",
    "            for i in range(n - 1):\n",
    "                c.cnot(i, i + 1)\n",
    "            for i in range(n):\n",
    "                c.rx(i, theta=params[node][2 * j, i])\n",
    "                c.ry(i, theta=params[node][2 * j + 1, i])\n",
    "        density_matrix = jnp.conjugate(c.wavefunction('ket')) @ c.wavefunction('bra')\n",
    "        dm_list.append(density_matrix)\n",
    "\n",
    "    if d_mode == 'DM':\n",
    "        projector = jnp.conjugate(x.reshape(-1, 1)) @ x.reshape(1, -1)\n",
    "        weight = jnp.einsum('nij, ji -> n', density_est_list, projector).reshape(-1, 1, 1) * p_node.reshape(-1, 1, 1)\n",
    "        weight = (weight)**15\n",
    "        weight = weight / jnp.sum(weight)\n",
    "    elif d_mode == 'GMM':\n",
    "        weight = jnp.exp(gmm_scores - jnp.max(gmm_scores)).reshape(-1) * p_node\n",
    "        weight = weight / jnp.sum(weight)\n",
    "        weight = weight.reshape(-1, 1, 1)\n",
    "    else:\n",
    "        print('d_mode must be DM or GMM')\n",
    "        return None\n",
    "\n",
    "    dm = jnp.sum(jnp.stack(dm_list, axis=0) * weight, axis=0)\n",
    "    # print(jnp.trace(dm))\n",
    "    c = tc.DMCircuit(n, dminputs=dm)\n",
    "    logits = []\n",
    "    for i in range(n_node):\n",
    "        logits.append(jnp.real(c.expectation([tc.gates.z(), [i,]])))\n",
    "    logits = jnp.stack(logits, axis=-1) * 10\n",
    "    pred_prob = jax.nn.softmax(logits)\n",
    "\n",
    "    # pred_prob = []\n",
    "    # for node in range(n_node):\n",
    "    #     c = tc.DMCircuit(n, dminputs=dm_list[node])\n",
    "    #     pred_prob.append(1-(jnp.real(c.expectation([tc.gates.z(), [node,]])) + 1) / 2)\n",
    "\n",
    "    # # print(pred_prob)\n",
    "    # # print(weight)\n",
    "    # pred_prob = jnp.stack(pred_prob, axis=0) * weight.reshape(-1)\n",
    "    # pred_prob = jnp.hstack([1-jnp.sum(pred_prob), pred_prob])\n",
    "\n",
    "    return pred_prob\n",
    "pred_comb_with_gmm = K.vmap(pred_comb_with_gmm, vectorized_argnums=[1, 2])\n",
    "\n",
    "def pred_comb(params, x, k, d_mode='GMM'):\n",
    "    gmm_scores_list = []\n",
    "    for node in range(n_node-1):\n",
    "        gmm_scores = gmm_list[node].score_samples(x)\n",
    "        gmm_scores_list.append(gmm_scores)\n",
    "    gmm_scores_list = jnp.stack(gmm_scores_list, axis=-1)\n",
    "    \n",
    "    pred_prob = pred_comb_with_gmm(params, x, gmm_scores_list, k, d_mode)\n",
    "    return pred_prob\n"
   ]
  },
  {
   "cell_type": "code",
   "execution_count": 26,
   "metadata": {},
   "outputs": [
    {
     "data": {
      "text/plain": [
       "<matplotlib.image.AxesImage at 0x7f2db40db6d0>"
      ]
     },
     "execution_count": 26,
     "metadata": {},
     "output_type": "execute_result"
    },
    {
     "data": {
      "image/png": "[encoded data removed]",
      "text/plain": [
       "<Figure size 432x288 with 1 Axes>"
      ]
     },
     "metadata": {
      "needs_background": "light"
     },
     "output_type": "display_data"
    }
   ],
   "source": [
    "i = 37\n",
    "x_train_node, y_train_node = filter_pair(x_train, y_train, 0, 2 + 1)\n",
    "x_train_small = tf.image.resize(x_train_node[..., tf.newaxis], (int(2**(n/2)), int(2**(n/2)))).numpy()[..., 0].reshape(-1, 2**n)\n",
    "x_train_small = x_train_small / jnp.sqrt(jnp.sum(x_train_small**2, axis=-1, keepdims=True))\n",
    "plt.imshow(x_train_small[i].reshape(16, 16))"
   ]
  },
  {
   "cell_type": "code",
   "execution_count": 27,
   "metadata": {},
   "outputs": [
    {
     "data": {
      "text/plain": [
       "DeviceArray(0.91999996, dtype=float32)"
      ]
     },
     "execution_count": 27,
     "metadata": {},
     "output_type": "execute_result"
    }
   ],
   "source": [
    "jnp.mean(pred_comb(params_list, x_train_small[:100], k, d_mode='GMM').argmax(axis=-1) == y_train_node[:100].argmax(axis=-1))"
   ]
  },
  {
   "cell_type": "code",
   "execution_count": 28,
   "metadata": {},
   "outputs": [
    {
     "data": {
      "text/plain": [
       "DeviceArray(0.91999996, dtype=float32)"
      ]
     },
     "execution_count": 28,
     "metadata": {},
     "output_type": "execute_result"
    }
   ],
   "source": [
    "jnp.mean(pred_comb(params_list, x_train_small[:100], k, d_mode='DM').argmax(axis=-1) == y_train_node[:100].argmax(axis=-1))"
   ]
  },
  {
   "cell_type": "code",
   "execution_count": 33,
   "metadata": {},
   "outputs": [],
   "source": [
    "x_test = tf.image.resize(x_test[..., tf.newaxis], (int(2**(n/2)), int(2**(n/2)))).numpy()[..., 0].reshape(-1, 2**n)\n",
    "x_test = x_test / jnp.sqrt(jnp.sum(x_test**2, axis=-1, keepdims=True))"
   ]
  },
  {
   "cell_type": "code",
   "execution_count": 34,
   "metadata": {},
   "outputs": [
    {
     "data": {
      "text/plain": [
       "DeviceArray(0.8798828, dtype=float32)"
      ]
     },
     "execution_count": 34,
     "metadata": {},
     "output_type": "execute_result"
    }
   ],
   "source": [
    "jnp.mean(pred_comb(params_list, x_test[:1024], k, d_mode='GMM').argmax(axis=-1) == y_test[:1024])"
   ]
  },
  {
   "cell_type": "code",
   "execution_count": 35,
   "metadata": {},
   "outputs": [
    {
     "data": {
      "text/plain": [
       "DeviceArray(0.76464844, dtype=float32)"
      ]
     },
     "execution_count": 35,
     "metadata": {},
     "output_type": "execute_result"
    }
   ],
   "source": [
    "jnp.mean(pred_comb(params_list, x_test[:1024], k, d_mode='DM').argmax(axis=-1) == y_test[:1024])"
   ]
  },
  {
   "cell_type": "code",
   "execution_count": null,
   "metadata": {},
   "outputs": [],
   "source": []
  }
 ],
 "metadata": {
  "kernelspec": {
   "display_name": "Python 3.9.12 ('ode-rnn')",
   "language": "python",
   "name": "python3"
  },
  "language_info": {
   "codemirror_mode": {
    "name": "ipython",
    "version": 3
   },
   "file_extension": ".py",
   "mimetype": "text/x-python",
   "name": "python",
   "nbconvert_exporter": "python",
   "pygments_lexer": "ipython3",
   "version": "3.9.12"
  },
  "orig_nbformat": 4,
  "vscode": {
   "interpreter": {
    "hash": "274e8ed069bc503cc01fa1aa16068ccb03180744fbf761618fb0dbde6179c71c"
   }
  }
 },
 "nbformat": 4,
 "nbformat_minor": 2
}
