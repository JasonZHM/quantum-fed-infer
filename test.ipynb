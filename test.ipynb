{
 "cells": [
  {
   "cell_type": "code",
   "execution_count": 1,
   "metadata": {},
   "outputs": [],
   "source": [
    "import tensorcircuit as tc\n",
    "import optax\n",
    "import jax.numpy as jnp\n",
    "import tensorflow as tf\n",
    "import matplotlib.pyplot as plt\n",
    "from tqdm.notebook import tqdm"
   ]
  },
  {
   "cell_type": "code",
   "execution_count": 2,
   "metadata": {},
   "outputs": [],
   "source": [
    "K = tc.set_backend('jax')"
   ]
  },
  {
   "cell_type": "code",
   "execution_count": 3,
   "metadata": {},
   "outputs": [
    {
     "name": "stderr",
     "output_type": "stream",
     "text": [
      "WARNING:absl:No GPU/TPU found, falling back to CPU. (Set TF_CPP_MIN_LOG_LEVEL=0 and rerun for more info.)\n"
     ]
    }
   ],
   "source": [
    "# numpy data\n",
    "(x_train, y_train), (x_test, y_test) = tf.keras.datasets.mnist.load_data()\n",
    "x_train = x_train / 255.0\n",
    "\n",
    "\n",
    "def filter_pair(x, y, a, b):\n",
    "    keep = (y == a) | (y == b)\n",
    "    x, y = x[keep], y[keep]\n",
    "    y = y == a\n",
    "    return x, y\n",
    "\n",
    "x_train, y_train = filter_pair(x_train, y_train, 0, 1)\n",
    "x_train_small = tf.image.resize(x_train[..., tf.newaxis], (16, 16)).numpy()[..., 0].reshape(-1, 256)\n",
    "x_train_small = x_train_small / jnp.sqrt(jnp.sum(x_train_small**2, axis=-1, keepdims=True))"
   ]
  },
  {
   "cell_type": "code",
   "execution_count": 4,
   "metadata": {},
   "outputs": [
    {
     "data": {
      "text/plain": [
       "(12665, 256)"
      ]
     },
     "execution_count": 4,
     "metadata": {},
     "output_type": "execute_result"
    }
   ],
   "source": [
    "x_train_small.shape"
   ]
  },
  {
   "cell_type": "code",
   "execution_count": 5,
   "metadata": {},
   "outputs": [
    {
     "data": {
      "text/plain": [
       "<matplotlib.image.AxesImage at 0x7f932ea5f690>"
      ]
     },
     "execution_count": 5,
     "metadata": {},
     "output_type": "execute_result"
    },
    {
     "data": {
      "image/png": "[encoded data removed]",
      "text/plain": [
       "<Figure size 432x288 with 1 Axes>"
      ]
     },
     "metadata": {
      "needs_background": "light"
     },
     "output_type": "display_data"
    }
   ],
   "source": [
    "plt.imshow(x_train_small[0].reshape(16, 16), cmap='gray')"
   ]
  },
  {
   "cell_type": "code",
   "execution_count": 6,
   "metadata": {},
   "outputs": [
    {
     "data": {
      "text/plain": [
       "<matplotlib.image.AxesImage at 0x7f932d5f49d0>"
      ]
     },
     "execution_count": 6,
     "metadata": {},
     "output_type": "execute_result"
    },
    {
     "data": {
      "image/png": "[encoded data removed]",
      "text/plain": [
       "<Figure size 432x288 with 1 Axes>"
      ]
     },
     "metadata": {
      "needs_background": "light"
     },
     "output_type": "display_data"
    }
   ],
   "source": [
    "c = tc.Circuit(8, inputs=x_train_small[0])\n",
    "\n",
    "plt.imshow(jnp.real(c.wavefunction().reshape(16, 16)))\n"
   ]
  },
  {
   "cell_type": "code",
   "execution_count": 7,
   "metadata": {},
   "outputs": [],
   "source": [
    "data = tf.data.Dataset.from_tensor_slices((x_train_small, y_train)).shuffle(100).batch(128)"
   ]
  },
  {
   "cell_type": "code",
   "execution_count": 8,
   "metadata": {},
   "outputs": [],
   "source": [
    "def loss(params, x, y, k):\n",
    "    c = tc.Circuit(8, inputs=x)\n",
    "    for j in range(k):\n",
    "        for i in range(8 - 1):\n",
    "            c.cnot(i, i + 1)\n",
    "        for i in range(8):\n",
    "            c.rx(i, theta=params[2 * j, i])\n",
    "            c.ry(i, theta=params[2 * j + 1, i])\n",
    "    y_pred = (jnp.real(c.expectation([tc.gates.z(), [0,]])) + 1) / 2\n",
    "    return -(y * jnp.log(y_pred) + (1 - y) * jnp.log(1 - y_pred))\n",
    "loss = K.jit(loss, static_argnums=[3])"
   ]
  },
  {
   "cell_type": "code",
   "execution_count": 9,
   "metadata": {},
   "outputs": [],
   "source": [
    "def accuracy(params, x, y, k):\n",
    "    c = tc.Circuit(8, inputs=x)\n",
    "    for j in range(k):\n",
    "        for i in range(8 - 1):\n",
    "            c.cnot(i, i + 1)\n",
    "        for i in range(8):\n",
    "            c.rx(i, theta=params[2 * j, i])\n",
    "            c.ry(i, theta=params[2 * j + 1, i])\n",
    "    y_pred = jnp.round((jnp.real(c.expectation([tc.gates.z(), [0,]])) + 1) / 2)\n",
    "    return y_pred == y\n",
    "accuracy = K.jit(accuracy, static_argnums=[3])"
   ]
  },
  {
   "cell_type": "code",
   "execution_count": 10,
   "metadata": {},
   "outputs": [],
   "source": [
    "k = 6\n",
    "params = K.randn((k * 2, 8), dtype=jnp.float32)"
   ]
  },
  {
   "cell_type": "code",
   "execution_count": 11,
   "metadata": {},
   "outputs": [],
   "source": [
    "opt = optax.adam(learning_rate=1e-2)\n",
    "opt_state = opt.init(params)"
   ]
  },
  {
   "cell_type": "code",
   "execution_count": 12,
   "metadata": {},
   "outputs": [],
   "source": [
    "compute_loss = K.vectorized_value_and_grad(loss, vectorized_argnums=[1, 2])\n",
    "compute_accuracy = K.vmap(accuracy, vectorized_argnums=[1, 2])"
   ]
  },
  {
   "cell_type": "code",
   "execution_count": 13,
   "metadata": {},
   "outputs": [
    {
     "data": {
      "application/vnd.jupyter.widget-view+json": {
       "model_id": "e06b5a2523724b668f9dbcaf99769b0e",
       "version_major": 2,
       "version_minor": 0
      },
      "text/plain": [
       "  0%|          | 0/2 [00:00<?, ?it/s]"
      ]
     },
     "metadata": {},
     "output_type": "display_data"
    },
    {
     "name": "stdout",
     "output_type": "stream",
     "text": [
      "epoch 0, 0/99: loss=0.6863, acc=0.5234\n",
      "epoch 0, 10/99: loss=0.6540, acc=0.7188\n",
      "epoch 0, 20/99: loss=0.6248, acc=0.8906\n",
      "epoch 0, 30/99: loss=0.5928, acc=0.9141\n",
      "epoch 0, 40/99: loss=0.5717, acc=0.9219\n",
      "epoch 0, 50/99: loss=0.5443, acc=0.9453\n",
      "epoch 0, 60/99: loss=0.5171, acc=0.9453\n",
      "epoch 0, 70/99: loss=0.5182, acc=0.9531\n",
      "epoch 0, 80/99: loss=0.4903, acc=0.9922\n",
      "epoch 0, 90/99: loss=0.4809, acc=1.0000\n",
      "epoch 1, 0/99: loss=0.5027, acc=0.9609\n",
      "epoch 1, 10/99: loss=0.4681, acc=0.9922\n",
      "epoch 1, 20/99: loss=0.4828, acc=0.9922\n",
      "epoch 1, 30/99: loss=0.4666, acc=0.9922\n",
      "epoch 1, 40/99: loss=0.4797, acc=0.9531\n",
      "epoch 1, 50/99: loss=0.4714, acc=0.9844\n",
      "epoch 1, 60/99: loss=0.4545, acc=1.0000\n",
      "epoch 1, 70/99: loss=0.4773, acc=0.9922\n",
      "epoch 1, 80/99: loss=0.4608, acc=0.9844\n",
      "epoch 1, 90/99: loss=0.4518, acc=0.9922\n"
     ]
    }
   ],
   "source": [
    "loss_list = []\n",
    "acc_list = []\n",
    "for e in tqdm(range(2)):\n",
    "    for i, (x, y) in enumerate(data):\n",
    "        x = x.numpy()\n",
    "        y = y.numpy()\n",
    "        loss_val, grad_val = compute_loss(params, x, y, k)\n",
    "        updates, opt_state = opt.update(grad_val, opt_state, params)\n",
    "        params = optax.apply_updates(params, updates)\n",
    "        loss_mean = jnp.mean(loss_val)\n",
    "        if i % 10 == 0:\n",
    "            acc = jnp.mean(compute_accuracy(params, x, y, k))\n",
    "            acc_list.append(acc)\n",
    "            loss_list.append(loss_mean)\n",
    "            print(f'epoch {e}, {i}/{len(data)}: loss={loss_mean:.4f}, acc={acc:.4f}')"
   ]
  },
  {
   "cell_type": "code",
   "execution_count": 14,
   "metadata": {},
   "outputs": [
    {
     "data": {
      "image/png": "[encoded data removed]",
      "text/plain": [
       "<Figure size 432x288 with 1 Axes>"
      ]
     },
     "metadata": {
      "needs_background": "light"
     },
     "output_type": "display_data"
    }
   ],
   "source": [
    "plt.plot(loss_list)\n",
    "plt.plot(acc_list)\n",
    "plt.legend(['loss', 'accuracy'])\n",
    "plt.show()"
   ]
  },
  {
   "cell_type": "code",
   "execution_count": 15,
   "metadata": {},
   "outputs": [],
   "source": [
    "def pred(params, x, y, k):\n",
    "    c = tc.Circuit(8, inputs=x)\n",
    "    for j in range(k):\n",
    "        for i in range(8 - 1):\n",
    "            c.cnot(i, i + 1)\n",
    "        for i in range(8):\n",
    "            c.rx(i, theta=params[2 * j, i])\n",
    "            c.ry(i, theta=params[2 * j + 1, i])\n",
    "    y_pred = jnp.round((jnp.real(c.expectation([tc.gates.z(), [0,]])) + 1) / 2)\n",
    "    return y_pred\n",
    "pred = K.jit(pred, static_argnums=[3])"
   ]
  },
  {
   "cell_type": "code",
   "execution_count": 16,
   "metadata": {},
   "outputs": [],
   "source": [
    "prediction = K.vmap(pred, vectorized_argnums=[1, 2])(params, x_train_small[:1000], y_train[:1000], k)"
   ]
  },
  {
   "cell_type": "code",
   "execution_count": 17,
   "metadata": {},
   "outputs": [
    {
     "data": {
      "text/plain": [
       "DeviceArray(0.98800004, dtype=float32)"
      ]
     },
     "execution_count": 17,
     "metadata": {},
     "output_type": "execute_result"
    }
   ],
   "source": [
    "jnp.mean(y_train[:1000]*1.0==prediction)"
   ]
  },
  {
   "cell_type": "code",
   "execution_count": null,
   "metadata": {},
   "outputs": [],
   "source": []
  }
 ],
 "metadata": {
  "kernelspec": {
   "display_name": "Python 3.7.6 64-bit ('base')",
   "language": "python",
   "name": "python3"
  },
  "language_info": {
   "codemirror_mode": {
    "name": "ipython",
    "version": 3
   },
   "file_extension": ".py",
   "mimetype": "text/x-python",
   "name": "python",
   "nbconvert_exporter": "python",
   "pygments_lexer": "ipython3",
   "version": "3.7.6"
  },
  "orig_nbformat": 4,
  "vscode": {
   "interpreter": {
    "hash": "6544d7d25989b4294a912322cb1a3d014baeb728b9c72e23e3b8bbf4fa651ef0"
   }
  }
 },
 "nbformat": 4,
 "nbformat_minor": 2
}
