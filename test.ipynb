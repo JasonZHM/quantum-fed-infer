{
 "cells": [
  {
   "cell_type": "code",
   "execution_count": 11,
   "metadata": {},
   "outputs": [],
   "source": [
    "import tensorcircuit as tc\n",
    "import optax\n",
    "import jax.numpy as jnp\n",
    "import tensorflow as tf\n",
    "import matplotlib.pyplot as plt\n",
    "from tqdm.notebook import tqdm\n",
    "\n",
    "from sklearn.mixture import GaussianMixture"
   ]
  },
  {
   "cell_type": "code",
   "execution_count": 12,
   "metadata": {},
   "outputs": [],
   "source": [
    "n = 8\n",
    "n_node = 3"
   ]
  },
  {
   "cell_type": "code",
   "execution_count": 13,
   "metadata": {},
   "outputs": [],
   "source": [
    "K = tc.set_backend('jax')"
   ]
  },
  {
   "cell_type": "code",
   "execution_count": 14,
   "metadata": {},
   "outputs": [],
   "source": [
    "# numpy data\n",
    "(x_train, y_train), (x_test, y_test) = tf.keras.datasets.mnist.load_data()\n",
    "x_train = x_train / 255.0\n",
    "mean = jnp.mean(x_train, axis=0)\n",
    "x_train = x_train - mean\n",
    "\n",
    "\n",
    "def filter_pair(x, y, a, b):\n",
    "    keep = (y == a) | (y == b)\n",
    "    x, y = x[keep], y[keep]\n",
    "    y = y == a\n",
    "    return x, y"
   ]
  },
  {
   "cell_type": "code",
   "execution_count": 15,
   "metadata": {},
   "outputs": [],
   "source": [
    "def loss(params, x, y, k, out):\n",
    "    c = tc.Circuit(n, inputs=x)\n",
    "    for j in range(k):\n",
    "        for i in range(n - 1):\n",
    "            c.cnot(i, i + 1)\n",
    "        for i in range(n):\n",
    "            c.rx(i, theta=params[2 * j, i])\n",
    "            c.ry(i, theta=params[2 * j + 1, i])\n",
    "    y_pred = (jnp.real(c.expectation([tc.gates.z(), [out,]])) + 1) / 2\n",
    "    return -(y * jnp.log(y_pred) + (1 - y) * jnp.log(1 - y_pred))\n",
    "loss = K.jit(loss, static_argnums=[3, 4])"
   ]
  },
  {
   "cell_type": "code",
   "execution_count": 16,
   "metadata": {},
   "outputs": [],
   "source": [
    "def accuracy(params, x, y, k, out):\n",
    "    c = tc.Circuit(n, inputs=x)\n",
    "    for j in range(k):\n",
    "        for i in range(n - 1):\n",
    "            c.cnot(i, i + 1)\n",
    "        for i in range(n):\n",
    "            c.rx(i, theta=params[2 * j, i])\n",
    "            c.ry(i, theta=params[2 * j + 1, i])\n",
    "    y_pred = jnp.round((jnp.real(c.expectation([tc.gates.z(), [out,]])) + 1) / 2)\n",
    "    return y_pred == y\n",
    "accuracy = K.jit(accuracy, static_argnums=[3, 4])"
   ]
  },
  {
   "cell_type": "code",
   "execution_count": 17,
   "metadata": {},
   "outputs": [],
   "source": [
    "k = 6"
   ]
  },
  {
   "cell_type": "code",
   "execution_count": 18,
   "metadata": {},
   "outputs": [],
   "source": [
    "compute_loss = K.vectorized_value_and_grad(loss, vectorized_argnums=[1, 2])\n",
    "compute_accuracy = K.vmap(accuracy, vectorized_argnums=[1, 2])"
   ]
  },
  {
   "cell_type": "code",
   "execution_count": 53,
   "metadata": {},
   "outputs": [
    {
     "data": {
      "application/vnd.jupyter.widget-view+json": {
       "model_id": "adbde04f952047c78c4cf16cfa848325",
       "version_major": 2,
       "version_minor": 0
      },
      "text/plain": [
       "  0%|          | 0/3 [00:00<?, ?it/s]"
      ]
     },
     "metadata": {},
     "output_type": "display_data"
    },
    {
     "data": {
      "application/vnd.jupyter.widget-view+json": {
       "model_id": "15253e4e29b344ecabcd995073cc9cfb",
       "version_major": 2,
       "version_minor": 0
      },
      "text/plain": [
       "  0%|          | 0/2 [00:00<?, ?it/s]"
      ]
     },
     "metadata": {},
     "output_type": "display_data"
    },
    {
     "name": "stdout",
     "output_type": "stream",
     "text": [
      "epoch 0, 0/99: loss=0.6999, acc=0.5781\n",
      "epoch 0, 30/99: loss=0.5647, acc=0.7656\n",
      "epoch 0, 60/99: loss=0.5061, acc=0.8203\n",
      "epoch 0, 90/99: loss=0.4534, acc=0.9062\n",
      "epoch 1, 0/99: loss=0.5068, acc=0.8906\n",
      "epoch 1, 30/99: loss=0.4336, acc=0.9062\n",
      "epoch 1, 60/99: loss=0.3938, acc=0.9609\n",
      "epoch 1, 90/99: loss=0.4026, acc=0.9453\n"
     ]
    },
    {
     "data": {
      "image/png": "[encoded data removed]",
      "text/plain": [
       "<Figure size 432x288 with 1 Axes>"
      ]
     },
     "metadata": {
      "needs_background": "light"
     },
     "output_type": "display_data"
    },
    {
     "data": {
      "application/vnd.jupyter.widget-view+json": {
       "model_id": "b27140ea66914ec4a2140b6d1de85bec",
       "version_major": 2,
       "version_minor": 0
      },
      "text/plain": [
       "  0%|          | 0/2 [00:00<?, ?it/s]"
      ]
     },
     "metadata": {},
     "output_type": "display_data"
    },
    {
     "name": "stdout",
     "output_type": "stream",
     "text": [
      "epoch 0, 0/93: loss=0.6758, acc=0.6719\n",
      "epoch 0, 30/93: loss=0.5937, acc=0.7812\n",
      "epoch 0, 60/93: loss=0.5743, acc=0.8047\n",
      "epoch 0, 90/93: loss=0.5647, acc=0.8750\n",
      "epoch 1, 0/93: loss=0.5522, acc=0.8984\n",
      "epoch 1, 30/93: loss=0.5529, acc=0.9453\n",
      "epoch 1, 60/93: loss=0.5688, acc=0.8594\n",
      "epoch 1, 90/93: loss=0.5416, acc=0.9375\n"
     ]
    },
    {
     "data": {
      "image/png": "[encoded data removed]",
      "text/plain": [
       "<Figure size 432x288 with 1 Axes>"
      ]
     },
     "metadata": {
      "needs_background": "light"
     },
     "output_type": "display_data"
    },
    {
     "data": {
      "application/vnd.jupyter.widget-view+json": {
       "model_id": "f62f86b9621b4126a9cd1ae995acc093",
       "version_major": 2,
       "version_minor": 0
      },
      "text/plain": [
       "  0%|          | 0/2 [00:00<?, ?it/s]"
      ]
     },
     "metadata": {},
     "output_type": "display_data"
    },
    {
     "name": "stdout",
     "output_type": "stream",
     "text": [
      "epoch 0, 0/95: loss=0.6842, acc=0.5781\n",
      "epoch 0, 30/95: loss=0.6017, acc=0.8516\n",
      "epoch 0, 60/95: loss=0.5449, acc=0.9375\n",
      "epoch 0, 90/95: loss=0.5300, acc=0.9609\n",
      "epoch 1, 0/95: loss=0.5286, acc=0.9453\n",
      "epoch 1, 30/95: loss=0.5068, acc=0.9766\n",
      "epoch 1, 60/95: loss=0.4941, acc=0.9531\n",
      "epoch 1, 90/95: loss=0.5203, acc=0.9375\n"
     ]
    },
    {
     "data": {
      "image/png": "[encoded data removed]",
      "text/plain": [
       "<Figure size 432x288 with 1 Axes>"
      ]
     },
     "metadata": {
      "needs_background": "light"
     },
     "output_type": "display_data"
    }
   ],
   "source": [
    "params_list = []\n",
    "gmm_list = []\n",
    "for node in tqdm(range(n_node)):\n",
    "    x_train_node, y_train_node = filter_pair(x_train, y_train, 0, node + 1)\n",
    "    x_train_small = tf.image.resize(x_train_node[..., tf.newaxis], (int(2**(n/2)), int(2**(n/2)))).numpy()[..., 0].reshape(-1, 2**n)\n",
    "    x_train_small = x_train_small / jnp.sqrt(jnp.sum(x_train_small**2, axis=-1, keepdims=True))\n",
    "    data = tf.data.Dataset.from_tensor_slices((x_train_small, y_train_node)).shuffle(100).batch(128)\n",
    "\n",
    "    # GMM\n",
    "    gmm = GaussianMixture(n_components=5, max_iter=100)\n",
    "    gmm.fit(x_train_small)\n",
    "    gmm_list.append(gmm)\n",
    "\n",
    "    params = K.randn((k * 2, n), dtype=jnp.float32)\n",
    "    opt = optax.adam(learning_rate=1e-2)\n",
    "    opt_state = opt.init(params)\n",
    "\n",
    "    loss_list = []\n",
    "    acc_list = []\n",
    "    for e in tqdm(range(2)):\n",
    "        for i, (x, y) in enumerate(data):\n",
    "            x = x.numpy()\n",
    "            y = y.numpy()\n",
    "            loss_val, grad_val = compute_loss(params, x, y, k, node)\n",
    "            updates, opt_state = opt.update(grad_val, opt_state, params)\n",
    "            params = optax.apply_updates(params, updates)\n",
    "            loss_mean = jnp.mean(loss_val)\n",
    "            if i % 30 == 0:\n",
    "                acc = jnp.mean(compute_accuracy(params, x, y, k, node))\n",
    "                acc_list.append(acc)\n",
    "                loss_list.append(loss_mean)\n",
    "                print(f'epoch {e}, {i}/{len(data)}: loss={loss_mean:.4f}, acc={acc:.4f}')\n",
    "\n",
    "    plt.plot(loss_list)\n",
    "    plt.plot(acc_list)\n",
    "    plt.legend(['loss', 'accuracy'])\n",
    "    plt.ylim(0, 1)\n",
    "    plt.show()\n",
    "\n",
    "    params_list.append(params)\n"
   ]
  },
  {
   "cell_type": "code",
   "execution_count": 54,
   "metadata": {},
   "outputs": [],
   "source": [
    "def pred(params, x, y, k):\n",
    "    c = tc.Circuit(n, inputs=x)\n",
    "    for j in range(k):\n",
    "        for i in range(n - 1):\n",
    "            c.cnot(i, i + 1)\n",
    "        for i in range(n):\n",
    "            c.rx(i, theta=params[2 * j, i])\n",
    "            c.ry(i, theta=params[2 * j + 1, i])\n",
    "    y_pred = jnp.round((jnp.real(c.expectation([tc.gates.z(), [0,]])) + 1) / 2)\n",
    "    return y_pred\n",
    "pred = K.jit(pred, static_argnums=[3])"
   ]
  },
  {
   "cell_type": "code",
   "execution_count": 55,
   "metadata": {},
   "outputs": [
    {
     "data": {
      "application/vnd.jupyter.widget-view+json": {
       "model_id": "52efe8ba524246f2b90223c980569b08",
       "version_major": 2,
       "version_minor": 0
      },
      "text/plain": [
       "  0%|          | 0/3 [00:00<?, ?it/s]"
      ]
     },
     "metadata": {},
     "output_type": "display_data"
    }
   ],
   "source": [
    "density_est_list = []\n",
    "p_node = []\n",
    "for node in tqdm(range(n_node)):\n",
    "    x_train_node, y_train_node = filter_pair(x_train, y_train, 0, node + 1)\n",
    "    # x_train_node = x_train_node[:1000]\n",
    "    # y_train_node = y_train_node[:1000]\n",
    "    x_train_small = tf.image.resize(x_train_node[..., tf.newaxis], (int(2**(n/2)), int(2**(n/2)))).numpy()[..., 0].reshape(-1, 2**n)\n",
    "    x_train_small = x_train_small / jnp.sqrt(jnp.sum(x_train_small**2, axis=-1, keepdims=True))\n",
    "    dm = jnp.einsum('nij, njk -> nik', jnp.conjugate(x_train_small.reshape(-1, 2**n, 1)), x_train_small.reshape(-1, 1, 2**n))\n",
    "    density_est_list.append(jnp.mean(dm, axis=0))\n",
    "    p_node.append(len(x_train_small))\n",
    "density_est_list = jnp.stack(density_est_list, axis=0)\n",
    "p_node = jnp.stack(p_node, axis=0) / jnp.sum(jnp.array(p_node))"
   ]
  },
  {
   "cell_type": "code",
   "execution_count": 56,
   "metadata": {},
   "outputs": [
    {
     "data": {
      "text/plain": [
       "DeviceArray([0.34603825, 0.32461748, 0.32934427], dtype=float32)"
      ]
     },
     "execution_count": 56,
     "metadata": {},
     "output_type": "execute_result"
    }
   ],
   "source": [
    "p_node"
   ]
  },
  {
   "cell_type": "code",
   "execution_count": 100,
   "metadata": {},
   "outputs": [],
   "source": [
    "def pred_comb_with_gmm(params, x, gmm_scores, k):\n",
    "    dm_list = []\n",
    "    for node in range(n_node):\n",
    "        c = tc.Circuit(n, inputs=x)\n",
    "        for j in range(k):\n",
    "            for i in range(n - 1):\n",
    "                c.cnot(i, i + 1)\n",
    "            for i in range(n):\n",
    "                c.rx(i, theta=params[node][2 * j, i])\n",
    "                c.ry(i, theta=params[node][2 * j + 1, i])\n",
    "        density_matrix = jnp.conjugate(c.wavefunction('ket')) @ c.wavefunction('bra')\n",
    "        dm_list.append(density_matrix)\n",
    "\n",
    "    #     projector = jnp.conjugate(x.reshape(-1, 1)) @ x.reshape(1, -1)\n",
    "    #     weight = jnp.einsum('nij, ji -> n', density_est_list, projector).reshape(-1, 1, 1) * p_node.reshape(-1, 1, 1)\n",
    "    #     weight = weight\n",
    "    #     weight = weight / jnp.sum(weight)\n",
    "\n",
    "    weight = jnp.exp(gmm_scores - jnp.max(gmm_scores)).reshape(-1) * p_node\n",
    "    weight = weight / jnp.sum(weight)\n",
    "\n",
    "    # dm = jnp.sum(jnp.stack(dm_list, axis=0) * weight, axis=0)\n",
    "    # # print(jnp.trace(dm))\n",
    "    # c = tc.DMCircuit(n, dminputs=dm)\n",
    "    # pred_prob = []\n",
    "    # for node in range(6):\n",
    "    #     pred_prob.append((jnp.real(c.expectation([tc.gates.z(), [node,]])) + 1) / 2)\n",
    "\n",
    "    pred_prob = []\n",
    "    for node in range(n_node):\n",
    "        c = tc.DMCircuit(n, dminputs=dm_list[node])\n",
    "        pred_prob.append(1-(jnp.real(c.expectation([tc.gates.z(), [node,]])) + 1) / 2)\n",
    "\n",
    "    # print(pred_prob)\n",
    "    # print(weight)\n",
    "    pred_prob = jnp.stack(pred_prob, axis=0) * weight.reshape(-1)\n",
    "    pred_prob = jnp.hstack([1-jnp.sum(pred_prob), pred_prob])\n",
    "\n",
    "    return pred_prob\n",
    "pred_comb_with_gmm = K.vmap(pred_comb_with_gmm, vectorized_argnums=[1, 2])\n",
    "\n",
    "def pred_comb(params, x, k):\n",
    "    gmm_scores_list = []\n",
    "    for node in range(n_node):\n",
    "        gmm_scores = gmm_list[node].score_samples(x)\n",
    "        gmm_scores_list.append(gmm_scores)\n",
    "    gmm_scores_list = jnp.stack(gmm_scores_list, axis=-1)\n",
    "    \n",
    "    pred_prob = pred_comb_with_gmm(params, x, gmm_scores_list, k)\n",
    "    return pred_prob"
   ]
  },
  {
   "cell_type": "code",
   "execution_count": 105,
   "metadata": {},
   "outputs": [
    {
     "data": {
      "text/plain": [
       "<matplotlib.image.AxesImage at 0x7f9c37a0dd10>"
      ]
     },
     "execution_count": 105,
     "metadata": {},
     "output_type": "execute_result"
    },
    {
     "data": {
      "image/png": "[encoded data removed]",
      "text/plain": [
       "<Figure size 432x288 with 1 Axes>"
      ]
     },
     "metadata": {
      "needs_background": "light"
     },
     "output_type": "display_data"
    }
   ],
   "source": [
    "i = 3\n",
    "x_train_node, y_train_node = filter_pair(x_train, y_train, 0, 2 + 1)\n",
    "x_train_small = tf.image.resize(x_train_node[..., tf.newaxis], (int(2**(n/2)), int(2**(n/2)))).numpy()[..., 0].reshape(-1, 2**n)\n",
    "x_train_small = x_train_small / jnp.sqrt(jnp.sum(x_train_small**2, axis=-1, keepdims=True))\n",
    "plt.imshow(x_train_small[i].reshape(16, 16))"
   ]
  },
  {
   "cell_type": "code",
   "execution_count": 106,
   "metadata": {},
   "outputs": [
    {
     "data": {
      "text/plain": [
       "DeviceArray([[0.3073452, 0.       , 0.       , 0.6926548]], dtype=float32)"
      ]
     },
     "execution_count": 106,
     "metadata": {},
     "output_type": "execute_result"
    }
   ],
   "source": [
    "pred_comb(params_list, x_train_small[i].reshape(1, -1), k)"
   ]
  },
  {
   "cell_type": "code",
   "execution_count": 109,
   "metadata": {},
   "outputs": [],
   "source": [
    "jnp.mean(jnp.argmax(pred_comb(params_list, x_train_small, k), axis=-1)==(1-y_train_node[:1000])*3)"
   ]
  },
  {
   "cell_type": "code",
   "execution_count": null,
   "metadata": {},
   "outputs": [],
   "source": []
  }
 ],
 "metadata": {
  "kernelspec": {
   "display_name": "Python 3.7.6 64-bit ('base')",
   "language": "python",
   "name": "python3"
  },
  "language_info": {
   "codemirror_mode": {
    "name": "ipython",
    "version": 3
   },
   "file_extension": ".py",
   "mimetype": "text/x-python",
   "name": "python",
   "nbconvert_exporter": "python",
   "pygments_lexer": "ipython3",
   "version": "3.7.6"
  },
  "orig_nbformat": 4,
  "vscode": {
   "interpreter": {
    "hash": "6544d7d25989b4294a912322cb1a3d014baeb728b9c72e23e3b8bbf4fa651ef0"
   }
  }
 },
 "nbformat": 4,
 "nbformat_minor": 2
}
