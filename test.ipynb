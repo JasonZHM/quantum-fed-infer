{
 "cells": [
  {
   "cell_type": "code",
   "execution_count": 1,
   "metadata": {},
   "outputs": [],
   "source": [
    "import tensorcircuit as tc\n",
    "import optax\n",
    "import jax.numpy as jnp\n",
    "import tensorflow as tf\n",
    "import matplotlib.pyplot as plt\n",
    "from tqdm.notebook import tqdm"
   ]
  },
  {
   "cell_type": "code",
   "execution_count": 2,
   "metadata": {},
   "outputs": [],
   "source": [
    "n = 8"
   ]
  },
  {
   "cell_type": "code",
   "execution_count": 3,
   "metadata": {},
   "outputs": [],
   "source": [
    "K = tc.set_backend('jax')"
   ]
  },
  {
   "cell_type": "code",
   "execution_count": 4,
   "metadata": {},
   "outputs": [],
   "source": [
    "# numpy data\n",
    "(x_train, y_train), (x_test, y_test) = tf.keras.datasets.mnist.load_data()\n",
    "x_train = x_train / 255.0\n",
    "\n",
    "\n",
    "def filter_pair(x, y, a, b):\n",
    "    keep = (y == a) | (y == b)\n",
    "    x, y = x[keep], y[keep]\n",
    "    y = y == a\n",
    "    return x, y"
   ]
  },
  {
   "cell_type": "code",
   "execution_count": 5,
   "metadata": {},
   "outputs": [],
   "source": [
    "def loss(params, x, y, k, out):\n",
    "    c = tc.Circuit(n, inputs=x)\n",
    "    for j in range(k):\n",
    "        for i in range(n - 1):\n",
    "            c.cnot(i, i + 1)\n",
    "        for i in range(n):\n",
    "            c.rx(i, theta=params[2 * j, i])\n",
    "            c.ry(i, theta=params[2 * j + 1, i])\n",
    "    y_pred = (jnp.real(c.expectation([tc.gates.z(), [out,]])) + 1) / 2\n",
    "    return -(y * jnp.log(y_pred) + (1 - y) * jnp.log(1 - y_pred))\n",
    "loss = K.jit(loss, static_argnums=[3, 4])"
   ]
  },
  {
   "cell_type": "code",
   "execution_count": 6,
   "metadata": {},
   "outputs": [],
   "source": [
    "def accuracy(params, x, y, k, out):\n",
    "    c = tc.Circuit(n, inputs=x)\n",
    "    for j in range(k):\n",
    "        for i in range(n - 1):\n",
    "            c.cnot(i, i + 1)\n",
    "        for i in range(n):\n",
    "            c.rx(i, theta=params[2 * j, i])\n",
    "            c.ry(i, theta=params[2 * j + 1, i])\n",
    "    y_pred = jnp.round((jnp.real(c.expectation([tc.gates.z(), [out,]])) + 1) / 2)\n",
    "    return y_pred == y\n",
    "accuracy = K.jit(accuracy, static_argnums=[3, 4])"
   ]
  },
  {
   "cell_type": "code",
   "execution_count": 7,
   "metadata": {},
   "outputs": [],
   "source": [
    "k = 6"
   ]
  },
  {
   "cell_type": "code",
   "execution_count": 8,
   "metadata": {},
   "outputs": [],
   "source": [
    "compute_loss = K.vectorized_value_and_grad(loss, vectorized_argnums=[1, 2])\n",
    "compute_accuracy = K.vmap(accuracy, vectorized_argnums=[1, 2])"
   ]
  },
  {
   "cell_type": "code",
   "execution_count": 10,
   "metadata": {},
   "outputs": [
    {
     "data": {
      "application/vnd.jupyter.widget-view+json": {
       "model_id": "c745db2a60574a42868a2abe57440b1b",
       "version_major": 2,
       "version_minor": 0
      },
      "text/plain": [
       "  0%|          | 0/6 [00:00<?, ?it/s]"
      ]
     },
     "metadata": {},
     "output_type": "display_data"
    },
    {
     "data": {
      "application/vnd.jupyter.widget-view+json": {
       "model_id": "fdc44e83b30d49f89daccaa69b5984a3",
       "version_major": 2,
       "version_minor": 0
      },
      "text/plain": [
       "  0%|          | 0/5 [00:00<?, ?it/s]"
      ]
     },
     "metadata": {},
     "output_type": "display_data"
    },
    {
     "name": "stdout",
     "output_type": "stream",
     "text": [
      "epoch 0, 0/99: loss=0.7334, acc=0.3516\n",
      "epoch 0, 30/99: loss=0.6179, acc=0.8672\n",
      "epoch 0, 60/99: loss=0.5400, acc=0.8594\n",
      "epoch 0, 90/99: loss=0.4897, acc=0.8828\n",
      "epoch 1, 0/99: loss=0.5097, acc=0.8594\n",
      "epoch 1, 30/99: loss=0.4656, acc=0.8906\n",
      "epoch 1, 60/99: loss=0.4181, acc=0.8906\n",
      "epoch 1, 90/99: loss=0.4082, acc=0.9062\n",
      "epoch 2, 0/99: loss=0.4062, acc=0.9062\n",
      "epoch 2, 30/99: loss=0.4116, acc=0.8906\n",
      "epoch 2, 60/99: loss=0.3895, acc=0.9297\n",
      "epoch 2, 90/99: loss=0.3845, acc=0.9609\n",
      "epoch 3, 0/99: loss=0.4005, acc=0.8828\n",
      "epoch 3, 30/99: loss=0.3882, acc=0.9141\n",
      "epoch 3, 60/99: loss=0.3728, acc=0.9453\n",
      "epoch 3, 90/99: loss=0.3977, acc=0.9531\n",
      "epoch 4, 0/99: loss=0.3767, acc=0.9062\n",
      "epoch 4, 30/99: loss=0.3927, acc=0.8828\n",
      "epoch 4, 60/99: loss=0.3663, acc=0.9297\n",
      "epoch 4, 90/99: loss=0.3844, acc=0.9375\n"
     ]
    },
    {
     "data": {
      "image/png": "[encoded data removed]",
      "text/plain": [
       "<Figure size 432x288 with 1 Axes>"
      ]
     },
     "metadata": {
      "needs_background": "light"
     },
     "output_type": "display_data"
    },
    {
     "data": {
      "application/vnd.jupyter.widget-view+json": {
       "model_id": "f175c84355d04d37a469de560d4ad683",
       "version_major": 2,
       "version_minor": 0
      },
      "text/plain": [
       "  0%|          | 0/5 [00:00<?, ?it/s]"
      ]
     },
     "metadata": {},
     "output_type": "display_data"
    },
    {
     "name": "stdout",
     "output_type": "stream",
     "text": [
      "epoch 0, 0/93: loss=0.6891, acc=0.5000\n",
      "epoch 0, 30/93: loss=0.5625, acc=0.9688\n",
      "epoch 0, 60/93: loss=0.5255, acc=0.9766\n",
      "epoch 0, 90/93: loss=0.5021, acc=1.0000\n",
      "epoch 1, 0/93: loss=0.5036, acc=0.9609\n",
      "epoch 1, 30/93: loss=0.4823, acc=0.9609\n",
      "epoch 1, 60/93: loss=0.4809, acc=0.9688\n",
      "epoch 1, 90/93: loss=0.4688, acc=0.9609\n",
      "epoch 2, 0/93: loss=0.4859, acc=0.9141\n",
      "epoch 2, 30/93: loss=0.4688, acc=0.9453\n",
      "epoch 2, 60/93: loss=0.4716, acc=0.9766\n",
      "epoch 2, 90/93: loss=0.4628, acc=1.0000\n",
      "epoch 3, 0/93: loss=0.4739, acc=0.9531\n",
      "epoch 3, 30/93: loss=0.4509, acc=0.9688\n",
      "epoch 3, 60/93: loss=0.4613, acc=0.9453\n",
      "epoch 3, 90/93: loss=0.4584, acc=0.9688\n",
      "epoch 4, 0/93: loss=0.4549, acc=0.9688\n",
      "epoch 4, 30/93: loss=0.4327, acc=0.9609\n",
      "epoch 4, 60/93: loss=0.4575, acc=0.9297\n",
      "epoch 4, 90/93: loss=0.4343, acc=0.9609\n"
     ]
    },
    {
     "data": {
      "image/png": "[encoded data removed]",
      "text/plain": [
       "<Figure size 432x288 with 1 Axes>"
      ]
     },
     "metadata": {
      "needs_background": "light"
     },
     "output_type": "display_data"
    },
    {
     "data": {
      "application/vnd.jupyter.widget-view+json": {
       "model_id": "825d2c0e211e474281b910f80fd9c90a",
       "version_major": 2,
       "version_minor": 0
      },
      "text/plain": [
       "  0%|          | 0/5 [00:00<?, ?it/s]"
      ]
     },
     "metadata": {},
     "output_type": "display_data"
    },
    {
     "name": "stdout",
     "output_type": "stream",
     "text": [
      "epoch 0, 0/95: loss=0.6665, acc=0.6641\n",
      "epoch 0, 30/95: loss=0.5680, acc=0.9531\n",
      "epoch 0, 60/95: loss=0.5347, acc=0.9453\n",
      "epoch 0, 90/95: loss=0.5038, acc=0.9688\n",
      "epoch 1, 0/95: loss=0.5083, acc=0.9766\n",
      "epoch 1, 30/95: loss=0.4926, acc=0.9766\n",
      "epoch 1, 60/95: loss=0.4810, acc=0.9531\n",
      "epoch 1, 90/95: loss=0.4869, acc=0.9688\n",
      "epoch 2, 0/95: loss=0.4841, acc=0.9844\n",
      "epoch 2, 30/95: loss=0.4671, acc=0.9922\n",
      "epoch 2, 60/95: loss=0.4524, acc=0.9922\n",
      "epoch 2, 90/95: loss=0.4487, acc=0.9844\n",
      "epoch 3, 0/95: loss=0.4728, acc=0.9766\n",
      "epoch 3, 30/95: loss=0.4658, acc=0.9922\n",
      "epoch 3, 60/95: loss=0.4561, acc=0.9922\n",
      "epoch 3, 90/95: loss=0.4594, acc=1.0000\n",
      "epoch 4, 0/95: loss=0.4750, acc=0.9609\n",
      "epoch 4, 30/95: loss=0.4500, acc=0.9844\n",
      "epoch 4, 60/95: loss=0.4318, acc=1.0000\n",
      "epoch 4, 90/95: loss=0.4448, acc=0.9922\n"
     ]
    },
    {
     "data": {
      "image/png": "[encoded data removed]",
      "text/plain": [
       "<Figure size 432x288 with 1 Axes>"
      ]
     },
     "metadata": {
      "needs_background": "light"
     },
     "output_type": "display_data"
    },
    {
     "data": {
      "application/vnd.jupyter.widget-view+json": {
       "model_id": "a8b280ecba8e4814b1e7ced0d8ba8a3c",
       "version_major": 2,
       "version_minor": 0
      },
      "text/plain": [
       "  0%|          | 0/5 [00:00<?, ?it/s]"
      ]
     },
     "metadata": {},
     "output_type": "display_data"
    },
    {
     "name": "stdout",
     "output_type": "stream",
     "text": [
      "epoch 0, 0/92: loss=0.7230, acc=0.4141\n",
      "epoch 0, 30/92: loss=0.5665, acc=0.9531\n",
      "epoch 0, 60/92: loss=0.4983, acc=0.9531\n",
      "epoch 0, 90/92: loss=0.4442, acc=1.0000\n",
      "epoch 1, 0/92: loss=0.4564, acc=0.9844\n",
      "epoch 1, 30/92: loss=0.4324, acc=1.0000\n",
      "epoch 1, 60/92: loss=0.4480, acc=0.9844\n",
      "epoch 1, 90/92: loss=0.4181, acc=0.9922\n",
      "epoch 2, 0/92: loss=0.4323, acc=0.9922\n",
      "epoch 2, 30/92: loss=0.4202, acc=1.0000\n",
      "epoch 2, 60/92: loss=0.4525, acc=0.9688\n",
      "epoch 2, 90/92: loss=0.4262, acc=0.9922\n",
      "epoch 3, 0/92: loss=0.4367, acc=0.9766\n",
      "epoch 3, 30/92: loss=0.4314, acc=1.0000\n",
      "epoch 3, 60/92: loss=0.4369, acc=0.9922\n",
      "epoch 3, 90/92: loss=0.4269, acc=0.9922\n",
      "epoch 4, 0/92: loss=0.4384, acc=0.9766\n",
      "epoch 4, 30/92: loss=0.4272, acc=1.0000\n",
      "epoch 4, 60/92: loss=0.4327, acc=0.9766\n",
      "epoch 4, 90/92: loss=0.4203, acc=1.0000\n"
     ]
    },
    {
     "data": {
      "image/png": "[encoded data removed]",
      "text/plain": [
       "<Figure size 432x288 with 1 Axes>"
      ]
     },
     "metadata": {
      "needs_background": "light"
     },
     "output_type": "display_data"
    },
    {
     "data": {
      "application/vnd.jupyter.widget-view+json": {
       "model_id": "3d72878f97a845479a14271875b8d1ce",
       "version_major": 2,
       "version_minor": 0
      },
      "text/plain": [
       "  0%|          | 0/5 [00:00<?, ?it/s]"
      ]
     },
     "metadata": {},
     "output_type": "display_data"
    },
    {
     "name": "stdout",
     "output_type": "stream",
     "text": [
      "epoch 0, 0/89: loss=0.7111, acc=0.4297\n",
      "epoch 0, 30/89: loss=0.6030, acc=0.7891\n",
      "epoch 0, 60/89: loss=0.5710, acc=0.8828\n",
      "epoch 1, 0/89: loss=0.5458, acc=0.9219\n",
      "epoch 1, 30/89: loss=0.5357, acc=0.8984\n",
      "epoch 1, 60/89: loss=0.5319, acc=0.9297\n",
      "epoch 2, 0/89: loss=0.5135, acc=0.9688\n",
      "epoch 2, 30/89: loss=0.5118, acc=0.9297\n",
      "epoch 2, 60/89: loss=0.5109, acc=0.9297\n",
      "epoch 3, 0/89: loss=0.4834, acc=0.9766\n",
      "epoch 3, 30/89: loss=0.4933, acc=0.9453\n",
      "epoch 3, 60/89: loss=0.4932, acc=0.9688\n",
      "epoch 4, 0/89: loss=0.4689, acc=0.9922\n",
      "epoch 4, 30/89: loss=0.4795, acc=0.9609\n",
      "epoch 4, 60/89: loss=0.4844, acc=0.9766\n"
     ]
    },
    {
     "data": {
      "image/png": "[encoded data removed]",
      "text/plain": [
       "<Figure size 432x288 with 1 Axes>"
      ]
     },
     "metadata": {
      "needs_background": "light"
     },
     "output_type": "display_data"
    },
    {
     "data": {
      "application/vnd.jupyter.widget-view+json": {
       "model_id": "8893cb0fae154db6a2ecd502ae8bf95e",
       "version_major": 2,
       "version_minor": 0
      },
      "text/plain": [
       "  0%|          | 0/5 [00:00<?, ?it/s]"
      ]
     },
     "metadata": {},
     "output_type": "display_data"
    },
    {
     "name": "stdout",
     "output_type": "stream",
     "text": [
      "epoch 0, 0/93: loss=0.6795, acc=0.5703\n",
      "epoch 0, 30/93: loss=0.5535, acc=0.9297\n",
      "epoch 0, 60/93: loss=0.5571, acc=0.8984\n",
      "epoch 0, 90/93: loss=0.4993, acc=0.9844\n",
      "epoch 1, 0/93: loss=0.5069, acc=0.9688\n",
      "epoch 1, 30/93: loss=0.4708, acc=0.9375\n",
      "epoch 1, 60/93: loss=0.4952, acc=0.9297\n",
      "epoch 1, 90/93: loss=0.4634, acc=0.9688\n",
      "epoch 2, 0/93: loss=0.4550, acc=0.9609\n",
      "epoch 2, 30/93: loss=0.4302, acc=1.0000\n",
      "epoch 2, 60/93: loss=0.4623, acc=0.9297\n",
      "epoch 2, 90/93: loss=0.4429, acc=0.9688\n",
      "epoch 3, 0/93: loss=0.4356, acc=0.9844\n",
      "epoch 3, 30/93: loss=0.4244, acc=0.9688\n",
      "epoch 3, 60/93: loss=0.4578, acc=0.9219\n",
      "epoch 3, 90/93: loss=0.4206, acc=0.9844\n",
      "epoch 4, 0/93: loss=0.4170, acc=0.9844\n",
      "epoch 4, 30/93: loss=0.4116, acc=0.9844\n",
      "epoch 4, 60/93: loss=0.4445, acc=0.9297\n",
      "epoch 4, 90/93: loss=0.4143, acc=0.9688\n"
     ]
    },
    {
     "data": {
      "image/png": "[encoded data removed]",
      "text/plain": [
       "<Figure size 432x288 with 1 Axes>"
      ]
     },
     "metadata": {
      "needs_background": "light"
     },
     "output_type": "display_data"
    }
   ],
   "source": [
    "params_list = []\n",
    "for node in tqdm(range(6)):\n",
    "    x_train_node, y_train_node = filter_pair(x_train, y_train, 0, node + 1)\n",
    "    x_train_small = tf.image.resize(x_train_node[..., tf.newaxis], (int(2**(n/2)), int(2**(n/2)))).numpy()[..., 0].reshape(-1, 2**n)\n",
    "    x_train_small = x_train_small / jnp.sqrt(jnp.sum(x_train_small**2, axis=-1, keepdims=True))\n",
    "    data = tf.data.Dataset.from_tensor_slices((x_train_small, y_train_node)).shuffle(100).batch(128)\n",
    "\n",
    "    params = K.randn((k * 2, n), dtype=jnp.float32)\n",
    "    opt = optax.adam(learning_rate=1e-2)\n",
    "    opt_state = opt.init(params)\n",
    "\n",
    "    loss_list = []\n",
    "    acc_list = []\n",
    "    for e in tqdm(range(5)):\n",
    "        for i, (x, y) in enumerate(data):\n",
    "            x = x.numpy()\n",
    "            y = y.numpy()\n",
    "            loss_val, grad_val = compute_loss(params, x, y, k, node)\n",
    "            updates, opt_state = opt.update(grad_val, opt_state, params)\n",
    "            params = optax.apply_updates(params, updates)\n",
    "            loss_mean = jnp.mean(loss_val)\n",
    "            if i % 30 == 0:\n",
    "                acc = jnp.mean(compute_accuracy(params, x, y, k, node))\n",
    "                acc_list.append(acc)\n",
    "                loss_list.append(loss_mean)\n",
    "                print(f'epoch {e}, {i}/{len(data)}: loss={loss_mean:.4f}, acc={acc:.4f}')\n",
    "\n",
    "    plt.plot(loss_list)\n",
    "    plt.plot(acc_list)\n",
    "    plt.legend(['loss', 'accuracy'])\n",
    "    plt.show()\n",
    "\n",
    "    params_list.append(params)\n"
   ]
  },
  {
   "cell_type": "code",
   "execution_count": 11,
   "metadata": {},
   "outputs": [],
   "source": [
    "def pred(params, x, y, k):\n",
    "    c = tc.Circuit(n, inputs=x)\n",
    "    for j in range(k):\n",
    "        for i in range(n - 1):\n",
    "            c.cnot(i, i + 1)\n",
    "        for i in range(n):\n",
    "            c.rx(i, theta=params[2 * j, i])\n",
    "            c.ry(i, theta=params[2 * j + 1, i])\n",
    "    y_pred = jnp.round((jnp.real(c.expectation([tc.gates.z(), [0,]])) + 1) / 2)\n",
    "    return y_pred\n",
    "pred = K.jit(pred, static_argnums=[3])"
   ]
  },
  {
   "cell_type": "code",
   "execution_count": 12,
   "metadata": {},
   "outputs": [
    {
     "data": {
      "application/vnd.jupyter.widget-view+json": {
       "model_id": "40f562d9fc0b4d4887a565b64eaf1d9b",
       "version_major": 2,
       "version_minor": 0
      },
      "text/plain": [
       "  0%|          | 0/6 [00:00<?, ?it/s]"
      ]
     },
     "metadata": {},
     "output_type": "display_data"
    }
   ],
   "source": [
    "density_est_list = []\n",
    "p_node = []\n",
    "for node in tqdm(range(6)):\n",
    "    x_train_node, y_train_node = filter_pair(x_train, y_train, 0, node + 1)\n",
    "    x_train_small = tf.image.resize(x_train_node[..., tf.newaxis], (int(2**(n/2)), int(2**(n/2)))).numpy()[..., 0].reshape(-1, 2**n)\n",
    "    x_train_small = x_train_small / jnp.sqrt(jnp.sum(x_train_small**2, axis=-1, keepdims=True))\n",
    "    dm = jnp.einsum('nij, njk -> nik', jnp.conjugate(x_train_small.reshape(-1, 2**n, 1)), x_train_small.reshape(-1, 1, 2**n))\n",
    "    density_est_list.append(jnp.mean(dm, axis=0))\n",
    "    p_node.append(len(x_train_small))\n",
    "density_est_list = jnp.stack(density_est_list, axis=0)\n",
    "p_node = jnp.stack(p_node, axis=0) / jnp.sum(jnp.array(p_node))"
   ]
  },
  {
   "cell_type": "code",
   "execution_count": 13,
   "metadata": {},
   "outputs": [
    {
     "data": {
      "text/plain": [
       "DeviceArray([0.17700909, 0.16605172, 0.16846961, 0.16443047, 0.15854648,\n",
       "             0.16549267], dtype=float32)"
      ]
     },
     "execution_count": 13,
     "metadata": {},
     "output_type": "execute_result"
    }
   ],
   "source": [
    "p_node"
   ]
  },
  {
   "cell_type": "code",
   "execution_count": 14,
   "metadata": {},
   "outputs": [],
   "source": [
    "def pred_comb(params, x, k):\n",
    "    dm_list = []\n",
    "    for node in range(6):\n",
    "        c = tc.Circuit(n, inputs=x)\n",
    "        for j in range(k):\n",
    "            for i in range(n - 1):\n",
    "                c.cnot(i, i + 1)\n",
    "            for i in range(n):\n",
    "                c.rx(i, theta=params[node][2 * j, i])\n",
    "                c.ry(i, theta=params[node][2 * j + 1, i])\n",
    "        density_matrix = jnp.conjugate(c.wavefunction('ket')) @ c.wavefunction('bra')\n",
    "        dm_list.append(density_matrix)\n",
    "\n",
    "    projector = jnp.conjugate(x.reshape(-1, 1)) @ x.reshape(1, -1)\n",
    "    weight = jnp.einsum('nij, ji -> n', density_est_list, projector).reshape(-1, 1, 1) * p_node.reshape(-1, 1, 1)\n",
    "    weight = weight / jnp.sum(weight)\n",
    "    dm = jnp.sum(jnp.stack(dm_list, axis=0) * weight, axis=0)\n",
    "    # print(jnp.trace(dm))\n",
    "    c = tc.DMCircuit(n, dminputs=dm)\n",
    "    pred_prob = []\n",
    "    for node in range(6):\n",
    "        pred_prob.append((jnp.real(c.expectation([tc.gates.z(), [node,]])) + 1) / 2)\n",
    "    return pred_prob\n",
    "# pred_comb = K.jit(pred_comb, static_argnums=[2])"
   ]
  },
  {
   "cell_type": "code",
   "execution_count": 21,
   "metadata": {},
   "outputs": [
    {
     "data": {
      "text/plain": [
       "<matplotlib.image.AxesImage at 0x7fabcb936e10>"
      ]
     },
     "execution_count": 21,
     "metadata": {},
     "output_type": "execute_result"
    },
    {
     "data": {
      "image/png": "[encoded data removed]",
      "text/plain": [
       "<Figure size 432x288 with 1 Axes>"
      ]
     },
     "metadata": {
      "needs_background": "light"
     },
     "output_type": "display_data"
    }
   ],
   "source": [
    "i = 1\n",
    "plt.imshow(x_train_small[i].reshape(16, 16))"
   ]
  },
  {
   "cell_type": "code",
   "execution_count": 22,
   "metadata": {},
   "outputs": [
    {
     "data": {
      "text/plain": [
       "[DeviceArray(0.43883738, dtype=float32),\n",
       " DeviceArray(0.46591565, dtype=float32),\n",
       " DeviceArray(0.48930246, dtype=float32),\n",
       " DeviceArray(0.5085356, dtype=float32),\n",
       " DeviceArray(0.50147146, dtype=float32),\n",
       " DeviceArray(0.4793412, dtype=float32)]"
      ]
     },
     "execution_count": 22,
     "metadata": {},
     "output_type": "execute_result"
    }
   ],
   "source": [
    "pred_comb(params_list, x_train_small[i], k)"
   ]
  },
  {
   "cell_type": "code",
   "execution_count": 39,
   "metadata": {},
   "outputs": [],
   "source": [
    "prediction = K.vmap(pred, vectorized_argnums=[1, 2])(params, x_train_small[:1000], y_train[:1000], k)"
   ]
  },
  {
   "cell_type": "code",
   "execution_count": 40,
   "metadata": {},
   "outputs": [
    {
     "data": {
      "text/plain": [
       "DeviceArray(0.92, dtype=float32)"
      ]
     },
     "execution_count": 40,
     "metadata": {},
     "output_type": "execute_result"
    }
   ],
   "source": [
    "jnp.mean(y_train[:1000]*1.0==prediction)"
   ]
  },
  {
   "cell_type": "code",
   "execution_count": null,
   "metadata": {},
   "outputs": [],
   "source": []
  }
 ],
 "metadata": {
  "kernelspec": {
   "display_name": "Python 3.7.6 64-bit ('base')",
   "language": "python",
   "name": "python3"
  },
  "language_info": {
   "codemirror_mode": {
    "name": "ipython",
    "version": 3
   },
   "file_extension": ".py",
   "mimetype": "text/x-python",
   "name": "python",
   "nbconvert_exporter": "python",
   "pygments_lexer": "ipython3",
   "version": "3.7.6"
  },
  "orig_nbformat": 4,
  "vscode": {
   "interpreter": {
    "hash": "6544d7d25989b4294a912322cb1a3d014baeb728b9c72e23e3b8bbf4fa651ef0"
   }
  }
 },
 "nbformat": 4,
 "nbformat_minor": 2
}
